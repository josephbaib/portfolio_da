{
 "cells": [
  {
   "cell_type": "markdown",
   "metadata": {},
   "source": [
    "# Определение перспективного тарифа для телеком-компании"
   ]
  },
  {
   "cell_type": "markdown",
   "metadata": {},
   "source": [
    "**Цель исследования:**\n",
    "- Определить наиболее прибыльный мобильный тариф для телеком-компании\n",
    "\n",
  {
   "cell_type": "markdown",
   "metadata": {},
   "source": [
    "## 1. Обзор данных"
   ]
  },
  {
   "cell_type": "code",
   "execution_count": 1,
   "metadata": {},
   "outputs": [],
   "source": [
    "import pandas as pd\n",
    "import numpy as np\n",
    "import matplotlib.pyplot as plt\n",
    "from scipy import stats as st\n",
    "import seaborn as sns"
   ]
  },
  {
   "cell_type": "code",
   "execution_count": 2,
   "metadata": {},
   "outputs": [],
   "source": [
    "calls = pd.read_csv('/Users/yusuf/Desktop/Programming/Projects/Data/calls.csv')\n",
    "internet = pd.read_csv('/Users/yusuf/Desktop/Programming/Projects/Data/internet.csv')\n",
    "messages = pd.read_csv('/Users/yusuf/Desktop/Programming/Projects/Data/messages.csv')\n",
    "tariffs = pd.read_csv('/Users/yusuf/Desktop/Programming/Projects/Data/tariffs.csv')\n",
    "users = pd.read_csv('/Users/yusuf/Desktop/Programming/Projects/Data/users.csv')"
   ]
  },
  {
   "cell_type": "code",
   "execution_count": 3,
   "metadata": {},
   "outputs": [
    {
     "name": "stdout",
     "output_type": "stream",
     "text": [
      "<class 'pandas.core.frame.DataFrame'>\n",
      "RangeIndex: 202607 entries, 0 to 202606\n",
      "Data columns (total 4 columns):\n",
      " #   Column     Non-Null Count   Dtype  \n",
      "---  ------     --------------   -----  \n",
      " 0   id         202607 non-null  object \n",
      " 1   call_date  202607 non-null  object \n",
      " 2   duration   202607 non-null  float64\n",
      " 3   user_id    202607 non-null  int64  \n",
      "dtypes: float64(1), int64(1), object(2)\n",
      "memory usage: 6.2+ MB\n"
     ]
    }
   ],
   "source": [
    "calls.info()"
   ]
  },
  {
   "cell_type": "code",
   "execution_count": 4,
   "metadata": {},
   "outputs": [
    {
     "data": {
      "text/html": [
       "<div>\n",
       "<style scoped>\n",
       "    .dataframe tbody tr th:only-of-type {\n",
       "        vertical-align: middle;\n",
       "    }\n",
       "\n",
       "    .dataframe tbody tr th {\n",
       "        vertical-align: top;\n",
       "    }\n",
       "\n",
       "    .dataframe thead th {\n",
       "        text-align: right;\n",
       "    }\n",
       "</style>\n",
       "<table border=\"1\" class=\"dataframe\">\n",
       "  <thead>\n",
       "    <tr style=\"text-align: right;\">\n",
       "      <th></th>\n",
       "      <th>id</th>\n",
       "      <th>call_date</th>\n",
       "      <th>duration</th>\n",
       "      <th>user_id</th>\n",
       "    </tr>\n",
       "  </thead>\n",
       "  <tbody>\n",
       "    <tr>\n",
       "      <th>0</th>\n",
       "      <td>1000_0</td>\n",
       "      <td>2018-07-25</td>\n",
       "      <td>0.00</td>\n",
       "      <td>1000</td>\n",
       "    </tr>\n",
       "    <tr>\n",
       "      <th>1</th>\n",
       "      <td>1000_1</td>\n",
       "      <td>2018-08-17</td>\n",
       "      <td>0.00</td>\n",
       "      <td>1000</td>\n",
       "    </tr>\n",
       "    <tr>\n",
       "      <th>2</th>\n",
       "      <td>1000_2</td>\n",
       "      <td>2018-06-11</td>\n",
       "      <td>2.85</td>\n",
       "      <td>1000</td>\n",
       "    </tr>\n",
       "    <tr>\n",
       "      <th>3</th>\n",
       "      <td>1000_3</td>\n",
       "      <td>2018-09-21</td>\n",
       "      <td>13.80</td>\n",
       "      <td>1000</td>\n",
       "    </tr>\n",
       "    <tr>\n",
       "      <th>4</th>\n",
       "      <td>1000_4</td>\n",
       "      <td>2018-12-15</td>\n",
       "      <td>5.18</td>\n",
       "      <td>1000</td>\n",
       "    </tr>\n",
       "  </tbody>\n",
       "</table>\n",
       "</div>"
      ],
      "text/plain": [
       "       id   call_date  duration  user_id\n",
       "0  1000_0  2018-07-25      0.00     1000\n",
       "1  1000_1  2018-08-17      0.00     1000\n",
       "2  1000_2  2018-06-11      2.85     1000\n",
       "3  1000_3  2018-09-21     13.80     1000\n",
       "4  1000_4  2018-12-15      5.18     1000"
      ]
     },
     "execution_count": 4,
     "metadata": {},
     "output_type": "execute_result"
    }
   ],
   "source": [
    "calls.head()"
   ]
  },
  {
   "cell_type": "code",
   "execution_count": 5,
   "metadata": {},
   "outputs": [
    {
     "data": {
      "text/plain": [
       "0.00     39613\n",
       "4.49       142\n",
       "5.50       142\n",
       "6.15       141\n",
       "6.38       141\n",
       "         ...  \n",
       "26.94        1\n",
       "32.19        1\n",
       "26.32        1\n",
       "27.41        1\n",
       "26.90        1\n",
       "Name: duration, Length: 2871, dtype: int64"
      ]
     },
     "execution_count": 5,
     "metadata": {},
     "output_type": "execute_result"
    }
   ],
   "source": [
    "calls['duration'].value_counts()"
   ]
  },
  {
   "cell_type": "code",
   "execution_count": 6,
   "metadata": {},
   "outputs": [
    {
     "name": "stdout",
     "output_type": "stream",
     "text": [
      "<class 'pandas.core.frame.DataFrame'>\n",
      "RangeIndex: 149396 entries, 0 to 149395\n",
      "Data columns (total 5 columns):\n",
      " #   Column        Non-Null Count   Dtype  \n",
      "---  ------        --------------   -----  \n",
      " 0   Unnamed: 0    149396 non-null  int64  \n",
      " 1   id            149396 non-null  object \n",
      " 2   mb_used       149396 non-null  float64\n",
      " 3   session_date  149396 non-null  object \n",
      " 4   user_id       149396 non-null  int64  \n",
      "dtypes: float64(1), int64(2), object(2)\n",
      "memory usage: 5.7+ MB\n"
     ]
    }
   ],
   "source": [
    "internet.info()"
   ]
  },
  {
   "cell_type": "code",
   "execution_count": 7,
   "metadata": {},
   "outputs": [
    {
     "data": {
      "text/html": [
       "<div>\n",
       "<style scoped>\n",
       "    .dataframe tbody tr th:only-of-type {\n",
       "        vertical-align: middle;\n",
       "    }\n",
       "\n",
       "    .dataframe tbody tr th {\n",
       "        vertical-align: top;\n",
       "    }\n",
       "\n",
       "    .dataframe thead th {\n",
       "        text-align: right;\n",
       "    }\n",
       "</style>\n",
       "<table border=\"1\" class=\"dataframe\">\n",
       "  <thead>\n",
       "    <tr style=\"text-align: right;\">\n",
       "      <th></th>\n",
       "      <th>Unnamed: 0</th>\n",
       "      <th>id</th>\n",
       "      <th>mb_used</th>\n",
       "      <th>session_date</th>\n",
       "      <th>user_id</th>\n",
       "    </tr>\n",
       "  </thead>\n",
       "  <tbody>\n",
       "    <tr>\n",
       "      <th>0</th>\n",
       "      <td>0</td>\n",
       "      <td>1000_0</td>\n",
       "      <td>112.95</td>\n",
       "      <td>2018-11-25</td>\n",
       "      <td>1000</td>\n",
       "    </tr>\n",
       "    <tr>\n",
       "      <th>1</th>\n",
       "      <td>1</td>\n",
       "      <td>1000_1</td>\n",
       "      <td>1052.81</td>\n",
       "      <td>2018-09-07</td>\n",
       "      <td>1000</td>\n",
       "    </tr>\n",
       "    <tr>\n",
       "      <th>2</th>\n",
       "      <td>2</td>\n",
       "      <td>1000_2</td>\n",
       "      <td>1197.26</td>\n",
       "      <td>2018-06-25</td>\n",
       "      <td>1000</td>\n",
       "    </tr>\n",
       "    <tr>\n",
       "      <th>3</th>\n",
       "      <td>3</td>\n",
       "      <td>1000_3</td>\n",
       "      <td>550.27</td>\n",
       "      <td>2018-08-22</td>\n",
       "      <td>1000</td>\n",
       "    </tr>\n",
       "    <tr>\n",
       "      <th>4</th>\n",
       "      <td>4</td>\n",
       "      <td>1000_4</td>\n",
       "      <td>302.56</td>\n",
       "      <td>2018-09-24</td>\n",
       "      <td>1000</td>\n",
       "    </tr>\n",
       "  </tbody>\n",
       "</table>\n",
       "</div>"
      ],
      "text/plain": [
       "   Unnamed: 0      id  mb_used session_date  user_id\n",
       "0           0  1000_0   112.95   2018-11-25     1000\n",
       "1           1  1000_1  1052.81   2018-09-07     1000\n",
       "2           2  1000_2  1197.26   2018-06-25     1000\n",
       "3           3  1000_3   550.27   2018-08-22     1000\n",
       "4           4  1000_4   302.56   2018-09-24     1000"
      ]
     },
     "execution_count": 7,
     "metadata": {},
     "output_type": "execute_result"
    }
   ],
   "source": [
    "internet.head()"
   ]
  },
  {
   "cell_type": "code",
   "execution_count": 8,
   "metadata": {},
   "outputs": [
    {
     "data": {
      "text/plain": [
       "0.00      19598\n",
       "335.91        9\n",
       "447.30        9\n",
       "197.56        9\n",
       "199.11        8\n",
       "          ...  \n",
       "643.43        1\n",
       "973.04        1\n",
       "834.51        1\n",
       "777.30        1\n",
       "23.72         1\n",
       "Name: mb_used, Length: 70003, dtype: int64"
      ]
     },
     "execution_count": 8,
     "metadata": {},
     "output_type": "execute_result"
    }
   ],
   "source": [
    "internet['mb_used'].value_counts()"
   ]
  },
  {
   "cell_type": "code",
   "execution_count": 9,
   "metadata": {},
   "outputs": [
    {
     "name": "stdout",
     "output_type": "stream",
     "text": [
      "<class 'pandas.core.frame.DataFrame'>\n",
      "RangeIndex: 123036 entries, 0 to 123035\n",
      "Data columns (total 3 columns):\n",
      " #   Column        Non-Null Count   Dtype \n",
      "---  ------        --------------   ----- \n",
      " 0   id            123036 non-null  object\n",
      " 1   message_date  123036 non-null  object\n",
      " 2   user_id       123036 non-null  int64 \n",
      "dtypes: int64(1), object(2)\n",
      "memory usage: 2.8+ MB\n"
     ]
    }
   ],
   "source": [
    "messages.info()"
   ]
  },
  {
   "cell_type": "code",
   "execution_count": 10,
   "metadata": {},
   "outputs": [
    {
     "data": {
      "text/html": [
       "<div>\n",
       "<style scoped>\n",
       "    .dataframe tbody tr th:only-of-type {\n",
       "        vertical-align: middle;\n",
       "    }\n",
       "\n",
       "    .dataframe tbody tr th {\n",
       "        vertical-align: top;\n",
       "    }\n",
       "\n",
       "    .dataframe thead th {\n",
       "        text-align: right;\n",
       "    }\n",
       "</style>\n",
       "<table border=\"1\" class=\"dataframe\">\n",
       "  <thead>\n",
       "    <tr style=\"text-align: right;\">\n",
       "      <th></th>\n",
       "      <th>id</th>\n",
       "      <th>message_date</th>\n",
       "      <th>user_id</th>\n",
       "    </tr>\n",
       "  </thead>\n",
       "  <tbody>\n",
       "    <tr>\n",
       "      <th>0</th>\n",
       "      <td>1000_0</td>\n",
       "      <td>2018-06-27</td>\n",
       "      <td>1000</td>\n",
       "    </tr>\n",
       "    <tr>\n",
       "      <th>1</th>\n",
       "      <td>1000_1</td>\n",
       "      <td>2018-10-08</td>\n",
       "      <td>1000</td>\n",
       "    </tr>\n",
       "    <tr>\n",
       "      <th>2</th>\n",
       "      <td>1000_2</td>\n",
       "      <td>2018-08-04</td>\n",
       "      <td>1000</td>\n",
       "    </tr>\n",
       "    <tr>\n",
       "      <th>3</th>\n",
       "      <td>1000_3</td>\n",
       "      <td>2018-06-16</td>\n",
       "      <td>1000</td>\n",
       "    </tr>\n",
       "    <tr>\n",
       "      <th>4</th>\n",
       "      <td>1000_4</td>\n",
       "      <td>2018-12-05</td>\n",
       "      <td>1000</td>\n",
       "    </tr>\n",
       "  </tbody>\n",
       "</table>\n",
       "</div>"
      ],
      "text/plain": [
       "       id message_date  user_id\n",
       "0  1000_0   2018-06-27     1000\n",
       "1  1000_1   2018-10-08     1000\n",
       "2  1000_2   2018-08-04     1000\n",
       "3  1000_3   2018-06-16     1000\n",
       "4  1000_4   2018-12-05     1000"
      ]
     },
     "execution_count": 10,
     "metadata": {},
     "output_type": "execute_result"
    }
   ],
   "source": [
    "messages.head()"
   ]
  },
  {
   "cell_type": "code",
   "execution_count": 11,
   "metadata": {},
   "outputs": [
    {
     "name": "stdout",
     "output_type": "stream",
     "text": [
      "<class 'pandas.core.frame.DataFrame'>\n",
      "RangeIndex: 2 entries, 0 to 1\n",
      "Data columns (total 8 columns):\n",
      " #   Column                 Non-Null Count  Dtype \n",
      "---  ------                 --------------  ----- \n",
      " 0   messages_included      2 non-null      int64 \n",
      " 1   mb_per_month_included  2 non-null      int64 \n",
      " 2   minutes_included       2 non-null      int64 \n",
      " 3   rub_monthly_fee        2 non-null      int64 \n",
      " 4   rub_per_gb             2 non-null      int64 \n",
      " 5   rub_per_message        2 non-null      int64 \n",
      " 6   rub_per_minute         2 non-null      int64 \n",
      " 7   tariff_name            2 non-null      object\n",
      "dtypes: int64(7), object(1)\n",
      "memory usage: 256.0+ bytes\n"
     ]
    }
   ],
   "source": [
    "tariffs.info()"
   ]
  },
  {
   "cell_type": "code",
   "execution_count": 12,
   "metadata": {},
   "outputs": [
    {
     "data": {
      "text/html": [
       "<div>\n",
       "<style scoped>\n",
       "    .dataframe tbody tr th:only-of-type {\n",
       "        vertical-align: middle;\n",
       "    }\n",
       "\n",
       "    .dataframe tbody tr th {\n",
       "        vertical-align: top;\n",
       "    }\n",
       "\n",
       "    .dataframe thead th {\n",
       "        text-align: right;\n",
       "    }\n",
       "</style>\n",
       "<table border=\"1\" class=\"dataframe\">\n",
       "  <thead>\n",
       "    <tr style=\"text-align: right;\">\n",
       "      <th></th>\n",
       "      <th>messages_included</th>\n",
       "      <th>mb_per_month_included</th>\n",
       "      <th>minutes_included</th>\n",
       "      <th>rub_monthly_fee</th>\n",
       "      <th>rub_per_gb</th>\n",
       "      <th>rub_per_message</th>\n",
       "      <th>rub_per_minute</th>\n",
       "      <th>tariff_name</th>\n",
       "    </tr>\n",
       "  </thead>\n",
       "  <tbody>\n",
       "    <tr>\n",
       "      <th>0</th>\n",
       "      <td>50</td>\n",
       "      <td>15360</td>\n",
       "      <td>500</td>\n",
       "      <td>550</td>\n",
       "      <td>200</td>\n",
       "      <td>3</td>\n",
       "      <td>3</td>\n",
       "      <td>smart</td>\n",
       "    </tr>\n",
       "    <tr>\n",
       "      <th>1</th>\n",
       "      <td>1000</td>\n",
       "      <td>30720</td>\n",
       "      <td>3000</td>\n",
       "      <td>1950</td>\n",
       "      <td>150</td>\n",
       "      <td>1</td>\n",
       "      <td>1</td>\n",
       "      <td>ultra</td>\n",
       "    </tr>\n",
       "  </tbody>\n",
       "</table>\n",
       "</div>"
      ],
      "text/plain": [
       "   messages_included  mb_per_month_included  minutes_included  \\\n",
       "0                 50                  15360               500   \n",
       "1               1000                  30720              3000   \n",
       "\n",
       "   rub_monthly_fee  rub_per_gb  rub_per_message  rub_per_minute tariff_name  \n",
       "0              550         200                3               3       smart  \n",
       "1             1950         150                1               1       ultra  "
      ]
     },
     "execution_count": 12,
     "metadata": {},
     "output_type": "execute_result"
    }
   ],
   "source": [
    "tariffs.head()"
   ]
  },
  {
   "cell_type": "code",
   "execution_count": 13,
   "metadata": {},
   "outputs": [
    {
     "name": "stdout",
     "output_type": "stream",
     "text": [
      "<class 'pandas.core.frame.DataFrame'>\n",
      "RangeIndex: 500 entries, 0 to 499\n",
      "Data columns (total 8 columns):\n",
      " #   Column      Non-Null Count  Dtype \n",
      "---  ------      --------------  ----- \n",
      " 0   user_id     500 non-null    int64 \n",
      " 1   age         500 non-null    int64 \n",
      " 2   churn_date  38 non-null     object\n",
      " 3   city        500 non-null    object\n",
      " 4   first_name  500 non-null    object\n",
      " 5   last_name   500 non-null    object\n",
      " 6   reg_date    500 non-null    object\n",
      " 7   tariff      500 non-null    object\n",
      "dtypes: int64(2), object(6)\n",
      "memory usage: 31.4+ KB\n"
     ]
    }
   ],
   "source": [
    "users.info()"
   ]
  },
  {
   "cell_type": "code",
   "execution_count": 14,
   "metadata": {},
   "outputs": [
    {
     "data": {
      "text/html": [
       "<div>\n",
       "<style scoped>\n",
       "    .dataframe tbody tr th:only-of-type {\n",
       "        vertical-align: middle;\n",
       "    }\n",
       "\n",
       "    .dataframe tbody tr th {\n",
       "        vertical-align: top;\n",
       "    }\n",
       "\n",
       "    .dataframe thead th {\n",
       "        text-align: right;\n",
       "    }\n",
       "</style>\n",
       "<table border=\"1\" class=\"dataframe\">\n",
       "  <thead>\n",
       "    <tr style=\"text-align: right;\">\n",
       "      <th></th>\n",
       "      <th>user_id</th>\n",
       "      <th>age</th>\n",
       "      <th>churn_date</th>\n",
       "      <th>city</th>\n",
       "      <th>first_name</th>\n",
       "      <th>last_name</th>\n",
       "      <th>reg_date</th>\n",
       "      <th>tariff</th>\n",
       "    </tr>\n",
       "  </thead>\n",
       "  <tbody>\n",
       "    <tr>\n",
       "      <th>0</th>\n",
       "      <td>1000</td>\n",
       "      <td>52</td>\n",
       "      <td>NaN</td>\n",
       "      <td>Краснодар</td>\n",
       "      <td>Рафаил</td>\n",
       "      <td>Верещагин</td>\n",
       "      <td>2018-05-25</td>\n",
       "      <td>ultra</td>\n",
       "    </tr>\n",
       "    <tr>\n",
       "      <th>1</th>\n",
       "      <td>1001</td>\n",
       "      <td>41</td>\n",
       "      <td>NaN</td>\n",
       "      <td>Москва</td>\n",
       "      <td>Иван</td>\n",
       "      <td>Ежов</td>\n",
       "      <td>2018-11-01</td>\n",
       "      <td>smart</td>\n",
       "    </tr>\n",
       "    <tr>\n",
       "      <th>2</th>\n",
       "      <td>1002</td>\n",
       "      <td>59</td>\n",
       "      <td>NaN</td>\n",
       "      <td>Стерлитамак</td>\n",
       "      <td>Евгений</td>\n",
       "      <td>Абрамович</td>\n",
       "      <td>2018-06-17</td>\n",
       "      <td>smart</td>\n",
       "    </tr>\n",
       "    <tr>\n",
       "      <th>3</th>\n",
       "      <td>1003</td>\n",
       "      <td>23</td>\n",
       "      <td>NaN</td>\n",
       "      <td>Москва</td>\n",
       "      <td>Белла</td>\n",
       "      <td>Белякова</td>\n",
       "      <td>2018-08-17</td>\n",
       "      <td>ultra</td>\n",
       "    </tr>\n",
       "    <tr>\n",
       "      <th>4</th>\n",
       "      <td>1004</td>\n",
       "      <td>68</td>\n",
       "      <td>NaN</td>\n",
       "      <td>Новокузнецк</td>\n",
       "      <td>Татьяна</td>\n",
       "      <td>Авдеенко</td>\n",
       "      <td>2018-05-14</td>\n",
       "      <td>ultra</td>\n",
       "    </tr>\n",
       "  </tbody>\n",
       "</table>\n",
       "</div>"
      ],
      "text/plain": [
       "   user_id  age churn_date         city first_name  last_name    reg_date  \\\n",
       "0     1000   52        NaN    Краснодар     Рафаил  Верещагин  2018-05-25   \n",
       "1     1001   41        NaN       Москва       Иван       Ежов  2018-11-01   \n",
       "2     1002   59        NaN  Стерлитамак    Евгений  Абрамович  2018-06-17   \n",
       "3     1003   23        NaN       Москва      Белла   Белякова  2018-08-17   \n",
       "4     1004   68        NaN  Новокузнецк    Татьяна   Авдеенко  2018-05-14   \n",
       "\n",
       "  tariff  \n",
       "0  ultra  \n",
       "1  smart  \n",
       "2  smart  \n",
       "3  ultra  \n",
       "4  ultra  "
      ]
     },
     "execution_count": 14,
     "metadata": {},
     "output_type": "execute_result"
    }
   ],
   "source": [
    "users.head()"
   ]
  },
  {
   "cell_type": "markdown",
   "metadata": {},
   "source": [
    "### Краткий вывод"
   ]
  },
  {
   "cell_type": "markdown",
   "metadata": {},
   "source": [
    "- даты, везде тип данных нужно привести к таймлайну\n",
    "- NaN в дате завершения пользования тарифом - я бы заменил на заглушки, чтобы их тоже можно было брать в расчет и выбрал бы отрицательные значения (например, -10), чтобы случайно не срезать их потом\n",
    "- пользователей по айди можно объединить, возможно в сводные таблицы\n",
    "- длительность звонка в минутах нужно округлить, так как это политика компании. Тоже самое надо сделать в мегабайтами - округлить\n",
    "- есть столбец \"unnamed\", который дублирует индекс, так как таблица уже содержала в себе столбец с индексами (можно было избежать, при чтении добавив index_col=0)\n",
    "- пропусков по данным на первый взгляд не наблюдается\n",
    "- были обнаружены нулевые значения параметра продолжительности звонков - говорящий о том, что часть пользователей тарифом, не использует звонки. Всё ради интернет трафика, через который в свою очередь можно звонить(FaceTime и др), чем многие и пользуются.\n",
    "- нулевые значения по трафику могут объясняться людьми пенсионного возраста, которые реже пользуются всем функционалом своих утройств, а чаще их устройства даже не поддерживают выход в интернет, либо он очень затруднителен. \n",
    "\n",
    "И те и другие нулевые значение могут быть и по причине только что зарегистрированных пользователей, которые не успели воспользоваться услугами. В целом их можно и срезать, так как при создании сводных таблиц они суммируются - **на выручку это никак не повлияет** "
   ]
  },
  {
   "cell_type": "markdown",
   "metadata": {},
   "source": [
    "## 2. Предобработка данных"
   ]
  },
  {
   "cell_type": "markdown",
   "metadata": {},
   "source": [
    "Сначала приведу все данные с датами к формату таймлайна"
   ]
  },
  {
   "cell_type": "code",
   "execution_count": 15,
   "metadata": {},
   "outputs": [],
   "source": [
    "calls['call_date'] = pd.to_datetime(calls['call_date'], format = '%Y-%m-%d')\n",
    "internet['session_date'] = pd.to_datetime(internet['session_date'], format = '%Y-%m-%d')\n",
    "messages['message_date'] = pd.to_datetime(messages['message_date'], format = '%Y-%m-%d')\n",
    "users['reg_date'] = pd.to_datetime(users['reg_date'], format = '%Y-%m-%d')"
   ]
  },
  {
   "cell_type": "markdown",
   "metadata": {},
   "source": [
    "Далее я округлю длительность минут звонков и мегабайты использования интернета в большую сторону, по причине политики компании."
   ]
  },
  {
   "cell_type": "code",
   "execution_count": 16,
   "metadata": {},
   "outputs": [],
   "source": [
    "calls['duration'] = np.ceil(calls['duration'])\n",
    "internet['mb_used'] = np.ceil(internet['mb_used'])"
   ]
  },
  {
   "cell_type": "markdown",
   "metadata": {},
   "source": [
    "Далее добавлю столбцы с месяцами, для последующей группировки"
   ]
  },
  {
   "cell_type": "code",
   "execution_count": 17,
   "metadata": {},
   "outputs": [],
   "source": [
    "calls['month'] = calls['call_date'].dt.month\n",
    "internet['month'] = internet['session_date'].dt.month\n",
    "messages['month'] = messages['message_date'].dt.month\n",
    "users['month'] = users['reg_date'].dt.month\n",
    "internet.drop('Unnamed: 0', axis=1, inplace=True) #удаляю столбец, в котором нет полезного функционала"
   ]
  },
  {
   "cell_type": "markdown",
   "metadata": {},
   "source": [
    "Далее сгруппирую таблицы по юзерам, перед тем как их объединять. Это также поможет не перегружать ядро при дальнейшем склеивании таблиц"
   ]
  },
  {
   "cell_type": "code",
   "execution_count": 18,
   "metadata": {},
   "outputs": [],
   "source": [
    "calls_sum = calls.pivot_table(index=['user_id', 'month'], values='duration', aggfunc='sum').reset_index()\n",
    "internet_sum = internet.pivot_table(index=['user_id', 'month'], values='mb_used', aggfunc='sum').reset_index()\n",
    "messages_sum = messages.pivot_table(index=['user_id', 'month'], values='message_date', aggfunc='count').reset_index()"
   ]
  },
  {
   "cell_type": "markdown",
   "metadata": {},
   "source": [
    "Следующим шагом объединю таблицы по user_id и добавлю столбец с гигабайтами"
   ]
  },
  {
   "cell_type": "code",
   "execution_count": 19,
   "metadata": {},
   "outputs": [
    {
     "data": {
      "text/html": [
       "<div>\n",
       "<style scoped>\n",
       "    .dataframe tbody tr th:only-of-type {\n",
       "        vertical-align: middle;\n",
       "    }\n",
       "\n",
       "    .dataframe tbody tr th {\n",
       "        vertical-align: top;\n",
       "    }\n",
       "\n",
       "    .dataframe thead th {\n",
       "        text-align: right;\n",
       "    }\n",
       "</style>\n",
       "<table border=\"1\" class=\"dataframe\">\n",
       "  <thead>\n",
       "    <tr style=\"text-align: right;\">\n",
       "      <th></th>\n",
       "      <th>user_id</th>\n",
       "      <th>month</th>\n",
       "      <th>min_used</th>\n",
       "      <th>mb_used</th>\n",
       "      <th>mes_used</th>\n",
       "      <th>tariff_name</th>\n",
       "      <th>city</th>\n",
       "      <th>gb_used</th>\n",
       "    </tr>\n",
       "  </thead>\n",
       "  <tbody>\n",
       "    <tr>\n",
       "      <th>0</th>\n",
       "      <td>1000</td>\n",
       "      <td>5</td>\n",
       "      <td>159.0</td>\n",
       "      <td>2256.0</td>\n",
       "      <td>22.0</td>\n",
       "      <td>ultra</td>\n",
       "      <td>Краснодар</td>\n",
       "      <td>3</td>\n",
       "    </tr>\n",
       "    <tr>\n",
       "      <th>1</th>\n",
       "      <td>1000</td>\n",
       "      <td>6</td>\n",
       "      <td>172.0</td>\n",
       "      <td>23257.0</td>\n",
       "      <td>60.0</td>\n",
       "      <td>ultra</td>\n",
       "      <td>Краснодар</td>\n",
       "      <td>23</td>\n",
       "    </tr>\n",
       "    <tr>\n",
       "      <th>2</th>\n",
       "      <td>1000</td>\n",
       "      <td>7</td>\n",
       "      <td>340.0</td>\n",
       "      <td>14016.0</td>\n",
       "      <td>75.0</td>\n",
       "      <td>ultra</td>\n",
       "      <td>Краснодар</td>\n",
       "      <td>14</td>\n",
       "    </tr>\n",
       "    <tr>\n",
       "      <th>3</th>\n",
       "      <td>1000</td>\n",
       "      <td>8</td>\n",
       "      <td>408.0</td>\n",
       "      <td>14070.0</td>\n",
       "      <td>81.0</td>\n",
       "      <td>ultra</td>\n",
       "      <td>Краснодар</td>\n",
       "      <td>14</td>\n",
       "    </tr>\n",
       "    <tr>\n",
       "      <th>4</th>\n",
       "      <td>1000</td>\n",
       "      <td>9</td>\n",
       "      <td>466.0</td>\n",
       "      <td>14581.0</td>\n",
       "      <td>57.0</td>\n",
       "      <td>ultra</td>\n",
       "      <td>Краснодар</td>\n",
       "      <td>15</td>\n",
       "    </tr>\n",
       "  </tbody>\n",
       "</table>\n",
       "</div>"
      ],
      "text/plain": [
       "   user_id  month  min_used  mb_used  mes_used tariff_name       city  gb_used\n",
       "0     1000      5     159.0   2256.0      22.0       ultra  Краснодар        3\n",
       "1     1000      6     172.0  23257.0      60.0       ultra  Краснодар       23\n",
       "2     1000      7     340.0  14016.0      75.0       ultra  Краснодар       14\n",
       "3     1000      8     408.0  14070.0      81.0       ultra  Краснодар       14\n",
       "4     1000      9     466.0  14581.0      57.0       ultra  Краснодар       15"
      ]
     },
     "metadata": {},
     "output_type": "display_data"
    }
   ],
   "source": [
    "internet_calls = calls_sum.merge(internet_sum, on = ['user_id', 'month'], how='outer')\n",
    "internet_calls_messages = internet_calls.merge(messages_sum, on = ['user_id', 'month'], how='outer')\n",
    "i_c_m_u = pd.merge(left = internet_calls_messages, right = users[['user_id', 'tariff', 'city']], on = 'user_id', how = 'left')\n",
    "i_c_m_u['gb_used'] = np.ceil(i_c_m_u['mb_used'] / 1024).fillna(0).astype(int)\n",
    "i_c_m_u.columns = ['user_id', 'month', 'min_used', 'mb_used', 'mes_used', 'tariff_name', 'city', 'gb_used'] \n",
    "display(i_c_m_u.head())"
   ]
  },
  {
   "cell_type": "markdown",
   "metadata": {},
   "source": [
    "Поменяю тип данных "
   ]
  },
  {
   "cell_type": "code",
   "execution_count": 20,
   "metadata": {},
   "outputs": [
    {
     "data": {
      "text/html": [
       "<div>\n",
       "<style scoped>\n",
       "    .dataframe tbody tr th:only-of-type {\n",
       "        vertical-align: middle;\n",
       "    }\n",
       "\n",
       "    .dataframe tbody tr th {\n",
       "        vertical-align: top;\n",
       "    }\n",
       "\n",
       "    .dataframe thead th {\n",
       "        text-align: right;\n",
       "    }\n",
       "</style>\n",
       "<table border=\"1\" class=\"dataframe\">\n",
       "  <thead>\n",
       "    <tr style=\"text-align: right;\">\n",
       "      <th></th>\n",
       "      <th>user_id</th>\n",
       "      <th>month</th>\n",
       "      <th>min_used</th>\n",
       "      <th>mb_used</th>\n",
       "      <th>mes_used</th>\n",
       "      <th>tariff_name</th>\n",
       "      <th>city</th>\n",
       "      <th>gb_used</th>\n",
       "    </tr>\n",
       "  </thead>\n",
       "  <tbody>\n",
       "    <tr>\n",
       "      <th>0</th>\n",
       "      <td>1000</td>\n",
       "      <td>5</td>\n",
       "      <td>159</td>\n",
       "      <td>2256</td>\n",
       "      <td>22</td>\n",
       "      <td>ultra</td>\n",
       "      <td>Краснодар</td>\n",
       "      <td>3</td>\n",
       "    </tr>\n",
       "    <tr>\n",
       "      <th>1</th>\n",
       "      <td>1000</td>\n",
       "      <td>6</td>\n",
       "      <td>172</td>\n",
       "      <td>23257</td>\n",
       "      <td>60</td>\n",
       "      <td>ultra</td>\n",
       "      <td>Краснодар</td>\n",
       "      <td>23</td>\n",
       "    </tr>\n",
       "    <tr>\n",
       "      <th>2</th>\n",
       "      <td>1000</td>\n",
       "      <td>7</td>\n",
       "      <td>340</td>\n",
       "      <td>14016</td>\n",
       "      <td>75</td>\n",
       "      <td>ultra</td>\n",
       "      <td>Краснодар</td>\n",
       "      <td>14</td>\n",
       "    </tr>\n",
       "    <tr>\n",
       "      <th>3</th>\n",
       "      <td>1000</td>\n",
       "      <td>8</td>\n",
       "      <td>408</td>\n",
       "      <td>14070</td>\n",
       "      <td>81</td>\n",
       "      <td>ultra</td>\n",
       "      <td>Краснодар</td>\n",
       "      <td>14</td>\n",
       "    </tr>\n",
       "    <tr>\n",
       "      <th>4</th>\n",
       "      <td>1000</td>\n",
       "      <td>9</td>\n",
       "      <td>466</td>\n",
       "      <td>14581</td>\n",
       "      <td>57</td>\n",
       "      <td>ultra</td>\n",
       "      <td>Краснодар</td>\n",
       "      <td>15</td>\n",
       "    </tr>\n",
       "  </tbody>\n",
       "</table>\n",
       "</div>"
      ],
      "text/plain": [
       "   user_id  month  min_used  mb_used  mes_used tariff_name       city  gb_used\n",
       "0     1000      5       159     2256        22       ultra  Краснодар        3\n",
       "1     1000      6       172    23257        60       ultra  Краснодар       23\n",
       "2     1000      7       340    14016        75       ultra  Краснодар       14\n",
       "3     1000      8       408    14070        81       ultra  Краснодар       14\n",
       "4     1000      9       466    14581        57       ultra  Краснодар       15"
      ]
     },
     "metadata": {},
     "output_type": "display_data"
    }
   ],
   "source": [
    "i_c_m_u['min_used'] = i_c_m_u['min_used'].fillna(0)\n",
    "i_c_m_u['min_used'] = i_c_m_u['min_used'].astype(int)\n",
    "i_c_m_u['gb_used'] = i_c_m_u['gb_used'].fillna(0)\n",
    "i_c_m_u['gb_used'] = i_c_m_u['gb_used'].astype(int)\n",
    "i_c_m_u['mb_used'] = i_c_m_u['mb_used'].fillna(0)\n",
    "i_c_m_u['mb_used'] = i_c_m_u['mb_used'].astype(int)\n",
    "i_c_m_u['mes_used'] = i_c_m_u['mes_used'].fillna(0)\n",
    "i_c_m_u['mes_used'] = i_c_m_u['mes_used'].astype(int)\n",
    "\n",
    "display(i_c_m_u.head())"
   ]
  },
  {
   "cell_type": "markdown",
   "metadata": {},
   "source": [
    "Добавлю информацию о тарифах"
   ]
  },
  {
   "cell_type": "code",
   "execution_count": 21,
   "metadata": {},
   "outputs": [
    {
     "data": {
      "text/html": [
       "<div>\n",
       "<style scoped>\n",
       "    .dataframe tbody tr th:only-of-type {\n",
       "        vertical-align: middle;\n",
       "    }\n",
       "\n",
       "    .dataframe tbody tr th {\n",
       "        vertical-align: top;\n",
       "    }\n",
       "\n",
       "    .dataframe thead th {\n",
       "        text-align: right;\n",
       "    }\n",
       "</style>\n",
       "<table border=\"1\" class=\"dataframe\">\n",
       "  <thead>\n",
       "    <tr style=\"text-align: right;\">\n",
       "      <th></th>\n",
       "      <th>user_id</th>\n",
       "      <th>month</th>\n",
       "      <th>min_used</th>\n",
       "      <th>mb_used</th>\n",
       "      <th>mes_used</th>\n",
       "      <th>tariff_name</th>\n",
       "      <th>city</th>\n",
       "      <th>gb_used</th>\n",
       "      <th>messages_included</th>\n",
       "      <th>mb_per_month_included</th>\n",
       "      <th>minutes_included</th>\n",
       "      <th>rub_monthly_fee</th>\n",
       "      <th>rub_per_gb</th>\n",
       "      <th>rub_per_message</th>\n",
       "      <th>rub_per_minute</th>\n",
       "    </tr>\n",
       "  </thead>\n",
       "  <tbody>\n",
       "    <tr>\n",
       "      <th>0</th>\n",
       "      <td>1000</td>\n",
       "      <td>5</td>\n",
       "      <td>159</td>\n",
       "      <td>2256</td>\n",
       "      <td>22</td>\n",
       "      <td>ultra</td>\n",
       "      <td>Краснодар</td>\n",
       "      <td>3</td>\n",
       "      <td>1000</td>\n",
       "      <td>30720</td>\n",
       "      <td>3000</td>\n",
       "      <td>1950</td>\n",
       "      <td>150</td>\n",
       "      <td>1</td>\n",
       "      <td>1</td>\n",
       "    </tr>\n",
       "    <tr>\n",
       "      <th>1</th>\n",
       "      <td>1000</td>\n",
       "      <td>6</td>\n",
       "      <td>172</td>\n",
       "      <td>23257</td>\n",
       "      <td>60</td>\n",
       "      <td>ultra</td>\n",
       "      <td>Краснодар</td>\n",
       "      <td>23</td>\n",
       "      <td>1000</td>\n",
       "      <td>30720</td>\n",
       "      <td>3000</td>\n",
       "      <td>1950</td>\n",
       "      <td>150</td>\n",
       "      <td>1</td>\n",
       "      <td>1</td>\n",
       "    </tr>\n",
       "    <tr>\n",
       "      <th>2</th>\n",
       "      <td>1000</td>\n",
       "      <td>7</td>\n",
       "      <td>340</td>\n",
       "      <td>14016</td>\n",
       "      <td>75</td>\n",
       "      <td>ultra</td>\n",
       "      <td>Краснодар</td>\n",
       "      <td>14</td>\n",
       "      <td>1000</td>\n",
       "      <td>30720</td>\n",
       "      <td>3000</td>\n",
       "      <td>1950</td>\n",
       "      <td>150</td>\n",
       "      <td>1</td>\n",
       "      <td>1</td>\n",
       "    </tr>\n",
       "    <tr>\n",
       "      <th>3</th>\n",
       "      <td>1000</td>\n",
       "      <td>8</td>\n",
       "      <td>408</td>\n",
       "      <td>14070</td>\n",
       "      <td>81</td>\n",
       "      <td>ultra</td>\n",
       "      <td>Краснодар</td>\n",
       "      <td>14</td>\n",
       "      <td>1000</td>\n",
       "      <td>30720</td>\n",
       "      <td>3000</td>\n",
       "      <td>1950</td>\n",
       "      <td>150</td>\n",
       "      <td>1</td>\n",
       "      <td>1</td>\n",
       "    </tr>\n",
       "    <tr>\n",
       "      <th>4</th>\n",
       "      <td>1000</td>\n",
       "      <td>9</td>\n",
       "      <td>466</td>\n",
       "      <td>14581</td>\n",
       "      <td>57</td>\n",
       "      <td>ultra</td>\n",
       "      <td>Краснодар</td>\n",
       "      <td>15</td>\n",
       "      <td>1000</td>\n",
       "      <td>30720</td>\n",
       "      <td>3000</td>\n",
       "      <td>1950</td>\n",
       "      <td>150</td>\n",
       "      <td>1</td>\n",
       "      <td>1</td>\n",
       "    </tr>\n",
       "  </tbody>\n",
       "</table>\n",
       "</div>"
      ],
      "text/plain": [
       "   user_id  month  min_used  mb_used  mes_used tariff_name       city  \\\n",
       "0     1000      5       159     2256        22       ultra  Краснодар   \n",
       "1     1000      6       172    23257        60       ultra  Краснодар   \n",
       "2     1000      7       340    14016        75       ultra  Краснодар   \n",
       "3     1000      8       408    14070        81       ultra  Краснодар   \n",
       "4     1000      9       466    14581        57       ultra  Краснодар   \n",
       "\n",
       "   gb_used  messages_included  mb_per_month_included  minutes_included  \\\n",
       "0        3               1000                  30720              3000   \n",
       "1       23               1000                  30720              3000   \n",
       "2       14               1000                  30720              3000   \n",
       "3       14               1000                  30720              3000   \n",
       "4       15               1000                  30720              3000   \n",
       "\n",
       "   rub_monthly_fee  rub_per_gb  rub_per_message  rub_per_minute  \n",
       "0             1950         150                1               1  \n",
       "1             1950         150                1               1  \n",
       "2             1950         150                1               1  \n",
       "3             1950         150                1               1  \n",
       "4             1950         150                1               1  "
      ]
     },
     "metadata": {},
     "output_type": "display_data"
    }
   ],
   "source": [
    "final = i_c_m_u.merge(tariffs, on = 'tariff_name')\n",
    "display(final.head())"
   ]
  },
  {
   "cell_type": "markdown",
   "metadata": {},
   "source": [
    "Посчитаю прибыль"
   ]
  },
  {
   "cell_type": "code",
   "execution_count": 22,
   "metadata": {},
   "outputs": [
    {
     "data": {
      "text/html": [
       "<div>\n",
       "<style scoped>\n",
       "    .dataframe tbody tr th:only-of-type {\n",
       "        vertical-align: middle;\n",
       "    }\n",
       "\n",
       "    .dataframe tbody tr th {\n",
       "        vertical-align: top;\n",
       "    }\n",
       "\n",
       "    .dataframe thead th {\n",
       "        text-align: right;\n",
       "    }\n",
       "</style>\n",
       "<table border=\"1\" class=\"dataframe\">\n",
       "  <thead>\n",
       "    <tr style=\"text-align: right;\">\n",
       "      <th></th>\n",
       "      <th>user_id</th>\n",
       "      <th>month</th>\n",
       "      <th>min_used</th>\n",
       "      <th>mb_used</th>\n",
       "      <th>mes_used</th>\n",
       "      <th>tariff_name</th>\n",
       "      <th>city</th>\n",
       "      <th>gb_used</th>\n",
       "      <th>messages_included</th>\n",
       "      <th>mb_per_month_included</th>\n",
       "      <th>minutes_included</th>\n",
       "      <th>rub_monthly_fee</th>\n",
       "      <th>rub_per_gb</th>\n",
       "      <th>rub_per_message</th>\n",
       "      <th>rub_per_minute</th>\n",
       "      <th>profit</th>\n",
       "    </tr>\n",
       "  </thead>\n",
       "  <tbody>\n",
       "    <tr>\n",
       "      <th>0</th>\n",
       "      <td>1000</td>\n",
       "      <td>5</td>\n",
       "      <td>159</td>\n",
       "      <td>2256</td>\n",
       "      <td>22</td>\n",
       "      <td>ultra</td>\n",
       "      <td>Краснодар</td>\n",
       "      <td>3</td>\n",
       "      <td>1000</td>\n",
       "      <td>30720</td>\n",
       "      <td>3000</td>\n",
       "      <td>1950</td>\n",
       "      <td>150</td>\n",
       "      <td>1</td>\n",
       "      <td>1</td>\n",
       "      <td>1950.0</td>\n",
       "    </tr>\n",
       "    <tr>\n",
       "      <th>1</th>\n",
       "      <td>1000</td>\n",
       "      <td>6</td>\n",
       "      <td>172</td>\n",
       "      <td>23257</td>\n",
       "      <td>60</td>\n",
       "      <td>ultra</td>\n",
       "      <td>Краснодар</td>\n",
       "      <td>23</td>\n",
       "      <td>1000</td>\n",
       "      <td>30720</td>\n",
       "      <td>3000</td>\n",
       "      <td>1950</td>\n",
       "      <td>150</td>\n",
       "      <td>1</td>\n",
       "      <td>1</td>\n",
       "      <td>1950.0</td>\n",
       "    </tr>\n",
       "    <tr>\n",
       "      <th>2</th>\n",
       "      <td>1000</td>\n",
       "      <td>7</td>\n",
       "      <td>340</td>\n",
       "      <td>14016</td>\n",
       "      <td>75</td>\n",
       "      <td>ultra</td>\n",
       "      <td>Краснодар</td>\n",
       "      <td>14</td>\n",
       "      <td>1000</td>\n",
       "      <td>30720</td>\n",
       "      <td>3000</td>\n",
       "      <td>1950</td>\n",
       "      <td>150</td>\n",
       "      <td>1</td>\n",
       "      <td>1</td>\n",
       "      <td>1950.0</td>\n",
       "    </tr>\n",
       "    <tr>\n",
       "      <th>3</th>\n",
       "      <td>1000</td>\n",
       "      <td>8</td>\n",
       "      <td>408</td>\n",
       "      <td>14070</td>\n",
       "      <td>81</td>\n",
       "      <td>ultra</td>\n",
       "      <td>Краснодар</td>\n",
       "      <td>14</td>\n",
       "      <td>1000</td>\n",
       "      <td>30720</td>\n",
       "      <td>3000</td>\n",
       "      <td>1950</td>\n",
       "      <td>150</td>\n",
       "      <td>1</td>\n",
       "      <td>1</td>\n",
       "      <td>1950.0</td>\n",
       "    </tr>\n",
       "    <tr>\n",
       "      <th>4</th>\n",
       "      <td>1000</td>\n",
       "      <td>9</td>\n",
       "      <td>466</td>\n",
       "      <td>14581</td>\n",
       "      <td>57</td>\n",
       "      <td>ultra</td>\n",
       "      <td>Краснодар</td>\n",
       "      <td>15</td>\n",
       "      <td>1000</td>\n",
       "      <td>30720</td>\n",
       "      <td>3000</td>\n",
       "      <td>1950</td>\n",
       "      <td>150</td>\n",
       "      <td>1</td>\n",
       "      <td>1</td>\n",
       "      <td>1950.0</td>\n",
       "    </tr>\n",
       "    <tr>\n",
       "      <th>5</th>\n",
       "      <td>1000</td>\n",
       "      <td>10</td>\n",
       "      <td>350</td>\n",
       "      <td>14717</td>\n",
       "      <td>73</td>\n",
       "      <td>ultra</td>\n",
       "      <td>Краснодар</td>\n",
       "      <td>15</td>\n",
       "      <td>1000</td>\n",
       "      <td>30720</td>\n",
       "      <td>3000</td>\n",
       "      <td>1950</td>\n",
       "      <td>150</td>\n",
       "      <td>1</td>\n",
       "      <td>1</td>\n",
       "      <td>1950.0</td>\n",
       "    </tr>\n",
       "    <tr>\n",
       "      <th>6</th>\n",
       "      <td>1000</td>\n",
       "      <td>11</td>\n",
       "      <td>338</td>\n",
       "      <td>14768</td>\n",
       "      <td>58</td>\n",
       "      <td>ultra</td>\n",
       "      <td>Краснодар</td>\n",
       "      <td>15</td>\n",
       "      <td>1000</td>\n",
       "      <td>30720</td>\n",
       "      <td>3000</td>\n",
       "      <td>1950</td>\n",
       "      <td>150</td>\n",
       "      <td>1</td>\n",
       "      <td>1</td>\n",
       "      <td>1950.0</td>\n",
       "    </tr>\n",
       "    <tr>\n",
       "      <th>7</th>\n",
       "      <td>1000</td>\n",
       "      <td>12</td>\n",
       "      <td>333</td>\n",
       "      <td>9827</td>\n",
       "      <td>70</td>\n",
       "      <td>ultra</td>\n",
       "      <td>Краснодар</td>\n",
       "      <td>10</td>\n",
       "      <td>1000</td>\n",
       "      <td>30720</td>\n",
       "      <td>3000</td>\n",
       "      <td>1950</td>\n",
       "      <td>150</td>\n",
       "      <td>1</td>\n",
       "      <td>1</td>\n",
       "      <td>1950.0</td>\n",
       "    </tr>\n",
       "    <tr>\n",
       "      <th>8</th>\n",
       "      <td>1003</td>\n",
       "      <td>8</td>\n",
       "      <td>380</td>\n",
       "      <td>8571</td>\n",
       "      <td>37</td>\n",
       "      <td>ultra</td>\n",
       "      <td>Москва</td>\n",
       "      <td>9</td>\n",
       "      <td>1000</td>\n",
       "      <td>30720</td>\n",
       "      <td>3000</td>\n",
       "      <td>1950</td>\n",
       "      <td>150</td>\n",
       "      <td>1</td>\n",
       "      <td>1</td>\n",
       "      <td>1950.0</td>\n",
       "    </tr>\n",
       "    <tr>\n",
       "      <th>9</th>\n",
       "      <td>1003</td>\n",
       "      <td>9</td>\n",
       "      <td>961</td>\n",
       "      <td>12479</td>\n",
       "      <td>91</td>\n",
       "      <td>ultra</td>\n",
       "      <td>Москва</td>\n",
       "      <td>13</td>\n",
       "      <td>1000</td>\n",
       "      <td>30720</td>\n",
       "      <td>3000</td>\n",
       "      <td>1950</td>\n",
       "      <td>150</td>\n",
       "      <td>1</td>\n",
       "      <td>1</td>\n",
       "      <td>1950.0</td>\n",
       "    </tr>\n",
       "  </tbody>\n",
       "</table>\n",
       "</div>"
      ],
      "text/plain": [
       "   user_id  month  min_used  mb_used  mes_used tariff_name       city  \\\n",
       "0     1000      5       159     2256        22       ultra  Краснодар   \n",
       "1     1000      6       172    23257        60       ultra  Краснодар   \n",
       "2     1000      7       340    14016        75       ultra  Краснодар   \n",
       "3     1000      8       408    14070        81       ultra  Краснодар   \n",
       "4     1000      9       466    14581        57       ultra  Краснодар   \n",
       "5     1000     10       350    14717        73       ultra  Краснодар   \n",
       "6     1000     11       338    14768        58       ultra  Краснодар   \n",
       "7     1000     12       333     9827        70       ultra  Краснодар   \n",
       "8     1003      8       380     8571        37       ultra     Москва   \n",
       "9     1003      9       961    12479        91       ultra     Москва   \n",
       "\n",
       "   gb_used  messages_included  mb_per_month_included  minutes_included  \\\n",
       "0        3               1000                  30720              3000   \n",
       "1       23               1000                  30720              3000   \n",
       "2       14               1000                  30720              3000   \n",
       "3       14               1000                  30720              3000   \n",
       "4       15               1000                  30720              3000   \n",
       "5       15               1000                  30720              3000   \n",
       "6       15               1000                  30720              3000   \n",
       "7       10               1000                  30720              3000   \n",
       "8        9               1000                  30720              3000   \n",
       "9       13               1000                  30720              3000   \n",
       "\n",
       "   rub_monthly_fee  rub_per_gb  rub_per_message  rub_per_minute  profit  \n",
       "0             1950         150                1               1  1950.0  \n",
       "1             1950         150                1               1  1950.0  \n",
       "2             1950         150                1               1  1950.0  \n",
       "3             1950         150                1               1  1950.0  \n",
       "4             1950         150                1               1  1950.0  \n",
       "5             1950         150                1               1  1950.0  \n",
       "6             1950         150                1               1  1950.0  \n",
       "7             1950         150                1               1  1950.0  \n",
       "8             1950         150                1               1  1950.0  \n",
       "9             1950         150                1               1  1950.0  "
      ]
     },
     "metadata": {},
     "output_type": "display_data"
    }
   ],
   "source": [
    "def profit(row):\n",
    "    revenue = 0\n",
    "    minutes = row['min_used']\n",
    "    gbs = row['gb_used']\n",
    "    mes = row['mes_used']\n",
    "    revenue = row['rub_monthly_fee'] + max(0, row['min_used'] - row['minutes_included']) * row['rub_per_minute'] + max(0, row['gb_used'] - row['mb_per_month_included']/1024) * row['rub_per_gb'] + max(0, row['mes_used'] - row['messages_included']) * row['rub_per_message']\n",
    " \n",
    "    return revenue\n",
    " \n",
    "\n",
    "final['profit'] = final.apply(profit, axis = 1)\n",
    "display(final.head(10))"
   ]
  },
  {
   "cell_type": "markdown",
   "metadata": {},
   "source": [
    "## 3. Анализ данных"
   ]
  },
  {
   "cell_type": "markdown",
   "metadata": {},
   "source": [
    "### 3.1 Расчет среднего количества, дисперсии и стандартного отклонения израсходованных единиц"
   ]
  },
  {
   "cell_type": "code",
   "execution_count": 24,
   "metadata": {},
   "outputs": [
    {
     "data": {
      "text/html": [
       "<div>\n",
       "<style scoped>\n",
       "    .dataframe tbody tr th:only-of-type {\n",
       "        vertical-align: middle;\n",
       "    }\n",
       "\n",
       "    .dataframe tbody tr th {\n",
       "        vertical-align: top;\n",
       "    }\n",
       "\n",
       "    .dataframe thead tr th {\n",
       "        text-align: left;\n",
       "    }\n",
       "\n",
       "    .dataframe thead tr:last-of-type th {\n",
       "        text-align: right;\n",
       "    }\n",
       "</style>\n",
       "<table border=\"1\" class=\"dataframe\">\n",
       "  <thead>\n",
       "    <tr>\n",
       "      <th></th>\n",
       "      <th colspan=\"3\" halign=\"left\">mean</th>\n",
       "      <th colspan=\"3\" halign=\"left\">std</th>\n",
       "      <th colspan=\"3\" halign=\"left\">var</th>\n",
       "    </tr>\n",
       "    <tr>\n",
       "      <th></th>\n",
       "      <th>gb_used</th>\n",
       "      <th>mes_used</th>\n",
       "      <th>min_used</th>\n",
       "      <th>gb_used</th>\n",
       "      <th>mes_used</th>\n",
       "      <th>min_used</th>\n",
       "      <th>gb_used</th>\n",
       "      <th>mes_used</th>\n",
       "      <th>min_used</th>\n",
       "    </tr>\n",
       "    <tr>\n",
       "      <th>tariff_name</th>\n",
       "      <th></th>\n",
       "      <th></th>\n",
       "      <th></th>\n",
       "      <th></th>\n",
       "      <th></th>\n",
       "      <th></th>\n",
       "      <th></th>\n",
       "      <th></th>\n",
       "      <th></th>\n",
       "    </tr>\n",
       "  </thead>\n",
       "  <tbody>\n",
       "    <tr>\n",
       "      <th>smart</th>\n",
       "      <td>16.359354</td>\n",
       "      <td>33.384029</td>\n",
       "      <td>417.934948</td>\n",
       "      <td>5.758498</td>\n",
       "      <td>28.227876</td>\n",
       "      <td>190.313730</td>\n",
       "      <td>33.160304</td>\n",
       "      <td>796.812958</td>\n",
       "      <td>36219.315784</td>\n",
       "    </tr>\n",
       "    <tr>\n",
       "      <th>ultra</th>\n",
       "      <td>19.525888</td>\n",
       "      <td>49.363452</td>\n",
       "      <td>526.623350</td>\n",
       "      <td>9.865848</td>\n",
       "      <td>47.804457</td>\n",
       "      <td>317.606098</td>\n",
       "      <td>97.334949</td>\n",
       "      <td>2285.266143</td>\n",
       "      <td>100873.633397</td>\n",
       "    </tr>\n",
       "  </tbody>\n",
       "</table>\n",
       "</div>"
      ],
      "text/plain": [
       "                  mean                              std             \\\n",
       "               gb_used   mes_used    min_used   gb_used   mes_used   \n",
       "tariff_name                                                          \n",
       "smart        16.359354  33.384029  417.934948  5.758498  28.227876   \n",
       "ultra        19.525888  49.363452  526.623350  9.865848  47.804457   \n",
       "\n",
       "                               var                              \n",
       "               min_used    gb_used     mes_used       min_used  \n",
       "tariff_name                                                     \n",
       "smart        190.313730  33.160304   796.812958   36219.315784  \n",
       "ultra        317.606098  97.334949  2285.266143  100873.633397  "
      ]
     },
     "execution_count": 24,
     "metadata": {},
     "output_type": "execute_result"
    }
   ],
   "source": [
    "final.pivot_table(index='tariff_name', values=['min_used', 'gb_used', 'mes_used'],\n",
    "                       aggfunc=['mean', 'std', 'var'])"
   ]
  },
  {
   "cell_type": "markdown",
   "metadata": {},
   "source": [
    "Исходя из средних значений можно сказать:\n",
    "\n",
    "**1)** Пользователи тарифа ultra, используют чуть больше минут в месяц, чем пользователи smart. Сейчас минуты не так важны пользователям, как гигабайты, тариф скорее брался под него. Плюс как ни странно ползователи ultra тратят свои минуты чуть больше порога по smart\n",
    "\n",
    "**2)** Пользователи тарифа smart больше чем в 2 раза привышают свой лимит по гигабайтам и обгоняют пользователей тарифа ultra. Пользователи ultra так же привышают лимит, но на 30%\n",
    "\n",
    "**3)** Сообщений пользователи тарифа ultra шлют чуть больше, чем пользователи smart. При этом ни те ни, тем более, другие, лимит не превышают"
   ]
  },
  {
   "cell_type": "markdown",
   "metadata": {},
   "source": [
    "### 3.2 Построение гистограмм"
   ]
  },
  {
   "cell_type": "code",
   "execution_count": 25,
   "metadata": {},
   "outputs": [],
   "source": [
    "def graph(tar, histname):\n",
    "    fig = plt.figure(figsize=(15,5)) #зададим размер графика\n",
    " \n",
    "    ax1 = fig.add_subplot(1, 3, 1) #методом add_subplot() добавим области для построения\n",
    "    ax2 = fig.add_subplot(1, 3, 2)\n",
    "    ax3 = fig.add_subplot(1, 3, 3)\n",
    " \n",
    "    ax2.set_title(histname) #подпишем график\n",
    " \n",
    "    ax1.grid() #сделаем сетку на осях\n",
    "    ax2.grid()\n",
    "    ax3.grid()\n",
    " \n",
    "    ax1.hist(tar['min_used'], color='red', bins=15, alpha=0.6) #методом hist() постоим гистограмму\n",
    "    ax2.hist(tar['mes_used'], color='red', bins=15, alpha=0.6) #передав в параметрах столбец, по которому строить\n",
    "    ax3.hist(tar['gb_used'], color='red', bins=15, alpha=0.6) #цвет, количество корзин, прозрачность\n",
    " \n",
    "    ax1.set_xlabel('Количество использованных минут, месяц') #подпишем ось х\n",
    "    ax1.set_ylabel('Количество клиентов, месяц') #подпишем ось y\n",
    "    ax2.set_xlabel('Количество сообщений, месяц')\n",
    "    ax3.set_xlabel('Количество гигабайт, месяц')\n",
    "        \n",
    "    plt.show()"
   ]
  },
  {
   "cell_type": "markdown",
   "metadata": {},
   "source": [
    "#### 3.2.1 Для пользователей тарифа Smart"
   ]
  },
  {
   "cell_type": "code",
   "execution_count": 25,
   "metadata": {},
   "outputs": [
    {
     "data": {
      "image/png": "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\n",
      "text/plain": [
       "<Figure size 1080x360 with 3 Axes>"
      ]
     },
     "metadata": {
      "needs_background": "light"
     },
     "output_type": "display_data"
    }
   ],
   "source": [
    "graph(final.query('tariff_name == \"smart\"'), 'Гистограмма расходования ресурсов тарифа Smart')"
   ]
  },
  {
   "cell_type": "markdown",
   "metadata": {},
   "source": [
    "#### 3.2.2 Для пользователей тарифа Ultra"
   ]
  },
  {
   "cell_type": "code",
   "execution_count": 26,
   "metadata": {},
   "outputs": [
    {
     "data": {
      "image/png": "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\n",
      "text/plain": [
       "<Figure size 1080x360 with 3 Axes>"
      ]
     },
     "metadata": {
      "needs_background": "light"
     },
     "output_type": "display_data"
    }
   ],
   "source": [
    "graph(final.query('tariff_name == \"ultra\"'), 'Гистограмма расходования ресурсов тарифа Ultra')"
   ]
  },
  {
   "cell_type": "markdown",
   "metadata": {},
   "source": [
    "Гистограммы показывают:\n",
    "\n",
    "**1)** Пользователи тарифа ultra равномерно любят говорит как и по 0 минут в месяц, так и по 750. Это также подверждает гипотезу о том, что этот тариф берут ради интернета\n",
    "\n",
    "**2)** Сообщениями не пользуются почти никто\n",
    "\n",
    "**3)** По количеству гигабайт графики также в целом похожи"
   ]
  },
  {
   "cell_type": "markdown",
   "metadata": {},
   "source": [
    "## 4. Проверка гипотез"
   ]
  },
  {
   "cell_type": "markdown",
   "metadata": {},
   "source": [
    "Перед этим почищу таблицу"
   ]
  },
  {
   "cell_type": "code",
   "execution_count": 26,
   "metadata": {},
   "outputs": [],
   "source": [
    "final.drop('mb_used', axis = 1, inplace = True)\n",
    "final.drop('messages_included', axis=1, inplace=True)\n",
    "final.drop('mb_per_month_included', axis=1, inplace=True)\n",
    "final.drop('minutes_included', axis=1, inplace=True)\n",
    "final.drop('rub_monthly_fee', axis=1, inplace=True)\n",
    "final.drop('rub_per_gb', axis=1, inplace=True)\n",
    "final.drop('rub_per_message', axis=1, inplace=True)\n",
    "final.drop('rub_per_minute', axis=1, inplace=True)"
   ]
  },
  {
   "cell_type": "markdown",
   "metadata": {},
   "source": [
    "### 4.1 Теперь проверю гипотезу о том, что средняя выручка от пользователей тарифа смарт не равна той же в ультре"
   ]
  },
  {
   "cell_type": "markdown",
   "metadata": {},
   "source": [
    "Н0: выручка с пользователей тарифа Ultra равняется выручке с пользователей тарифа Smart\n",
    "\n",
    "Н1: выручка с пользователей тарифа Ultra отличается от выручки с пользователей тарифа Smart"
   ]
  },
  {
   "cell_type": "code",
   "execution_count": 27,
   "metadata": {},
   "outputs": [
    {
     "name": "stdout",
     "output_type": "stream",
     "text": [
      "Средняя выручка Smart :  1294.6393001345896\n",
      "Средняя выручка Ultra :  2071.0659898477156\n",
      "p-значение: 2.9776448000521676e-158\n",
      "Отвергаем нулевую гипотезу\n"
     ]
    }
   ],
   "source": [
    "smart_profit = final.query('tariff_name == \"smart\"')['profit']\n",
    "ultra_profit = final.query('tariff_name == \"ultra\"')['profit']\n",
    "\n",
    "print('Средняя выручка Smart : ', smart_profit.mean())\n",
    "print('Средняя выручка Ultra : ', ultra_profit.mean())\n",
    "\n",
    "alpha = 0.05 #беру пятипроцентный уровень значимости\n",
    "\n",
    "results = st.ttest_ind(smart_profit, ultra_profit, equal_var = True) \n",
    "\n",
    "print('p-значение:', results.pvalue) \n",
    "\n",
    "if results.pvalue < alpha:\n",
    "    print(\"Отвергаем нулевую гипотезу\")\n",
    "else:\n",
    "    print(\"Не получилось отвергнуть нулевую гипотезу\")"
   ]
  },
  {
   "cell_type": "markdown",
   "metadata": {},
   "source": [
    "Нулевая гипотеза о равенстве средних выручек отвергается на 5% уровне значимости, то есть, вероятность того, что мы ошиблись составляет 5%. \n",
    "\n",
    "Или другими словами: средние значения выручек от тарифов Smart и Ultra не равны с вероятность 95%."
   ]
  },
  {
   "cell_type": "markdown",
   "metadata": {},
   "source": [
    "### 4.2 Далее проверим гипотезу о том, что средняя выручка с пользователей из Москвы, отличается от тех же по России."
   ]
  },
  {
   "cell_type": "markdown",
   "metadata": {},
   "source": [
    "Н0: выручка с пользователей Москвы равняется выручке с пользователей по России\n",
    "\n",
    "Н1: выручка с пользователей Москвы отличается от выручки с пользователей по России"
   ]
  },
  {
   "cell_type": "code",
   "execution_count": 28,
   "metadata": {},
   "outputs": [
    {
     "name": "stdout",
     "output_type": "stream",
     "text": [
      "Средняя выручка с Москвы :  1550.8052373158755\n",
      "Средняя выручка с России :  1528.3169419900116\n",
      "p-значение: 0.531666503831252\n",
      "Не получилось отвергнуть нулевую гипотезу\n"
     ]
    }
   ],
   "source": [
    "moscow_profit = final.query('city == \"Москва\"')['profit']\n",
    "russia_profit = final.query('city != \"Москва\"')['profit']\n",
    "\n",
    "print('Средняя выручка с Москвы : ', moscow_profit.mean())\n",
    "print('Средняя выручка с России : ', russia_profit.mean())\n",
    "\n",
    "alpha = 0.05 #беру пятипроцентный уровень значимости\n",
    "\n",
    "results = st.ttest_ind(moscow_profit, russia_profit, equal_var = True) \n",
    "\n",
    "print('p-значение:', results.pvalue) \n",
    "\n",
    "if results.pvalue < alpha:\n",
    "    print(\"Отвергаем нулевую гипотезу\")\n",
    "else:\n",
    "    print(\"Не получилось отвергнуть нулевую гипотезу\")"
   ]
  },
  {
   "cell_type": "markdown",
   "metadata": {},
   "source": [
    "Нулевая гипотеза о равенстве выручки с пользователей Москвы и России подтверджается на пяти-процентном уровне. \n",
    "\n",
    "Или другими словами: средние значения выручек от пользователей с Москвы и с России равны с вероятность 95%."
   ]
  },
  {
   "cell_type": "markdown",
   "metadata": {},
   "source": [
    "# 5. Общий вывод"
   ]
  },
  {
   "cell_type": "markdown",
   "metadata": {},
   "source": [
    "- **Краткий обзор проведенной работы:** была проведена предобработка данных, включающая изменение типов данных, округление значений проговоренных минут и использованных мегабайт, группировку по месяцам, соединение таблиц и расчет прибыли. В рамках анализа был произведен расчет среднего использования предоставляемых по тарифам минут и мегабайт. Были проверены гипотезы о средней выручке\n",
    "\n",
    "- **Главные выводы:** 1) Пользователи Ultra приносят больше прибыли компании \"Мегалайн\", нежели пользователи Smart. Стоит делать маркетинговый упор именно на него, так как они почти не используют предоставленные пакеты 2) Средний показатель выручки компании от пользователей по стране и по Москве не отличается. Их услуги и пакеты потребляют равномерно, нет такой закономерности, что в регионах больше используют Smart 3) Совокупный доход выше у Smart за счет большего числа клиентов"
   ]
  }
 ],
 "metadata": {
  "ExecuteTimeLog": [
   {
    "duration": 414,
    "start_time": "2021-06-28T19:29:28.642Z"
   },
   {
    "duration": 1379,
    "start_time": "2021-06-28T19:29:31.865Z"
   },
   {
    "duration": 29,
    "start_time": "2021-06-28T19:29:34.223Z"
   },
   {
    "duration": 21,
    "start_time": "2021-06-28T19:29:59.843Z"
   },
   {
    "duration": 13,
    "start_time": "2021-06-28T19:30:05.500Z"
   },
   {
    "duration": 23,
    "start_time": "2021-06-28T19:30:35.345Z"
   },
   {
    "duration": 13,
    "start_time": "2021-06-28T19:30:48.594Z"
   },
   {
    "duration": 20,
    "start_time": "2021-06-28T19:31:26.634Z"
   },
   {
    "duration": 12,
    "start_time": "2021-06-28T19:31:38.324Z"
   },
   {
    "duration": 9,
    "start_time": "2021-06-28T19:31:56.235Z"
   },
   {
    "duration": 36,
    "start_time": "2021-06-28T19:32:08.798Z"
   },
   {
    "duration": 34,
    "start_time": "2021-06-28T19:32:21.431Z"
   },
   {
    "duration": 27,
    "start_time": "2021-06-28T19:32:38.656Z"
   },
   {
    "duration": 16,
    "start_time": "2021-06-28T19:33:05.003Z"
   },
   {
    "duration": 22,
    "start_time": "2021-06-28T19:33:24.158Z"
   },
   {
    "duration": 315,
    "start_time": "2021-06-29T18:48:13.521Z"
   },
   {
    "duration": 1417,
    "start_time": "2021-06-29T18:48:19.984Z"
   },
   {
    "duration": 44,
    "start_time": "2021-06-29T18:48:21.403Z"
   },
   {
    "duration": 31,
    "start_time": "2021-06-29T18:48:21.450Z"
   },
   {
    "duration": 27,
    "start_time": "2021-06-29T18:48:22.674Z"
   },
   {
    "duration": 17,
    "start_time": "2021-06-29T18:48:23.292Z"
   },
   {
    "duration": 21,
    "start_time": "2021-06-29T18:48:23.915Z"
   },
   {
    "duration": 2128,
    "start_time": "2021-06-29T18:48:27.295Z"
   },
   {
    "duration": 42,
    "start_time": "2021-06-29T18:49:01.848Z"
   },
   {
    "duration": 75,
    "start_time": "2021-06-29T18:53:09.570Z"
   },
   {
    "duration": 21,
    "start_time": "2021-06-29T18:53:19.016Z"
   },
   {
    "duration": 6547,
    "start_time": "2021-06-29T18:54:39.998Z"
   },
   {
    "duration": 21,
    "start_time": "2021-06-29T18:55:06.759Z"
   },
   {
    "duration": 17,
    "start_time": "2021-06-29T19:07:16.625Z"
   },
   {
    "duration": 17,
    "start_time": "2021-06-29T19:07:49.266Z"
   },
   {
    "duration": 503,
    "start_time": "2021-06-29T19:07:55.917Z"
   },
   {
    "duration": 35,
    "start_time": "2021-06-29T19:07:56.968Z"
   },
   {
    "duration": 32,
    "start_time": "2021-06-29T19:07:57.636Z"
   },
   {
    "duration": 27,
    "start_time": "2021-06-29T19:07:58.195Z"
   },
   {
    "duration": 18,
    "start_time": "2021-06-29T19:07:58.719Z"
   },
   {
    "duration": 20,
    "start_time": "2021-06-29T19:07:59.322Z"
   },
   {
    "duration": 89,
    "start_time": "2021-06-29T19:08:02.851Z"
   },
   {
    "duration": 16,
    "start_time": "2021-06-29T19:08:05.221Z"
   },
   {
    "duration": 7,
    "start_time": "2021-06-29T19:16:43.213Z"
   },
   {
    "duration": 24,
    "start_time": "2021-06-29T19:18:03.013Z"
   },
   {
    "duration": 466,
    "start_time": "2021-06-29T19:22:07.707Z"
   },
   {
    "duration": 312,
    "start_time": "2021-06-29T19:25:09.510Z"
   },
   {
    "duration": 4245,
    "start_time": "2021-06-29T19:25:18.268Z"
   },
   {
    "duration": 44,
    "start_time": "2021-06-29T19:25:22.515Z"
   },
   {
    "duration": 30,
    "start_time": "2021-06-29T19:25:22.562Z"
   },
   {
    "duration": 25,
    "start_time": "2021-06-29T19:25:22.595Z"
   },
   {
    "duration": 49,
    "start_time": "2021-06-29T19:25:22.622Z"
   },
   {
    "duration": 24,
    "start_time": "2021-06-29T19:25:22.673Z"
   },
   {
    "duration": 121,
    "start_time": "2021-06-29T19:25:22.699Z"
   },
   {
    "duration": 2780,
    "start_time": "2021-06-29T19:28:25.505Z"
   },
   {
    "duration": 48,
    "start_time": "2021-06-29T19:28:28.288Z"
   },
   {
    "duration": 42,
    "start_time": "2021-06-29T19:28:28.339Z"
   },
   {
    "duration": 35,
    "start_time": "2021-06-29T19:28:28.385Z"
   },
   {
    "duration": 43,
    "start_time": "2021-06-29T19:28:28.422Z"
   },
   {
    "duration": 22,
    "start_time": "2021-06-29T19:28:28.467Z"
   },
   {
    "duration": 128,
    "start_time": "2021-06-29T19:28:28.491Z"
   },
   {
    "duration": 6,
    "start_time": "2021-06-29T19:28:28.623Z"
   },
   {
    "duration": 475,
    "start_time": "2021-06-29T19:28:28.631Z"
   },
   {
    "duration": 284,
    "start_time": "2021-06-29T19:30:10.197Z"
   },
   {
    "duration": 361,
    "start_time": "2021-06-29T19:30:48.020Z"
   },
   {
    "duration": 66,
    "start_time": "2021-06-29T19:31:11.409Z"
   },
   {
    "duration": 513,
    "start_time": "2021-06-29T19:31:28.438Z"
   },
   {
    "duration": 36,
    "start_time": "2021-06-29T19:31:28.954Z"
   },
   {
    "duration": 30,
    "start_time": "2021-06-29T19:31:28.993Z"
   },
   {
    "duration": 42,
    "start_time": "2021-06-29T19:31:29.025Z"
   },
   {
    "duration": 15,
    "start_time": "2021-06-29T19:31:29.070Z"
   },
   {
    "duration": 25,
    "start_time": "2021-06-29T19:31:29.087Z"
   },
   {
    "duration": 102,
    "start_time": "2021-06-29T19:31:29.155Z"
   },
   {
    "duration": 4,
    "start_time": "2021-06-29T19:31:29.259Z"
   },
   {
    "duration": 92,
    "start_time": "2021-06-29T19:31:29.267Z"
   },
   {
    "duration": 83,
    "start_time": "2021-06-29T19:31:45.506Z"
   },
   {
    "duration": 367,
    "start_time": "2021-06-29T19:32:15.635Z"
   },
   {
    "duration": 88,
    "start_time": "2021-06-29T19:32:29.117Z"
   },
   {
    "duration": 69,
    "start_time": "2021-06-29T19:32:39.059Z"
   },
   {
    "duration": 76,
    "start_time": "2021-06-29T19:32:49.279Z"
   },
   {
    "duration": 267,
    "start_time": "2021-06-29T19:33:52.305Z"
   },
   {
    "duration": 305,
    "start_time": "2021-06-29T19:36:51.531Z"
   },
   {
    "duration": 2105,
    "start_time": "2021-06-29T19:36:57.107Z"
   },
   {
    "duration": 44,
    "start_time": "2021-06-29T19:36:59.215Z"
   },
   {
    "duration": 31,
    "start_time": "2021-06-29T19:36:59.262Z"
   },
   {
    "duration": 26,
    "start_time": "2021-06-29T19:36:59.295Z"
   },
   {
    "duration": 40,
    "start_time": "2021-06-29T19:36:59.323Z"
   },
   {
    "duration": 27,
    "start_time": "2021-06-29T19:36:59.366Z"
   },
   {
    "duration": 96,
    "start_time": "2021-06-29T19:37:00.932Z"
   },
   {
    "duration": 4551,
    "start_time": "2021-06-29T19:37:04.368Z"
   },
   {
    "duration": 266,
    "start_time": "2021-06-29T19:37:47.478Z"
   },
   {
    "duration": 75,
    "start_time": "2021-06-29T19:37:55.987Z"
   },
   {
    "duration": 128,
    "start_time": "2021-06-29T19:39:33.393Z"
   },
   {
    "duration": 132,
    "start_time": "2021-06-29T19:39:51.081Z"
   },
   {
    "duration": 367,
    "start_time": "2021-06-29T19:41:20.039Z"
   },
   {
    "duration": 240,
    "start_time": "2021-06-29T19:41:28.581Z"
   },
   {
    "duration": 215,
    "start_time": "2021-06-30T05:03:06.284Z"
   },
   {
    "duration": 947,
    "start_time": "2021-06-30T05:03:11.916Z"
   },
   {
    "duration": 46,
    "start_time": "2021-06-30T05:03:12.865Z"
   },
   {
    "duration": 24,
    "start_time": "2021-06-30T05:03:14.638Z"
   },
   {
    "duration": 976,
    "start_time": "2021-06-30T05:06:28.027Z"
   },
   {
    "duration": 31,
    "start_time": "2021-06-30T05:06:29.005Z"
   },
   {
    "duration": 20,
    "start_time": "2021-06-30T05:06:29.038Z"
   },
   {
    "duration": 1996,
    "start_time": "2021-06-30T05:06:57.859Z"
   },
   {
    "duration": 171,
    "start_time": "2021-06-30T05:07:03.576Z"
   },
   {
    "duration": 176,
    "start_time": "2021-06-30T05:07:03.988Z"
   },
   {
    "duration": 176,
    "start_time": "2021-06-30T05:07:04.885Z"
   },
   {
    "duration": 997,
    "start_time": "2021-06-30T05:07:08.493Z"
   },
   {
    "duration": 35,
    "start_time": "2021-06-30T05:07:09.493Z"
   },
   {
    "duration": 22,
    "start_time": "2021-06-30T05:07:09.530Z"
   },
   {
    "duration": 19,
    "start_time": "2021-06-30T05:07:09.636Z"
   },
   {
    "duration": 17,
    "start_time": "2021-06-30T05:07:10.588Z"
   },
   {
    "duration": 13,
    "start_time": "2021-06-30T05:07:11.106Z"
   },
   {
    "duration": 71,
    "start_time": "2021-06-30T05:07:23.021Z"
   },
   {
    "duration": 200,
    "start_time": "2021-06-30T05:09:46.300Z"
   },
   {
    "duration": 254,
    "start_time": "2021-06-30T05:10:07.810Z"
   },
   {
    "duration": 430,
    "start_time": "2021-06-30T05:10:26.187Z"
   },
   {
    "duration": 6,
    "start_time": "2021-06-30T05:10:33.250Z"
   },
   {
    "duration": 175,
    "start_time": "2021-06-30T05:11:26.914Z"
   },
   {
    "duration": 9,
    "start_time": "2021-06-30T05:13:17.895Z"
   },
   {
    "duration": 192,
    "start_time": "2021-06-30T05:13:36.053Z"
   },
   {
    "duration": 6,
    "start_time": "2021-06-30T05:14:29.948Z"
   },
   {
    "duration": 147,
    "start_time": "2021-06-30T05:14:33.785Z"
   },
   {
    "duration": 201,
    "start_time": "2021-06-30T05:55:26.017Z"
   },
   {
    "duration": 396,
    "start_time": "2021-06-30T06:04:51.982Z"
   },
   {
    "duration": 410,
    "start_time": "2021-06-30T06:07:02.169Z"
   },
   {
    "duration": 389,
    "start_time": "2021-07-01T16:55:18.409Z"
   },
   {
    "duration": 1363,
    "start_time": "2021-07-01T16:55:21.070Z"
   },
   {
    "duration": 49,
    "start_time": "2021-07-01T16:55:22.436Z"
   },
   {
    "duration": 38,
    "start_time": "2021-07-01T16:55:22.489Z"
   },
   {
    "duration": 42,
    "start_time": "2021-07-01T16:55:22.531Z"
   },
   {
    "duration": 44,
    "start_time": "2021-07-01T16:55:22.575Z"
   },
   {
    "duration": 22,
    "start_time": "2021-07-01T16:55:23.036Z"
   },
   {
    "duration": 101,
    "start_time": "2021-07-01T16:55:28.132Z"
   },
   {
    "duration": 8,
    "start_time": "2021-07-01T16:55:33.329Z"
   },
   {
    "duration": 67,
    "start_time": "2021-07-01T17:00:29.982Z"
   },
   {
    "duration": 14,
    "start_time": "2021-07-01T17:00:48.848Z"
   },
   {
    "duration": 409,
    "start_time": "2021-07-01T17:05:00.178Z"
   },
   {
    "duration": 15,
    "start_time": "2021-07-01T17:05:27.170Z"
   },
   {
    "duration": 14,
    "start_time": "2021-07-01T17:05:29.818Z"
   },
   {
    "duration": 96,
    "start_time": "2021-07-01T17:10:59.645Z"
   },
   {
    "duration": 13,
    "start_time": "2021-07-01T17:11:02.363Z"
   },
   {
    "duration": 62,
    "start_time": "2021-07-01T17:19:26.205Z"
   },
   {
    "duration": 12,
    "start_time": "2021-07-01T17:19:41.272Z"
   },
   {
    "duration": 552,
    "start_time": "2021-07-01T17:31:15.167Z"
   },
   {
    "duration": 36,
    "start_time": "2021-07-01T17:31:15.722Z"
   },
   {
    "duration": 35,
    "start_time": "2021-07-01T17:31:16.168Z"
   },
   {
    "duration": 28,
    "start_time": "2021-07-01T17:31:17.759Z"
   },
   {
    "duration": 19,
    "start_time": "2021-07-01T17:31:18.122Z"
   },
   {
    "duration": 21,
    "start_time": "2021-07-01T17:31:19.521Z"
   },
   {
    "duration": 94,
    "start_time": "2021-07-01T17:31:23.371Z"
   },
   {
    "duration": 9,
    "start_time": "2021-07-01T17:31:24.952Z"
   },
   {
    "duration": 84,
    "start_time": "2021-07-01T17:31:33.804Z"
   },
   {
    "duration": 93,
    "start_time": "2021-07-01T17:41:03.962Z"
   },
   {
    "duration": 19,
    "start_time": "2021-07-01T17:41:08.896Z"
   },
   {
    "duration": 15,
    "start_time": "2021-07-01T17:41:33.275Z"
   },
   {
    "duration": 16,
    "start_time": "2021-07-01T17:42:13.997Z"
   },
   {
    "duration": 12,
    "start_time": "2021-07-01T17:42:26.996Z"
   },
   {
    "duration": 10,
    "start_time": "2021-07-01T17:43:26.174Z"
   },
   {
    "duration": 89,
    "start_time": "2021-07-01T17:48:50.800Z"
   },
   {
    "duration": 9,
    "start_time": "2021-07-01T17:48:56.517Z"
   },
   {
    "duration": 90,
    "start_time": "2021-07-01T17:49:11.614Z"
   },
   {
    "duration": 10,
    "start_time": "2021-07-01T17:49:13.228Z"
   },
   {
    "duration": 134,
    "start_time": "2021-07-01T17:55:44.721Z"
   },
   {
    "duration": 1875,
    "start_time": "2021-07-01T17:55:54.991Z"
   },
   {
    "duration": 10,
    "start_time": "2021-07-01T17:55:56.868Z"
   },
   {
    "duration": 93,
    "start_time": "2021-07-01T17:58:50.732Z"
   },
   {
    "duration": 10,
    "start_time": "2021-07-01T17:58:52.394Z"
   },
   {
    "duration": 91,
    "start_time": "2021-07-01T17:59:44.517Z"
   },
   {
    "duration": 11,
    "start_time": "2021-07-01T17:59:53.728Z"
   },
   {
    "duration": 79,
    "start_time": "2021-07-01T18:08:12.937Z"
   },
   {
    "duration": 10,
    "start_time": "2021-07-01T18:08:14.522Z"
   },
   {
    "duration": 500,
    "start_time": "2021-07-01T18:08:29.220Z"
   },
   {
    "duration": 33,
    "start_time": "2021-07-01T18:08:29.723Z"
   },
   {
    "duration": 31,
    "start_time": "2021-07-01T18:08:30.105Z"
   },
   {
    "duration": 26,
    "start_time": "2021-07-01T18:08:30.929Z"
   },
   {
    "duration": 17,
    "start_time": "2021-07-01T18:08:31.251Z"
   },
   {
    "duration": 24,
    "start_time": "2021-07-01T18:08:31.450Z"
   },
   {
    "duration": 89,
    "start_time": "2021-07-01T18:08:33.197Z"
   },
   {
    "duration": 6,
    "start_time": "2021-07-01T18:08:35.069Z"
   },
   {
    "duration": 84,
    "start_time": "2021-07-01T18:08:36.898Z"
   },
   {
    "duration": 90,
    "start_time": "2021-07-01T18:08:40.098Z"
   },
   {
    "duration": 95,
    "start_time": "2021-07-01T18:08:45.102Z"
   },
   {
    "duration": 186,
    "start_time": "2021-07-01T18:08:57.966Z"
   },
   {
    "duration": 124,
    "start_time": "2021-07-01T18:09:11.716Z"
   },
   {
    "duration": 54,
    "start_time": "2021-07-01T18:10:37.158Z"
   },
   {
    "duration": 1961,
    "start_time": "2021-07-02T11:38:12.011Z"
   },
   {
    "duration": 45,
    "start_time": "2021-07-02T11:38:13.975Z"
   },
   {
    "duration": 43,
    "start_time": "2021-07-02T11:38:14.023Z"
   },
   {
    "duration": 27,
    "start_time": "2021-07-02T11:38:14.502Z"
   },
   {
    "duration": 19,
    "start_time": "2021-07-02T11:38:14.761Z"
   },
   {
    "duration": 21,
    "start_time": "2021-07-02T11:38:14.955Z"
   },
   {
    "duration": 99,
    "start_time": "2021-07-02T11:38:16.339Z"
   },
   {
    "duration": 6,
    "start_time": "2021-07-02T11:38:18.415Z"
   },
   {
    "duration": 99,
    "start_time": "2021-07-02T11:38:19.262Z"
   },
   {
    "duration": 131,
    "start_time": "2021-07-02T11:38:21.739Z"
   },
   {
    "duration": 276,
    "start_time": "2021-07-02T11:38:46.946Z"
   },
   {
    "duration": 77,
    "start_time": "2021-07-02T11:57:12.672Z"
   },
   {
    "duration": 1314,
    "start_time": "2021-07-04T15:59:37.248Z"
   },
   {
    "duration": 44,
    "start_time": "2021-07-04T15:59:38.565Z"
   },
   {
    "duration": 31,
    "start_time": "2021-07-04T15:59:38.612Z"
   },
   {
    "duration": 28,
    "start_time": "2021-07-04T15:59:38.889Z"
   },
   {
    "duration": 20,
    "start_time": "2021-07-04T15:59:39.566Z"
   },
   {
    "duration": 23,
    "start_time": "2021-07-04T15:59:40.135Z"
   },
   {
    "duration": 104,
    "start_time": "2021-07-04T15:59:42.238Z"
   },
   {
    "duration": 7,
    "start_time": "2021-07-04T15:59:44.285Z"
   },
   {
    "duration": 101,
    "start_time": "2021-07-04T15:59:45.800Z"
   },
   {
    "duration": 97,
    "start_time": "2021-07-04T16:00:02.028Z"
   },
   {
    "duration": 582,
    "start_time": "2021-07-04T16:00:15.582Z"
   },
   {
    "duration": 360,
    "start_time": "2021-07-04T16:00:27.247Z"
   },
   {
    "duration": 45,
    "start_time": "2021-07-04T16:01:41.817Z"
   },
   {
    "duration": 319,
    "start_time": "2021-07-04T16:02:20.366Z"
   },
   {
    "duration": 49,
    "start_time": "2021-07-04T16:03:18.534Z"
   },
   {
    "duration": 47,
    "start_time": "2021-07-04T16:03:28.103Z"
   },
   {
    "duration": 345,
    "start_time": "2021-07-04T16:03:33.913Z"
   },
   {
    "duration": 342,
    "start_time": "2021-07-04T16:06:25.438Z"
   },
   {
    "duration": 385,
    "start_time": "2021-07-04T16:11:20.805Z"
   },
   {
    "duration": 540,
    "start_time": "2021-07-04T16:11:31.522Z"
   },
   {
    "duration": 40,
    "start_time": "2021-07-04T16:11:32.446Z"
   },
   {
    "duration": 34,
    "start_time": "2021-07-04T16:11:33.074Z"
   },
   {
    "duration": 27,
    "start_time": "2021-07-04T16:11:33.427Z"
   },
   {
    "duration": 19,
    "start_time": "2021-07-04T16:11:33.602Z"
   },
   {
    "duration": 22,
    "start_time": "2021-07-04T16:11:33.873Z"
   },
   {
    "duration": 92,
    "start_time": "2021-07-04T16:11:35.268Z"
   },
   {
    "duration": 7,
    "start_time": "2021-07-04T16:11:36.912Z"
   },
   {
    "duration": 89,
    "start_time": "2021-07-04T16:11:36.923Z"
   },
   {
    "duration": 96,
    "start_time": "2021-07-04T16:11:38.147Z"
   },
   {
    "duration": 304,
    "start_time": "2021-07-04T16:11:41.151Z"
   },
   {
    "duration": 485,
    "start_time": "2021-07-04T16:11:47.344Z"
   },
   {
    "duration": 94,
    "start_time": "2021-07-04T16:12:12.063Z"
   },
   {
    "duration": 42,
    "start_time": "2021-07-04T16:13:08.146Z"
   },
   {
    "duration": 42,
    "start_time": "2021-07-04T16:14:07.662Z"
   },
   {
    "duration": 1051,
    "start_time": "2021-07-04T16:15:04.199Z"
   },
   {
    "duration": 418,
    "start_time": "2021-07-04T16:15:23.219Z"
   },
   {
    "duration": 300,
    "start_time": "2021-07-04T16:15:27.987Z"
   },
   {
    "duration": 301,
    "start_time": "2021-07-04T16:15:30.273Z"
   },
   {
    "duration": 3,
    "start_time": "2021-07-04T16:15:33.560Z"
   },
   {
    "duration": 106,
    "start_time": "2021-07-04T16:54:34.142Z"
   },
   {
    "duration": 1328,
    "start_time": "2021-07-05T07:41:37.332Z"
   },
   {
    "duration": 51,
    "start_time": "2021-07-05T07:41:38.662Z"
   },
   {
    "duration": 35,
    "start_time": "2021-07-05T07:41:38.717Z"
   },
   {
    "duration": 28,
    "start_time": "2021-07-05T07:41:39.658Z"
   },
   {
    "duration": 17,
    "start_time": "2021-07-05T07:41:41.423Z"
   },
   {
    "duration": 22,
    "start_time": "2021-07-05T07:43:12.730Z"
   },
   {
    "duration": 147,
    "start_time": "2021-07-05T07:43:17.481Z"
   },
   {
    "duration": 8,
    "start_time": "2021-07-05T07:43:18.893Z"
   },
   {
    "duration": 125,
    "start_time": "2021-07-05T07:43:19.424Z"
   },
   {
    "duration": 108,
    "start_time": "2021-07-05T07:43:21.391Z"
   },
   {
    "duration": 39,
    "start_time": "2021-07-05T07:43:22.031Z"
   },
   {
    "duration": 10434,
    "start_time": "2021-07-05T07:48:34.303Z"
   },
   {
    "duration": 372,
    "start_time": "2021-07-05T07:50:41.520Z"
   },
   {
    "duration": 403,
    "start_time": "2021-07-05T07:51:24.791Z"
   },
   {
    "duration": 11,
    "start_time": "2021-07-05T07:51:45.182Z"
   },
   {
    "duration": 344,
    "start_time": "2021-07-05T07:52:15.161Z"
   },
   {
    "duration": 7,
    "start_time": "2021-07-05T07:55:10.991Z"
   },
   {
    "duration": 10221,
    "start_time": "2021-07-05T07:55:16.123Z"
   },
   {
    "duration": 20,
    "start_time": "2021-07-05T07:55:29.988Z"
   },
   {
    "duration": 381,
    "start_time": "2021-07-05T07:55:54.983Z"
   },
   {
    "duration": 10908,
    "start_time": "2021-07-05T08:04:09.832Z"
   },
   {
    "duration": 9,
    "start_time": "2021-07-05T08:21:44.155Z"
   },
   {
    "duration": 11,
    "start_time": "2021-07-05T08:22:53.623Z"
   },
   {
    "duration": 22,
    "start_time": "2021-07-05T08:23:36.016Z"
   },
   {
    "duration": 10491,
    "start_time": "2021-07-05T08:24:52.765Z"
   },
   {
    "duration": 10066,
    "start_time": "2021-07-05T08:40:57.968Z"
   },
   {
    "duration": 7,
    "start_time": "2021-07-05T08:41:54.439Z"
   },
   {
    "duration": 20,
    "start_time": "2021-07-05T08:44:35.567Z"
   },
   {
    "duration": 184,
    "start_time": "2021-07-05T08:45:15.746Z"
   },
   {
    "duration": 137,
    "start_time": "2021-07-05T08:45:53.140Z"
   },
   {
    "duration": 156,
    "start_time": "2021-07-05T08:46:43.951Z"
   },
   {
    "duration": 110,
    "start_time": "2021-07-05T08:47:14.350Z"
   },
   {
    "duration": 123,
    "start_time": "2021-07-05T08:50:43.413Z"
   },
   {
    "duration": 12,
    "start_time": "2021-07-05T08:50:59.334Z"
   },
   {
    "duration": 12,
    "start_time": "2021-07-05T08:53:08.188Z"
   },
   {
    "duration": 122,
    "start_time": "2021-07-05T08:54:03.942Z"
   },
   {
    "duration": 382,
    "start_time": "2021-07-05T08:54:23.558Z"
   },
   {
    "duration": 12,
    "start_time": "2021-07-05T08:54:46.698Z"
   },
   {
    "duration": 11,
    "start_time": "2021-07-05T08:55:10.150Z"
   },
   {
    "duration": 357,
    "start_time": "2021-07-05T08:56:35.638Z"
   },
   {
    "duration": 400,
    "start_time": "2021-07-05T08:57:15.321Z"
   },
   {
    "duration": 125,
    "start_time": "2021-07-05T08:57:43.400Z"
   },
   {
    "duration": 402,
    "start_time": "2021-07-05T08:57:51.966Z"
   },
   {
    "duration": 15,
    "start_time": "2021-07-05T09:10:28.283Z"
   },
   {
    "duration": 37,
    "start_time": "2021-07-05T09:12:03.187Z"
   },
   {
    "duration": 191,
    "start_time": "2021-07-05T09:12:47.745Z"
   },
   {
    "duration": 126,
    "start_time": "2021-07-05T09:13:09.869Z"
   },
   {
    "duration": 117,
    "start_time": "2021-07-05T09:13:53.205Z"
   },
   {
    "duration": 136,
    "start_time": "2021-07-05T09:13:59.911Z"
   },
   {
    "duration": 220,
    "start_time": "2021-07-05T09:14:10.983Z"
   },
   {
    "duration": 135,
    "start_time": "2021-07-05T09:14:28.182Z"
   },
   {
    "duration": 130,
    "start_time": "2021-07-05T09:14:40.478Z"
   },
   {
    "duration": 140,
    "start_time": "2021-07-05T09:15:35.419Z"
   },
   {
    "duration": 158,
    "start_time": "2021-07-05T09:15:42.368Z"
   },
   {
    "duration": 115,
    "start_time": "2021-07-05T09:15:53.365Z"
   },
   {
    "duration": 127,
    "start_time": "2021-07-05T09:16:03.504Z"
   },
   {
    "duration": 170,
    "start_time": "2021-07-05T09:16:15.998Z"
   },
   {
    "duration": 557,
    "start_time": "2021-07-05T09:16:32.039Z"
   },
   {
    "duration": 53,
    "start_time": "2021-07-05T09:16:33.249Z"
   },
   {
    "duration": 35,
    "start_time": "2021-07-05T09:16:33.989Z"
   },
   {
    "duration": 28,
    "start_time": "2021-07-05T09:16:35.659Z"
   },
   {
    "duration": 18,
    "start_time": "2021-07-05T09:16:36.869Z"
   },
   {
    "duration": 23,
    "start_time": "2021-07-05T09:16:37.179Z"
   },
   {
    "duration": 157,
    "start_time": "2021-07-05T09:16:40.959Z"
   },
   {
    "duration": 9,
    "start_time": "2021-07-05T09:16:42.748Z"
   },
   {
    "duration": 91,
    "start_time": "2021-07-05T09:16:44.189Z"
   },
   {
    "duration": 92,
    "start_time": "2021-07-05T09:16:46.209Z"
   },
   {
    "duration": 44,
    "start_time": "2021-07-05T09:16:47.349Z"
   },
   {
    "duration": 23,
    "start_time": "2021-07-05T09:16:49.899Z"
   },
   {
    "duration": 119,
    "start_time": "2021-07-05T09:16:57.352Z"
   },
   {
    "duration": 116,
    "start_time": "2021-07-05T09:17:54.288Z"
   },
   {
    "duration": 136,
    "start_time": "2021-07-05T09:22:09.296Z"
   },
   {
    "duration": 133,
    "start_time": "2021-07-05T09:23:44.441Z"
   },
   {
    "duration": 289,
    "start_time": "2021-07-05T10:37:08.228Z"
   },
   {
    "duration": 956,
    "start_time": "2021-07-05T10:39:22.048Z"
   },
   {
    "duration": 35,
    "start_time": "2021-07-05T10:39:23.028Z"
   },
   {
    "duration": 21,
    "start_time": "2021-07-05T10:39:25.008Z"
   },
   {
    "duration": 18,
    "start_time": "2021-07-05T10:39:31.508Z"
   },
   {
    "duration": 11,
    "start_time": "2021-07-05T10:39:32.428Z"
   },
   {
    "duration": 18,
    "start_time": "2021-07-05T10:39:33.956Z"
   },
   {
    "duration": 67,
    "start_time": "2021-07-05T10:39:36.729Z"
   },
   {
    "duration": 5,
    "start_time": "2021-07-05T10:39:38.108Z"
   },
   {
    "duration": 68,
    "start_time": "2021-07-05T10:39:39.448Z"
   },
   {
    "duration": 65,
    "start_time": "2021-07-05T10:39:40.706Z"
   },
   {
    "duration": 24,
    "start_time": "2021-07-05T10:39:41.987Z"
   },
   {
    "duration": 17,
    "start_time": "2021-07-05T10:39:44.140Z"
   },
   {
    "duration": 26,
    "start_time": "2021-07-05T10:40:11.638Z"
   },
   {
    "duration": 92,
    "start_time": "2021-07-05T10:41:14.498Z"
   },
   {
    "duration": 263,
    "start_time": "2021-07-05T10:41:45.790Z"
   },
   {
    "duration": 259,
    "start_time": "2021-07-05T10:42:37.588Z"
   },
   {
    "duration": 293,
    "start_time": "2021-07-05T10:45:24.906Z"
   },
   {
    "duration": 12,
    "start_time": "2021-07-05T10:53:03.858Z"
   },
   {
    "duration": 13,
    "start_time": "2021-07-05T10:53:06.568Z"
   },
   {
    "duration": 21,
    "start_time": "2021-07-05T10:53:10.311Z"
   },
   {
    "duration": 13,
    "start_time": "2021-07-05T10:53:23.946Z"
   },
   {
    "duration": 10,
    "start_time": "2021-07-05T10:53:27.228Z"
   },
   {
    "duration": 15,
    "start_time": "2021-07-05T10:53:31.067Z"
   },
   {
    "duration": 18,
    "start_time": "2021-07-05T10:53:34.680Z"
   },
   {
    "duration": 19,
    "start_time": "2021-07-05T10:53:39.028Z"
   },
   {
    "duration": 7,
    "start_time": "2021-07-05T10:56:01.317Z"
   },
   {
    "duration": 23,
    "start_time": "2021-07-05T10:58:55.048Z"
   },
   {
    "duration": 22,
    "start_time": "2021-07-05T11:00:01.606Z"
   },
   {
    "duration": 259,
    "start_time": "2021-07-05T11:11:43.551Z"
   },
   {
    "duration": 244,
    "start_time": "2021-07-05T11:11:49.316Z"
   },
   {
    "duration": 17,
    "start_time": "2021-07-05T11:11:55.227Z"
   },
   {
    "duration": 537,
    "start_time": "2021-07-05T11:12:44.072Z"
   },
   {
    "duration": 488,
    "start_time": "2021-07-05T11:13:17.162Z"
   },
   {
    "duration": 445,
    "start_time": "2021-07-05T11:21:21.622Z"
   },
   {
    "duration": 325,
    "start_time": "2021-07-05T11:21:54.157Z"
   },
   {
    "duration": 269,
    "start_time": "2021-07-05T11:23:02.614Z"
   },
   {
    "duration": 457,
    "start_time": "2021-07-05T11:23:32.313Z"
   },
   {
    "duration": 87,
    "start_time": "2021-07-05T11:24:20.075Z"
   },
   {
    "duration": 462,
    "start_time": "2021-07-05T11:24:37.836Z"
   },
   {
    "duration": 90,
    "start_time": "2021-07-05T11:28:51.664Z"
   },
   {
    "duration": 382,
    "start_time": "2021-07-05T11:43:04.687Z"
   },
   {
    "duration": 433,
    "start_time": "2021-07-05T11:44:34.872Z"
   },
   {
    "duration": 825,
    "start_time": "2021-07-05T11:45:18.700Z"
   },
   {
    "duration": 558,
    "start_time": "2021-07-05T11:45:30.916Z"
   },
   {
    "duration": 348,
    "start_time": "2021-07-05T11:47:51.990Z"
   },
   {
    "duration": 26,
    "start_time": "2021-07-05T11:47:53.307Z"
   },
   {
    "duration": 21,
    "start_time": "2021-07-05T11:47:54.092Z"
   },
   {
    "duration": 16,
    "start_time": "2021-07-05T11:47:54.632Z"
   },
   {
    "duration": 10,
    "start_time": "2021-07-05T11:47:54.900Z"
   },
   {
    "duration": 12,
    "start_time": "2021-07-05T11:47:55.022Z"
   },
   {
    "duration": 64,
    "start_time": "2021-07-05T11:47:57.932Z"
   },
   {
    "duration": 5,
    "start_time": "2021-07-05T11:47:58.772Z"
   },
   {
    "duration": 58,
    "start_time": "2021-07-05T11:47:59.423Z"
   },
   {
    "duration": 59,
    "start_time": "2021-07-05T11:48:00.908Z"
   },
   {
    "duration": 23,
    "start_time": "2021-07-05T11:48:01.391Z"
   },
   {
    "duration": 13,
    "start_time": "2021-07-05T11:48:03.255Z"
   },
   {
    "duration": 18,
    "start_time": "2021-07-05T11:48:07.572Z"
   },
   {
    "duration": 22,
    "start_time": "2021-07-05T11:48:11.521Z"
   },
   {
    "duration": 19,
    "start_time": "2021-07-05T11:48:14.151Z"
   },
   {
    "duration": 478,
    "start_time": "2021-07-05T12:00:38.793Z"
   },
   {
    "duration": 364,
    "start_time": "2021-07-05T12:01:06.519Z"
   },
   {
    "duration": 26,
    "start_time": "2021-07-05T12:01:07.551Z"
   },
   {
    "duration": 22,
    "start_time": "2021-07-05T12:01:07.999Z"
   },
   {
    "duration": 19,
    "start_time": "2021-07-05T12:01:08.571Z"
   },
   {
    "duration": 11,
    "start_time": "2021-07-05T12:01:08.991Z"
   },
   {
    "duration": 16,
    "start_time": "2021-07-05T12:01:09.259Z"
   },
   {
    "duration": 88,
    "start_time": "2021-07-05T12:01:10.792Z"
   },
   {
    "duration": 6,
    "start_time": "2021-07-05T12:01:12.507Z"
   },
   {
    "duration": 73,
    "start_time": "2021-07-05T12:01:13.940Z"
   },
   {
    "duration": 80,
    "start_time": "2021-07-05T12:01:14.836Z"
   },
   {
    "duration": 31,
    "start_time": "2021-07-05T12:01:16.713Z"
   },
   {
    "duration": 18,
    "start_time": "2021-07-05T12:01:18.320Z"
   },
   {
    "duration": 451,
    "start_time": "2021-07-05T12:01:20.700Z"
   },
   {
    "duration": 496,
    "start_time": "2021-07-05T12:02:06.661Z"
   },
   {
    "duration": 424,
    "start_time": "2021-07-05T12:02:37.548Z"
   },
   {
    "duration": 422,
    "start_time": "2021-07-05T12:02:49.680Z"
   },
   {
    "duration": 502,
    "start_time": "2021-07-05T12:04:09.075Z"
   },
   {
    "duration": 421,
    "start_time": "2021-07-05T12:04:26.952Z"
   },
   {
    "duration": 88,
    "start_time": "2021-07-05T12:41:12.260Z"
   },
   {
    "duration": 5,
    "start_time": "2021-07-05T12:41:22.710Z"
   },
   {
    "duration": 370,
    "start_time": "2021-07-05T12:56:17.105Z"
   },
   {
    "duration": 26,
    "start_time": "2021-07-05T12:56:18.274Z"
   },
   {
    "duration": 22,
    "start_time": "2021-07-05T12:56:18.980Z"
   },
   {
    "duration": 18,
    "start_time": "2021-07-05T12:56:19.420Z"
   },
   {
    "duration": 12,
    "start_time": "2021-07-05T12:56:19.639Z"
   },
   {
    "duration": 13,
    "start_time": "2021-07-05T12:56:19.844Z"
   },
   {
    "duration": 58,
    "start_time": "2021-07-05T12:56:20.678Z"
   },
   {
    "duration": 6,
    "start_time": "2021-07-05T12:56:21.214Z"
   },
   {
    "duration": 60,
    "start_time": "2021-07-05T12:56:21.681Z"
   },
   {
    "duration": 54,
    "start_time": "2021-07-05T12:56:22.308Z"
   },
   {
    "duration": 23,
    "start_time": "2021-07-05T12:56:23.019Z"
   },
   {
    "duration": 15,
    "start_time": "2021-07-05T12:56:23.768Z"
   },
   {
    "duration": 498,
    "start_time": "2021-07-05T12:57:00.756Z"
   },
   {
    "duration": 90,
    "start_time": "2021-07-05T12:58:39.373Z"
   },
   {
    "duration": 92,
    "start_time": "2021-07-05T12:58:45.824Z"
   },
   {
    "duration": 6705,
    "start_time": "2021-07-05T13:10:51.542Z"
   },
   {
    "duration": 84,
    "start_time": "2021-07-05T13:15:22.876Z"
   },
   {
    "duration": 123,
    "start_time": "2021-07-05T13:15:31.598Z"
   },
   {
    "duration": 85,
    "start_time": "2021-07-05T13:16:04.261Z"
   },
   {
    "duration": 98,
    "start_time": "2021-07-05T13:16:13.477Z"
   },
   {
    "duration": 6,
    "start_time": "2021-07-05T13:18:02.315Z"
   },
   {
    "duration": 85,
    "start_time": "2021-07-05T13:18:19.839Z"
   },
   {
    "duration": 6,
    "start_time": "2021-07-05T13:18:25.608Z"
   },
   {
    "duration": 5,
    "start_time": "2021-07-05T13:19:30.115Z"
   },
   {
    "duration": 5,
    "start_time": "2021-07-05T13:19:36.899Z"
   },
   {
    "duration": 78,
    "start_time": "2021-07-05T13:31:33.345Z"
   },
   {
    "duration": 359,
    "start_time": "2021-07-05T13:32:02.974Z"
   },
   {
    "duration": 24,
    "start_time": "2021-07-05T13:32:03.983Z"
   },
   {
    "duration": 22,
    "start_time": "2021-07-05T13:32:04.493Z"
   },
   {
    "duration": 17,
    "start_time": "2021-07-05T13:32:04.911Z"
   },
   {
    "duration": 12,
    "start_time": "2021-07-05T13:32:05.082Z"
   },
   {
    "duration": 13,
    "start_time": "2021-07-05T13:32:05.281Z"
   },
   {
    "duration": 55,
    "start_time": "2021-07-05T13:32:06.404Z"
   },
   {
    "duration": 5,
    "start_time": "2021-07-05T13:32:08.133Z"
   },
   {
    "duration": 57,
    "start_time": "2021-07-05T13:32:08.474Z"
   },
   {
    "duration": 56,
    "start_time": "2021-07-05T13:32:09.695Z"
   },
   {
    "duration": 23,
    "start_time": "2021-07-05T13:32:10.264Z"
   },
   {
    "duration": 14,
    "start_time": "2021-07-05T13:32:11.693Z"
   },
   {
    "duration": 17,
    "start_time": "2021-07-05T13:32:16.362Z"
   },
   {
    "duration": 17,
    "start_time": "2021-07-05T13:32:17.565Z"
   },
   {
    "duration": 17,
    "start_time": "2021-07-05T13:32:18.663Z"
   },
   {
    "duration": 81,
    "start_time": "2021-07-05T13:32:24.655Z"
   },
   {
    "duration": 4,
    "start_time": "2021-07-05T13:34:30.622Z"
   },
   {
    "duration": 91,
    "start_time": "2021-07-05T13:34:42.506Z"
   },
   {
    "duration": 103,
    "start_time": "2021-07-05T13:38:04.930Z"
   },
   {
    "duration": 88,
    "start_time": "2021-07-05T13:43:17.640Z"
   },
   {
    "duration": 82,
    "start_time": "2021-07-05T13:43:50.488Z"
   },
   {
    "duration": 243,
    "start_time": "2021-07-05T13:43:55.944Z"
   },
   {
    "duration": 101,
    "start_time": "2021-07-05T13:44:31.170Z"
   },
   {
    "duration": 479,
    "start_time": "2021-07-05T13:44:43.069Z"
   },
   {
    "duration": 490,
    "start_time": "2021-07-05T13:45:06.679Z"
   },
   {
    "duration": 5,
    "start_time": "2021-07-05T13:52:32.402Z"
   },
   {
    "duration": 80,
    "start_time": "2021-07-05T13:52:33.614Z"
   },
   {
    "duration": 5,
    "start_time": "2021-07-05T13:52:42.263Z"
   },
   {
    "duration": 574,
    "start_time": "2021-07-05T13:52:44.004Z"
   },
   {
    "duration": 487,
    "start_time": "2021-07-05T13:52:45.645Z"
   },
   {
    "duration": 464,
    "start_time": "2021-07-05T18:48:50.795Z"
   },
   {
    "duration": 1547,
    "start_time": "2021-07-05T18:48:55.546Z"
   },
   {
    "duration": 165,
    "start_time": "2021-07-05T18:48:59.617Z"
   },
   {
    "duration": 7,
    "start_time": "2021-07-05T18:49:00.269Z"
   },
   {
    "duration": 102,
    "start_time": "2021-07-05T18:49:00.872Z"
   },
   {
    "duration": 101,
    "start_time": "2021-07-05T18:49:02.432Z"
   },
   {
    "duration": 46,
    "start_time": "2021-07-05T18:49:02.963Z"
   },
   {
    "duration": 23,
    "start_time": "2021-07-05T18:49:04.477Z"
   },
   {
    "duration": 630,
    "start_time": "2021-07-05T18:49:05.963Z"
   },
   {
    "duration": 997,
    "start_time": "2021-07-06T05:56:01.611Z"
   },
   {
    "duration": 26,
    "start_time": "2021-07-06T05:56:02.609Z"
   },
   {
    "duration": 20,
    "start_time": "2021-07-06T05:56:03.327Z"
   },
   {
    "duration": 16,
    "start_time": "2021-07-06T05:56:03.794Z"
   },
   {
    "duration": 9,
    "start_time": "2021-07-06T05:56:03.996Z"
   },
   {
    "duration": 11,
    "start_time": "2021-07-06T05:56:04.156Z"
   },
   {
    "duration": 61,
    "start_time": "2021-07-06T05:56:05.639Z"
   },
   {
    "duration": 5,
    "start_time": "2021-07-06T05:56:06.338Z"
   },
   {
    "duration": 63,
    "start_time": "2021-07-06T05:56:06.862Z"
   },
   {
    "duration": 58,
    "start_time": "2021-07-06T05:56:07.594Z"
   },
   {
    "duration": 21,
    "start_time": "2021-07-06T05:56:09.272Z"
   },
   {
    "duration": 13,
    "start_time": "2021-07-06T05:56:11.472Z"
   },
   {
    "duration": 538,
    "start_time": "2021-07-06T05:56:18.806Z"
   },
   {
    "duration": 422,
    "start_time": "2021-07-06T05:57:37.974Z"
   },
   {
    "duration": 88,
    "start_time": "2021-07-06T07:07:59.908Z"
   },
   {
    "duration": 369,
    "start_time": "2021-07-06T07:13:43.443Z"
   },
   {
    "duration": 22,
    "start_time": "2021-07-06T07:13:44.733Z"
   },
   {
    "duration": 21,
    "start_time": "2021-07-06T07:13:45.395Z"
   },
   {
    "duration": 17,
    "start_time": "2021-07-06T07:13:45.616Z"
   },
   {
    "duration": 10,
    "start_time": "2021-07-06T07:13:45.800Z"
   },
   {
    "duration": 11,
    "start_time": "2021-07-06T07:13:46.129Z"
   },
   {
    "duration": 55,
    "start_time": "2021-07-06T07:13:47.247Z"
   },
   {
    "duration": 4,
    "start_time": "2021-07-06T07:13:49.201Z"
   },
   {
    "duration": 65,
    "start_time": "2021-07-06T07:13:49.654Z"
   },
   {
    "duration": 50,
    "start_time": "2021-07-06T07:13:51.040Z"
   },
   {
    "duration": 21,
    "start_time": "2021-07-06T07:13:51.539Z"
   },
   {
    "duration": 14,
    "start_time": "2021-07-06T07:13:53.351Z"
   },
   {
    "duration": 119,
    "start_time": "2021-07-06T07:13:55.110Z"
   },
   {
    "duration": 81,
    "start_time": "2021-07-06T07:25:42.555Z"
   },
   {
    "duration": 87,
    "start_time": "2021-07-06T07:25:49.527Z"
   },
   {
    "duration": 131,
    "start_time": "2021-07-06T07:25:55.362Z"
   },
   {
    "duration": 110,
    "start_time": "2021-07-06T07:25:58.434Z"
   },
   {
    "duration": 115,
    "start_time": "2021-07-06T07:26:00.605Z"
   },
   {
    "duration": 81,
    "start_time": "2021-07-06T07:27:58.593Z"
   },
   {
    "duration": 88,
    "start_time": "2021-07-06T07:28:18.272Z"
   },
   {
    "duration": 90,
    "start_time": "2021-07-06T07:28:20.661Z"
   },
   {
    "duration": 101,
    "start_time": "2021-07-06T07:35:56.392Z"
   },
   {
    "duration": 85,
    "start_time": "2021-07-06T07:36:01.072Z"
   },
   {
    "duration": 1418,
    "start_time": "2021-07-06T10:11:46.419Z"
   },
   {
    "duration": 40,
    "start_time": "2021-07-06T10:11:47.839Z"
   },
   {
    "duration": 31,
    "start_time": "2021-07-06T10:11:48.630Z"
   },
   {
    "duration": 26,
    "start_time": "2021-07-06T10:11:49.211Z"
   },
   {
    "duration": 18,
    "start_time": "2021-07-06T10:11:49.424Z"
   },
   {
    "duration": 20,
    "start_time": "2021-07-06T10:11:49.612Z"
   },
   {
    "duration": 97,
    "start_time": "2021-07-06T10:11:53.333Z"
   },
   {
    "duration": 6,
    "start_time": "2021-07-06T10:11:55.085Z"
   },
   {
    "duration": 96,
    "start_time": "2021-07-06T10:11:56.046Z"
   },
   {
    "duration": 91,
    "start_time": "2021-07-06T10:11:57.718Z"
   },
   {
    "duration": 37,
    "start_time": "2021-07-06T10:11:59.161Z"
   },
   {
    "duration": 21,
    "start_time": "2021-07-06T10:12:01.311Z"
   },
   {
    "duration": 10099,
    "start_time": "2021-07-06T10:13:05.333Z"
   },
   {
    "duration": 45,
    "start_time": "2021-07-06T10:14:24.159Z"
   },
   {
    "duration": 23,
    "start_time": "2021-07-06T10:14:37.064Z"
   },
   {
    "duration": 32,
    "start_time": "2021-07-06T10:17:46.428Z"
   },
   {
    "duration": 25,
    "start_time": "2021-07-06T10:18:05.014Z"
   },
   {
    "duration": 8470,
    "start_time": "2021-07-06T10:18:15.399Z"
   },
   {
    "duration": 326,
    "start_time": "2021-07-06T10:18:31.004Z"
   },
   {
    "duration": 7809,
    "start_time": "2021-07-06T10:20:33.193Z"
   },
   {
    "duration": 455,
    "start_time": "2021-07-06T10:21:01.223Z"
   },
   {
    "duration": 493,
    "start_time": "2021-07-06T10:22:38.328Z"
   },
   {
    "duration": 32,
    "start_time": "2021-07-06T10:23:36.996Z"
   },
   {
    "duration": 32,
    "start_time": "2021-07-06T10:23:38.716Z"
   },
   {
    "duration": 30,
    "start_time": "2021-07-06T10:23:39.557Z"
   },
   {
    "duration": 287,
    "start_time": "2021-07-06T10:38:42.306Z"
   },
   {
    "duration": 345,
    "start_time": "2021-07-06T10:39:15.898Z"
   },
   {
    "duration": 292,
    "start_time": "2021-07-06T10:44:40.609Z"
   },
   {
    "duration": 262,
    "start_time": "2021-07-06T10:45:32.382Z"
   },
   {
    "duration": 280,
    "start_time": "2021-07-06T10:45:40.069Z"
   },
   {
    "duration": 3126,
    "start_time": "2021-07-06T10:45:49.995Z"
   },
   {
    "duration": 276,
    "start_time": "2021-07-06T10:45:56.567Z"
   },
   {
    "duration": 281,
    "start_time": "2021-07-06T10:46:59.483Z"
   },
   {
    "duration": 416,
    "start_time": "2021-07-06T10:47:42.994Z"
   },
   {
    "duration": 255,
    "start_time": "2021-07-06T10:47:47.962Z"
   },
   {
    "duration": 28,
    "start_time": "2021-07-06T10:49:00.248Z"
   },
   {
    "duration": 271,
    "start_time": "2021-07-06T10:49:16.371Z"
   },
   {
    "duration": 14,
    "start_time": "2021-07-06T10:49:34.077Z"
   },
   {
    "duration": 37,
    "start_time": "2021-07-06T10:52:02.293Z"
   },
   {
    "duration": 39,
    "start_time": "2021-07-06T10:52:19.083Z"
   },
   {
    "duration": 22,
    "start_time": "2021-07-06T10:52:22.982Z"
   },
   {
    "duration": 23,
    "start_time": "2021-07-06T10:52:26.053Z"
   },
   {
    "duration": 469,
    "start_time": "2021-07-06T10:52:27.967Z"
   },
   {
    "duration": 29,
    "start_time": "2021-07-06T10:52:31.532Z"
   },
   {
    "duration": 30,
    "start_time": "2021-07-06T10:52:32.468Z"
   },
   {
    "duration": 31,
    "start_time": "2021-07-06T10:52:33.067Z"
   },
   {
    "duration": 7,
    "start_time": "2021-07-06T10:52:34.964Z"
   },
   {
    "duration": 880,
    "start_time": "2021-07-06T10:52:36.977Z"
   },
   {
    "duration": 969,
    "start_time": "2021-07-06T10:52:39.377Z"
   },
   {
    "duration": 18,
    "start_time": "2021-07-06T10:52:44.959Z"
   },
   {
    "duration": 976,
    "start_time": "2021-07-06T10:57:16.770Z"
   },
   {
    "duration": 35,
    "start_time": "2021-07-06T10:57:17.748Z"
   },
   {
    "duration": 31,
    "start_time": "2021-07-06T10:57:18.115Z"
   },
   {
    "duration": 26,
    "start_time": "2021-07-06T10:57:18.729Z"
   },
   {
    "duration": 19,
    "start_time": "2021-07-06T10:57:18.929Z"
   },
   {
    "duration": 20,
    "start_time": "2021-07-06T10:57:19.093Z"
   },
   {
    "duration": 93,
    "start_time": "2021-07-06T10:57:19.882Z"
   },
   {
    "duration": 7,
    "start_time": "2021-07-06T10:57:20.450Z"
   },
   {
    "duration": 85,
    "start_time": "2021-07-06T10:57:21.855Z"
   },
   {
    "duration": 79,
    "start_time": "2021-07-06T10:57:22.160Z"
   },
   {
    "duration": 40,
    "start_time": "2021-07-06T10:57:22.808Z"
   },
   {
    "duration": 24,
    "start_time": "2021-07-06T10:57:24.342Z"
   },
   {
    "duration": 24,
    "start_time": "2021-07-06T10:57:24.631Z"
   },
   {
    "duration": 456,
    "start_time": "2021-07-06T10:57:26.069Z"
   },
   {
    "duration": 401,
    "start_time": "2021-07-06T11:00:53.166Z"
   },
   {
    "duration": 297,
    "start_time": "2021-07-06T11:02:33.325Z"
   },
   {
    "duration": 300,
    "start_time": "2021-07-06T11:04:25.066Z"
   },
   {
    "duration": 16,
    "start_time": "2021-07-06T11:08:53.950Z"
   },
   {
    "duration": 19,
    "start_time": "2021-07-06T11:09:31.985Z"
   },
   {
    "duration": 17,
    "start_time": "2021-07-06T11:14:40.996Z"
   },
   {
    "duration": 16,
    "start_time": "2021-07-06T11:15:55.207Z"
   },
   {
    "duration": 17,
    "start_time": "2021-07-06T11:15:57.976Z"
   },
   {
    "duration": 17,
    "start_time": "2021-07-06T11:16:20.026Z"
   },
   {
    "duration": 95,
    "start_time": "2021-07-06T11:27:32.765Z"
   },
   {
    "duration": 1511,
    "start_time": "2021-07-06T13:26:44.755Z"
   },
   {
    "duration": 26,
    "start_time": "2021-07-06T13:26:46.268Z"
   },
   {
    "duration": 20,
    "start_time": "2021-07-06T13:26:46.295Z"
   },
   {
    "duration": 15,
    "start_time": "2021-07-06T13:26:46.317Z"
   },
   {
    "duration": 9,
    "start_time": "2021-07-06T13:26:46.334Z"
   },
   {
    "duration": 20,
    "start_time": "2021-07-06T13:26:46.344Z"
   },
   {
    "duration": 65,
    "start_time": "2021-07-06T13:26:46.366Z"
   },
   {
    "duration": 5,
    "start_time": "2021-07-06T13:26:46.434Z"
   },
   {
    "duration": 66,
    "start_time": "2021-07-06T13:26:46.441Z"
   },
   {
    "duration": 48,
    "start_time": "2021-07-06T13:26:46.509Z"
   },
   {
    "duration": 20,
    "start_time": "2021-07-06T13:26:46.559Z"
   },
   {
    "duration": 12,
    "start_time": "2021-07-06T13:26:46.581Z"
   },
   {
    "duration": 16,
    "start_time": "2021-07-06T13:26:46.594Z"
   },
   {
    "duration": 265,
    "start_time": "2021-07-06T13:26:46.611Z"
   },
   {
    "duration": 17,
    "start_time": "2021-07-06T13:26:46.878Z"
   },
   {
    "duration": 16,
    "start_time": "2021-07-06T13:26:46.897Z"
   },
   {
    "duration": 33,
    "start_time": "2021-07-06T13:26:46.914Z"
   },
   {
    "duration": 5,
    "start_time": "2021-07-06T13:26:46.948Z"
   },
   {
    "duration": 541,
    "start_time": "2021-07-06T13:26:46.955Z"
   },
   {
    "duration": 477,
    "start_time": "2021-07-06T13:26:47.497Z"
   },
   {
    "duration": 10,
    "start_time": "2021-07-06T13:26:47.976Z"
   },
   {
    "duration": 15,
    "start_time": "2021-07-06T13:26:47.987Z"
   },
   {
    "duration": 12,
    "start_time": "2021-07-06T13:26:48.005Z"
   },
   {
    "duration": 10,
    "start_time": "2021-07-06T13:30:20.372Z"
   },
   {
    "duration": 12,
    "start_time": "2021-07-06T13:30:48.805Z"
   },
   {
    "duration": 15,
    "start_time": "2021-07-06T13:31:15.149Z"
   },
   {
    "duration": 4,
    "start_time": "2021-07-06T13:32:40.833Z"
   },
   {
    "duration": 317,
    "start_time": "2021-07-06T13:35:56.270Z"
   },
   {
    "duration": 15,
    "start_time": "2021-07-06T13:36:08.862Z"
   },
   {
    "duration": 35,
    "start_time": "2021-07-06T13:36:26.145Z"
   },
   {
    "duration": 438,
    "start_time": "2021-07-06T13:38:18.861Z"
   },
   {
    "duration": 53,
    "start_time": "2021-07-06T13:38:32.341Z"
   },
   {
    "duration": 251,
    "start_time": "2021-07-06T13:40:44.410Z"
   },
   {
    "duration": 327,
    "start_time": "2021-07-06T13:40:54.184Z"
   },
   {
    "duration": 11,
    "start_time": "2021-07-06T13:44:55.242Z"
   },
   {
    "duration": 10,
    "start_time": "2021-07-06T13:45:43.998Z"
   },
   {
    "duration": 7,
    "start_time": "2021-07-06T13:46:27.259Z"
   },
   {
    "duration": 11,
    "start_time": "2021-07-06T13:47:37.983Z"
   },
   {
    "duration": 4,
    "start_time": "2021-07-06T13:49:05.493Z"
   },
   {
    "duration": 4,
    "start_time": "2021-07-06T13:49:14.093Z"
   },
   {
    "duration": 492,
    "start_time": "2021-07-06T14:06:32.104Z"
   },
   {
    "duration": 1872,
    "start_time": "2021-07-06T14:06:36.734Z"
   },
   {
    "duration": 43,
    "start_time": "2021-07-06T14:06:38.608Z"
   },
   {
    "duration": 1088,
    "start_time": "2021-07-06T14:06:43.169Z"
   },
   {
    "duration": 397,
    "start_time": "2021-07-06T14:06:52.699Z"
   },
   {
    "duration": 370,
    "start_time": "2021-07-06T14:06:57.351Z"
   },
   {
    "duration": 412,
    "start_time": "2021-07-06T14:07:13.744Z"
   },
   {
    "duration": 55,
    "start_time": "2021-07-06T14:09:04.027Z"
   },
   {
    "duration": 48,
    "start_time": "2021-07-06T14:09:35.041Z"
   },
   {
    "duration": 100,
    "start_time": "2021-07-06T14:20:19.029Z"
   },
   {
    "duration": 7,
    "start_time": "2021-07-06T14:20:20.249Z"
   },
   {
    "duration": 88,
    "start_time": "2021-07-06T14:20:29.794Z"
   },
   {
    "duration": 463,
    "start_time": "2021-07-06T14:21:16.776Z"
   },
   {
    "duration": 88,
    "start_time": "2021-07-06T14:21:37.015Z"
   },
   {
    "duration": 1422,
    "start_time": "2021-07-06T14:21:46.775Z"
   },
   {
    "duration": 37,
    "start_time": "2021-07-06T14:22:04.998Z"
   },
   {
    "duration": 44,
    "start_time": "2021-07-06T14:24:35.343Z"
   },
   {
    "duration": 41,
    "start_time": "2021-07-06T14:26:27.682Z"
   },
   {
    "duration": 24,
    "start_time": "2021-07-06T14:26:59.589Z"
   },
   {
    "duration": 376,
    "start_time": "2021-07-06T14:29:43.185Z"
   },
   {
    "duration": 26,
    "start_time": "2021-07-06T14:29:53.653Z"
   },
   {
    "duration": 478,
    "start_time": "2021-07-06T14:30:01.067Z"
   },
   {
    "duration": 26,
    "start_time": "2021-07-06T14:39:59.774Z"
   },
   {
    "duration": 466,
    "start_time": "2021-07-06T14:40:04.724Z"
   },
   {
    "duration": 32,
    "start_time": "2021-07-06T14:40:15.170Z"
   },
   {
    "duration": 30,
    "start_time": "2021-07-06T14:40:17.304Z"
   },
   {
    "duration": 30,
    "start_time": "2021-07-06T14:40:19.144Z"
   },
   {
    "duration": 8,
    "start_time": "2021-07-06T14:41:02.163Z"
   },
   {
    "duration": 880,
    "start_time": "2021-07-06T14:41:04.276Z"
   },
   {
    "duration": 934,
    "start_time": "2021-07-06T14:41:07.281Z"
   },
   {
    "duration": 616,
    "start_time": "2021-07-06T14:41:13.631Z"
   },
   {
    "duration": 17,
    "start_time": "2021-07-06T14:41:18.701Z"
   },
   {
    "duration": 17,
    "start_time": "2021-07-06T14:41:24.525Z"
   },
   {
    "duration": 17,
    "start_time": "2021-07-06T14:41:31.942Z"
   },
   {
    "duration": 217,
    "start_time": "2021-07-07T06:56:14.935Z"
   },
   {
    "duration": 1397,
    "start_time": "2021-07-07T06:56:25.049Z"
   },
   {
    "duration": 40,
    "start_time": "2021-07-07T06:56:26.448Z"
   },
   {
    "duration": 37,
    "start_time": "2021-07-07T06:56:26.489Z"
   },
   {
    "duration": 18,
    "start_time": "2021-07-07T06:56:26.527Z"
   },
   {
    "duration": 10,
    "start_time": "2021-07-07T06:56:26.547Z"
   },
   {
    "duration": 12,
    "start_time": "2021-07-07T06:56:26.585Z"
   },
   {
    "duration": 68,
    "start_time": "2021-07-07T06:56:26.599Z"
   },
   {
    "duration": 17,
    "start_time": "2021-07-07T06:56:26.669Z"
   },
   {
    "duration": 62,
    "start_time": "2021-07-07T06:56:26.688Z"
   },
   {
    "duration": 4,
    "start_time": "2021-07-07T06:56:26.751Z"
   },
   {
    "duration": 80,
    "start_time": "2021-07-07T06:56:26.757Z"
   },
   {
    "duration": 26,
    "start_time": "2021-07-07T06:56:26.839Z"
   },
   {
    "duration": 26,
    "start_time": "2021-07-07T06:56:26.866Z"
   },
   {
    "duration": 14,
    "start_time": "2021-07-07T06:56:26.893Z"
   },
   {
    "duration": 5,
    "start_time": "2021-07-07T06:56:26.909Z"
   },
   {
    "duration": 8,
    "start_time": "2021-07-07T06:56:26.916Z"
   },
   {
    "duration": 294,
    "start_time": "2021-07-07T06:56:26.926Z"
   },
   {
    "duration": 18,
    "start_time": "2021-07-07T06:56:27.222Z"
   },
   {
    "duration": 18,
    "start_time": "2021-07-07T06:56:27.242Z"
   },
   {
    "duration": 38,
    "start_time": "2021-07-07T06:56:27.262Z"
   },
   {
    "duration": 30,
    "start_time": "2021-07-07T06:56:27.302Z"
   },
   {
    "duration": 75,
    "start_time": "2021-07-07T06:56:27.334Z"
   },
   {
    "duration": 5,
    "start_time": "2021-07-07T06:56:27.412Z"
   },
   {
    "duration": 543,
    "start_time": "2021-07-07T06:56:27.418Z"
   },
   {
    "duration": 554,
    "start_time": "2021-07-07T06:56:27.963Z"
   },
   {
    "duration": 368,
    "start_time": "2021-07-07T06:56:28.518Z"
   },
   {
    "duration": 11,
    "start_time": "2021-07-07T06:56:28.888Z"
   },
   {
    "duration": 12,
    "start_time": "2021-07-07T06:56:28.900Z"
   },
   {
    "duration": 10,
    "start_time": "2021-07-07T06:56:28.914Z"
   }
  ],
  "kernelspec": {
   "display_name": "Python 3",
   "language": "python",
   "name": "python3"
  },
  "language_info": {
   "codemirror_mode": {
    "name": "ipython",
    "version": 3
   },
   "file_extension": ".py",
   "mimetype": "text/x-python",
   "name": "python",
   "nbconvert_exporter": "python",
   "pygments_lexer": "ipython3",
   "version": "3.7.12"
  },
  "toc": {
   "base_numbering": 1,
   "nav_menu": {},
   "number_sections": true,
   "sideBar": true,
   "skip_h1_title": true,
   "title_cell": "Table of Contents",
   "title_sidebar": "Contents",
   "toc_cell": false,
   "toc_position": {
    "height": "calc(100% - 180px)",
    "left": "10px",
    "top": "150px",
    "width": "180px"
   },
   "toc_section_display": true,
   "toc_window_display": true
  }
 },
 "nbformat": 4,
 "nbformat_minor": 2
}
