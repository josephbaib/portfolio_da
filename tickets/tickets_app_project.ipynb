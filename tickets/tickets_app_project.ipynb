{
 "cells": [
  {
   "cell_type": "markdown",
   "metadata": {},
   "source": [
    "# Анализ данных Яндекс.Афиши"
   ]
  },
  {
   "cell_type": "markdown",
   "metadata": {},
   "source": [
    "**Цель исследования:**\n",
    "- Сделать выводы по оптимизации расходов - определить наиболее эффективные/неэффективные\n",
    "\n",
    "**Входные данные от сервиса Яндекс.Афиша:**\n",
    "- Лог сервера с данными о посещениях сайта Яндекс.Афиши, выгрузка всех заказов за период с июня 2017 по май 2018, статистика рекламных расходов."
   ]
  },
  {
   "cell_type": "markdown",
   "metadata": {},
   "source": [
    "## 1. Обзор данных"
   ]
  },
  {
   "cell_type": "code",
   "execution_count": 40,
   "metadata": {},
   "outputs": [],
   "source": [
    "import pandas as pd\n",
    "import seaborn as sns\n",
    "import sys\n",
    "import warnings\n",
    "if not sys.warnoptions:\n",
    "       warnings.simplefilter(\"ignore\")\n",
    "import matplotlib.pyplot as plt\n",
    "import numpy as np\n",
    "from matplotlib import pyplot as plt"
   ]
  },
  {
   "cell_type": "code",
   "execution_count": 28,
   "metadata": {},
   "outputs": [],
   "source": [
    "pd.set_option('max_colwidth', 400)\n",
    "sns.set(rc={'figure.figsize':(16, 7)})"
   ]
  },
  {
   "cell_type": "code",
   "execution_count": 4,
   "metadata": {},
   "outputs": [],
   "source": [
    "visits = pd.read_csv('/Users/yusuf/Desktop/Programming/Projects/Data/visits_log.csv')\n",
    "orders = pd.read_csv('/Users/yusuf/Desktop/Programming/Projects/Data/orders_log.csv')\n",
    "costs = pd.read_csv('/Users/yusuf/Desktop/Programming/Projects/Data/costs.csv')"
   ]
  },
  {
   "cell_type": "markdown",
   "metadata": {},
   "source": [
    "### 1.1 Посещения сайта"
   ]
  },
  {
   "cell_type": "code",
   "execution_count": 5,
   "metadata": {},
   "outputs": [
    {
     "name": "stdout",
     "output_type": "stream",
     "text": [
      "<class 'pandas.core.frame.DataFrame'>\n",
      "RangeIndex: 359400 entries, 0 to 359399\n",
      "Data columns (total 5 columns):\n",
      " #   Column     Non-Null Count   Dtype \n",
      "---  ------     --------------   ----- \n",
      " 0   Device     359400 non-null  object\n",
      " 1   End Ts     359400 non-null  object\n",
      " 2   Source Id  359400 non-null  int64 \n",
      " 3   Start Ts   359400 non-null  object\n",
      " 4   Uid        359400 non-null  uint64\n",
      "dtypes: int64(1), object(3), uint64(1)\n",
      "memory usage: 13.7+ MB\n"
     ]
    }
   ],
   "source": [
    "visits.info()"
   ]
  },
  {
   "cell_type": "code",
   "execution_count": 8,
   "metadata": {},
   "outputs": [
    {
     "data": {
      "text/plain": [
       "0"
      ]
     },
     "execution_count": 8,
     "metadata": {},
     "output_type": "execute_result"
    }
   ],
   "source": [
    "visits.duplicated().sum()"
   ]
  },
  {
   "cell_type": "code",
   "execution_count": 15,
   "metadata": {},
   "outputs": [
    {
     "data": {
      "text/html": [
       "<div>\n",
       "<style scoped>\n",
       "    .dataframe tbody tr th:only-of-type {\n",
       "        vertical-align: middle;\n",
       "    }\n",
       "\n",
       "    .dataframe tbody tr th {\n",
       "        vertical-align: top;\n",
       "    }\n",
       "\n",
       "    .dataframe thead th {\n",
       "        text-align: right;\n",
       "    }\n",
       "</style>\n",
       "<table border=\"1\" class=\"dataframe\">\n",
       "  <thead>\n",
       "    <tr style=\"text-align: right;\">\n",
       "      <th></th>\n",
       "      <th>Device</th>\n",
       "      <th>End Ts</th>\n",
       "      <th>Source Id</th>\n",
       "      <th>Start Ts</th>\n",
       "      <th>Uid</th>\n",
       "    </tr>\n",
       "  </thead>\n",
       "  <tbody>\n",
       "    <tr>\n",
       "      <th>0</th>\n",
       "      <td>touch</td>\n",
       "      <td>2017-12-20 17:38:00</td>\n",
       "      <td>4</td>\n",
       "      <td>2017-12-20 17:20:00</td>\n",
       "      <td>16879256277535980062</td>\n",
       "    </tr>\n",
       "    <tr>\n",
       "      <th>1</th>\n",
       "      <td>desktop</td>\n",
       "      <td>2018-02-19 17:21:00</td>\n",
       "      <td>2</td>\n",
       "      <td>2018-02-19 16:53:00</td>\n",
       "      <td>104060357244891740</td>\n",
       "    </tr>\n",
       "    <tr>\n",
       "      <th>2</th>\n",
       "      <td>touch</td>\n",
       "      <td>2017-07-01 01:54:00</td>\n",
       "      <td>5</td>\n",
       "      <td>2017-07-01 01:54:00</td>\n",
       "      <td>7459035603376831527</td>\n",
       "    </tr>\n",
       "    <tr>\n",
       "      <th>3</th>\n",
       "      <td>desktop</td>\n",
       "      <td>2018-05-20 11:23:00</td>\n",
       "      <td>9</td>\n",
       "      <td>2018-05-20 10:59:00</td>\n",
       "      <td>16174680259334210214</td>\n",
       "    </tr>\n",
       "    <tr>\n",
       "      <th>4</th>\n",
       "      <td>desktop</td>\n",
       "      <td>2017-12-27 14:06:00</td>\n",
       "      <td>3</td>\n",
       "      <td>2017-12-27 14:06:00</td>\n",
       "      <td>9969694820036681168</td>\n",
       "    </tr>\n",
       "  </tbody>\n",
       "</table>\n",
       "</div>"
      ],
      "text/plain": [
       "    Device               End Ts  Source Id             Start Ts  \\\n",
       "0    touch  2017-12-20 17:38:00          4  2017-12-20 17:20:00   \n",
       "1  desktop  2018-02-19 17:21:00          2  2018-02-19 16:53:00   \n",
       "2    touch  2017-07-01 01:54:00          5  2017-07-01 01:54:00   \n",
       "3  desktop  2018-05-20 11:23:00          9  2018-05-20 10:59:00   \n",
       "4  desktop  2017-12-27 14:06:00          3  2017-12-27 14:06:00   \n",
       "\n",
       "                    Uid  \n",
       "0  16879256277535980062  \n",
       "1    104060357244891740  \n",
       "2   7459035603376831527  \n",
       "3  16174680259334210214  \n",
       "4   9969694820036681168  "
      ]
     },
     "execution_count": 15,
     "metadata": {},
     "output_type": "execute_result"
    }
   ],
   "source": [
    "visits.head()"
   ]
  },
  {
   "cell_type": "markdown",
   "metadata": {},
   "source": [
    "- Дубликаты и пропуски не обнаружены. Нужно заменить формат даты/времени начала и конца сессии на правильный, переименую столбцы"
   ]
  },
  {
   "cell_type": "markdown",
   "metadata": {},
   "source": [
    "### 1.2 Заказы с сайта"
   ]
  },
  {
   "cell_type": "code",
   "execution_count": 6,
   "metadata": {},
   "outputs": [
    {
     "name": "stdout",
     "output_type": "stream",
     "text": [
      "<class 'pandas.core.frame.DataFrame'>\n",
      "RangeIndex: 50415 entries, 0 to 50414\n",
      "Data columns (total 3 columns):\n",
      " #   Column   Non-Null Count  Dtype  \n",
      "---  ------   --------------  -----  \n",
      " 0   Buy Ts   50415 non-null  object \n",
      " 1   Revenue  50415 non-null  float64\n",
      " 2   Uid      50415 non-null  uint64 \n",
      "dtypes: float64(1), object(1), uint64(1)\n",
      "memory usage: 1.2+ MB\n"
     ]
    }
   ],
   "source": [
    "orders.info()"
   ]
  },
  {
   "cell_type": "code",
   "execution_count": 10,
   "metadata": {},
   "outputs": [
    {
     "data": {
      "text/plain": [
       "0"
      ]
     },
     "execution_count": 10,
     "metadata": {},
     "output_type": "execute_result"
    }
   ],
   "source": [
    "orders.duplicated().sum()"
   ]
  },
  {
   "cell_type": "code",
   "execution_count": 16,
   "metadata": {},
   "outputs": [
    {
     "data": {
      "text/html": [
       "<div>\n",
       "<style scoped>\n",
       "    .dataframe tbody tr th:only-of-type {\n",
       "        vertical-align: middle;\n",
       "    }\n",
       "\n",
       "    .dataframe tbody tr th {\n",
       "        vertical-align: top;\n",
       "    }\n",
       "\n",
       "    .dataframe thead th {\n",
       "        text-align: right;\n",
       "    }\n",
       "</style>\n",
       "<table border=\"1\" class=\"dataframe\">\n",
       "  <thead>\n",
       "    <tr style=\"text-align: right;\">\n",
       "      <th></th>\n",
       "      <th>Buy Ts</th>\n",
       "      <th>Revenue</th>\n",
       "      <th>Uid</th>\n",
       "    </tr>\n",
       "  </thead>\n",
       "  <tbody>\n",
       "    <tr>\n",
       "      <th>0</th>\n",
       "      <td>2017-06-01 00:10:00</td>\n",
       "      <td>17.00</td>\n",
       "      <td>10329302124590727494</td>\n",
       "    </tr>\n",
       "    <tr>\n",
       "      <th>1</th>\n",
       "      <td>2017-06-01 00:25:00</td>\n",
       "      <td>0.55</td>\n",
       "      <td>11627257723692907447</td>\n",
       "    </tr>\n",
       "    <tr>\n",
       "      <th>2</th>\n",
       "      <td>2017-06-01 00:27:00</td>\n",
       "      <td>0.37</td>\n",
       "      <td>17903680561304213844</td>\n",
       "    </tr>\n",
       "    <tr>\n",
       "      <th>3</th>\n",
       "      <td>2017-06-01 00:29:00</td>\n",
       "      <td>0.55</td>\n",
       "      <td>16109239769442553005</td>\n",
       "    </tr>\n",
       "    <tr>\n",
       "      <th>4</th>\n",
       "      <td>2017-06-01 07:58:00</td>\n",
       "      <td>0.37</td>\n",
       "      <td>14200605875248379450</td>\n",
       "    </tr>\n",
       "  </tbody>\n",
       "</table>\n",
       "</div>"
      ],
      "text/plain": [
       "                Buy Ts  Revenue                   Uid\n",
       "0  2017-06-01 00:10:00    17.00  10329302124590727494\n",
       "1  2017-06-01 00:25:00     0.55  11627257723692907447\n",
       "2  2017-06-01 00:27:00     0.37  17903680561304213844\n",
       "3  2017-06-01 00:29:00     0.55  16109239769442553005\n",
       "4  2017-06-01 07:58:00     0.37  14200605875248379450"
      ]
     },
     "execution_count": 16,
     "metadata": {},
     "output_type": "execute_result"
    }
   ],
   "source": [
    "orders.head()"
   ]
  },
  {
   "cell_type": "markdown",
   "metadata": {},
   "source": [
    "- Дубликаты и пропуски не обнаружены. Заменю формат даты/времени покупки на правильный, переименую столбцы"
   ]
  },
  {
   "cell_type": "markdown",
   "metadata": {},
   "source": [
    "### 1.3 Траты на сайте"
   ]
  },
  {
   "cell_type": "code",
   "execution_count": 17,
   "metadata": {},
   "outputs": [
    {
     "name": "stdout",
     "output_type": "stream",
     "text": [
      "<class 'pandas.core.frame.DataFrame'>\n",
      "RangeIndex: 2542 entries, 0 to 2541\n",
      "Data columns (total 3 columns):\n",
      " #   Column     Non-Null Count  Dtype  \n",
      "---  ------     --------------  -----  \n",
      " 0   source_id  2542 non-null   int64  \n",
      " 1   dt         2542 non-null   object \n",
      " 2   costs      2542 non-null   float64\n",
      "dtypes: float64(1), int64(1), object(1)\n",
      "memory usage: 59.7+ KB\n"
     ]
    }
   ],
   "source": [
    "costs.info()"
   ]
  },
  {
   "cell_type": "code",
   "execution_count": 9,
   "metadata": {},
   "outputs": [
    {
     "data": {
      "text/plain": [
       "0"
      ]
     },
     "execution_count": 9,
     "metadata": {},
     "output_type": "execute_result"
    }
   ],
   "source": [
    "costs.duplicated().sum()"
   ]
  },
  {
   "cell_type": "code",
   "execution_count": 18,
   "metadata": {},
   "outputs": [
    {
     "data": {
      "text/html": [
       "<div>\n",
       "<style scoped>\n",
       "    .dataframe tbody tr th:only-of-type {\n",
       "        vertical-align: middle;\n",
       "    }\n",
       "\n",
       "    .dataframe tbody tr th {\n",
       "        vertical-align: top;\n",
       "    }\n",
       "\n",
       "    .dataframe thead th {\n",
       "        text-align: right;\n",
       "    }\n",
       "</style>\n",
       "<table border=\"1\" class=\"dataframe\">\n",
       "  <thead>\n",
       "    <tr style=\"text-align: right;\">\n",
       "      <th></th>\n",
       "      <th>source_id</th>\n",
       "      <th>dt</th>\n",
       "      <th>costs</th>\n",
       "    </tr>\n",
       "  </thead>\n",
       "  <tbody>\n",
       "    <tr>\n",
       "      <th>0</th>\n",
       "      <td>1</td>\n",
       "      <td>2017-06-01</td>\n",
       "      <td>75.20</td>\n",
       "    </tr>\n",
       "    <tr>\n",
       "      <th>1</th>\n",
       "      <td>1</td>\n",
       "      <td>2017-06-02</td>\n",
       "      <td>62.25</td>\n",
       "    </tr>\n",
       "    <tr>\n",
       "      <th>2</th>\n",
       "      <td>1</td>\n",
       "      <td>2017-06-03</td>\n",
       "      <td>36.53</td>\n",
       "    </tr>\n",
       "    <tr>\n",
       "      <th>3</th>\n",
       "      <td>1</td>\n",
       "      <td>2017-06-04</td>\n",
       "      <td>55.00</td>\n",
       "    </tr>\n",
       "    <tr>\n",
       "      <th>4</th>\n",
       "      <td>1</td>\n",
       "      <td>2017-06-05</td>\n",
       "      <td>57.08</td>\n",
       "    </tr>\n",
       "  </tbody>\n",
       "</table>\n",
       "</div>"
      ],
      "text/plain": [
       "   source_id          dt  costs\n",
       "0          1  2017-06-01  75.20\n",
       "1          1  2017-06-02  62.25\n",
       "2          1  2017-06-03  36.53\n",
       "3          1  2017-06-04  55.00\n",
       "4          1  2017-06-05  57.08"
      ]
     },
     "execution_count": 18,
     "metadata": {},
     "output_type": "execute_result"
    }
   ],
   "source": [
    "costs.head()"
   ]
  },
  {
   "cell_type": "markdown",
   "metadata": {},
   "source": [
    "- Дубликаты и пропуски не обнаружены. Заменю формат даты проведения рекламной компании на правильный"
   ]
  },
  {
   "cell_type": "markdown",
   "metadata": {},
   "source": [
    "## 2. Предобработка данных"
   ]
  },
  {
   "cell_type": "code",
   "execution_count": 19,
   "metadata": {},
   "outputs": [],
   "source": [
    "visits['End Ts'] = pd.to_datetime(visits['End Ts'], format=\"%Y-%m-%d %H:%M\")\n",
    "visits['Start Ts'] = pd.to_datetime(visits['Start Ts'], format=\"%Y-%m-%d %H:%M\")"
   ]
  },
  {
   "cell_type": "code",
   "execution_count": 20,
   "metadata": {},
   "outputs": [],
   "source": [
    "visits.rename(columns={'End Ts': 'session_end', 'Start Ts': 'session_start', 'Source Id': 'source_id'}, inplace=True)\n",
    "visits.columns = map(str.lower, visits.columns)"
   ]
  },
  {
   "cell_type": "code",
   "execution_count": 21,
   "metadata": {},
   "outputs": [],
   "source": [
    "orders['Buy Ts'] = pd.to_datetime(orders['Buy Ts'], format = \"%Y-%m-%d %H:%M\")"
   ]
  },
  {
   "cell_type": "code",
   "execution_count": 22,
   "metadata": {},
   "outputs": [],
   "source": [
    "orders.rename(columns={'Buy Ts': 'purchase_time'}, inplace=True)\n",
    "orders.columns = map(str.lower, orders.columns)"
   ]
  },
  {
   "cell_type": "code",
   "execution_count": 23,
   "metadata": {},
   "outputs": [],
   "source": [
    "costs['dt'] = costs['dt'].astype('datetime64')"
   ]
  },
  {
   "cell_type": "markdown",
   "metadata": {},
   "source": [
    "**Промежуточный вывод**\n",
    "\n",
    "Все данные приведены в соответствующий формат. Единицы измерения затрат и расходов - у.е. "
   ]
  },
  {
   "cell_type": "markdown",
   "metadata": {},
   "source": [
    "## 3. Расчет метрик и постройка графиков"
   ]
  },
  {
   "cell_type": "markdown",
   "metadata": {},
   "source": [
    "### 3.1 Продуктовые метрики"
   ]
  },
  {
   "cell_type": "markdown",
   "metadata": {},
   "source": [
    "#### 3.1.1 DAU, WAU, MAU"
   ]
  },
  {
   "cell_type": "markdown",
   "metadata": {},
   "source": [
    "Рассчитаю количество уникальных пользователей в день, неделю и месяц, предварительно выделив в отдельные столбцы месяц, год, неделю и день первого подключения"
   ]
  },
  {
   "cell_type": "code",
   "execution_count": 24,
   "metadata": {},
   "outputs": [],
   "source": [
    "visits['session_year'] = visits['session_start'].dt.year\n",
    "visits['session_month'] = visits['session_start'].dt.month\n",
    "visits['session_week'] = visits['session_start'].dt.week\n",
    "visits['session_date'] = visits['session_start'].dt.date\n",
    "visits['session_day'] = visits['session_start'].dt.day"
   ]
  },
  {
   "cell_type": "code",
   "execution_count": 25,
   "metadata": {},
   "outputs": [],
   "source": [
    "dau = visits.groupby('session_date').agg({'uid': 'nunique'})\n",
    "wau = (visits.groupby(['session_year', 'session_week']).agg({'uid': 'nunique'}))\n",
    "mau = (visits.groupby(['session_year', 'session_month']).agg({'uid': 'nunique'}))"
   ]
  },
  {
   "cell_type": "markdown",
   "metadata": {},
   "source": [
    "Рассчитаю среднее показателей"
   ]
  },
  {
   "cell_type": "code",
   "execution_count": 26,
   "metadata": {},
   "outputs": [
    {
     "name": "stdout",
     "output_type": "stream",
     "text": [
      "Количество уникальных пользователей в день: uid    907\n",
      "dtype: int64\n",
      "Количество уникальных пользователей в неделю: uid    5716\n",
      "dtype: int64\n",
      "Количество уникальных пользователей в месяц: uid    23228\n",
      "dtype: int64\n"
     ]
    }
   ],
   "source": [
    "print('Количество уникальных пользователей в день:', dau.mean().astype('int'))\n",
    "print('Количество уникальных пользователей в неделю:', wau.mean().astype('int'))\n",
    "print('Количество уникальных пользователей в месяц:', mau.mean().astype('int'))"
   ]
  },
  {
   "cell_type": "markdown",
   "metadata": {},
   "source": [
    "Построю графики изменения данных показателей во времени"
   ]
  },
  {
   "cell_type": "code",
   "execution_count": 29,
   "metadata": {},
   "outputs": [
    {
     "data": {
      "text/plain": [
       "Text(0, 0.5, 'Пользователи, ед.')"
      ]
     },
     "execution_count": 29,
     "metadata": {},
     "output_type": "execute_result"
    },
    {
     "data": {
      "image/png": "[encoded data removed]",
      "text/plain": [
       "<Figure size 1152x504 with 1 Axes>"
      ]
     },
     "metadata": {},
     "output_type": "display_data"
    }
   ],
   "source": [
    "dau.plot(grid=True)\n",
    "plt.title('Количество пользователей в день')\n",
    "plt.xlabel('День')\n",
    "plt.ylabel('Пользователи, ед.')"
   ]
  },
  {
   "cell_type": "markdown",
   "metadata": {},
   "source": [
    "По дням пользователи показывают значение 500 летом, осенью увеличиваясь до 1000 и показывают скачок ближе к декабрю. После немного снижаются"
   ]
  },
  {
   "cell_type": "code",
   "execution_count": 30,
   "metadata": {},
   "outputs": [
    {
     "data": {
      "text/plain": [
       "Text(0, 0.5, 'Пользователи, ед.')"
      ]
     },
     "execution_count": 30,
     "metadata": {},
     "output_type": "execute_result"
    },
    {
     "data": {
      "image/png": "[encoded data removed]",
      "text/plain": [
       "<Figure size 1152x504 with 1 Axes>"
      ]
     },
     "metadata": {},
     "output_type": "display_data"
    }
   ],
   "source": [
    "wau.plot(grid=True)\n",
    "plt.title('Количество пользователей в неделю')\n",
    "plt.xlabel('Неделя')\n",
    "plt.ylabel('Пользователи, ед.')"
   ]
  },
  {
   "cell_type": "markdown",
   "metadata": {},
   "source": [
    "Недельные показатели также говорят о росте пользователей к концу года"
   ]
  },
  {
   "cell_type": "code",
   "execution_count": 31,
   "metadata": {},
   "outputs": [
    {
     "data": {
      "text/plain": [
       "Text(0, 0.5, 'Пользователи, ед.')"
      ]
     },
     "execution_count": 31,
     "metadata": {},
     "output_type": "execute_result"
    },
    {
     "data": {
      "image/png": "[encoded data removed]",
      "text/plain": [
       "<Figure size 1152x504 with 1 Axes>"
      ]
     },
     "metadata": {},
     "output_type": "display_data"
    }
   ],
   "source": [
    "mau.plot(grid=True)\n",
    "plt.title('Количество пользователей в месяц')\n",
    "plt.xlabel('месяц')\n",
    "plt.ylabel('Пользователи, ед.')"
   ]
  },
  {
   "cell_type": "markdown",
   "metadata": {},
   "source": [
    "По месячным четко виден рост с августа (около 10000 пользователей) по ноябрь (около 35000 пользователей), с последующим снижением до 20000 пользователей к маю"
   ]
  },
  {
   "cell_type": "markdown",
   "metadata": {},
   "source": [
    "**Промежуточный вывод**\n",
    "\n",
    "Количество уникальных пользователей в месяц немного превышает 20 тыс. человек, при этом происходит скачок пользователей в конце ноября-начале декабря 2017 года"
   ]
  },
  {
   "cell_type": "markdown",
   "metadata": {},
   "source": [
    "#### 3.1.2 Сколько раз в день пользователь в среднем заходит на сайт"
   ]
  },
  {
   "cell_type": "markdown",
   "metadata": {},
   "source": [
    "Определим среднее количество сессий в день. "
   ]
  },
  {
   "cell_type": "code",
   "execution_count": 32,
   "metadata": {},
   "outputs": [
    {
     "name": "stdout",
     "output_type": "stream",
     "text": [
      "Количество сессий в день 987.36 \n"
     ]
    }
   ],
   "source": [
    "count_date_session = visits.groupby('session_date').agg({'uid': 'count'}).mean()\n",
    "print(\"Количество сессий в день {0:.2f} \".format(count_date_session[0]))"
   ]
  },
  {
   "cell_type": "markdown",
   "metadata": {},
   "source": [
    "Определим сколько раз за день пользователи в среднем заходят на сайт, для этого разделим общее дневное число сессий на количество зашедших на сайт уникальных пользователей за день."
   ]
  },
  {
   "cell_type": "code",
   "execution_count": 33,
   "metadata": {},
   "outputs": [],
   "source": [
    "count_users_session = visits.groupby('session_date').agg({'uid': 'nunique'}).mean()\n",
    "\n",
    "sessions_per_user = count_date_session / count_users_session"
   ]
  },
  {
   "cell_type": "code",
   "execution_count": 34,
   "metadata": {},
   "outputs": [],
   "source": [
    "sessions_per_user = visits.groupby('session_date').agg({'uid': ['count', 'nunique']}).reset_index()\n",
    "sessions_per_user.columns = ['session_date', 'n_sessions', 'n_users']\n",
    "sessions_per_user['sessions_per_user'] = (sessions_per_user['n_sessions'] / sessions_per_user['n_users'])"
   ]
  },
  {
   "cell_type": "code",
   "execution_count": 35,
   "metadata": {},
   "outputs": [
    {
     "name": "stdout",
     "output_type": "stream",
     "text": [
      "Срднее количество сессий в день на одного ользователя - 1.08 \n"
     ]
    }
   ],
   "source": [
    "users_sessions_mean = sessions_per_user['sessions_per_user'].mean()\n",
    "print(\"Срднее количество сессий в день на одного ользователя - {0:.2f} \".format(users_sessions_mean))"
   ]
  },
  {
   "cell_type": "code",
   "execution_count": 36,
   "metadata": {},
   "outputs": [
    {
     "data": {
      "text/plain": [
       "Text(0, 0.5, 'Сессии, ед.')"
      ]
     },
     "execution_count": 36,
     "metadata": {},
     "output_type": "execute_result"
    },
    {
     "data": {
      "image/png": "[encoded data removed]",
      "text/plain": [
       "<Figure size 1152x504 with 1 Axes>"
      ]
     },
     "metadata": {},
     "output_type": "display_data"
    }
   ],
   "source": [
    "sessions_per_user.plot(x='session_date', y='sessions_per_user', kind='line', grid=True)\n",
    "plt.title('Количество сессий на пользователя в день')\n",
    "plt.xlabel('День')\n",
    "plt.ylabel('Сессии, ед.')"
   ]
  },
  {
   "cell_type": "markdown",
   "metadata": {},
   "source": [
    "Число сессий на пользователя немного превышает единицу со всплеском в конце ноября, начале декабря и падением в марте."
   ]
  },
  {
   "cell_type": "markdown",
   "metadata": {},
   "source": [
    "**Промежуточный вывод**\n",
    "\n",
    "Рост количества сессий в начале месяца и всплеск в конце - может быть обусловлен заработной платой, которая тратится пользователями на развлечения"
   ]
  },
  {
   "cell_type": "markdown",
   "metadata": {},
   "source": [
    "#### 3.1.3 Сколько времени пользователь проводит на сайте"
   ]
  },
  {
   "cell_type": "code",
   "execution_count": 37,
   "metadata": {},
   "outputs": [
    {
     "data": {
      "text/plain": [
       "count    359400.000000\n",
       "mean         10.725108\n",
       "std          16.938913\n",
       "min           0.000000\n",
       "25%           2.000000\n",
       "50%           5.000000\n",
       "75%          14.000000\n",
       "max        1408.000000\n",
       "Name: session_duration_min, dtype: float64"
      ]
     },
     "execution_count": 37,
     "metadata": {},
     "output_type": "execute_result"
    }
   ],
   "source": [
    "visits['session_duration_min'] = (\n",
    "    visits['session_end'] - visits['session_start']\n",
    ").dt.seconds / 60\n",
    "visits['session_duration_min'].describe()"
   ]
  },
  {
   "cell_type": "markdown",
   "metadata": {},
   "source": [
    "Одна сессия длится:\n",
    "\n",
    "- В среднем 10 минут\n",
    "\n",
    "- По медиане 5 минут\n",
    "\n",
    "- По моде 1 минуту"
   ]
  },
  {
   "cell_type": "code",
   "execution_count": 38,
   "metadata": {},
   "outputs": [
    {
     "data": {
      "text/plain": [
       "0    1.0\n",
       "dtype: float64"
      ]
     },
     "execution_count": 38,
     "metadata": {},
     "output_type": "execute_result"
    }
   ],
   "source": [
    "visits['session_duration_min'].mode()"
   ]
  },
  {
   "cell_type": "code",
   "execution_count": 39,
   "metadata": {},
   "outputs": [
    {
     "data": {
      "text/plain": [
       "Text(0.5, 1.0, 'Время проведенное на сайте (минуты)')"
      ]
     },
     "execution_count": 39,
     "metadata": {},
     "output_type": "execute_result"
    },
    {
     "data": {
      "image/png": "[encoded data removed]",
      "text/plain": [
       "<Figure size 1152x504 with 1 Axes>"
      ]
     },
     "metadata": {},
     "output_type": "display_data"
    }
   ],
   "source": [
    "ax = visits['session_duration_min'].hist(bins=10, range=(0, 60))\n",
    "ax.set_xlabel('Время (минуты)')\n",
    "ax.set_ylabel('Частота')\n",
    "ax.set_title('Время проведенное на сайте (минуты)')"
   ]
  },
  {
   "cell_type": "markdown",
   "metadata": {},
   "source": [
    "Большая часть сессий проходят в пределах 10 минут. При этом, так как распределение не близко к нормальному, средняя мера определяется по моде, то есть 1 минута."
   ]
  },
  {
   "cell_type": "markdown",
   "metadata": {},
   "source": [
    "#### 3.1.4 Retention Rate (Индекс возврата)"
   ]
  },
  {
   "cell_type": "code",
   "execution_count": 42,
   "metadata": {},
   "outputs": [
    {
     "data": {
      "image/png": "[encoded data removed]",
      "text/plain": [
       "<Figure size 1152x504 with 2 Axes>"
      ]
     },
     "metadata": {},
     "output_type": "display_data"
    }
   ],
   "source": [
    "first_activity_date = visits.groupby('uid').agg({'session_start':'min'}).reset_index()\n",
    "first_activity_date.columns = ['uid', 'first_activity_date']\n",
    "visits = visits.merge(first_activity_date)\n",
    "\n",
    "visits['first_activity_month'] = visits['first_activity_date'].astype('datetime64[M]')\n",
    "visits['activity_month'] = visits['session_start'].astype('datetime64[M]')\n",
    "visits['cohort_lifetime'] = (visits['activity_month'] - visits['first_activity_month']) / np.timedelta64(1, 'M')\n",
    "visits['cohort_lifetime'] = visits['cohort_lifetime'].round().astype('int')\n",
    "\n",
    "cohorts = visits.groupby(\n",
    "    ['first_activity_month', 'cohort_lifetime']\n",
    ").agg(\n",
    "    {'uid': 'nunique'}\n",
    ").reset_index()\n",
    "\n",
    "initial_users_count = cohorts[cohorts['cohort_lifetime']==0][['first_activity_month', 'uid']]\n",
    "\n",
    "initial_users_count = initial_users_count.rename(columns={'uid':'cohort_users'})\n",
    "\n",
    "cohorts = cohorts.merge(initial_users_count)\n",
    "cohorts['retention'] = cohorts['uid'] / cohorts['cohort_users']\n",
    "\n",
    "retention_pivot = cohorts.pivot_table(index='first_activity_month', columns='cohort_lifetime',\n",
    "                                          values='retention', aggfunc='sum')\n",
    "\n",
    "retention_pivot\n",
    "\n",
    "sns.set(style='white')\n",
    "plt.figure()\n",
    "plt.title('Когортный анализ: Коэффициент удержания')\n",
    "ax = sns.heatmap(retention_pivot, annot=True, fmt='.1%', linewidths=1, linecolor='gray', vmin = 0, vmax = 0.1, \n",
    "                 cmap = 'coolwarm', yticklabels=retention_pivot.index.strftime('%Y.%m.%d'));"
   ]
  },
  {
   "cell_type": "markdown",
   "metadata": {},
   "source": [
    "Процент удержания падает от месяца к месяцу, за редкими исключениями"
   ]
  },
  {
   "cell_type": "code",
   "execution_count": 43,
   "metadata": {},
   "outputs": [
    {
     "name": "stdout",
     "output_type": "stream",
     "text": [
      "Среднее значение Retention Rate за второй месяц жизни когорт 0.07 \n"
     ]
    }
   ],
   "source": [
    "second_cohort_retention = cohorts.query('cohort_lifetime == 1')['retention'].mean()\n",
    "print(\"Среднее значение Retention Rate за второй месяц жизни когорт {0:.2f} \".format(second_cohort_retention))"
   ]
  },
  {
   "cell_type": "markdown",
   "metadata": {},
   "source": [
    "### 3.2 Метрики электронной коммерции"
   ]
  },
  {
   "cell_type": "markdown",
   "metadata": {},
   "source": [
    "#### 3.2.1 Время с первого посещения сайта до покупки"
   ]
  },
  {
   "cell_type": "code",
   "execution_count": 44,
   "metadata": {},
   "outputs": [
    {
     "data": {
      "text/plain": [
       "count    36523.000000\n",
       "mean       249.164691\n",
       "std        429.742785\n",
       "min          0.000000\n",
       "25%          4.000000\n",
       "50%         16.000000\n",
       "75%        252.000000\n",
       "max       1439.000000\n",
       "Name: buying_time, dtype: float64"
      ]
     },
     "execution_count": 44,
     "metadata": {},
     "output_type": "execute_result"
    }
   ],
   "source": [
    "first_visit = visits.groupby('uid').agg({'session_start':'min'})\\\n",
    "                .rename(columns={'session_start':'first_visit_date'})\\\n",
    "                .reset_index()\n",
    "\n",
    "first_order = orders.groupby('uid').agg({'purchase_time':'min'})\\\n",
    "                .rename(columns={'purchase_time':'first_purchase_date'})\\\n",
    "                .reset_index()\n",
    "\n",
    "buying_time = first_visit.merge(first_order, on='uid', how='inner')\n",
    "\n",
    "buying_time['buying_time'] = (buying_time['first_purchase_date'] - buying_time['first_visit_date']).dt.seconds / 60\n",
    "\n",
    "buying_time['buying_time'].describe()"
   ]
  },
  {
   "cell_type": "code",
   "execution_count": 45,
   "metadata": {},
   "outputs": [
    {
     "data": {
      "text/plain": [
       "0    1.0\n",
       "dtype: float64"
      ]
     },
     "execution_count": 45,
     "metadata": {},
     "output_type": "execute_result"
    }
   ],
   "source": [
    "buying_time['buying_time'].mode()"
   ]
  },
  {
   "cell_type": "code",
   "execution_count": 46,
   "metadata": {},
   "outputs": [
    {
     "data": {
      "text/plain": [
       "Text(0.5, 1.0, 'Время от первого визита до покупки (минуты)')"
      ]
     },
     "execution_count": 46,
     "metadata": {},
     "output_type": "execute_result"
    },
    {
     "data": {
      "image/png": "[encoded data removed]",
      "text/plain": [
       "<Figure size 1152x504 with 1 Axes>"
      ]
     },
     "metadata": {},
     "output_type": "display_data"
    }
   ],
   "source": [
    "ax = buying_time['buying_time'].hist()\n",
    "ax.set_xlabel('Время (минуты)')\n",
    "ax.set_ylabel('Частота')\n",
    "ax.set_title('Время от первого визита до покупки (минуты)')"
   ]
  },
  {
   "cell_type": "markdown",
   "metadata": {},
   "source": [
    "Время от первого визиты до покупки:\n",
    "\n",
    "- В среднем 249 минут\n",
    "\n",
    "- По медиане 16 минут\n",
    "\n",
    "- По моде 1 минута"
   ]
  },
  {
   "cell_type": "markdown",
   "metadata": {},
   "source": [
    "В большинстве случаев покупка происходит в первые минут после начала сессии. Исходя из формы распределения (не близкое к нормальному), средней мерой является мода."
   ]
  },
  {
   "cell_type": "markdown",
   "metadata": {},
   "source": [
    "#### 3.2.2 Среднее количество покупок на одного покупателя"
   ]
  },
  {
   "cell_type": "code",
   "execution_count": 47,
   "metadata": {},
   "outputs": [
    {
     "data": {
      "image/png": "[encoded data removed]",
      "text/plain": [
       "<Figure size 1152x504 with 2 Axes>"
      ]
     },
     "metadata": {},
     "output_type": "display_data"
    }
   ],
   "source": [
    "first_purchase_date = orders.groupby('uid').agg(\n",
    "    {'purchase_time':'min'}\n",
    ").rename(\n",
    "    columns={'purchase_time':'first_purchase_date'}\n",
    ")\n",
    "orders_count = orders.merge(first_purchase_date, on='uid')\n",
    "orders_count['first_purchase_month'] = orders_count['first_purchase_date'].astype('datetime64[M]')\n",
    "orders_count['purchase_month'] = orders_count['purchase_time'].astype('datetime64[M]')\n",
    "orders_count['cohort_lifetime'] = (\n",
    "    orders_count['purchase_month'] - orders_count['first_purchase_month']\n",
    ") / np.timedelta64(1, 'M')\n",
    "orders_count['cohort_lifetime'] = orders_count['cohort_lifetime'].round().astype('int')\n",
    "orders_count['first_purchase_month'] = orders_count['first_purchase_month'].dt.strftime('%Y-%m')\n",
    "orders_grouped_by_cohorts = orders_count.groupby(\n",
    "    ['first_purchase_month', 'cohort_lifetime']\n",
    ").agg(\n",
    "    {'purchase_month': 'count', 'uid': 'nunique'}\n",
    ")\n",
    "orders_grouped_by_cohorts['purchases_per_user'] = orders_grouped_by_cohorts['purchase_month'] / orders_grouped_by_cohorts['uid']\n",
    "orders_grouped_by_cohorts = orders_grouped_by_cohorts.reset_index()\n",
    "purchase_pivot = orders_grouped_by_cohorts.pivot_table(\n",
    "    index='first_purchase_month',\n",
    "    columns='cohort_lifetime',\n",
    "    values='purchases_per_user')\n",
    "purchase_pivot\n",
    "\n",
    "purchase_pivot.cumsum(axis = 1).mean(axis = 0)\n",
    "sns.set(style='white')\n",
    "plt.figure()\n",
    "plt.title('Среднее количество покупок на одного покупателя')\n",
    "sns.heatmap(purchase_pivot, annot=True, fmt='.2f', linewidths=1, linecolor='gray', cmap = 'coolwarm', vmin=1, vmax=3.5);"
   ]
  },
  {
   "cell_type": "markdown",
   "metadata": {},
   "source": [
    "В целом количество покупок со временем может немного увеличиваться, но незначительно"
   ]
  },
  {
   "cell_type": "code",
   "execution_count": 48,
   "metadata": {},
   "outputs": [
    {
     "name": "stdout",
     "output_type": "stream",
     "text": [
      "Среднее значение числа покупок на одного пользователя 1.22 \n"
     ]
    }
   ],
   "source": [
    "mean_orders_per_user = orders_grouped_by_cohorts['uid'].count()/orders_grouped_by_cohorts['uid'].nunique()\n",
    "print(\"Среднее значение числа покупок на одного пользователя {0:.2f} \".format(mean_orders_per_user))"
   ]
  },
  {
   "cell_type": "markdown",
   "metadata": {},
   "source": [
    "**Промежуточный вывод**\n",
    "\n",
    "Пользователи редко совершают вторую покупку, их что-то останавливает"
   ]
  },
  {
   "cell_type": "markdown",
   "metadata": {},
   "source": [
    "#### 3.2.3 Средний чек"
   ]
  },
  {
   "cell_type": "code",
   "execution_count": 49,
   "metadata": {},
   "outputs": [],
   "source": [
    "orders_and_visits = orders.merge(first_visit)\n",
    "orders_and_visits['purchase_date'] = orders_and_visits['purchase_time'].dt.date\n",
    "orders_and_visits['purchases_week'] = orders_and_visits['purchase_time'].dt.week\n",
    "orders_and_visits['purchase_month'] = orders_and_visits['purchase_time'].dt.month"
   ]
  },
  {
   "cell_type": "code",
   "execution_count": 50,
   "metadata": {},
   "outputs": [
    {
     "data": {
      "text/plain": [
       "count    50415.000000\n",
       "mean         4.999647\n",
       "std         21.818359\n",
       "min          0.000000\n",
       "25%          1.220000\n",
       "50%          2.500000\n",
       "75%          4.890000\n",
       "max       2633.280000\n",
       "Name: revenue, dtype: float64"
      ]
     },
     "execution_count": 50,
     "metadata": {},
     "output_type": "execute_result"
    }
   ],
   "source": [
    "orders_and_visits['revenue'].describe()"
   ]
  },
  {
   "cell_type": "markdown",
   "metadata": {},
   "source": [
    "Средний чек - 5 у.е."
   ]
  },
  {
   "cell_type": "code",
   "execution_count": 51,
   "metadata": {},
   "outputs": [],
   "source": [
    "mean_purchase_by_month = orders_and_visits.groupby('purchase_month').agg({'revenue': 'mean'})"
   ]
  },
  {
   "cell_type": "code",
   "execution_count": 52,
   "metadata": {},
   "outputs": [
    {
     "data": {
      "image/png": "[encoded data removed]",
      "text/plain": [
       "<Figure size 1152x504 with 1 Axes>"
      ]
     },
     "metadata": {},
     "output_type": "display_data"
    }
   ],
   "source": [
    "ax = mean_purchase_by_month.plot(kind='bar')\n",
    "plt.title('Средняя выручка (по месяцам)')\n",
    "ax.set_xlabel('Месяц')\n",
    "ax.set_ylabel('Выручка')\n",
    "plt.show()"
   ]
  },
  {
   "cell_type": "markdown",
   "metadata": {},
   "source": [
    "Выручка колеблется от 4 до 6 тысяч, при этом декабрь самый прибыльный месяц"
   ]
  },
  {
   "cell_type": "markdown",
   "metadata": {},
   "source": [
    "#### 3.2.4 LTV"
   ]
  },
  {
   "cell_type": "code",
   "execution_count": 53,
   "metadata": {},
   "outputs": [],
   "source": [
    "orders['order_month'] = orders['purchase_time'].astype('datetime64[M]')\n",
    "\n",
    "first_order = orders.groupby('uid').agg({'order_month': 'min'}).reset_index()\n",
    "first_order.columns = ['uid', 'first_order_month']\n",
    "\n",
    "cohort_sizes = first_order.groupby('first_order_month').agg({'uid':'nunique'}).reset_index()\n",
    "cohort_sizes.columns = ['first_order_month', 'n_buyers']\n",
    "\n",
    "orders_new = pd.merge(orders, first_order, on='uid')\n",
    "\n",
    "cohorts = orders_new.groupby(['first_order_month','order_month']).agg({'revenue': 'sum'}).reset_index()\n",
    "\n",
    "report = pd.merge(cohort_sizes, cohorts, on='first_order_month')"
   ]
  },
  {
   "cell_type": "code",
   "execution_count": 54,
   "metadata": {},
   "outputs": [],
   "source": [
    "margin_rate = 1\n",
    "    \n",
    "report['gp'] = report['revenue'] * margin_rate\n",
    "report['age'] = (report['order_month'] - report['first_order_month']) / np.timedelta64(1, 'M')\n",
    "report['age'] = report['age'].round().astype('int')\n",
    "\n",
    "report['ltv'] = report['gp'] / report['n_buyers']"
   ]
  },
  {
   "cell_type": "code",
   "execution_count": 55,
   "metadata": {},
   "outputs": [],
   "source": [
    "ltv_cohorts = report.groupby('first_order_month').agg({'ltv': 'sum'}).reset_index()"
   ]
  },
  {
   "cell_type": "code",
   "execution_count": 56,
   "metadata": {},
   "outputs": [],
   "source": [
    "output = report.pivot_table(index='first_order_month', columns='age', values='ltv', aggfunc='mean')\n",
    "output = output.cumsum(axis=1).round(2) "
   ]
  },
  {
   "cell_type": "code",
   "execution_count": 57,
   "metadata": {},
   "outputs": [
    {
     "data": {
      "image/png": "[encoded data removed]",
      "text/plain": [
       "<Figure size 1152x504 with 2 Axes>"
      ]
     },
     "metadata": {},
     "output_type": "display_data"
    }
   ],
   "source": [
    "sns.set(style='white')\n",
    "plt.figure()\n",
    "plt.title('LTV')\n",
    "sns.heatmap(output, annot=True, fmt='.3', linewidths=1, linecolor='gray', vmin = 3, vmax = 11, \n",
    "            cmap = 'coolwarm', yticklabels=retention_pivot.index.strftime('%Y.%m.%d'));"
   ]
  },
  {
   "cell_type": "markdown",
   "metadata": {},
   "source": [
    "LTV со временем растет"
   ]
  },
  {
   "cell_type": "code",
   "execution_count": 58,
   "metadata": {},
   "outputs": [
    {
     "name": "stdout",
     "output_type": "stream",
     "text": [
      "Среднее значение LTV за шесть месяцев 8.39 \n"
     ]
    }
   ],
   "source": [
    "report_six_month = report[report['first_order_month'] <= '2017-11-01']\n",
    "report_six_month = report_six_month[report_six_month['age'] <= 6]\n",
    "\n",
    "output_six_month = report_six_month.pivot_table(index='first_order_month', columns='age', values='ltv', aggfunc='mean')\n",
    "output_six_month = output_six_month.cumsum(axis=1).round(2) \n",
    "\n",
    "ltv_six_month = report_six_month.groupby('first_order_month').agg({'ltv': 'sum'}).reset_index()\n",
    "ltv_six_month_mean = ltv_six_month['ltv'].mean()\n",
    "print(\"Среднее значение LTV за шесть месяцев {0:.2f} \".format(ltv_six_month_mean))"
   ]
  },
  {
   "cell_type": "markdown",
   "metadata": {},
   "source": [
    "### 3.3 Маркетинговые метрики"
   ]
  },
  {
   "cell_type": "markdown",
   "metadata": {},
   "source": [
    "#### 3.3.1 Общая сумма расходов на маркетинг"
   ]
  },
  {
   "cell_type": "code",
   "execution_count": 50,
   "metadata": {},
   "outputs": [
    {
     "data": {
      "text/html": [
       "<div>\n",
       "<style scoped>\n",
       "    .dataframe tbody tr th:only-of-type {\n",
       "        vertical-align: middle;\n",
       "    }\n",
       "\n",
       "    .dataframe tbody tr th {\n",
       "        vertical-align: top;\n",
       "    }\n",
       "\n",
       "    .dataframe thead th {\n",
       "        text-align: right;\n",
       "    }\n",
       "</style>\n",
       "<table border=\"1\" class=\"dataframe\">\n",
       "  <thead>\n",
       "    <tr style=\"text-align: right;\">\n",
       "      <th></th>\n",
       "      <th>source_id</th>\n",
       "      <th>costs</th>\n",
       "    </tr>\n",
       "  </thead>\n",
       "  <tbody>\n",
       "    <tr>\n",
       "      <th>0</th>\n",
       "      <td>1</td>\n",
       "      <td>20833.27</td>\n",
       "    </tr>\n",
       "    <tr>\n",
       "      <th>1</th>\n",
       "      <td>2</td>\n",
       "      <td>42806.04</td>\n",
       "    </tr>\n",
       "    <tr>\n",
       "      <th>2</th>\n",
       "      <td>3</td>\n",
       "      <td>141321.63</td>\n",
       "    </tr>\n",
       "    <tr>\n",
       "      <th>3</th>\n",
       "      <td>4</td>\n",
       "      <td>61073.60</td>\n",
       "    </tr>\n",
       "    <tr>\n",
       "      <th>4</th>\n",
       "      <td>5</td>\n",
       "      <td>51757.10</td>\n",
       "    </tr>\n",
       "    <tr>\n",
       "      <th>5</th>\n",
       "      <td>9</td>\n",
       "      <td>5517.49</td>\n",
       "    </tr>\n",
       "    <tr>\n",
       "      <th>6</th>\n",
       "      <td>10</td>\n",
       "      <td>5822.49</td>\n",
       "    </tr>\n",
       "  </tbody>\n",
       "</table>\n",
       "</div>"
      ],
      "text/plain": [
       "   source_id      costs\n",
       "0          1   20833.27\n",
       "1          2   42806.04\n",
       "2          3  141321.63\n",
       "3          4   61073.60\n",
       "4          5   51757.10\n",
       "5          9    5517.49\n",
       "6         10    5822.49"
      ]
     },
     "metadata": {},
     "output_type": "display_data"
    }
   ],
   "source": [
    "marketing_costs = costs.groupby('source_id').agg({'costs': 'sum'}).reset_index()\n",
    "display(marketing_costs)"
   ]
  },
  {
   "cell_type": "code",
   "execution_count": 51,
   "metadata": {},
   "outputs": [
    {
     "data": {
      "text/plain": [
       "source_id        34.00\n",
       "costs        329131.62\n",
       "dtype: float64"
      ]
     },
     "execution_count": 51,
     "metadata": {},
     "output_type": "execute_result"
    }
   ],
   "source": [
    "marketing_costs.sum()"
   ]
  },
  {
   "cell_type": "markdown",
   "metadata": {},
   "source": [
    "Суммарные расходы на маркетинг 329 131,62 у.е."
   ]
  },
  {
   "cell_type": "code",
   "execution_count": 59,
   "metadata": {},
   "outputs": [],
   "source": [
    "costs['month'] = costs['dt'].astype('datetime64[M]')\n",
    "marketing_costs_by_month = costs.groupby(['source_id', 'month']).agg({'costs': 'sum'}).reset_index()"
   ]
  },
  {
   "cell_type": "code",
   "execution_count": 60,
   "metadata": {},
   "outputs": [],
   "source": [
    "month_lst = ['Июнь', 'Июль', 'Август', 'Сентябрь', 'Октябрь', 'Ноябрь', \\\n",
    "             'Декабрь', 'Январь', 'Февраль', 'Март', 'Апрель', 'Май']"
   ]
  },
  {
   "cell_type": "code",
   "execution_count": 61,
   "metadata": {},
   "outputs": [],
   "source": [
    "costs_by_source_month = marketing_costs_by_month.groupby('source_id')['costs'].sum().reset_index()"
   ]
  },
  {
   "cell_type": "code",
   "execution_count": 62,
   "metadata": {},
   "outputs": [
    {
     "data": {
      "image/png": "[encoded data removed]",
      "text/plain": [
       "<Figure size 1152x504 with 1 Axes>"
      ]
     },
     "metadata": {},
     "output_type": "display_data"
    }
   ],
   "source": [
    "ax = costs_by_source_month.plot(x=\"source_id\", y=\"costs\", kind='bar')\n",
    "plt.title('Расходы на маркетинг по источникам')\n",
    "ax.set_xlabel('Источник')\n",
    "ax.set_ylabel('Расходы, у.е.')\n",
    "plt.show()"
   ]
  },
  {
   "cell_type": "markdown",
   "metadata": {},
   "source": [
    "Самым дорогостоящим источником является 3, привышающий суммарные затраты на маркетинг по источникам 1, 2, 9 и 10"
   ]
  },
  {
   "cell_type": "code",
   "execution_count": 63,
   "metadata": {},
   "outputs": [
    {
     "data": {
      "image/png": "[encoded data removed]",
      "text/plain": [
       "<Figure size 1152x504 with 1 Axes>"
      ]
     },
     "metadata": {},
     "output_type": "display_data"
    }
   ],
   "source": [
    "ax = marketing_costs_by_month.pivot_table(index='month', columns='source_id', values='costs', aggfunc='sum')\\\n",
    ".plot(kind='area')\n",
    "plt.title('Расходы на маркетинг по источникам и месяцам')\n",
    "ax.set_xlabel('Месяц')\n",
    "ax.set_ylabel('Расходы, у.е.')\n",
    "plt.show()"
   ]
  },
  {
   "cell_type": "markdown",
   "metadata": {},
   "source": [
    "Расходы на маркетинг составляют в сумме 329 131,62 и распределены по 7 источникам.\n",
    "Самый затратный месяц декабрь, самый затратный источник - 3"
   ]
  },
  {
   "cell_type": "markdown",
   "metadata": {},
   "source": [
    "#### 3.3.2 Средний CAC на одного покупателя"
   ]
  },
  {
   "cell_type": "code",
   "execution_count": 64,
   "metadata": {},
   "outputs": [],
   "source": [
    "marketing_costs = marketing_costs_by_month.groupby('month')['costs'].sum().reset_index()"
   ]
  },
  {
   "cell_type": "code",
   "execution_count": 65,
   "metadata": {},
   "outputs": [],
   "source": [
    "uid_count = orders.groupby('order_month')['uid'].nunique().reset_index()\n",
    "uid_count.columns = ['order_month', 'uid_count']"
   ]
  },
  {
   "cell_type": "code",
   "execution_count": 66,
   "metadata": {},
   "outputs": [],
   "source": [
    "report_costs = pd.merge(uid_count, marketing_costs, left_on='order_month', right_on='month', how='left')\n",
    "report_costs['cac'] = (report_costs['costs'] / report_costs['uid_count']).round(2)"
   ]
  },
  {
   "cell_type": "code",
   "execution_count": 67,
   "metadata": {},
   "outputs": [
    {
     "data": {
      "image/png": "[encoded data removed]",
      "text/plain": [
       "<Figure size 1152x504 with 1 Axes>"
      ]
     },
     "metadata": {},
     "output_type": "display_data"
    }
   ],
   "source": [
    "plt.figure()\n",
    "ax = sns.barplot(x=\"month\", y=\"cac\", data=report_costs)\n",
    "ax.set_xticklabels(month_lst, rotation=45)\n",
    "plt.title('CAC по месяцу')\n",
    "ax.set_xlabel('Месяц')\n",
    "ax.set_ylabel('Стоимость привлечения')\n",
    "plt.show()"
   ]
  },
  {
   "cell_type": "markdown",
   "metadata": {},
   "source": [
    "Стоимость привлечения покупателя растёт, достигая своего пика в августе, далее плавно снижаясь с небольшими сплесками в ноябре, январе и апреле."
   ]
  },
  {
   "cell_type": "code",
   "execution_count": 68,
   "metadata": {},
   "outputs": [],
   "source": [
    "first_visit = visits.groupby(['uid'])['session_start'].min().reset_index()\n",
    "first_visit.columns = ['uid', 'first_visit']\n",
    "visits = visits.merge(first_visit)"
   ]
  },
  {
   "cell_type": "code",
   "execution_count": 69,
   "metadata": {},
   "outputs": [
    {
     "data": {
      "image/png": "[encoded data removed]",
      "text/plain": [
       "<Figure size 1152x504 with 1 Axes>"
      ]
     },
     "metadata": {},
     "output_type": "display_data"
    }
   ],
   "source": [
    "costs_by_source = costs.groupby('source_id').agg({'costs':'sum'}).reset_index()\n",
    "\n",
    "visits_by_source = visits.query('session_start == first_visit')\n",
    "customers_by_source = (orders.merge(visits_by_source, on='uid', how='inner')).groupby('source_id').agg({'uid':'nunique'})\\\n",
    "                        .rename(columns={'uid':'customers'}).reset_index()\n",
    "\n",
    "cac = customers_by_source.merge(costs_by_source, on='source_id').reset_index()\n",
    "cac = cac.fillna(0)\n",
    "\n",
    "cac['cac'] = cac['costs'] / cac['customers']\n",
    "cac.sort_values('cac', ascending = False)\n",
    "\n",
    "plt.figure()\n",
    "ax = sns.barplot(x=\"source_id\", y=\"cac\", data=cac)\n",
    "plt.title('CAC по источнику')\n",
    "ax.set_xlabel('Тип источника')\n",
    "ax.set_ylabel('Стоимость привлечения')\n",
    "plt.show()"
   ]
  },
  {
   "cell_type": "markdown",
   "metadata": {},
   "source": [
    "Второй и третий источники имеют самую высокую стоимость привлечения, при этом третий источник требует самых больших расходов, а второй является 4 по затратности. Далее идут 1 и 5 источники, с близкими значениями затрат"
   ]
  },
  {
   "cell_type": "code",
   "execution_count": 70,
   "metadata": {},
   "outputs": [
    {
     "name": "stdout",
     "output_type": "stream",
     "text": [
      "Средний CAC равняется: 7.96\n"
     ]
    }
   ],
   "source": [
    "cac_mean = cac['cac'].mean()\n",
    "print('Средний CAC равняется: {0:.2f}'.format(cac_mean))"
   ]
  },
  {
   "cell_type": "markdown",
   "metadata": {},
   "source": [
    "#### 3.3.3 ROMI по когортам"
   ]
  },
  {
   "cell_type": "code",
   "execution_count": 71,
   "metadata": {},
   "outputs": [
    {
     "data": {
      "image/png": "[encoded data removed]",
      "text/plain": [
       "<Figure size 1152x504 with 1 Axes>"
      ]
     },
     "metadata": {},
     "output_type": "display_data"
    }
   ],
   "source": [
    "revenue_by_source = (orders.merge(visits_by_source, on='uid', how='inner')).groupby('source_id').agg({'revenue':'sum'}).reset_index()\n",
    "\n",
    "romi = revenue_by_source.merge(costs_by_source, on='source_id')\n",
    "romi['romi'] = (romi['revenue'] - romi['costs']) / romi['costs']\n",
    "\n",
    "revenue_by_source_and_device = (orders.merge(visits_by_source, on='uid', how='inner'))\\\n",
    "                                .groupby(['source_id', 'device']).agg({'revenue':'sum'}).reset_index()\n",
    "\n",
    "plt.figure()\n",
    "ax = sns.barplot(x=\"source_id\", y=\"revenue\", hue=\"device\", data=revenue_by_source_and_device)\n",
    "plt.title('Доход по источнику и устройству')\n",
    "ax.set_xlabel('Тип источника')\n",
    "ax.set_ylabel('Доход, у.е.')\n",
    "plt.show()"
   ]
  },
  {
   "cell_type": "markdown",
   "metadata": {},
   "source": [
    "Прибыль от источников по девайсам:\n",
    "\n",
    "- Компьютеры: наиболее прибыльными источникам являются 2, 3, 4, 5, с показателями более 40 тыс. у.е., далее идет источник 1 с показателем в 25 тыс. у.е., и отдельно выделяются источники 9 и 10 с прибылью около 5 тыс. у.е.\n",
    "\n",
    "- Мобильные устройства: наиболее прибыльным источников является 4, с показателем в 13 тыс. у.е., далее идет группа из 1, 2, 3 и 5 с показателем от 5 до 7 тыс. у.е. и отдельно также 9 и 10 источники с показателями в 1 тыс. у.е."
   ]
  },
  {
   "cell_type": "code",
   "execution_count": 72,
   "metadata": {},
   "outputs": [
    {
     "data": {
      "text/html": [
       "<div>\n",
       "<style scoped>\n",
       "    .dataframe tbody tr th:only-of-type {\n",
       "        vertical-align: middle;\n",
       "    }\n",
       "\n",
       "    .dataframe tbody tr th {\n",
       "        vertical-align: top;\n",
       "    }\n",
       "\n",
       "    .dataframe thead th {\n",
       "        text-align: right;\n",
       "    }\n",
       "</style>\n",
       "<table border=\"1\" class=\"dataframe\">\n",
       "  <thead>\n",
       "    <tr style=\"text-align: right;\">\n",
       "      <th></th>\n",
       "      <th>source_id</th>\n",
       "      <th>revenue</th>\n",
       "      <th>costs</th>\n",
       "      <th>romi</th>\n",
       "    </tr>\n",
       "  </thead>\n",
       "  <tbody>\n",
       "    <tr>\n",
       "      <th>0</th>\n",
       "      <td>1</td>\n",
       "      <td>31090.55</td>\n",
       "      <td>20833.27</td>\n",
       "      <td>0.492351</td>\n",
       "    </tr>\n",
       "    <tr>\n",
       "      <th>1</th>\n",
       "      <td>2</td>\n",
       "      <td>46923.61</td>\n",
       "      <td>42806.04</td>\n",
       "      <td>0.096191</td>\n",
       "    </tr>\n",
       "    <tr>\n",
       "      <th>5</th>\n",
       "      <td>9</td>\n",
       "      <td>5759.40</td>\n",
       "      <td>5517.49</td>\n",
       "      <td>0.043844</td>\n",
       "    </tr>\n",
       "    <tr>\n",
       "      <th>4</th>\n",
       "      <td>5</td>\n",
       "      <td>52624.02</td>\n",
       "      <td>51757.10</td>\n",
       "      <td>0.016750</td>\n",
       "    </tr>\n",
       "    <tr>\n",
       "      <th>3</th>\n",
       "      <td>4</td>\n",
       "      <td>56696.83</td>\n",
       "      <td>61073.60</td>\n",
       "      <td>-0.071664</td>\n",
       "    </tr>\n",
       "    <tr>\n",
       "      <th>6</th>\n",
       "      <td>10</td>\n",
       "      <td>4450.33</td>\n",
       "      <td>5822.49</td>\n",
       "      <td>-0.235665</td>\n",
       "    </tr>\n",
       "    <tr>\n",
       "      <th>2</th>\n",
       "      <td>3</td>\n",
       "      <td>54511.24</td>\n",
       "      <td>141321.63</td>\n",
       "      <td>-0.614275</td>\n",
       "    </tr>\n",
       "  </tbody>\n",
       "</table>\n",
       "</div>"
      ],
      "text/plain": [
       "   source_id   revenue      costs      romi\n",
       "0          1  31090.55   20833.27  0.492351\n",
       "1          2  46923.61   42806.04  0.096191\n",
       "5          9   5759.40    5517.49  0.043844\n",
       "4          5  52624.02   51757.10  0.016750\n",
       "3          4  56696.83   61073.60 -0.071664\n",
       "6         10   4450.33    5822.49 -0.235665\n",
       "2          3  54511.24  141321.63 -0.614275"
      ]
     },
     "execution_count": 72,
     "metadata": {},
     "output_type": "execute_result"
    }
   ],
   "source": [
    "romi.sort_values('romi', ascending = False)"
   ]
  },
  {
   "cell_type": "markdown",
   "metadata": {},
   "source": [
    "Источники 4, 10 и 3 имеют отрицательное значение рентабельности инвестиций в маркетинг, тем самым показывая свою несостоятельность. При этом наиболее прибыльным является 1 источник. "
   ]
  },
  {
   "cell_type": "markdown",
   "metadata": {},
   "source": [
    "# 4. Общий вывод"
   ]
  },
  {
   "cell_type": "markdown",
   "metadata": {},
   "source": [
    "- **Краткий обзор проведенной работы:** была проведена небольшая предобработка данных, в целом их качество было удовлетворительно. Были рассчитаны продуктовые метрики, количество проведенного на сайте времени, проведен когортный анализ индекса возврата. Были рассчитаны метрики электронной коммерции - средний чек, среднее количество покупок, пожизненная ценность клиента. А также были рассчитаны маркетинговые метрики - стоимость привлечения клиента, коэффициент возврата маркетинговых инвестиций.\n",
    "- **Главные выводы:** проводя анализ Яндекс.Афиши можно сказать, что мобильные устройства имеют очень низкие относительно компьютеров, показатели дохода. Особое внимание на источники 9 и 10 - нужно понять причины низкого дохода. Наиболее прибыльные источники 1, 2, 9 и 5. А наиболее финансово отягащающий источник 3, возможно по нему можно сократить расходы, не снижая CAC. В целом следует обратить больше внимания на мобильное приложение, почему по нему такой низкий доход, возможно неудобный интерфейс или множество багов - требуются дополнительные тесты. Наиболее доходные месяцы - конец осени-начало зимы, люди начинают приобретать подарки на Новый год, часто это могут быть билеты на мероприятия. Расходы на маркетинг достигают своего пика именно в декабре, при этом стоимость привлечений одного клиента в этом месяце ближе к нижней границе данного показателя - люди поддаются рекламе без особого сопративления. Несмотря на обилие летних фестивалей - лето остаётся мертвым сезоном относительно остальных. Также пользователи совершают покупки в течении первых минут пользования сервисом, но в основном числе не возвращаются за второй покупкой - следует изучить причины."
   ]
  }
 ],
 "metadata": {
  "ExecuteTimeLog": [
   {
    "duration": 557,
    "start_time": "2021-08-11T09:11:46.109Z"
   },
   {
    "duration": 580,
    "start_time": "2021-08-11T09:13:15.799Z"
   },
   {
    "duration": 13,
    "start_time": "2021-08-11T09:13:45.277Z"
   },
   {
    "duration": 1973,
    "start_time": "2021-08-11T09:14:02.068Z"
   },
   {
    "duration": 53,
    "start_time": "2021-08-11T09:14:29.503Z"
   },
   {
    "duration": 7,
    "start_time": "2021-08-11T09:14:41.189Z"
   },
   {
    "duration": 38,
    "start_time": "2021-08-11T09:14:52.359Z"
   },
   {
    "duration": 229,
    "start_time": "2021-08-11T09:15:07.799Z"
   },
   {
    "duration": 7,
    "start_time": "2021-08-11T09:15:17.431Z"
   },
   {
    "duration": 97,
    "start_time": "2021-08-11T09:20:12.095Z"
   },
   {
    "duration": 88,
    "start_time": "2021-08-11T09:20:35.289Z"
   },
   {
    "duration": 9,
    "start_time": "2021-08-11T09:20:36.089Z"
   },
   {
    "duration": 28,
    "start_time": "2021-08-11T09:20:59.479Z"
   },
   {
    "duration": 13,
    "start_time": "2021-08-11T09:27:56.200Z"
   },
   {
    "duration": 8,
    "start_time": "2021-08-11T09:27:57.071Z"
   },
   {
    "duration": 80,
    "start_time": "2021-08-11T09:28:52.845Z"
   },
   {
    "duration": 5,
    "start_time": "2021-08-11T09:30:05.478Z"
   },
   {
    "duration": 7,
    "start_time": "2021-08-11T09:30:06.520Z"
   },
   {
    "duration": 7,
    "start_time": "2021-08-11T09:30:16.296Z"
   },
   {
    "duration": 220,
    "start_time": "2021-08-11T10:21:50.345Z"
   },
   {
    "duration": 412,
    "start_time": "2021-08-11T10:21:56.263Z"
   },
   {
    "duration": 122,
    "start_time": "2021-08-11T10:22:03.561Z"
   },
   {
    "duration": 10,
    "start_time": "2021-08-11T10:22:24.403Z"
   },
   {
    "duration": 174,
    "start_time": "2021-08-11T10:25:41.721Z"
   },
   {
    "duration": 388,
    "start_time": "2021-08-11T10:31:36.826Z"
   },
   {
    "duration": 309,
    "start_time": "2021-08-11T10:31:38.246Z"
   },
   {
    "duration": 109,
    "start_time": "2021-08-11T10:34:27.406Z"
   },
   {
    "duration": 11,
    "start_time": "2021-08-11T10:34:28.606Z"
   },
   {
    "duration": 262,
    "start_time": "2021-08-11T10:37:42.466Z"
   },
   {
    "duration": 176,
    "start_time": "2021-08-11T10:38:31.126Z"
   },
   {
    "duration": 181,
    "start_time": "2021-08-11T10:38:40.612Z"
   },
   {
    "duration": 206,
    "start_time": "2021-08-11T10:38:48.476Z"
   },
   {
    "duration": 5,
    "start_time": "2021-08-11T10:39:07.156Z"
   },
   {
    "duration": 239,
    "start_time": "2021-08-11T10:40:34.947Z"
   },
   {
    "duration": 230,
    "start_time": "2021-08-11T10:40:53.546Z"
   },
   {
    "duration": 260,
    "start_time": "2021-08-11T10:41:07.324Z"
   },
   {
    "duration": 389,
    "start_time": "2021-08-11T10:41:18.918Z"
   },
   {
    "duration": 362,
    "start_time": "2021-08-11T10:41:26.121Z"
   },
   {
    "duration": 213,
    "start_time": "2021-08-11T10:41:52.871Z"
   },
   {
    "duration": 236,
    "start_time": "2021-08-11T10:41:59.800Z"
   },
   {
    "duration": 409,
    "start_time": "2021-08-11T10:42:01.671Z"
   },
   {
    "duration": 245,
    "start_time": "2021-08-11T10:42:02.112Z"
   },
   {
    "duration": 4,
    "start_time": "2021-08-11T10:42:10.211Z"
   },
   {
    "duration": 216,
    "start_time": "2021-08-11T10:43:59.824Z"
   },
   {
    "duration": 255,
    "start_time": "2021-08-11T10:44:06.069Z"
   },
   {
    "duration": 244,
    "start_time": "2021-08-11T10:44:11.569Z"
   },
   {
    "duration": 355,
    "start_time": "2021-08-11T10:44:20.217Z"
   },
   {
    "duration": 391,
    "start_time": "2021-08-11T10:44:45.351Z"
   },
   {
    "duration": 101,
    "start_time": "2021-08-11T10:47:13.404Z"
   },
   {
    "duration": 208,
    "start_time": "2021-08-11T10:47:26.504Z"
   },
   {
    "duration": 700,
    "start_time": "2021-08-11T10:47:29.740Z"
   },
   {
    "duration": 659,
    "start_time": "2021-08-11T10:47:59.372Z"
   },
   {
    "duration": 9,
    "start_time": "2021-08-11T10:49:10.605Z"
   },
   {
    "duration": 9,
    "start_time": "2021-08-11T10:49:27.025Z"
   },
   {
    "duration": 7,
    "start_time": "2021-08-11T10:51:06.410Z"
   },
   {
    "duration": 74,
    "start_time": "2021-08-11T10:53:31.699Z"
   },
   {
    "duration": 6,
    "start_time": "2021-08-11T10:54:55.994Z"
   },
   {
    "duration": 8,
    "start_time": "2021-08-11T10:55:08.971Z"
   },
   {
    "duration": 7,
    "start_time": "2021-08-11T10:55:19.821Z"
   },
   {
    "duration": 662,
    "start_time": "2021-08-11T10:56:19.084Z"
   },
   {
    "duration": 224,
    "start_time": "2021-08-11T12:29:40.359Z"
   },
   {
    "duration": 3,
    "start_time": "2021-08-11T12:29:46.443Z"
   },
   {
    "duration": 529,
    "start_time": "2021-08-11T12:29:47.370Z"
   },
   {
    "duration": 179,
    "start_time": "2021-08-11T12:29:47.900Z"
   },
   {
    "duration": 12,
    "start_time": "2021-08-11T12:29:48.080Z"
   },
   {
    "duration": 49,
    "start_time": "2021-08-11T12:29:48.316Z"
   },
   {
    "duration": 14,
    "start_time": "2021-08-11T12:29:48.678Z"
   },
   {
    "duration": 8,
    "start_time": "2021-08-11T12:29:48.847Z"
   },
   {
    "duration": 39,
    "start_time": "2021-08-11T12:29:49.241Z"
   },
   {
    "duration": 5,
    "start_time": "2021-08-11T12:29:49.609Z"
   },
   {
    "duration": 9,
    "start_time": "2021-08-11T12:29:49.799Z"
   },
   {
    "duration": 112,
    "start_time": "2021-08-11T12:29:50.187Z"
   },
   {
    "duration": 10,
    "start_time": "2021-08-11T12:29:50.358Z"
   },
   {
    "duration": 382,
    "start_time": "2021-08-11T12:29:51.214Z"
   },
   {
    "duration": 294,
    "start_time": "2021-08-11T12:29:51.598Z"
   },
   {
    "duration": 7,
    "start_time": "2021-08-11T12:29:51.894Z"
   },
   {
    "duration": 757,
    "start_time": "2021-08-11T12:29:52.119Z"
   },
   {
    "duration": 218,
    "start_time": "2021-08-11T12:29:52.878Z"
   },
   {
    "duration": 223,
    "start_time": "2021-08-11T12:31:26.847Z"
   },
   {
    "duration": 233,
    "start_time": "2021-08-11T12:31:44.193Z"
   },
   {
    "duration": 242,
    "start_time": "2021-08-13T07:24:15.672Z"
   },
   {
    "duration": 579,
    "start_time": "2021-08-13T08:00:34.984Z"
   },
   {
    "duration": 595,
    "start_time": "2021-08-13T08:00:35.873Z"
   },
   {
    "duration": 192,
    "start_time": "2021-08-13T08:00:36.470Z"
   },
   {
    "duration": 21,
    "start_time": "2021-08-13T08:00:36.664Z"
   },
   {
    "duration": 54,
    "start_time": "2021-08-13T08:00:36.692Z"
   },
   {
    "duration": 15,
    "start_time": "2021-08-13T08:00:37.284Z"
   },
   {
    "duration": 8,
    "start_time": "2021-08-13T08:00:37.449Z"
   },
   {
    "duration": 74,
    "start_time": "2021-08-13T08:00:37.848Z"
   },
   {
    "duration": 5,
    "start_time": "2021-08-13T08:00:39.093Z"
   },
   {
    "duration": 10,
    "start_time": "2021-08-13T08:00:39.100Z"
   },
   {
    "duration": 142,
    "start_time": "2021-08-13T08:00:39.112Z"
   },
   {
    "duration": 10,
    "start_time": "2021-08-13T08:00:39.256Z"
   },
   {
    "duration": 410,
    "start_time": "2021-08-13T08:00:39.633Z"
   },
   {
    "duration": 325,
    "start_time": "2021-08-13T08:00:40.045Z"
   },
   {
    "duration": 7,
    "start_time": "2021-08-13T08:00:40.660Z"
   },
   {
    "duration": 826,
    "start_time": "2021-08-13T08:00:41.624Z"
   },
   {
    "duration": 240,
    "start_time": "2021-08-13T08:00:44.697Z"
   },
   {
    "duration": 600,
    "start_time": "2021-08-13T10:58:30.522Z"
   },
   {
    "duration": 552,
    "start_time": "2021-08-13T10:59:19.564Z"
   },
   {
    "duration": 711,
    "start_time": "2021-08-13T10:59:30.975Z"
   },
   {
    "duration": 623,
    "start_time": "2021-08-13T11:00:22.167Z"
   },
   {
    "duration": 706,
    "start_time": "2021-08-13T11:00:44.185Z"
   },
   {
    "duration": 446,
    "start_time": "2021-08-13T11:01:37.719Z"
   },
   {
    "duration": 3,
    "start_time": "2021-08-13T11:02:04.663Z"
   },
   {
    "duration": 754,
    "start_time": "2021-08-13T11:02:05.839Z"
   },
   {
    "duration": 755,
    "start_time": "2021-08-13T11:02:36.506Z"
   },
   {
    "duration": 51,
    "start_time": "2021-08-13T11:08:36.258Z"
   },
   {
    "duration": 4649,
    "start_time": "2021-08-13T11:09:07.506Z"
   },
   {
    "duration": 98,
    "start_time": "2021-08-13T11:09:17.441Z"
   },
   {
    "duration": 120,
    "start_time": "2021-08-13T11:10:52.571Z"
   },
   {
    "duration": 241,
    "start_time": "2021-08-13T11:13:41.592Z"
   },
   {
    "duration": 392,
    "start_time": "2021-08-13T11:13:58.995Z"
   },
   {
    "duration": 294,
    "start_time": "2021-08-13T11:14:07.174Z"
   },
   {
    "duration": 319,
    "start_time": "2021-08-13T11:14:12.887Z"
   },
   {
    "duration": 313,
    "start_time": "2021-08-13T11:14:17.434Z"
   },
   {
    "duration": 778,
    "start_time": "2021-08-13T11:14:32.854Z"
   },
   {
    "duration": 417,
    "start_time": "2021-08-13T11:16:26.409Z"
   },
   {
    "duration": 335,
    "start_time": "2021-08-13T11:17:35.301Z"
   },
   {
    "duration": 32,
    "start_time": "2021-08-13T12:14:40.663Z"
   },
   {
    "duration": 281,
    "start_time": "2021-08-13T12:15:09.013Z"
   },
   {
    "duration": 303,
    "start_time": "2021-08-13T12:18:23.505Z"
   },
   {
    "duration": 3,
    "start_time": "2021-08-13T12:22:15.530Z"
   },
   {
    "duration": 545,
    "start_time": "2021-08-13T12:22:16.428Z"
   },
   {
    "duration": 175,
    "start_time": "2021-08-13T12:22:17.929Z"
   },
   {
    "duration": 9,
    "start_time": "2021-08-13T12:22:18.808Z"
   },
   {
    "duration": 51,
    "start_time": "2021-08-13T12:22:21.046Z"
   },
   {
    "duration": 15,
    "start_time": "2021-08-13T12:22:22.412Z"
   },
   {
    "duration": 13,
    "start_time": "2021-08-13T12:22:23.085Z"
   },
   {
    "duration": 41,
    "start_time": "2021-08-13T12:22:25.654Z"
   },
   {
    "duration": 5,
    "start_time": "2021-08-13T12:22:27.207Z"
   },
   {
    "duration": 7,
    "start_time": "2021-08-13T12:22:27.371Z"
   },
   {
    "duration": 227,
    "start_time": "2021-08-13T12:22:30.143Z"
   },
   {
    "duration": 300,
    "start_time": "2021-08-13T12:22:30.733Z"
   },
   {
    "duration": 7,
    "start_time": "2021-08-13T12:22:32.636Z"
   },
   {
    "duration": 3,
    "start_time": "2021-08-13T12:22:34.862Z"
   },
   {
    "duration": 747,
    "start_time": "2021-08-13T12:22:35.595Z"
   },
   {
    "duration": 25,
    "start_time": "2021-08-13T12:22:41.697Z"
   },
   {
    "duration": 103,
    "start_time": "2021-08-13T12:22:42.237Z"
   },
   {
    "duration": 107,
    "start_time": "2021-08-13T12:22:42.383Z"
   },
   {
    "duration": 316,
    "start_time": "2021-08-13T12:22:42.592Z"
   },
   {
    "duration": 18,
    "start_time": "2021-08-13T12:22:51.487Z"
   },
   {
    "duration": 241,
    "start_time": "2021-08-13T12:22:51.925Z"
   },
   {
    "duration": 330,
    "start_time": "2021-08-13T13:36:26.366Z"
   },
   {
    "duration": 2,
    "start_time": "2021-08-13T13:36:29.688Z"
   },
   {
    "duration": 319,
    "start_time": "2021-08-13T13:36:30.165Z"
   },
   {
    "duration": 1391,
    "start_time": "2021-08-13T13:40:15.425Z"
   },
   {
    "duration": 3,
    "start_time": "2021-08-13T13:41:06.720Z"
   },
   {
    "duration": 336,
    "start_time": "2021-08-13T13:41:09.225Z"
   },
   {
    "duration": 3,
    "start_time": "2021-08-13T13:43:31.318Z"
   },
   {
    "duration": 571,
    "start_time": "2021-08-13T13:43:31.922Z"
   },
   {
    "duration": 174,
    "start_time": "2021-08-13T13:43:32.495Z"
   },
   {
    "duration": 15,
    "start_time": "2021-08-13T13:43:32.671Z"
   },
   {
    "duration": 52,
    "start_time": "2021-08-13T13:43:32.881Z"
   },
   {
    "duration": 15,
    "start_time": "2021-08-13T13:43:34.870Z"
   },
   {
    "duration": 8,
    "start_time": "2021-08-13T13:43:35.049Z"
   },
   {
    "duration": 63,
    "start_time": "2021-08-13T13:43:35.399Z"
   },
   {
    "duration": 5,
    "start_time": "2021-08-13T13:43:38.468Z"
   },
   {
    "duration": 8,
    "start_time": "2021-08-13T13:43:38.648Z"
   },
   {
    "duration": 212,
    "start_time": "2021-08-13T13:43:39.398Z"
   },
   {
    "duration": 303,
    "start_time": "2021-08-13T13:43:39.612Z"
   },
   {
    "duration": 7,
    "start_time": "2021-08-13T13:43:40.729Z"
   },
   {
    "duration": 2,
    "start_time": "2021-08-13T13:43:41.058Z"
   },
   {
    "duration": 745,
    "start_time": "2021-08-13T13:43:41.208Z"
   },
   {
    "duration": 26,
    "start_time": "2021-08-13T13:43:44.048Z"
   },
   {
    "duration": 103,
    "start_time": "2021-08-13T13:43:44.366Z"
   },
   {
    "duration": 106,
    "start_time": "2021-08-13T13:43:44.498Z"
   },
   {
    "duration": 328,
    "start_time": "2021-08-13T13:43:44.638Z"
   },
   {
    "duration": 19,
    "start_time": "2021-08-13T13:43:47.079Z"
   },
   {
    "duration": 343,
    "start_time": "2021-08-13T13:43:47.221Z"
   },
   {
    "duration": 2,
    "start_time": "2021-08-13T13:43:50.498Z"
   },
   {
    "duration": 1470,
    "start_time": "2021-08-13T13:43:53.456Z"
   },
   {
    "duration": 330,
    "start_time": "2021-08-13T13:44:08.490Z"
   },
   {
    "duration": 4768,
    "start_time": "2021-08-13T13:44:29.810Z"
   },
   {
    "duration": 230,
    "start_time": "2021-08-13T13:44:51.589Z"
   },
   {
    "duration": 951,
    "start_time": "2021-08-16T09:48:23.466Z"
   },
   {
    "duration": 1051,
    "start_time": "2021-08-16T09:48:33.555Z"
   },
   {
    "duration": 822,
    "start_time": "2021-08-16T09:49:39.113Z"
   },
   {
    "duration": 7134,
    "start_time": "2021-08-16T09:49:55.834Z"
   },
   {
    "duration": 6065,
    "start_time": "2021-08-16T09:50:55.687Z"
   },
   {
    "duration": 22,
    "start_time": "2021-08-16T09:51:02.257Z"
   },
   {
    "duration": 3,
    "start_time": "2021-08-16T09:51:24.729Z"
   },
   {
    "duration": 735,
    "start_time": "2021-08-16T09:51:25.712Z"
   },
   {
    "duration": 232,
    "start_time": "2021-08-16T09:51:28.173Z"
   },
   {
    "duration": 15,
    "start_time": "2021-08-16T09:51:40.602Z"
   },
   {
    "duration": 18,
    "start_time": "2021-08-16T09:51:41.941Z"
   },
   {
    "duration": 82,
    "start_time": "2021-08-16T09:51:50.564Z"
   },
   {
    "duration": 31,
    "start_time": "2021-08-16T09:52:06.817Z"
   },
   {
    "duration": 6,
    "start_time": "2021-08-16T09:53:34.030Z"
   },
   {
    "duration": 10,
    "start_time": "2021-08-16T09:53:34.777Z"
   },
   {
    "duration": 37,
    "start_time": "2021-08-16T09:53:44.542Z"
   },
   {
    "duration": 6,
    "start_time": "2021-08-16T09:53:45.423Z"
   },
   {
    "duration": 11,
    "start_time": "2021-08-16T09:53:46.042Z"
   },
   {
    "duration": 6819,
    "start_time": "2021-08-16T09:53:49.684Z"
   },
   {
    "duration": 6706,
    "start_time": "2021-08-16T09:54:16.899Z"
   },
   {
    "duration": 316,
    "start_time": "2021-08-16T09:54:46.369Z"
   },
   {
    "duration": 386,
    "start_time": "2021-08-16T09:55:58.148Z"
   },
   {
    "duration": 11,
    "start_time": "2021-08-16T09:56:00.971Z"
   },
   {
    "duration": 119,
    "start_time": "2021-08-16T09:56:03.133Z"
   },
   {
    "duration": 1169,
    "start_time": "2021-08-16T09:56:06.679Z"
   },
   {
    "duration": 40,
    "start_time": "2021-08-16T09:56:25.138Z"
   },
   {
    "duration": 144,
    "start_time": "2021-08-16T09:56:25.797Z"
   },
   {
    "duration": 153,
    "start_time": "2021-08-16T09:56:26.096Z"
   },
   {
    "duration": 587,
    "start_time": "2021-08-16T09:56:26.428Z"
   },
   {
    "duration": 24,
    "start_time": "2021-08-16T09:56:46.625Z"
   },
   {
    "duration": 463,
    "start_time": "2021-08-16T09:56:47.916Z"
   },
   {
    "duration": 4,
    "start_time": "2021-08-16T09:58:19.650Z"
   },
   {
    "duration": 710,
    "start_time": "2021-08-16T10:01:02.107Z"
   },
   {
    "duration": 326,
    "start_time": "2021-08-16T10:01:03.338Z"
   },
   {
    "duration": 476,
    "start_time": "2021-08-16T10:01:19.362Z"
   },
   {
    "duration": 6750,
    "start_time": "2021-08-16T10:01:58.587Z"
   },
   {
    "duration": 327,
    "start_time": "2021-08-16T11:44:12.473Z"
   },
   {
    "duration": 4,
    "start_time": "2021-08-16T11:44:20.895Z"
   },
   {
    "duration": 881,
    "start_time": "2021-08-16T11:44:22.034Z"
   },
   {
    "duration": 254,
    "start_time": "2021-08-16T11:44:22.918Z"
   },
   {
    "duration": 14,
    "start_time": "2021-08-16T11:44:23.175Z"
   },
   {
    "duration": 13,
    "start_time": "2021-08-16T11:44:23.192Z"
   },
   {
    "duration": 81,
    "start_time": "2021-08-16T11:44:23.207Z"
   },
   {
    "duration": 20,
    "start_time": "2021-08-16T11:44:23.291Z"
   },
   {
    "duration": 6,
    "start_time": "2021-08-16T11:44:25.151Z"
   },
   {
    "duration": 11,
    "start_time": "2021-08-16T11:44:25.387Z"
   },
   {
    "duration": 43,
    "start_time": "2021-08-16T11:44:26.861Z"
   },
   {
    "duration": 7,
    "start_time": "2021-08-16T11:44:27.183Z"
   },
   {
    "duration": 13,
    "start_time": "2021-08-16T11:44:27.345Z"
   },
   {
    "duration": 305,
    "start_time": "2021-08-16T11:44:28.086Z"
   },
   {
    "duration": 366,
    "start_time": "2021-08-16T11:44:29.322Z"
   },
   {
    "duration": 10,
    "start_time": "2021-08-16T11:44:29.691Z"
   },
   {
    "duration": 4,
    "start_time": "2021-08-16T11:44:31.105Z"
   },
   {
    "duration": 1167,
    "start_time": "2021-08-16T11:44:31.378Z"
   },
   {
    "duration": 50,
    "start_time": "2021-08-16T11:44:32.548Z"
   },
   {
    "duration": 143,
    "start_time": "2021-08-16T11:44:34.824Z"
   },
   {
    "duration": 143,
    "start_time": "2021-08-16T11:44:35.157Z"
   },
   {
    "duration": 570,
    "start_time": "2021-08-16T11:44:35.502Z"
   },
   {
    "duration": 26,
    "start_time": "2021-08-16T11:44:38.158Z"
   },
   {
    "duration": 402,
    "start_time": "2021-08-16T11:44:38.322Z"
   },
   {
    "duration": 4,
    "start_time": "2021-08-16T11:44:40.435Z"
   },
   {
    "duration": 2259,
    "start_time": "2021-08-16T11:44:40.944Z"
   },
   {
    "duration": 300,
    "start_time": "2021-08-16T11:46:08.749Z"
   },
   {
    "duration": 4,
    "start_time": "2021-08-16T12:18:05.178Z"
   },
   {
    "duration": 729,
    "start_time": "2021-08-16T12:18:06.446Z"
   },
   {
    "duration": 233,
    "start_time": "2021-08-16T12:18:07.657Z"
   },
   {
    "duration": 14,
    "start_time": "2021-08-16T12:18:07.893Z"
   },
   {
    "duration": 13,
    "start_time": "2021-08-16T12:18:08.029Z"
   },
   {
    "duration": 62,
    "start_time": "2021-08-16T12:18:09.680Z"
   },
   {
    "duration": 19,
    "start_time": "2021-08-16T12:18:10.800Z"
   },
   {
    "duration": 6,
    "start_time": "2021-08-16T12:18:12.263Z"
   },
   {
    "duration": 11,
    "start_time": "2021-08-16T12:18:12.871Z"
   },
   {
    "duration": 36,
    "start_time": "2021-08-16T12:18:15.031Z"
   },
   {
    "duration": 6,
    "start_time": "2021-08-16T12:18:15.346Z"
   },
   {
    "duration": 12,
    "start_time": "2021-08-16T12:18:15.486Z"
   },
   {
    "duration": 334,
    "start_time": "2021-08-16T12:18:16.315Z"
   },
   {
    "duration": 389,
    "start_time": "2021-08-16T12:18:16.651Z"
   },
   {
    "duration": 22,
    "start_time": "2021-08-16T12:18:17.043Z"
   },
   {
    "duration": 3,
    "start_time": "2021-08-16T12:18:17.595Z"
   },
   {
    "duration": 1431,
    "start_time": "2021-08-16T12:18:17.808Z"
   },
   {
    "duration": 84,
    "start_time": "2021-08-16T12:18:19.243Z"
   },
   {
    "duration": 205,
    "start_time": "2021-08-16T12:18:20.685Z"
   },
   {
    "duration": 216,
    "start_time": "2021-08-16T12:18:20.894Z"
   },
   {
    "duration": 717,
    "start_time": "2021-08-16T12:18:21.113Z"
   },
   {
    "duration": 34,
    "start_time": "2021-08-16T12:18:24.750Z"
   },
   {
    "duration": 800,
    "start_time": "2021-08-16T12:18:25.262Z"
   },
   {
    "duration": 5,
    "start_time": "2021-08-16T12:18:28.833Z"
   },
   {
    "duration": 1822,
    "start_time": "2021-08-16T12:18:31.928Z"
   },
   {
    "duration": 82,
    "start_time": "2021-08-16T12:18:55.751Z"
   },
   {
    "duration": 73,
    "start_time": "2021-08-16T12:19:17.998Z"
   },
   {
    "duration": 78,
    "start_time": "2021-08-16T12:19:39.034Z"
   },
   {
    "duration": 296,
    "start_time": "2021-08-16T12:19:49.959Z"
   },
   {
    "duration": 6356,
    "start_time": "2021-08-16T12:23:24.048Z"
   },
   {
    "duration": 420,
    "start_time": "2021-08-16T12:24:09.809Z"
   },
   {
    "duration": 1682,
    "start_time": "2021-08-16T12:25:33.135Z"
   },
   {
    "duration": 1603,
    "start_time": "2021-08-16T12:26:00.220Z"
   },
   {
    "duration": 1586,
    "start_time": "2021-08-16T12:26:20.156Z"
   },
   {
    "duration": 10165,
    "start_time": "2021-08-16T12:27:38.427Z"
   },
   {
    "duration": 263,
    "start_time": "2021-08-16T12:29:23.666Z"
   },
   {
    "duration": 260,
    "start_time": "2021-08-16T12:29:40.523Z"
   },
   {
    "duration": 6341,
    "start_time": "2021-08-16T12:30:34.734Z"
   },
   {
    "duration": 16,
    "start_time": "2021-08-16T12:31:04.867Z"
   },
   {
    "duration": 36,
    "start_time": "2021-08-16T12:31:33.019Z"
   },
   {
    "duration": 92,
    "start_time": "2021-08-16T12:32:16.299Z"
   },
   {
    "duration": 299,
    "start_time": "2021-08-16T12:41:51.496Z"
   },
   {
    "duration": 935,
    "start_time": "2021-08-17T06:01:55.109Z"
   },
   {
    "duration": 819,
    "start_time": "2021-08-17T06:01:56.931Z"
   },
   {
    "duration": 244,
    "start_time": "2021-08-17T06:01:59.351Z"
   },
   {
    "duration": 18,
    "start_time": "2021-08-17T06:01:59.875Z"
   },
   {
    "duration": 23,
    "start_time": "2021-08-17T06:02:00.086Z"
   },
   {
    "duration": 65,
    "start_time": "2021-08-17T06:02:01.941Z"
   },
   {
    "duration": 20,
    "start_time": "2021-08-17T06:02:03.877Z"
   },
   {
    "duration": 5,
    "start_time": "2021-08-17T06:02:04.431Z"
   },
   {
    "duration": 10,
    "start_time": "2021-08-17T06:02:04.720Z"
   },
   {
    "duration": 55,
    "start_time": "2021-08-17T06:02:06.499Z"
   },
   {
    "duration": 7,
    "start_time": "2021-08-17T06:02:07.680Z"
   },
   {
    "duration": 11,
    "start_time": "2021-08-17T06:02:08.277Z"
   },
   {
    "duration": 326,
    "start_time": "2021-08-17T06:02:17.184Z"
   },
   {
    "duration": 401,
    "start_time": "2021-08-17T06:02:18.517Z"
   },
   {
    "duration": 10,
    "start_time": "2021-08-17T06:02:20.813Z"
   },
   {
    "duration": 110,
    "start_time": "2021-08-17T06:02:22.609Z"
   },
   {
    "duration": 1137,
    "start_time": "2021-08-17T06:02:23.400Z"
   },
   {
    "duration": 42,
    "start_time": "2021-08-17T06:02:28.355Z"
   },
   {
    "duration": 145,
    "start_time": "2021-08-17T06:02:29.333Z"
   },
   {
    "duration": 139,
    "start_time": "2021-08-17T06:02:30.573Z"
   },
   {
    "duration": 516,
    "start_time": "2021-08-17T06:02:31.266Z"
   },
   {
    "duration": 25,
    "start_time": "2021-08-17T06:02:34.932Z"
   },
   {
    "duration": 455,
    "start_time": "2021-08-17T06:02:36.255Z"
   },
   {
    "duration": 587,
    "start_time": "2021-08-17T06:02:39.800Z"
   },
   {
    "duration": 1891,
    "start_time": "2021-08-17T06:02:41.023Z"
   },
   {
    "duration": 421,
    "start_time": "2021-08-17T06:03:16.935Z"
   },
   {
    "duration": 293,
    "start_time": "2021-08-17T06:03:27.516Z"
   },
   {
    "duration": 206,
    "start_time": "2021-08-17T06:29:11.525Z"
   },
   {
    "duration": 450,
    "start_time": "2021-08-17T06:29:21.938Z"
   },
   {
    "duration": 571,
    "start_time": "2021-08-17T06:31:17.216Z"
   },
   {
    "duration": 401,
    "start_time": "2021-08-17T06:32:06.427Z"
   },
   {
    "duration": 1574,
    "start_time": "2021-08-17T06:32:21.388Z"
   },
   {
    "duration": 2651,
    "start_time": "2021-08-17T06:32:52.573Z"
   },
   {
    "duration": 2431,
    "start_time": "2021-08-17T06:33:13.312Z"
   },
   {
    "duration": 1310,
    "start_time": "2021-08-17T06:33:37.387Z"
   },
   {
    "duration": 1687,
    "start_time": "2021-08-17T06:34:42.318Z"
   },
   {
    "duration": 14,
    "start_time": "2021-08-17T06:52:35.848Z"
   },
   {
    "duration": 7,
    "start_time": "2021-08-17T06:53:28.174Z"
   },
   {
    "duration": 8,
    "start_time": "2021-08-17T06:54:05.690Z"
   },
   {
    "duration": 255,
    "start_time": "2021-08-17T06:57:32.240Z"
   },
   {
    "duration": 277,
    "start_time": "2021-08-17T06:58:05.340Z"
   },
   {
    "duration": 8,
    "start_time": "2021-08-17T06:58:23.440Z"
   },
   {
    "duration": 24,
    "start_time": "2021-08-17T06:58:50.101Z"
   },
   {
    "duration": 27,
    "start_time": "2021-08-17T07:00:33.375Z"
   },
   {
    "duration": 13,
    "start_time": "2021-08-17T07:01:32.694Z"
   },
   {
    "duration": 322,
    "start_time": "2021-08-17T07:05:03.889Z"
   },
   {
    "duration": 888,
    "start_time": "2021-08-17T07:06:13.140Z"
   },
   {
    "duration": 260,
    "start_time": "2021-08-17T07:06:27.299Z"
   },
   {
    "duration": 266,
    "start_time": "2021-08-17T07:07:23.848Z"
   },
   {
    "duration": 309,
    "start_time": "2021-08-17T07:07:32.909Z"
   },
   {
    "duration": 281,
    "start_time": "2021-08-17T07:09:37.542Z"
   },
   {
    "duration": 227,
    "start_time": "2021-08-17T07:13:42.285Z"
   },
   {
    "duration": 825,
    "start_time": "2021-08-18T12:21:30.990Z"
   },
   {
    "duration": 806,
    "start_time": "2021-08-18T12:21:32.251Z"
   },
   {
    "duration": 270,
    "start_time": "2021-08-18T12:21:33.059Z"
   },
   {
    "duration": 18,
    "start_time": "2021-08-18T12:21:33.332Z"
   },
   {
    "duration": 37,
    "start_time": "2021-08-18T12:21:33.353Z"
   },
   {
    "duration": 88,
    "start_time": "2021-08-18T12:21:33.392Z"
   },
   {
    "duration": 18,
    "start_time": "2021-08-18T12:21:33.539Z"
   },
   {
    "duration": 5,
    "start_time": "2021-08-18T12:21:33.695Z"
   },
   {
    "duration": 12,
    "start_time": "2021-08-18T12:21:33.847Z"
   },
   {
    "duration": 72,
    "start_time": "2021-08-18T12:21:34.166Z"
   },
   {
    "duration": 6,
    "start_time": "2021-08-18T12:21:35.629Z"
   },
   {
    "duration": 11,
    "start_time": "2021-08-18T12:21:35.792Z"
   },
   {
    "duration": 318,
    "start_time": "2021-08-18T12:21:38.155Z"
   },
   {
    "duration": 424,
    "start_time": "2021-08-18T12:21:38.476Z"
   },
   {
    "duration": 11,
    "start_time": "2021-08-18T12:21:38.902Z"
   },
   {
    "duration": 126,
    "start_time": "2021-08-18T12:21:40.330Z"
   },
   {
    "duration": 1166,
    "start_time": "2021-08-18T12:21:40.519Z"
   },
   {
    "duration": 41,
    "start_time": "2021-08-18T12:21:43.954Z"
   },
   {
    "duration": 161,
    "start_time": "2021-08-18T12:21:45.259Z"
   },
   {
    "duration": 140,
    "start_time": "2021-08-18T12:21:46.390Z"
   },
   {
    "duration": 511,
    "start_time": "2021-08-18T12:21:46.575Z"
   },
   {
    "duration": 24,
    "start_time": "2021-08-18T12:21:48.542Z"
   },
   {
    "duration": 457,
    "start_time": "2021-08-18T12:21:49.082Z"
   },
   {
    "duration": 555,
    "start_time": "2021-08-18T12:21:54.801Z"
   },
   {
    "duration": 1844,
    "start_time": "2021-08-18T12:21:59.407Z"
   },
   {
    "duration": 540,
    "start_time": "2021-08-18T12:22:14.259Z"
   },
   {
    "duration": 443,
    "start_time": "2021-08-18T12:22:28.488Z"
   },
   {
    "duration": 12346,
    "start_time": "2021-08-18T12:23:07.757Z"
   },
   {
    "duration": 1953,
    "start_time": "2021-08-18T12:23:39.150Z"
   },
   {
    "duration": 10378,
    "start_time": "2021-08-18T12:23:46.580Z"
   },
   {
    "duration": 456,
    "start_time": "2021-08-18T12:24:20.572Z"
   },
   {
    "duration": 576,
    "start_time": "2021-08-18T12:24:28.911Z"
   },
   {
    "duration": 4,
    "start_time": "2021-08-18T12:24:43.282Z"
   },
   {
    "duration": 741,
    "start_time": "2021-08-18T12:24:44.014Z"
   },
   {
    "duration": 253,
    "start_time": "2021-08-18T12:24:44.758Z"
   },
   {
    "duration": 17,
    "start_time": "2021-08-18T12:24:45.014Z"
   },
   {
    "duration": 13,
    "start_time": "2021-08-18T12:24:45.034Z"
   },
   {
    "duration": 67,
    "start_time": "2021-08-18T12:24:45.465Z"
   },
   {
    "duration": 19,
    "start_time": "2021-08-18T12:24:45.937Z"
   },
   {
    "duration": 8,
    "start_time": "2021-08-18T12:24:46.137Z"
   },
   {
    "duration": 11,
    "start_time": "2021-08-18T12:24:46.329Z"
   },
   {
    "duration": 64,
    "start_time": "2021-08-18T12:24:46.750Z"
   },
   {
    "duration": 7,
    "start_time": "2021-08-18T12:24:47.284Z"
   },
   {
    "duration": 11,
    "start_time": "2021-08-18T12:24:47.462Z"
   },
   {
    "duration": 333,
    "start_time": "2021-08-18T12:24:48.696Z"
   },
   {
    "duration": 388,
    "start_time": "2021-08-18T12:24:49.032Z"
   },
   {
    "duration": 10,
    "start_time": "2021-08-18T12:24:49.452Z"
   },
   {
    "duration": 4,
    "start_time": "2021-08-18T12:24:50.271Z"
   },
   {
    "duration": 1464,
    "start_time": "2021-08-18T12:24:50.536Z"
   },
   {
    "duration": 44,
    "start_time": "2021-08-18T12:24:52.235Z"
   },
   {
    "duration": 155,
    "start_time": "2021-08-18T12:24:52.570Z"
   },
   {
    "duration": 144,
    "start_time": "2021-08-18T12:24:52.731Z"
   },
   {
    "duration": 701,
    "start_time": "2021-08-18T12:24:52.884Z"
   },
   {
    "duration": 28,
    "start_time": "2021-08-18T12:24:55.543Z"
   },
   {
    "duration": 521,
    "start_time": "2021-08-18T12:24:56.715Z"
   },
   {
    "duration": 1905,
    "start_time": "2021-08-18T12:25:26.562Z"
   },
   {
    "duration": 512,
    "start_time": "2021-08-18T12:25:35.009Z"
   },
   {
    "duration": 9973,
    "start_time": "2021-08-18T12:25:44.264Z"
   },
   {
    "duration": 417,
    "start_time": "2021-08-18T12:26:14.321Z"
   },
   {
    "duration": 403,
    "start_time": "2021-08-18T12:26:23.306Z"
   },
   {
    "duration": 11346,
    "start_time": "2021-08-18T12:28:39.020Z"
   },
   {
    "duration": 4,
    "start_time": "2021-08-18T12:29:04.114Z"
   },
   {
    "duration": 775,
    "start_time": "2021-08-18T12:29:04.878Z"
   },
   {
    "duration": 275,
    "start_time": "2021-08-18T12:29:05.656Z"
   },
   {
    "duration": 15,
    "start_time": "2021-08-18T12:29:06.185Z"
   },
   {
    "duration": 13,
    "start_time": "2021-08-18T12:29:06.396Z"
   },
   {
    "duration": 67,
    "start_time": "2021-08-18T12:29:06.718Z"
   },
   {
    "duration": 22,
    "start_time": "2021-08-18T12:29:07.026Z"
   },
   {
    "duration": 7,
    "start_time": "2021-08-18T12:29:07.200Z"
   },
   {
    "duration": 11,
    "start_time": "2021-08-18T12:29:07.362Z"
   },
   {
    "duration": 55,
    "start_time": "2021-08-18T12:29:07.674Z"
   },
   {
    "duration": 6,
    "start_time": "2021-08-18T12:29:08.003Z"
   },
   {
    "duration": 10,
    "start_time": "2021-08-18T12:29:08.145Z"
   },
   {
    "duration": 352,
    "start_time": "2021-08-18T12:29:08.920Z"
   },
   {
    "duration": 402,
    "start_time": "2021-08-18T12:29:09.275Z"
   },
   {
    "duration": 14,
    "start_time": "2021-08-18T12:29:09.679Z"
   },
   {
    "duration": 9,
    "start_time": "2021-08-18T12:29:09.696Z"
   },
   {
    "duration": 1782,
    "start_time": "2021-08-18T12:29:09.815Z"
   },
   {
    "duration": 38,
    "start_time": "2021-08-18T12:29:13.618Z"
   },
   {
    "duration": 193,
    "start_time": "2021-08-18T12:29:15.203Z"
   },
   {
    "duration": 152,
    "start_time": "2021-08-18T12:29:15.399Z"
   },
   {
    "duration": 824,
    "start_time": "2021-08-18T12:29:15.554Z"
   },
   {
    "duration": 25,
    "start_time": "2021-08-18T12:29:16.981Z"
   },
   {
    "duration": 556,
    "start_time": "2021-08-18T12:29:17.155Z"
   },
   {
    "duration": 4,
    "start_time": "2021-08-18T12:29:19.002Z"
   },
   {
    "duration": 11526,
    "start_time": "2021-08-18T12:29:19.940Z"
   },
   {
    "duration": 468,
    "start_time": "2021-08-18T13:15:59.204Z"
   },
   {
    "duration": 440,
    "start_time": "2021-08-18T13:16:43.105Z"
   },
   {
    "duration": 14,
    "start_time": "2021-08-18T13:17:03.952Z"
   },
   {
    "duration": 7,
    "start_time": "2021-08-18T13:17:05.624Z"
   },
   {
    "duration": 425,
    "start_time": "2021-08-18T13:17:06.231Z"
   },
   {
    "duration": 408,
    "start_time": "2021-08-18T13:17:27.227Z"
   },
   {
    "duration": 412,
    "start_time": "2021-08-18T13:19:01.413Z"
   },
   {
    "duration": 780,
    "start_time": "2021-08-19T06:29:24.088Z"
   },
   {
    "duration": 782,
    "start_time": "2021-08-19T06:29:25.769Z"
   },
   {
    "duration": 275,
    "start_time": "2021-08-19T06:29:26.554Z"
   },
   {
    "duration": 16,
    "start_time": "2021-08-19T06:29:26.831Z"
   },
   {
    "duration": 36,
    "start_time": "2021-08-19T06:29:26.850Z"
   },
   {
    "duration": 66,
    "start_time": "2021-08-19T06:29:26.889Z"
   },
   {
    "duration": 20,
    "start_time": "2021-08-19T06:29:27.105Z"
   },
   {
    "duration": 6,
    "start_time": "2021-08-19T06:29:27.269Z"
   },
   {
    "duration": 10,
    "start_time": "2021-08-19T06:29:27.439Z"
   },
   {
    "duration": 63,
    "start_time": "2021-08-19T06:29:28.109Z"
   },
   {
    "duration": 6,
    "start_time": "2021-08-19T06:29:28.419Z"
   },
   {
    "duration": 11,
    "start_time": "2021-08-19T06:29:30.189Z"
   },
   {
    "duration": 328,
    "start_time": "2021-08-19T06:29:30.969Z"
   },
   {
    "duration": 429,
    "start_time": "2021-08-19T06:29:31.301Z"
   },
   {
    "duration": 11,
    "start_time": "2021-08-19T06:29:31.733Z"
   },
   {
    "duration": 150,
    "start_time": "2021-08-19T06:29:33.149Z"
   },
   {
    "duration": 1210,
    "start_time": "2021-08-19T06:29:33.363Z"
   },
   {
    "duration": 41,
    "start_time": "2021-08-19T06:29:34.576Z"
   },
   {
    "duration": 137,
    "start_time": "2021-08-19T06:29:36.879Z"
   },
   {
    "duration": 142,
    "start_time": "2021-08-19T06:29:37.025Z"
   },
   {
    "duration": 507,
    "start_time": "2021-08-19T06:29:37.191Z"
   },
   {
    "duration": 25,
    "start_time": "2021-08-19T06:29:39.637Z"
   },
   {
    "duration": 488,
    "start_time": "2021-08-19T06:29:39.979Z"
   },
   {
    "duration": 8618,
    "start_time": "2021-08-19T06:30:23.549Z"
   },
   {
    "duration": 6953,
    "start_time": "2021-08-19T06:33:39.886Z"
   },
   {
    "duration": 4,
    "start_time": "2021-08-19T07:02:57.074Z"
   },
   {
    "duration": 770,
    "start_time": "2021-08-19T07:02:57.892Z"
   },
   {
    "duration": 245,
    "start_time": "2021-08-19T07:02:58.668Z"
   },
   {
    "duration": 14,
    "start_time": "2021-08-19T07:02:58.915Z"
   },
   {
    "duration": 17,
    "start_time": "2021-08-19T07:02:58.932Z"
   },
   {
    "duration": 84,
    "start_time": "2021-08-19T07:02:58.951Z"
   },
   {
    "duration": 22,
    "start_time": "2021-08-19T07:03:00.155Z"
   },
   {
    "duration": 7,
    "start_time": "2021-08-19T07:03:00.353Z"
   },
   {
    "duration": 11,
    "start_time": "2021-08-19T07:03:00.477Z"
   },
   {
    "duration": 37,
    "start_time": "2021-08-19T07:03:00.816Z"
   },
   {
    "duration": 7,
    "start_time": "2021-08-19T07:03:01.090Z"
   },
   {
    "duration": 13,
    "start_time": "2021-08-19T07:03:01.275Z"
   },
   {
    "duration": 335,
    "start_time": "2021-08-19T07:03:02.023Z"
   },
   {
    "duration": 406,
    "start_time": "2021-08-19T07:03:02.361Z"
   },
   {
    "duration": 10,
    "start_time": "2021-08-19T07:03:02.770Z"
   },
   {
    "duration": 4,
    "start_time": "2021-08-19T07:03:02.802Z"
   },
   {
    "duration": 1201,
    "start_time": "2021-08-19T07:03:02.986Z"
   },
   {
    "duration": 40,
    "start_time": "2021-08-19T07:03:04.190Z"
   },
   {
    "duration": 195,
    "start_time": "2021-08-19T07:03:04.233Z"
   },
   {
    "duration": 159,
    "start_time": "2021-08-19T07:03:04.430Z"
   },
   {
    "duration": 591,
    "start_time": "2021-08-19T07:03:04.591Z"
   },
   {
    "duration": 22,
    "start_time": "2021-08-19T07:03:05.185Z"
   },
   {
    "duration": 489,
    "start_time": "2021-08-19T07:03:05.210Z"
   },
   {
    "duration": 697,
    "start_time": "2021-08-19T07:03:05.702Z"
   },
   {
    "duration": 6681,
    "start_time": "2021-08-19T07:03:06.402Z"
   },
   {
    "duration": 68,
    "start_time": "2021-08-19T07:03:13.019Z"
   },
   {
    "duration": 1731,
    "start_time": "2021-08-19T07:03:13.107Z"
   },
   {
    "duration": 1317,
    "start_time": "2021-08-19T07:03:29.447Z"
   },
   {
    "duration": 16,
    "start_time": "2021-08-19T07:03:34.096Z"
   },
   {
    "duration": 7,
    "start_time": "2021-08-19T07:03:37.048Z"
   },
   {
    "duration": 256,
    "start_time": "2021-08-19T07:03:41.541Z"
   },
   {
    "duration": 6013,
    "start_time": "2021-08-19T07:27:45.135Z"
   },
   {
    "duration": 17,
    "start_time": "2021-08-19T07:53:31.117Z"
   },
   {
    "duration": 9050,
    "start_time": "2021-08-19T07:58:04.029Z"
   },
   {
    "duration": 6618,
    "start_time": "2021-08-19T07:59:42.310Z"
   },
   {
    "duration": 21,
    "start_time": "2021-08-19T07:59:48.909Z"
   },
   {
    "duration": 3,
    "start_time": "2021-08-19T07:59:52.108Z"
   },
   {
    "duration": 754,
    "start_time": "2021-08-19T07:59:53.235Z"
   },
   {
    "duration": 246,
    "start_time": "2021-08-19T07:59:54.595Z"
   },
   {
    "duration": 22,
    "start_time": "2021-08-19T07:59:54.844Z"
   },
   {
    "duration": 12,
    "start_time": "2021-08-19T07:59:54.948Z"
   },
   {
    "duration": 63,
    "start_time": "2021-08-19T07:59:55.307Z"
   },
   {
    "duration": 21,
    "start_time": "2021-08-19T07:59:55.627Z"
   },
   {
    "duration": 6,
    "start_time": "2021-08-19T07:59:55.755Z"
   },
   {
    "duration": 12,
    "start_time": "2021-08-19T07:59:55.916Z"
   },
   {
    "duration": 76,
    "start_time": "2021-08-19T07:59:56.307Z"
   },
   {
    "duration": 7,
    "start_time": "2021-08-19T07:59:56.587Z"
   },
   {
    "duration": 10,
    "start_time": "2021-08-19T07:59:56.747Z"
   },
   {
    "duration": 326,
    "start_time": "2021-08-19T07:59:58.588Z"
   },
   {
    "duration": 380,
    "start_time": "2021-08-19T07:59:58.917Z"
   },
   {
    "duration": 9,
    "start_time": "2021-08-19T07:59:59.300Z"
   },
   {
    "duration": 3,
    "start_time": "2021-08-19T08:00:01.229Z"
   },
   {
    "duration": 1493,
    "start_time": "2021-08-19T08:00:01.391Z"
   },
   {
    "duration": 40,
    "start_time": "2021-08-19T08:00:03.627Z"
   },
   {
    "duration": 144,
    "start_time": "2021-08-19T08:00:04.158Z"
   },
   {
    "duration": 146,
    "start_time": "2021-08-19T08:00:06.068Z"
   },
   {
    "duration": 696,
    "start_time": "2021-08-19T08:00:06.217Z"
   },
   {
    "duration": 25,
    "start_time": "2021-08-19T08:00:14.516Z"
   },
   {
    "duration": 545,
    "start_time": "2021-08-19T08:00:17.587Z"
   },
   {
    "duration": 3,
    "start_time": "2021-08-19T08:00:22.996Z"
   },
   {
    "duration": 128,
    "start_time": "2021-08-19T08:00:28.957Z"
   },
   {
    "duration": 13,
    "start_time": "2021-08-19T08:04:00.387Z"
   },
   {
    "duration": 7,
    "start_time": "2021-08-19T08:04:02.556Z"
   },
   {
    "duration": 1082,
    "start_time": "2021-08-19T08:04:03.148Z"
   },
   {
    "duration": 7155,
    "start_time": "2021-08-19T09:08:38.211Z"
   },
   {
    "duration": 43,
    "start_time": "2021-08-19T09:13:48.609Z"
   },
   {
    "duration": 27,
    "start_time": "2021-08-19T09:15:07.190Z"
   },
   {
    "duration": 46,
    "start_time": "2021-08-19T09:15:42.227Z"
   },
   {
    "duration": -168,
    "start_time": "2021-08-19T09:16:19.731Z"
   },
   {
    "duration": 16,
    "start_time": "2021-08-19T09:16:21.632Z"
   },
   {
    "duration": 455,
    "start_time": "2021-08-19T09:21:06.407Z"
   },
   {
    "duration": 443,
    "start_time": "2021-08-19T09:21:11.286Z"
   },
   {
    "duration": 6492,
    "start_time": "2021-08-19T09:23:42.417Z"
   },
   {
    "duration": 4,
    "start_time": "2021-08-19T09:24:27.979Z"
   },
   {
    "duration": 732,
    "start_time": "2021-08-19T09:24:28.872Z"
   },
   {
    "duration": 250,
    "start_time": "2021-08-19T09:24:29.607Z"
   },
   {
    "duration": 16,
    "start_time": "2021-08-19T09:24:29.936Z"
   },
   {
    "duration": 14,
    "start_time": "2021-08-19T09:24:30.856Z"
   },
   {
    "duration": 64,
    "start_time": "2021-08-19T09:24:33.042Z"
   },
   {
    "duration": 23,
    "start_time": "2021-08-19T09:24:34.358Z"
   },
   {
    "duration": 7,
    "start_time": "2021-08-19T09:24:34.722Z"
   },
   {
    "duration": 12,
    "start_time": "2021-08-19T09:24:35.337Z"
   },
   {
    "duration": 77,
    "start_time": "2021-08-19T09:24:36.261Z"
   },
   {
    "duration": 6,
    "start_time": "2021-08-19T09:24:38.182Z"
   },
   {
    "duration": 20,
    "start_time": "2021-08-19T09:24:38.191Z"
   },
   {
    "duration": 424,
    "start_time": "2021-08-19T09:24:40.069Z"
   },
   {
    "duration": 381,
    "start_time": "2021-08-19T09:24:40.549Z"
   },
   {
    "duration": 14,
    "start_time": "2021-08-19T09:24:41.758Z"
   },
   {
    "duration": 4,
    "start_time": "2021-08-19T09:24:42.335Z"
   },
   {
    "duration": 1476,
    "start_time": "2021-08-19T09:24:42.716Z"
   },
   {
    "duration": 40,
    "start_time": "2021-08-19T09:24:45.086Z"
   },
   {
    "duration": 136,
    "start_time": "2021-08-19T09:24:45.934Z"
   },
   {
    "duration": 142,
    "start_time": "2021-08-19T09:24:46.239Z"
   },
   {
    "duration": 732,
    "start_time": "2021-08-19T09:24:46.523Z"
   },
   {
    "duration": 47,
    "start_time": "2021-08-19T09:24:48.871Z"
   },
   {
    "duration": 15,
    "start_time": "2021-08-19T09:24:49.499Z"
   },
   {
    "duration": 440,
    "start_time": "2021-08-19T09:24:50.632Z"
   },
   {
    "duration": 3,
    "start_time": "2021-08-19T09:24:53.159Z"
   },
   {
    "duration": 6327,
    "start_time": "2021-08-19T09:24:54.467Z"
   },
   {
    "duration": 1758,
    "start_time": "2021-08-19T09:25:09.423Z"
   },
   {
    "duration": 379,
    "start_time": "2021-08-19T09:27:45.926Z"
   },
   {
    "duration": 134,
    "start_time": "2021-08-19T09:28:02.859Z"
   },
   {
    "duration": 216,
    "start_time": "2021-08-19T09:30:33.579Z"
   },
   {
    "duration": 479,
    "start_time": "2021-08-19T09:30:57.271Z"
   },
   {
    "duration": 674,
    "start_time": "2021-08-19T09:31:25.286Z"
   },
   {
    "duration": 591,
    "start_time": "2021-08-19T09:31:30.955Z"
   },
   {
    "duration": 490,
    "start_time": "2021-08-19T09:32:01.067Z"
   },
   {
    "duration": 452,
    "start_time": "2021-08-19T09:33:54.033Z"
   },
   {
    "duration": 1587,
    "start_time": "2021-08-19T09:34:27.808Z"
   },
   {
    "duration": 91,
    "start_time": "2021-08-19T09:36:27.188Z"
   },
   {
    "duration": 6048,
    "start_time": "2021-08-19T09:36:40.898Z"
   },
   {
    "duration": 123,
    "start_time": "2021-08-19T09:36:54.499Z"
   },
   {
    "duration": 119,
    "start_time": "2021-08-19T09:37:33.078Z"
   },
   {
    "duration": 10,
    "start_time": "2021-08-19T09:37:33.957Z"
   },
   {
    "duration": 603,
    "start_time": "2021-08-19T09:37:34.617Z"
   },
   {
    "duration": 611,
    "start_time": "2021-08-19T09:38:01.796Z"
   },
   {
    "duration": 1226,
    "start_time": "2021-08-19T09:38:57.758Z"
   },
   {
    "duration": 12,
    "start_time": "2021-08-19T09:39:59.021Z"
   },
   {
    "duration": 7,
    "start_time": "2021-08-19T09:39:59.229Z"
   },
   {
    "duration": 1010,
    "start_time": "2021-08-19T09:39:59.640Z"
   },
   {
    "duration": 326,
    "start_time": "2021-08-19T09:46:49.859Z"
   },
   {
    "duration": 418,
    "start_time": "2021-08-19T09:47:42.087Z"
   },
   {
    "duration": 24,
    "start_time": "2021-08-19T09:48:56.009Z"
   },
   {
    "duration": 473,
    "start_time": "2021-08-19T09:49:24.243Z"
   },
   {
    "duration": 25,
    "start_time": "2021-08-19T09:49:32.553Z"
   },
   {
    "duration": 15,
    "start_time": "2021-08-19T09:50:03.521Z"
   },
   {
    "duration": 299,
    "start_time": "2021-08-19T09:50:16.769Z"
   },
   {
    "duration": 491,
    "start_time": "2021-08-19T09:50:28.974Z"
   },
   {
    "duration": 39,
    "start_time": "2021-08-19T09:51:12.227Z"
   },
   {
    "duration": 23,
    "start_time": "2021-08-19T09:51:20.141Z"
   },
   {
    "duration": 904,
    "start_time": "2021-08-20T05:50:27.100Z"
   },
   {
    "duration": 1094,
    "start_time": "2021-08-20T05:50:28.881Z"
   },
   {
    "duration": 416,
    "start_time": "2021-08-20T05:50:29.978Z"
   },
   {
    "duration": 23,
    "start_time": "2021-08-20T05:50:30.398Z"
   },
   {
    "duration": 43,
    "start_time": "2021-08-20T05:50:30.424Z"
   },
   {
    "duration": 295,
    "start_time": "2021-08-20T05:50:30.826Z"
   },
   {
    "duration": 34,
    "start_time": "2021-08-20T05:50:31.431Z"
   },
   {
    "duration": 7,
    "start_time": "2021-08-20T05:50:31.904Z"
   },
   {
    "duration": 11,
    "start_time": "2021-08-20T05:50:32.124Z"
   },
   {
    "duration": 54,
    "start_time": "2021-08-20T05:50:34.896Z"
   },
   {
    "duration": 7,
    "start_time": "2021-08-20T05:50:35.859Z"
   },
   {
    "duration": 12,
    "start_time": "2021-08-20T05:50:36.183Z"
   },
   {
    "duration": 304,
    "start_time": "2021-08-20T05:50:38.431Z"
   },
   {
    "duration": 383,
    "start_time": "2021-08-20T05:50:38.934Z"
   },
   {
    "duration": 9,
    "start_time": "2021-08-20T05:50:40.958Z"
   },
   {
    "duration": 108,
    "start_time": "2021-08-20T05:50:41.626Z"
   },
   {
    "duration": 1142,
    "start_time": "2021-08-20T05:50:43.529Z"
   },
   {
    "duration": 43,
    "start_time": "2021-08-20T05:50:48.703Z"
   },
   {
    "duration": 137,
    "start_time": "2021-08-20T05:50:49.218Z"
   },
   {
    "duration": 141,
    "start_time": "2021-08-20T05:50:49.542Z"
   },
   {
    "duration": 514,
    "start_time": "2021-08-20T05:50:49.743Z"
   },
   {
    "duration": 46,
    "start_time": "2021-08-20T05:50:50.391Z"
   },
   {
    "duration": 362,
    "start_time": "2021-08-20T05:50:52.238Z"
   },
   {
    "duration": 519,
    "start_time": "2021-08-20T05:50:52.765Z"
   },
   {
    "duration": 1826,
    "start_time": "2021-08-20T05:50:56.006Z"
   },
   {
    "duration": 222,
    "start_time": "2021-08-20T05:51:02.376Z"
   },
   {
    "duration": 530,
    "start_time": "2021-08-20T05:51:04.134Z"
   },
   {
    "duration": 1601,
    "start_time": "2021-08-20T05:51:10.333Z"
   },
   {
    "duration": 127,
    "start_time": "2021-08-20T05:52:05.415Z"
   },
   {
    "duration": 10,
    "start_time": "2021-08-20T05:52:06.149Z"
   },
   {
    "duration": 595,
    "start_time": "2021-08-20T05:52:06.759Z"
   },
   {
    "duration": 1253,
    "start_time": "2021-08-20T05:52:45.132Z"
   },
   {
    "duration": 13,
    "start_time": "2021-08-20T05:53:55.113Z"
   },
   {
    "duration": 10,
    "start_time": "2021-08-20T05:53:55.359Z"
   },
   {
    "duration": 976,
    "start_time": "2021-08-20T05:53:55.486Z"
   },
   {
    "duration": 1035,
    "start_time": "2021-08-20T05:54:52.927Z"
   },
   {
    "duration": 15,
    "start_time": "2021-08-20T05:56:26.291Z"
   },
   {
    "duration": 408,
    "start_time": "2021-08-20T05:56:36.640Z"
   },
   {
    "duration": 264,
    "start_time": "2021-08-20T05:56:57.084Z"
   },
   {
    "duration": 129,
    "start_time": "2021-08-20T05:57:33.178Z"
   },
   {
    "duration": 6863,
    "start_time": "2021-08-20T05:59:50.259Z"
   },
   {
    "duration": 473,
    "start_time": "2021-08-20T06:00:08.935Z"
   },
   {
    "duration": 571,
    "start_time": "2021-08-20T06:00:13.487Z"
   },
   {
    "duration": 27,
    "start_time": "2021-08-20T06:01:40.682Z"
   },
   {
    "duration": 10,
    "start_time": "2021-08-20T06:03:13.341Z"
   },
   {
    "duration": 13,
    "start_time": "2021-08-20T06:04:17.264Z"
   },
   {
    "duration": 25,
    "start_time": "2021-08-20T07:50:19.425Z"
   },
   {
    "duration": 13,
    "start_time": "2021-08-20T07:50:34.363Z"
   },
   {
    "duration": 4,
    "start_time": "2021-08-20T08:56:33.882Z"
   },
   {
    "duration": 747,
    "start_time": "2021-08-20T08:56:34.736Z"
   },
   {
    "duration": 225,
    "start_time": "2021-08-20T08:56:35.951Z"
   },
   {
    "duration": 14,
    "start_time": "2021-08-20T08:56:36.321Z"
   },
   {
    "duration": 12,
    "start_time": "2021-08-20T08:56:36.682Z"
   },
   {
    "duration": 65,
    "start_time": "2021-08-20T08:56:39.960Z"
   },
   {
    "duration": 21,
    "start_time": "2021-08-20T08:56:41.589Z"
   },
   {
    "duration": 6,
    "start_time": "2021-08-20T08:56:41.957Z"
   },
   {
    "duration": 12,
    "start_time": "2021-08-20T08:56:42.275Z"
   },
   {
    "duration": 79,
    "start_time": "2021-08-20T08:56:44.127Z"
   },
   {
    "duration": 6,
    "start_time": "2021-08-20T08:56:44.548Z"
   },
   {
    "duration": 12,
    "start_time": "2021-08-20T08:56:44.746Z"
   },
   {
    "duration": 345,
    "start_time": "2021-08-20T08:56:46.718Z"
   },
   {
    "duration": 391,
    "start_time": "2021-08-20T08:56:47.066Z"
   },
   {
    "duration": 13,
    "start_time": "2021-08-20T08:56:47.488Z"
   },
   {
    "duration": 3,
    "start_time": "2021-08-20T08:56:49.241Z"
   },
   {
    "duration": 1423,
    "start_time": "2021-08-20T08:56:49.416Z"
   },
   {
    "duration": 40,
    "start_time": "2021-08-20T08:56:53.821Z"
   },
   {
    "duration": 130,
    "start_time": "2021-08-20T08:56:54.318Z"
   },
   {
    "duration": 138,
    "start_time": "2021-08-20T08:56:55.800Z"
   },
   {
    "duration": 700,
    "start_time": "2021-08-20T08:56:56.043Z"
   },
   {
    "duration": 44,
    "start_time": "2021-08-20T08:56:59.119Z"
   },
   {
    "duration": 528,
    "start_time": "2021-08-20T08:57:00.419Z"
   },
   {
    "duration": 3,
    "start_time": "2021-08-20T08:57:02.333Z"
   },
   {
    "duration": 2065,
    "start_time": "2021-08-20T08:57:03.561Z"
   },
   {
    "duration": 224,
    "start_time": "2021-08-20T08:57:11.630Z"
   },
   {
    "duration": 465,
    "start_time": "2021-08-20T08:57:13.038Z"
   },
   {
    "duration": 1665,
    "start_time": "2021-08-20T08:57:20.574Z"
   },
   {
    "duration": 141,
    "start_time": "2021-08-20T08:57:29.395Z"
   },
   {
    "duration": 11,
    "start_time": "2021-08-20T08:57:29.821Z"
   },
   {
    "duration": 586,
    "start_time": "2021-08-20T08:57:30.119Z"
   },
   {
    "duration": 1206,
    "start_time": "2021-08-20T08:57:37.551Z"
   },
   {
    "duration": 19,
    "start_time": "2021-08-20T08:57:44.082Z"
   },
   {
    "duration": 9,
    "start_time": "2021-08-20T08:57:47.870Z"
   },
   {
    "duration": 997,
    "start_time": "2021-08-20T08:57:48.491Z"
   },
   {
    "duration": 330,
    "start_time": "2021-08-20T08:57:53.568Z"
   },
   {
    "duration": 22,
    "start_time": "2021-08-20T08:58:26.270Z"
   },
   {
    "duration": 341,
    "start_time": "2021-08-20T08:59:46.876Z"
   },
   {
    "duration": 99,
    "start_time": "2021-08-20T08:59:55.455Z"
   },
   {
    "duration": 298,
    "start_time": "2021-08-20T08:59:58.166Z"
   },
   {
    "duration": 23,
    "start_time": "2021-08-20T09:00:31.939Z"
   },
   {
    "duration": 307,
    "start_time": "2021-08-20T10:00:52.645Z"
   },
   {
    "duration": 24,
    "start_time": "2021-08-20T10:00:53.959Z"
   },
   {
    "duration": 540,
    "start_time": "2021-08-20T10:01:03.155Z"
   },
   {
    "duration": 503,
    "start_time": "2021-08-20T14:14:23.879Z"
   },
   {
    "duration": 13,
    "start_time": "2021-08-20T14:14:50.605Z"
   },
   {
    "duration": 9,
    "start_time": "2021-08-20T14:15:10.631Z"
   },
   {
    "duration": 853,
    "start_time": "2021-08-20T14:15:20.952Z"
   },
   {
    "duration": 412,
    "start_time": "2021-08-20T14:15:34.830Z"
   },
   {
    "duration": 1034,
    "start_time": "2021-08-20T14:16:06.820Z"
   },
   {
    "duration": 919,
    "start_time": "2021-08-20T14:16:22.086Z"
   },
   {
    "duration": 638,
    "start_time": "2021-08-21T14:29:09.721Z"
   },
   {
    "duration": 841,
    "start_time": "2021-08-21T14:29:10.362Z"
   },
   {
    "duration": 260,
    "start_time": "2021-08-21T14:29:11.207Z"
   },
   {
    "duration": 5,
    "start_time": "2021-08-21T14:29:11.470Z"
   },
   {
    "duration": 26,
    "start_time": "2021-08-21T14:29:11.478Z"
   },
   {
    "duration": 93,
    "start_time": "2021-08-21T14:29:11.507Z"
   },
   {
    "duration": 19,
    "start_time": "2021-08-21T14:29:11.602Z"
   },
   {
    "duration": 11,
    "start_time": "2021-08-21T14:29:11.625Z"
   },
   {
    "duration": 30,
    "start_time": "2021-08-21T14:29:11.639Z"
   },
   {
    "duration": 66,
    "start_time": "2021-08-21T14:29:11.671Z"
   },
   {
    "duration": 6,
    "start_time": "2021-08-21T14:29:11.739Z"
   },
   {
    "duration": 18,
    "start_time": "2021-08-21T14:29:11.747Z"
   },
   {
    "duration": 460,
    "start_time": "2021-08-21T14:29:11.768Z"
   },
   {
    "duration": 424,
    "start_time": "2021-08-21T14:29:12.231Z"
   },
   {
    "duration": 16,
    "start_time": "2021-08-21T14:29:12.658Z"
   },
   {
    "duration": 374,
    "start_time": "2021-08-21T14:29:12.677Z"
   },
   {
    "duration": 1617,
    "start_time": "2021-08-21T14:29:13.054Z"
   },
   {
    "duration": 48,
    "start_time": "2021-08-21T14:29:14.673Z"
   },
   {
    "duration": 169,
    "start_time": "2021-08-21T14:29:14.723Z"
   },
   {
    "duration": 168,
    "start_time": "2021-08-21T14:29:14.894Z"
   },
   {
    "duration": 391,
    "start_time": "2021-08-21T14:29:15.064Z"
   },
   {
    "duration": 50,
    "start_time": "2021-08-21T14:29:15.457Z"
   },
   {
    "duration": 272,
    "start_time": "2021-08-21T14:29:15.512Z"
   },
   {
    "duration": 637,
    "start_time": "2021-08-21T14:29:15.787Z"
   },
   {
    "duration": 1721,
    "start_time": "2021-08-21T14:29:16.427Z"
   },
   {
    "duration": 248,
    "start_time": "2021-08-21T14:29:18.151Z"
   },
   {
    "duration": 317,
    "start_time": "2021-08-21T14:29:18.401Z"
   },
   {
    "duration": 1500,
    "start_time": "2021-08-21T14:29:18.721Z"
   },
   {
    "duration": 185,
    "start_time": "2021-08-21T14:29:20.223Z"
   },
   {
    "duration": 10,
    "start_time": "2021-08-21T14:29:20.411Z"
   },
   {
    "duration": 418,
    "start_time": "2021-08-21T14:29:20.424Z"
   },
   {
    "duration": 1223,
    "start_time": "2021-08-21T14:29:20.844Z"
   },
   {
    "duration": 12,
    "start_time": "2021-08-21T14:29:22.069Z"
   },
   {
    "duration": 19,
    "start_time": "2021-08-21T14:29:22.084Z"
   },
   {
    "duration": 901,
    "start_time": "2021-08-21T14:29:22.106Z"
   },
   {
    "duration": 412,
    "start_time": "2021-08-21T14:29:23.010Z"
   },
   {
    "duration": 563,
    "start_time": "2021-08-21T14:29:23.425Z"
   },
   {
    "duration": 972,
    "start_time": "2021-08-21T14:29:23.990Z"
   },
   {
    "duration": 5,
    "start_time": "2021-08-21T15:15:39.367Z"
   },
   {
    "duration": 434,
    "start_time": "2021-08-21T15:15:40.780Z"
   },
   {
    "duration": 824,
    "start_time": "2021-08-22T07:56:47.104Z"
   },
   {
    "duration": 788,
    "start_time": "2021-08-22T07:56:49.429Z"
   },
   {
    "duration": 432,
    "start_time": "2021-08-22T07:56:51.003Z"
   },
   {
    "duration": 250,
    "start_time": "2021-08-22T07:57:04.877Z"
   },
   {
    "duration": 18,
    "start_time": "2021-08-22T07:57:07.435Z"
   },
   {
    "duration": 15,
    "start_time": "2021-08-22T07:57:08.253Z"
   },
   {
    "duration": 321,
    "start_time": "2021-08-22T07:57:22.404Z"
   },
   {
    "duration": 24,
    "start_time": "2021-08-22T07:57:24.230Z"
   },
   {
    "duration": 20,
    "start_time": "2021-08-22T07:57:27.501Z"
   },
   {
    "duration": 7,
    "start_time": "2021-08-22T07:57:27.917Z"
   },
   {
    "duration": 12,
    "start_time": "2021-08-22T07:57:29.190Z"
   },
   {
    "duration": 60,
    "start_time": "2021-08-22T07:57:32.296Z"
   },
   {
    "duration": 9,
    "start_time": "2021-08-22T07:57:39.614Z"
   },
   {
    "duration": 4,
    "start_time": "2021-08-22T08:02:19.658Z"
   },
   {
    "duration": 297,
    "start_time": "2021-08-22T08:02:22.906Z"
   },
   {
    "duration": 375,
    "start_time": "2021-08-22T08:02:23.262Z"
   },
   {
    "duration": 10,
    "start_time": "2021-08-22T08:02:23.786Z"
   },
   {
    "duration": 107,
    "start_time": "2021-08-22T08:03:19.897Z"
   },
   {
    "duration": 459,
    "start_time": "2021-08-22T08:03:23.296Z"
   },
   {
    "duration": 404,
    "start_time": "2021-08-22T08:03:31.266Z"
   },
   {
    "duration": 345,
    "start_time": "2021-08-22T08:03:40.466Z"
   },
   {
    "duration": 4,
    "start_time": "2021-08-22T08:12:50.879Z"
   },
   {
    "duration": 3,
    "start_time": "2021-08-22T08:12:51.998Z"
   },
   {
    "duration": 3,
    "start_time": "2021-08-22T08:12:52.312Z"
   },
   {
    "duration": 3,
    "start_time": "2021-08-22T08:12:52.630Z"
   },
   {
    "duration": 845,
    "start_time": "2021-08-22T08:15:16.133Z"
   },
   {
    "duration": 691,
    "start_time": "2021-08-22T08:15:25.216Z"
   },
   {
    "duration": 361,
    "start_time": "2021-08-22T08:15:29.972Z"
   },
   {
    "duration": 389,
    "start_time": "2021-08-22T08:15:35.199Z"
   },
   {
    "duration": 69,
    "start_time": "2021-08-22T08:16:05.289Z"
   },
   {
    "duration": 28,
    "start_time": "2021-08-22T08:16:13.719Z"
   },
   {
    "duration": 6,
    "start_time": "2021-08-22T08:16:26.854Z"
   },
   {
    "duration": 380,
    "start_time": "2021-08-22T08:16:31.061Z"
   },
   {
    "duration": 620,
    "start_time": "2021-08-22T08:17:51.184Z"
   },
   {
    "duration": 319,
    "start_time": "2021-08-22T08:18:01.975Z"
   },
   {
    "duration": 322,
    "start_time": "2021-08-22T08:20:45.400Z"
   },
   {
    "duration": 962,
    "start_time": "2021-08-22T08:24:03.522Z"
   },
   {
    "duration": 1072,
    "start_time": "2021-08-22T08:24:20.284Z"
   },
   {
    "duration": 630,
    "start_time": "2021-08-22T08:24:35.129Z"
   },
   {
    "duration": 618,
    "start_time": "2021-08-22T08:24:47.002Z"
   },
   {
    "duration": 304,
    "start_time": "2021-08-22T08:25:26.447Z"
   },
   {
    "duration": 9160,
    "start_time": "2021-08-22T08:27:00.081Z"
   },
   {
    "duration": -26,
    "start_time": "2021-08-22T08:28:40.133Z"
   },
   {
    "duration": -30,
    "start_time": "2021-08-22T08:28:40.139Z"
   },
   {
    "duration": 52,
    "start_time": "2021-08-22T08:29:18.120Z"
   },
   {
    "duration": 406,
    "start_time": "2021-08-22T08:29:22.261Z"
   },
   {
    "duration": 584,
    "start_time": "2021-08-22T08:41:20.340Z"
   },
   {
    "duration": 165,
    "start_time": "2021-08-22T08:43:14.716Z"
   },
   {
    "duration": 594,
    "start_time": "2021-08-22T08:43:18.277Z"
   },
   {
    "duration": 419,
    "start_time": "2021-08-22T08:52:34.384Z"
   },
   {
    "duration": 847,
    "start_time": "2021-08-22T08:52:41.554Z"
   },
   {
    "duration": 737,
    "start_time": "2021-08-22T08:52:43.281Z"
   },
   {
    "duration": 360,
    "start_time": "2021-08-22T08:52:44.021Z"
   },
   {
    "duration": 270,
    "start_time": "2021-08-22T08:52:44.384Z"
   },
   {
    "duration": 17,
    "start_time": "2021-08-22T08:52:44.657Z"
   },
   {
    "duration": 15,
    "start_time": "2021-08-22T08:52:44.738Z"
   },
   {
    "duration": 296,
    "start_time": "2021-08-22T08:52:45.122Z"
   },
   {
    "duration": 22,
    "start_time": "2021-08-22T08:52:45.421Z"
   },
   {
    "duration": 22,
    "start_time": "2021-08-22T08:52:45.552Z"
   },
   {
    "duration": 6,
    "start_time": "2021-08-22T08:52:45.685Z"
   },
   {
    "duration": 11,
    "start_time": "2021-08-22T08:52:45.857Z"
   },
   {
    "duration": 62,
    "start_time": "2021-08-22T08:52:46.345Z"
   },
   {
    "duration": 7,
    "start_time": "2021-08-22T08:52:46.502Z"
   },
   {
    "duration": 6,
    "start_time": "2021-08-22T08:52:46.845Z"
   },
   {
    "duration": 11,
    "start_time": "2021-08-22T08:52:46.992Z"
   },
   {
    "duration": 3,
    "start_time": "2021-08-22T08:52:49.745Z"
   },
   {
    "duration": 364,
    "start_time": "2021-08-22T08:52:49.911Z"
   },
   {
    "duration": 389,
    "start_time": "2021-08-22T08:52:50.278Z"
   },
   {
    "duration": 10,
    "start_time": "2021-08-22T08:52:51.861Z"
   },
   {
    "duration": 110,
    "start_time": "2021-08-22T08:52:52.440Z"
   },
   {
    "duration": 466,
    "start_time": "2021-08-22T08:52:52.599Z"
   },
   {
    "duration": 366,
    "start_time": "2021-08-22T08:52:53.068Z"
   },
   {
    "duration": 344,
    "start_time": "2021-08-22T08:52:54.871Z"
   },
   {
    "duration": 3,
    "start_time": "2021-08-22T08:52:58.020Z"
   },
   {
    "duration": 3,
    "start_time": "2021-08-22T08:52:58.338Z"
   },
   {
    "duration": 3,
    "start_time": "2021-08-22T08:52:58.499Z"
   },
   {
    "duration": 3,
    "start_time": "2021-08-22T08:52:58.655Z"
   },
   {
    "duration": 23,
    "start_time": "2021-08-22T08:53:01.483Z"
   },
   {
    "duration": 30,
    "start_time": "2021-08-22T08:53:01.644Z"
   },
   {
    "duration": 363,
    "start_time": "2021-08-22T08:53:03.330Z"
   },
   {
    "duration": 55,
    "start_time": "2021-08-22T08:53:08.114Z"
   },
   {
    "duration": 583,
    "start_time": "2021-08-22T08:53:11.427Z"
   },
   {
    "duration": 1821,
    "start_time": "2021-08-22T08:53:12.136Z"
   },
   {
    "duration": 1895,
    "start_time": "2021-08-22T08:53:32.616Z"
   },
   {
    "duration": 1703,
    "start_time": "2021-08-22T08:53:50.434Z"
   },
   {
    "duration": 1654,
    "start_time": "2021-08-22T08:54:21.329Z"
   },
   {
    "duration": 1719,
    "start_time": "2021-08-22T08:54:30.505Z"
   },
   {
    "duration": 462,
    "start_time": "2021-08-22T08:55:50.623Z"
   },
   {
    "duration": 457,
    "start_time": "2021-08-22T08:56:53.719Z"
   },
   {
    "duration": 63,
    "start_time": "2021-08-22T08:59:55.420Z"
   },
   {
    "duration": 1779,
    "start_time": "2021-08-22T09:02:54.364Z"
   },
   {
    "duration": 433,
    "start_time": "2021-08-22T09:28:55.223Z"
   },
   {
    "duration": 10,
    "start_time": "2021-08-22T09:31:30.878Z"
   },
   {
    "duration": 9,
    "start_time": "2021-08-22T09:33:23.949Z"
   },
   {
    "duration": 197,
    "start_time": "2021-08-22T09:34:07.511Z"
   },
   {
    "duration": 119,
    "start_time": "2021-08-22T09:41:17.671Z"
   },
   {
    "duration": 13,
    "start_time": "2021-08-22T09:41:18.729Z"
   },
   {
    "duration": 45,
    "start_time": "2021-08-22T09:43:09.559Z"
   },
   {
    "duration": 52,
    "start_time": "2021-08-22T09:43:18.490Z"
   },
   {
    "duration": 209,
    "start_time": "2021-08-22T09:43:39.612Z"
   },
   {
    "duration": 9,
    "start_time": "2021-08-22T09:43:43.660Z"
   },
   {
    "duration": 44,
    "start_time": "2021-08-22T09:43:58.761Z"
   },
   {
    "duration": 17,
    "start_time": "2021-08-22T09:44:02.352Z"
   },
   {
    "duration": 9,
    "start_time": "2021-08-22T09:44:27.381Z"
   },
   {
    "duration": 605,
    "start_time": "2021-08-22T09:44:28.159Z"
   },
   {
    "duration": 126,
    "start_time": "2021-08-22T09:50:04.941Z"
   },
   {
    "duration": 8,
    "start_time": "2021-08-22T09:50:11.657Z"
   },
   {
    "duration": 575,
    "start_time": "2021-08-22T09:50:13.987Z"
   },
   {
    "duration": 69,
    "start_time": "2021-08-22T10:23:10.517Z"
   },
   {
    "duration": 10,
    "start_time": "2021-08-22T10:23:30.041Z"
   },
   {
    "duration": 12,
    "start_time": "2021-08-22T10:23:43.813Z"
   },
   {
    "duration": 33,
    "start_time": "2021-08-22T10:23:50.766Z"
   },
   {
    "duration": 1110,
    "start_time": "2021-08-22T10:23:57.693Z"
   },
   {
    "duration": 1148,
    "start_time": "2021-08-22T10:25:16.758Z"
   },
   {
    "duration": 1538,
    "start_time": "2021-08-22T10:30:34.140Z"
   },
   {
    "duration": 1769,
    "start_time": "2021-08-22T10:31:20.802Z"
   },
   {
    "duration": 1774,
    "start_time": "2021-08-22T10:31:28.494Z"
   },
   {
    "duration": 1695,
    "start_time": "2021-08-22T10:31:37.092Z"
   },
   {
    "duration": 1547,
    "start_time": "2021-08-22T10:32:05.681Z"
   },
   {
    "duration": 1565,
    "start_time": "2021-08-22T10:32:11.472Z"
   },
   {
    "duration": 1589,
    "start_time": "2021-08-22T10:32:18.876Z"
   },
   {
    "duration": 1664,
    "start_time": "2021-08-22T10:32:28.969Z"
   },
   {
    "duration": 1642,
    "start_time": "2021-08-22T10:32:35.383Z"
   },
   {
    "duration": 1552,
    "start_time": "2021-08-22T10:32:54.082Z"
   },
   {
    "duration": 1668,
    "start_time": "2021-08-22T10:33:36.402Z"
   },
   {
    "duration": 1655,
    "start_time": "2021-08-22T10:33:47.121Z"
   },
   {
    "duration": 1517,
    "start_time": "2021-08-22T10:34:03.645Z"
   },
   {
    "duration": 1686,
    "start_time": "2021-08-22T10:34:14.276Z"
   },
   {
    "duration": 1496,
    "start_time": "2021-08-22T10:34:24.120Z"
   },
   {
    "duration": 1515,
    "start_time": "2021-08-22T10:34:30.846Z"
   },
   {
    "duration": 1530,
    "start_time": "2021-08-22T10:34:38.107Z"
   },
   {
    "duration": 1526,
    "start_time": "2021-08-22T10:34:50.841Z"
   },
   {
    "duration": 1202,
    "start_time": "2021-08-22T10:35:30.036Z"
   },
   {
    "duration": 376,
    "start_time": "2021-08-22T10:39:04.481Z"
   },
   {
    "duration": 13,
    "start_time": "2021-08-22T10:39:09.118Z"
   },
   {
    "duration": 7,
    "start_time": "2021-08-22T10:39:10.193Z"
   },
   {
    "duration": 389,
    "start_time": "2021-08-22T10:39:10.968Z"
   },
   {
    "duration": 419,
    "start_time": "2021-08-22T10:40:06.809Z"
   },
   {
    "duration": 14,
    "start_time": "2021-08-22T10:54:58.442Z"
   },
   {
    "duration": 9,
    "start_time": "2021-08-22T10:55:00.799Z"
   },
   {
    "duration": 543,
    "start_time": "2021-08-22T10:55:02.445Z"
   },
   {
    "duration": 627,
    "start_time": "2021-08-22T10:55:39.261Z"
   },
   {
    "duration": 19,
    "start_time": "2021-08-22T10:58:31.904Z"
   },
   {
    "duration": 40,
    "start_time": "2021-08-22T10:58:53.671Z"
   },
   {
    "duration": 866,
    "start_time": "2021-08-22T10:59:29.134Z"
   },
   {
    "duration": 21,
    "start_time": "2021-08-22T11:00:16.535Z"
   },
   {
    "duration": 16,
    "start_time": "2021-08-22T11:00:22.625Z"
   },
   {
    "duration": 43,
    "start_time": "2021-08-22T11:01:10.838Z"
   },
   {
    "duration": 36,
    "start_time": "2021-08-22T11:03:52.810Z"
   },
   {
    "duration": 6,
    "start_time": "2021-08-22T11:08:17.973Z"
   },
   {
    "duration": 998,
    "start_time": "2021-08-22T11:12:24.234Z"
   },
   {
    "duration": 515,
    "start_time": "2021-08-22T11:19:24.368Z"
   },
   {
    "duration": 1018,
    "start_time": "2021-08-22T11:19:39.625Z"
   },
   {
    "duration": 1811,
    "start_time": "2021-08-22T11:20:15.538Z"
   },
   {
    "duration": 665,
    "start_time": "2021-08-22T11:20:20.926Z"
   },
   {
    "duration": 478,
    "start_time": "2021-08-22T11:20:29.226Z"
   },
   {
    "duration": 371,
    "start_time": "2021-08-22T11:20:39.584Z"
   },
   {
    "duration": 794,
    "start_time": "2021-08-22T11:20:41.499Z"
   },
   {
    "duration": 934,
    "start_time": "2021-08-22T11:20:47.211Z"
   },
   {
    "duration": 12,
    "start_time": "2021-08-22T11:50:28.534Z"
   },
   {
    "duration": 356,
    "start_time": "2021-08-22T11:53:12.309Z"
   },
   {
    "duration": 22,
    "start_time": "2021-08-22T11:53:21.089Z"
   },
   {
    "duration": 19,
    "start_time": "2021-08-22T11:56:08.473Z"
   },
   {
    "duration": 412,
    "start_time": "2021-08-22T11:57:37.153Z"
   },
   {
    "duration": 887,
    "start_time": "2021-08-22T18:12:05.783Z"
   },
   {
    "duration": 822,
    "start_time": "2021-08-22T18:12:07.757Z"
   },
   {
    "duration": 362,
    "start_time": "2021-08-22T18:12:10.245Z"
   },
   {
    "duration": 263,
    "start_time": "2021-08-22T18:12:12.123Z"
   },
   {
    "duration": 16,
    "start_time": "2021-08-22T18:12:14.322Z"
   },
   {
    "duration": 21,
    "start_time": "2021-08-22T18:12:14.890Z"
   },
   {
    "duration": 65,
    "start_time": "2021-08-22T18:12:20.925Z"
   },
   {
    "duration": 25,
    "start_time": "2021-08-22T18:12:22.400Z"
   },
   {
    "duration": 20,
    "start_time": "2021-08-22T18:12:23.404Z"
   },
   {
    "duration": 6,
    "start_time": "2021-08-22T18:12:24.273Z"
   },
   {
    "duration": 12,
    "start_time": "2021-08-22T18:12:30.554Z"
   },
   {
    "duration": 47,
    "start_time": "2021-08-22T18:12:34.932Z"
   },
   {
    "duration": 9,
    "start_time": "2021-08-22T18:12:36.334Z"
   },
   {
    "duration": 7,
    "start_time": "2021-08-22T18:12:37.026Z"
   },
   {
    "duration": 11,
    "start_time": "2021-08-22T18:12:37.343Z"
   },
   {
    "duration": 4,
    "start_time": "2021-08-22T18:13:11.879Z"
   },
   {
    "duration": 372,
    "start_time": "2021-08-22T18:13:16.006Z"
   },
   {
    "duration": 415,
    "start_time": "2021-08-22T18:13:16.858Z"
   },
   {
    "duration": 12,
    "start_time": "2021-08-22T18:13:19.827Z"
   },
   {
    "duration": 114,
    "start_time": "2021-08-22T18:13:21.852Z"
   },
   {
    "duration": 496,
    "start_time": "2021-08-22T18:13:23.394Z"
   },
   {
    "duration": 380,
    "start_time": "2021-08-22T18:13:24.192Z"
   },
   {
    "duration": 409,
    "start_time": "2021-08-22T18:13:24.707Z"
   },
   {
    "duration": 25,
    "start_time": "2021-08-22T18:13:42.544Z"
   },
   {
    "duration": 33,
    "start_time": "2021-08-22T18:13:43.086Z"
   },
   {
    "duration": 45,
    "start_time": "2021-08-22T18:14:06.976Z"
   },
   {
    "duration": 383,
    "start_time": "2021-08-22T18:14:10.630Z"
   },
   {
    "duration": 61,
    "start_time": "2021-08-22T18:14:21.282Z"
   },
   {
    "duration": 17,
    "start_time": "2021-08-22T18:14:22.478Z"
   },
   {
    "duration": 345,
    "start_time": "2021-08-22T18:14:23.744Z"
   },
   {
    "duration": 555,
    "start_time": "2021-08-22T18:14:31.967Z"
   },
   {
    "duration": 2033,
    "start_time": "2021-08-22T18:14:32.966Z"
   },
   {
    "duration": 9,
    "start_time": "2021-08-22T18:14:39.653Z"
   },
   {
    "duration": 238,
    "start_time": "2021-08-22T18:15:19.932Z"
   },
   {
    "duration": 11,
    "start_time": "2021-08-22T18:15:20.762Z"
   },
   {
    "duration": 514,
    "start_time": "2021-08-22T18:15:21.658Z"
   },
   {
    "duration": 1667,
    "start_time": "2021-08-22T18:15:40.636Z"
   },
   {
    "duration": 6,
    "start_time": "2021-08-22T18:15:58.810Z"
   },
   {
    "duration": 127,
    "start_time": "2021-08-22T18:16:19.821Z"
   },
   {
    "duration": 14,
    "start_time": "2021-08-22T18:16:20.407Z"
   },
   {
    "duration": 10,
    "start_time": "2021-08-22T18:16:34.523Z"
   },
   {
    "duration": 693,
    "start_time": "2021-08-22T18:16:34.887Z"
   },
   {
    "duration": 78,
    "start_time": "2021-08-22T18:16:41.957Z"
   },
   {
    "duration": 12,
    "start_time": "2021-08-22T18:16:42.823Z"
   },
   {
    "duration": 14,
    "start_time": "2021-08-22T18:16:44.502Z"
   },
   {
    "duration": 34,
    "start_time": "2021-08-22T18:16:44.784Z"
   },
   {
    "duration": 1217,
    "start_time": "2021-08-22T18:16:45.351Z"
   },
   {
    "duration": 1193,
    "start_time": "2021-08-22T18:16:58.895Z"
   },
   {
    "duration": 42,
    "start_time": "2021-08-22T18:17:07.121Z"
   },
   {
    "duration": 14,
    "start_time": "2021-08-22T18:17:29.359Z"
   },
   {
    "duration": 8,
    "start_time": "2021-08-22T18:17:30.017Z"
   },
   {
    "duration": 581,
    "start_time": "2021-08-22T18:17:34.204Z"
   },
   {
    "duration": 1702,
    "start_time": "2021-08-22T18:17:44.024Z"
   },
   {
    "duration": 1237,
    "start_time": "2021-08-22T18:18:00.765Z"
   },
   {
    "duration": 1470,
    "start_time": "2021-08-22T18:19:29.139Z"
   },
   {
    "duration": 428,
    "start_time": "2021-08-22T18:20:22.387Z"
   },
   {
    "duration": 782,
    "start_time": "2021-08-22T18:20:25.515Z"
   },
   {
    "duration": 12,
    "start_time": "2021-08-22T18:23:28.185Z"
   },
   {
    "duration": 5,
    "start_time": "2021-08-22T18:27:48.253Z"
   },
   {
    "duration": 5,
    "start_time": "2021-08-22T18:28:11.560Z"
   },
   {
    "duration": 13,
    "start_time": "2021-08-22T18:28:51.737Z"
   },
   {
    "duration": 954,
    "start_time": "2021-08-22T18:29:58.744Z"
   },
   {
    "duration": 699,
    "start_time": "2021-08-23T06:29:22.576Z"
   },
   {
    "duration": 589,
    "start_time": "2021-08-23T06:29:23.277Z"
   },
   {
    "duration": 264,
    "start_time": "2021-08-23T06:29:23.868Z"
   },
   {
    "duration": 185,
    "start_time": "2021-08-23T06:29:24.134Z"
   },
   {
    "duration": 21,
    "start_time": "2021-08-23T06:29:24.321Z"
   },
   {
    "duration": 10,
    "start_time": "2021-08-23T06:29:24.344Z"
   },
   {
    "duration": 48,
    "start_time": "2021-08-23T06:29:24.596Z"
   },
   {
    "duration": 15,
    "start_time": "2021-08-23T06:29:25.297Z"
   },
   {
    "duration": 13,
    "start_time": "2021-08-23T06:29:25.716Z"
   },
   {
    "duration": 4,
    "start_time": "2021-08-23T06:29:25.917Z"
   },
   {
    "duration": 8,
    "start_time": "2021-08-23T06:29:26.103Z"
   },
   {
    "duration": 40,
    "start_time": "2021-08-23T06:29:26.695Z"
   },
   {
    "duration": 5,
    "start_time": "2021-08-23T06:29:27.006Z"
   },
   {
    "duration": 5,
    "start_time": "2021-08-23T06:29:27.315Z"
   },
   {
    "duration": 7,
    "start_time": "2021-08-23T06:29:27.546Z"
   },
   {
    "duration": 3,
    "start_time": "2021-08-23T06:29:29.326Z"
   },
   {
    "duration": 248,
    "start_time": "2021-08-23T06:29:29.516Z"
   },
   {
    "duration": 308,
    "start_time": "2021-08-23T06:29:29.766Z"
   },
   {
    "duration": 7,
    "start_time": "2021-08-23T06:29:30.077Z"
   },
   {
    "duration": 72,
    "start_time": "2021-08-23T06:29:30.646Z"
   },
   {
    "duration": 276,
    "start_time": "2021-08-23T06:29:30.836Z"
   },
   {
    "duration": 211,
    "start_time": "2021-08-23T06:29:31.193Z"
   },
   {
    "duration": 210,
    "start_time": "2021-08-23T06:29:31.686Z"
   },
   {
    "duration": 3,
    "start_time": "2021-08-23T06:29:32.882Z"
   },
   {
    "duration": 2,
    "start_time": "2021-08-23T06:29:33.254Z"
   },
   {
    "duration": 2,
    "start_time": "2021-08-23T06:29:33.504Z"
   },
   {
    "duration": 2,
    "start_time": "2021-08-23T06:29:33.656Z"
   },
   {
    "duration": 27,
    "start_time": "2021-08-23T06:29:34.265Z"
   },
   {
    "duration": 231,
    "start_time": "2021-08-23T06:29:34.534Z"
   },
   {
    "duration": 51,
    "start_time": "2021-08-23T06:29:35.176Z"
   },
   {
    "duration": 10,
    "start_time": "2021-08-23T06:29:35.616Z"
   },
   {
    "duration": 189,
    "start_time": "2021-08-23T06:29:35.823Z"
   },
   {
    "duration": 387,
    "start_time": "2021-08-23T06:29:36.566Z"
   },
   {
    "duration": 1233,
    "start_time": "2021-08-23T06:29:36.955Z"
   },
   {
    "duration": 8,
    "start_time": "2021-08-23T06:29:38.190Z"
   },
   {
    "duration": 126,
    "start_time": "2021-08-23T06:29:40.001Z"
   },
   {
    "duration": 7,
    "start_time": "2021-08-23T06:29:40.258Z"
   },
   {
    "duration": 257,
    "start_time": "2021-08-23T06:29:40.425Z"
   },
   {
    "duration": 1001,
    "start_time": "2021-08-23T06:29:41.372Z"
   },
   {
    "duration": 5,
    "start_time": "2021-08-23T06:29:42.375Z"
   },
   {
    "duration": 66,
    "start_time": "2021-08-23T06:29:46.026Z"
   },
   {
    "duration": 10,
    "start_time": "2021-08-23T06:29:46.225Z"
   },
   {
    "duration": 7,
    "start_time": "2021-08-23T06:29:46.746Z"
   },
   {
    "duration": 328,
    "start_time": "2021-08-23T06:29:46.925Z"
   },
   {
    "duration": 3,
    "start_time": "2021-08-23T06:29:51.486Z"
   },
   {
    "duration": 51,
    "start_time": "2021-08-23T06:29:51.606Z"
   },
   {
    "duration": 10,
    "start_time": "2021-08-23T06:29:51.828Z"
   },
   {
    "duration": 8,
    "start_time": "2021-08-23T06:29:52.013Z"
   },
   {
    "duration": 19,
    "start_time": "2021-08-23T06:29:52.266Z"
   },
   {
    "duration": 767,
    "start_time": "2021-08-23T06:29:53.445Z"
   },
   {
    "duration": 37,
    "start_time": "2021-08-23T06:29:54.213Z"
   },
   {
    "duration": 9,
    "start_time": "2021-08-23T06:29:59.496Z"
   },
   {
    "duration": 5,
    "start_time": "2021-08-23T06:29:59.705Z"
   },
   {
    "duration": 313,
    "start_time": "2021-08-23T06:30:00.095Z"
   },
   {
    "duration": 558,
    "start_time": "2021-08-23T06:30:00.512Z"
   },
   {
    "duration": 217,
    "start_time": "2021-08-23T06:30:04.913Z"
   },
   {
    "duration": 458,
    "start_time": "2021-08-23T06:30:18.056Z"
   },
   {
    "duration": 4,
    "start_time": "2021-08-23T06:30:23.415Z"
   },
   {
    "duration": 7,
    "start_time": "2021-08-23T06:30:31.286Z"
   },
   {
    "duration": 8,
    "start_time": "2021-08-23T06:31:03.046Z"
   },
   {
    "duration": 26,
    "start_time": "2021-08-23T06:31:11.285Z"
   },
   {
    "duration": 23,
    "start_time": "2021-08-23T06:31:35.735Z"
   },
   {
    "duration": 7,
    "start_time": "2021-08-23T06:32:34.725Z"
   },
   {
    "duration": 7,
    "start_time": "2021-08-23T06:36:32.863Z"
   },
   {
    "duration": 7,
    "start_time": "2021-08-23T06:36:50.106Z"
   },
   {
    "duration": 27,
    "start_time": "2021-08-23T06:37:09.655Z"
   },
   {
    "duration": 6647,
    "start_time": "2021-08-23T06:44:08.561Z"
   },
   {
    "duration": 326,
    "start_time": "2021-08-23T06:44:27.948Z"
   },
   {
    "duration": 337,
    "start_time": "2021-08-23T06:46:37.756Z"
   },
   {
    "duration": 433,
    "start_time": "2021-08-23T06:47:06.514Z"
   },
   {
    "duration": 300,
    "start_time": "2021-08-23T06:52:30.896Z"
   },
   {
    "duration": 421,
    "start_time": "2021-08-23T06:53:23.624Z"
   },
   {
    "duration": 13,
    "start_time": "2021-08-23T07:04:06.836Z"
   },
   {
    "duration": 24,
    "start_time": "2021-08-23T07:12:00.824Z"
   },
   {
    "duration": 485,
    "start_time": "2021-08-23T07:23:27.516Z"
   },
   {
    "duration": 270,
    "start_time": "2021-08-23T07:24:13.476Z"
   },
   {
    "duration": 280,
    "start_time": "2021-08-23T07:24:30.852Z"
   },
   {
    "duration": 8,
    "start_time": "2021-08-23T07:24:44.826Z"
   },
   {
    "duration": 8,
    "start_time": "2021-08-23T07:24:49.786Z"
   },
   {
    "duration": 485,
    "start_time": "2021-08-23T07:25:40.617Z"
   },
   {
    "duration": 407,
    "start_time": "2021-08-23T07:27:33.276Z"
   },
   {
    "duration": 23,
    "start_time": "2021-08-23T07:31:12.446Z"
   },
   {
    "duration": 387,
    "start_time": "2021-08-23T07:31:53.064Z"
   },
   {
    "duration": 412,
    "start_time": "2021-08-23T07:32:11.334Z"
   },
   {
    "duration": 10,
    "start_time": "2021-08-23T07:32:46.614Z"
   },
   {
    "duration": 89,
    "start_time": "2021-08-23T07:34:23.324Z"
   },
   {
    "duration": 621,
    "start_time": "2021-08-23T07:34:57.404Z"
   },
   {
    "duration": 4,
    "start_time": "2021-08-23T07:35:11.916Z"
   },
   {
    "duration": 378,
    "start_time": "2021-08-23T07:35:15.426Z"
   },
   {
    "duration": 568,
    "start_time": "2021-08-23T07:35:27.756Z"
   },
   {
    "duration": 219,
    "start_time": "2021-08-23T07:38:06.926Z"
   },
   {
    "duration": 13,
    "start_time": "2021-08-23T07:38:30.603Z"
   },
   {
    "duration": 304,
    "start_time": "2021-08-23T07:39:04.436Z"
   },
   {
    "duration": 248,
    "start_time": "2021-08-23T07:39:12.856Z"
   },
   {
    "duration": 265,
    "start_time": "2021-08-23T07:39:13.753Z"
   },
   {
    "duration": 557,
    "start_time": "2021-08-23T07:48:55.316Z"
   },
   {
    "duration": 375,
    "start_time": "2021-08-23T07:58:05.105Z"
   },
   {
    "duration": 255,
    "start_time": "2021-08-23T07:58:16.075Z"
   },
   {
    "duration": 9,
    "start_time": "2021-08-23T07:58:23.284Z"
   },
   {
    "duration": 12,
    "start_time": "2021-08-23T08:05:07.826Z"
   },
   {
    "duration": 6,
    "start_time": "2021-08-23T08:08:49.164Z"
   },
   {
    "duration": 26,
    "start_time": "2021-08-23T08:40:55.966Z"
   },
   {
    "duration": 24,
    "start_time": "2021-08-23T08:41:22.130Z"
   },
   {
    "duration": 23,
    "start_time": "2021-08-23T08:41:31.978Z"
   },
   {
    "duration": 13,
    "start_time": "2021-08-23T08:43:08.678Z"
   },
   {
    "duration": 230,
    "start_time": "2021-08-23T08:59:09.817Z"
   },
   {
    "duration": 241,
    "start_time": "2021-08-23T08:59:12.829Z"
   },
   {
    "duration": 104,
    "start_time": "2021-08-23T08:59:13.888Z"
   },
   {
    "duration": 9,
    "start_time": "2021-08-23T08:59:27.442Z"
   },
   {
    "duration": 106,
    "start_time": "2021-08-23T08:59:45.657Z"
   },
   {
    "duration": 10,
    "start_time": "2021-08-23T08:59:59.618Z"
   },
   {
    "duration": 5,
    "start_time": "2021-08-23T09:03:07.898Z"
   },
   {
    "duration": 4,
    "start_time": "2021-08-23T09:03:14.178Z"
   },
   {
    "duration": 12,
    "start_time": "2021-08-23T09:03:24.668Z"
   },
   {
    "duration": 14,
    "start_time": "2021-08-23T09:03:50.953Z"
   },
   {
    "duration": 7,
    "start_time": "2021-08-23T09:03:59.027Z"
   },
   {
    "duration": 16,
    "start_time": "2021-08-23T09:04:27.865Z"
   },
   {
    "duration": 9,
    "start_time": "2021-08-23T09:04:30.376Z"
   },
   {
    "duration": 10,
    "start_time": "2021-08-23T09:04:47.468Z"
   },
   {
    "duration": 10,
    "start_time": "2021-08-23T09:05:03.338Z"
   },
   {
    "duration": 11,
    "start_time": "2021-08-23T09:05:07.268Z"
   },
   {
    "duration": 10,
    "start_time": "2021-08-23T09:05:45.769Z"
   },
   {
    "duration": 11,
    "start_time": "2021-08-23T09:05:48.597Z"
   },
   {
    "duration": 16,
    "start_time": "2021-08-23T09:06:07.508Z"
   },
   {
    "duration": 15,
    "start_time": "2021-08-23T09:06:29.478Z"
   },
   {
    "duration": 18,
    "start_time": "2021-08-23T09:06:48.738Z"
   },
   {
    "duration": 95,
    "start_time": "2021-08-23T09:07:09.408Z"
   },
   {
    "duration": 10,
    "start_time": "2021-08-23T09:07:18.729Z"
   },
   {
    "duration": 9,
    "start_time": "2021-08-23T09:15:19.218Z"
   },
   {
    "duration": 15,
    "start_time": "2021-08-23T09:15:56.098Z"
   },
   {
    "duration": 9,
    "start_time": "2021-08-23T09:16:47.038Z"
   },
   {
    "duration": 14,
    "start_time": "2021-08-23T09:16:57.830Z"
   },
   {
    "duration": 8,
    "start_time": "2021-08-23T09:17:23.546Z"
   },
   {
    "duration": 277,
    "start_time": "2021-08-23T09:17:24.337Z"
   },
   {
    "duration": 9,
    "start_time": "2021-08-23T09:22:22.318Z"
   },
   {
    "duration": 9,
    "start_time": "2021-08-23T09:31:19.999Z"
   },
   {
    "duration": 551,
    "start_time": "2021-08-23T09:32:50.108Z"
   },
   {
    "duration": 9,
    "start_time": "2021-08-23T09:35:08.687Z"
   },
   {
    "duration": 6,
    "start_time": "2021-08-23T09:36:06.758Z"
   },
   {
    "duration": 21,
    "start_time": "2021-08-23T09:36:08.678Z"
   },
   {
    "duration": 283,
    "start_time": "2021-08-23T09:36:09.938Z"
   },
   {
    "duration": 10,
    "start_time": "2021-08-23T09:36:28.048Z"
   },
   {
    "duration": 350,
    "start_time": "2021-08-23T09:37:38.716Z"
   },
   {
    "duration": 440,
    "start_time": "2021-08-23T09:38:12.826Z"
   },
   {
    "duration": 263,
    "start_time": "2021-08-23T09:38:26.348Z"
   },
   {
    "duration": 522,
    "start_time": "2021-08-23T09:40:56.568Z"
   },
   {
    "duration": 311,
    "start_time": "2021-08-23T09:40:59.936Z"
   },
   {
    "duration": 14,
    "start_time": "2021-08-23T09:41:00.737Z"
   },
   {
    "duration": 21,
    "start_time": "2021-08-23T09:41:01.400Z"
   },
   {
    "duration": 388,
    "start_time": "2021-08-23T09:41:04.628Z"
   },
   {
    "duration": 884,
    "start_time": "2021-08-23T09:41:24.138Z"
   },
   {
    "duration": 214,
    "start_time": "2021-08-23T09:43:58.058Z"
   },
   {
    "duration": 511,
    "start_time": "2021-08-23T09:43:58.889Z"
   },
   {
    "duration": 4,
    "start_time": "2021-08-23T09:44:53.558Z"
   },
   {
    "duration": 476,
    "start_time": "2021-08-24T09:10:56.273Z"
   },
   {
    "duration": 528,
    "start_time": "2021-08-24T09:10:56.751Z"
   },
   {
    "duration": 272,
    "start_time": "2021-08-24T09:10:57.281Z"
   },
   {
    "duration": 161,
    "start_time": "2021-08-24T09:10:57.555Z"
   },
   {
    "duration": 4,
    "start_time": "2021-08-24T09:10:57.717Z"
   },
   {
    "duration": 20,
    "start_time": "2021-08-24T09:10:57.722Z"
   },
   {
    "duration": 52,
    "start_time": "2021-08-24T09:10:57.744Z"
   },
   {
    "duration": 15,
    "start_time": "2021-08-24T09:10:57.799Z"
   },
   {
    "duration": 25,
    "start_time": "2021-08-24T09:10:57.816Z"
   },
   {
    "duration": 8,
    "start_time": "2021-08-24T09:10:57.842Z"
   },
   {
    "duration": 22,
    "start_time": "2021-08-24T09:10:57.852Z"
   },
   {
    "duration": 52,
    "start_time": "2021-08-24T09:10:57.876Z"
   },
   {
    "duration": 5,
    "start_time": "2021-08-24T09:10:57.929Z"
   },
   {
    "duration": 12,
    "start_time": "2021-08-24T09:10:57.935Z"
   },
   {
    "duration": 18,
    "start_time": "2021-08-24T09:10:57.948Z"
   },
   {
    "duration": 15,
    "start_time": "2021-08-24T09:10:57.967Z"
   },
   {
    "duration": 304,
    "start_time": "2021-08-24T09:10:57.984Z"
   },
   {
    "duration": 262,
    "start_time": "2021-08-24T09:10:58.290Z"
   },
   {
    "duration": 7,
    "start_time": "2021-08-24T09:10:58.554Z"
   },
   {
    "duration": 464,
    "start_time": "2021-08-24T09:10:58.563Z"
   },
   {
    "duration": 1077,
    "start_time": "2021-08-24T09:10:59.029Z"
   },
   {
    "duration": 217,
    "start_time": "2021-08-24T09:11:00.108Z"
   },
   {
    "duration": 256,
    "start_time": "2021-08-24T09:11:00.329Z"
   },
   {
    "duration": 2,
    "start_time": "2021-08-24T09:11:00.588Z"
   },
   {
    "duration": 12,
    "start_time": "2021-08-24T09:11:00.591Z"
   },
   {
    "duration": 15,
    "start_time": "2021-08-24T09:11:00.605Z"
   },
   {
    "duration": 34,
    "start_time": "2021-08-24T09:11:00.621Z"
   },
   {
    "duration": 46,
    "start_time": "2021-08-24T09:11:00.657Z"
   },
   {
    "duration": 176,
    "start_time": "2021-08-24T09:11:00.705Z"
   },
   {
    "duration": 30,
    "start_time": "2021-08-24T09:11:00.883Z"
   },
   {
    "duration": 9,
    "start_time": "2021-08-24T09:11:00.915Z"
   },
   {
    "duration": 199,
    "start_time": "2021-08-24T09:11:00.941Z"
   },
   {
    "duration": 423,
    "start_time": "2021-08-24T09:11:01.142Z"
   },
   {
    "duration": 1073,
    "start_time": "2021-08-24T09:11:01.567Z"
   },
   {
    "duration": 6,
    "start_time": "2021-08-24T09:11:02.642Z"
   },
   {
    "duration": 131,
    "start_time": "2021-08-24T09:11:02.650Z"
   },
   {
    "duration": 5,
    "start_time": "2021-08-24T09:11:02.783Z"
   },
   {
    "duration": 263,
    "start_time": "2021-08-24T09:11:02.790Z"
   },
   {
    "duration": 1003,
    "start_time": "2021-08-24T09:11:03.055Z"
   },
   {
    "duration": 4,
    "start_time": "2021-08-24T09:11:04.059Z"
   },
   {
    "duration": 91,
    "start_time": "2021-08-24T09:11:04.065Z"
   },
   {
    "duration": 9,
    "start_time": "2021-08-24T09:11:04.157Z"
   },
   {
    "duration": 5,
    "start_time": "2021-08-24T09:11:04.167Z"
   },
   {
    "duration": 353,
    "start_time": "2021-08-24T09:11:04.173Z"
   },
   {
    "duration": 3,
    "start_time": "2021-08-24T09:11:04.527Z"
   },
   {
    "duration": 48,
    "start_time": "2021-08-24T09:11:04.532Z"
   },
   {
    "duration": 9,
    "start_time": "2021-08-24T09:11:04.582Z"
   },
   {
    "duration": 9,
    "start_time": "2021-08-24T09:11:04.593Z"
   },
   {
    "duration": 38,
    "start_time": "2021-08-24T09:11:04.603Z"
   },
   {
    "duration": 728,
    "start_time": "2021-08-24T09:11:04.643Z"
   },
   {
    "duration": 20,
    "start_time": "2021-08-24T09:11:05.373Z"
   },
   {
    "duration": 16,
    "start_time": "2021-08-24T09:11:05.395Z"
   },
   {
    "duration": 27,
    "start_time": "2021-08-24T09:11:05.413Z"
   },
   {
    "duration": 311,
    "start_time": "2021-08-24T09:11:05.442Z"
   },
   {
    "duration": 548,
    "start_time": "2021-08-24T09:11:05.755Z"
   },
   {
    "duration": 8,
    "start_time": "2021-08-24T09:11:06.304Z"
   },
   {
    "duration": 9,
    "start_time": "2021-08-24T09:11:06.313Z"
   },
   {
    "duration": 21,
    "start_time": "2021-08-24T09:11:06.324Z"
   },
   {
    "duration": 7,
    "start_time": "2021-08-24T09:11:06.347Z"
   },
   {
    "duration": 353,
    "start_time": "2021-08-24T09:11:06.356Z"
   },
   {
    "duration": 215,
    "start_time": "2021-08-24T09:11:06.711Z"
   },
   {
    "duration": 535,
    "start_time": "2021-08-24T09:11:06.928Z"
   },
   {
    "duration": 4,
    "start_time": "2021-08-24T09:11:07.466Z"
   },
   {
    "duration": 655,
    "start_time": "2021-08-24T09:11:07.472Z"
   },
   {
    "duration": 461,
    "start_time": "2021-08-24T09:43:23.980Z"
   },
   {
    "duration": 531,
    "start_time": "2021-08-24T09:43:24.443Z"
   },
   {
    "duration": 279,
    "start_time": "2021-08-24T09:43:24.976Z"
   },
   {
    "duration": 164,
    "start_time": "2021-08-24T09:43:25.257Z"
   },
   {
    "duration": 4,
    "start_time": "2021-08-24T09:43:25.422Z"
   },
   {
    "duration": 34,
    "start_time": "2021-08-24T09:43:25.427Z"
   },
   {
    "duration": 67,
    "start_time": "2021-08-24T09:43:25.462Z"
   },
   {
    "duration": 15,
    "start_time": "2021-08-24T09:43:25.531Z"
   },
   {
    "duration": 33,
    "start_time": "2021-08-24T09:43:25.548Z"
   },
   {
    "duration": 33,
    "start_time": "2021-08-24T09:43:25.582Z"
   },
   {
    "duration": 33,
    "start_time": "2021-08-24T09:43:25.617Z"
   },
   {
    "duration": 64,
    "start_time": "2021-08-24T09:43:25.652Z"
   },
   {
    "duration": 6,
    "start_time": "2021-08-24T09:43:25.718Z"
   },
   {
    "duration": 30,
    "start_time": "2021-08-24T09:43:25.726Z"
   },
   {
    "duration": 20,
    "start_time": "2021-08-24T09:43:25.758Z"
   },
   {
    "duration": 20,
    "start_time": "2021-08-24T09:43:25.780Z"
   },
   {
    "duration": 327,
    "start_time": "2021-08-24T09:43:25.801Z"
   },
   {
    "duration": 271,
    "start_time": "2021-08-24T09:43:26.129Z"
   },
   {
    "duration": 8,
    "start_time": "2021-08-24T09:43:26.402Z"
   },
   {
    "duration": 297,
    "start_time": "2021-08-24T09:43:26.412Z"
   },
   {
    "duration": 1033,
    "start_time": "2021-08-24T09:43:26.711Z"
   },
   {
    "duration": 261,
    "start_time": "2021-08-24T09:43:27.745Z"
   },
   {
    "duration": 274,
    "start_time": "2021-08-24T09:43:28.011Z"
   },
   {
    "duration": 2,
    "start_time": "2021-08-24T09:43:28.287Z"
   },
   {
    "duration": 7,
    "start_time": "2021-08-24T09:43:28.291Z"
   },
   {
    "duration": 5,
    "start_time": "2021-08-24T09:43:28.300Z"
   },
   {
    "duration": 6,
    "start_time": "2021-08-24T09:43:28.306Z"
   },
   {
    "duration": 42,
    "start_time": "2021-08-24T09:43:28.313Z"
   },
   {
    "duration": 243,
    "start_time": "2021-08-24T09:43:28.356Z"
   },
   {
    "duration": 41,
    "start_time": "2021-08-24T09:43:28.601Z"
   },
   {
    "duration": 9,
    "start_time": "2021-08-24T09:43:28.643Z"
   },
   {
    "duration": 277,
    "start_time": "2021-08-24T09:43:28.653Z"
   },
   {
    "duration": 470,
    "start_time": "2021-08-24T09:43:28.932Z"
   },
   {
    "duration": 1070,
    "start_time": "2021-08-24T09:43:29.404Z"
   },
   {
    "duration": 7,
    "start_time": "2021-08-24T09:43:30.476Z"
   },
   {
    "duration": 144,
    "start_time": "2021-08-24T09:43:30.485Z"
   },
   {
    "duration": 11,
    "start_time": "2021-08-24T09:43:30.630Z"
   },
   {
    "duration": 277,
    "start_time": "2021-08-24T09:43:30.643Z"
   },
   {
    "duration": 904,
    "start_time": "2021-08-24T09:43:30.921Z"
   },
   {
    "duration": 3,
    "start_time": "2021-08-24T09:43:31.827Z"
   },
   {
    "duration": 80,
    "start_time": "2021-08-24T09:43:31.832Z"
   },
   {
    "duration": 9,
    "start_time": "2021-08-24T09:43:31.913Z"
   },
   {
    "duration": 18,
    "start_time": "2021-08-24T09:43:31.923Z"
   },
   {
    "duration": 325,
    "start_time": "2021-08-24T09:43:31.943Z"
   },
   {
    "duration": 2,
    "start_time": "2021-08-24T09:43:32.269Z"
   },
   {
    "duration": 41,
    "start_time": "2021-08-24T09:43:32.273Z"
   },
   {
    "duration": 8,
    "start_time": "2021-08-24T09:43:32.316Z"
   },
   {
    "duration": 6,
    "start_time": "2021-08-24T09:43:32.340Z"
   },
   {
    "duration": 17,
    "start_time": "2021-08-24T09:43:32.347Z"
   },
   {
    "duration": 610,
    "start_time": "2021-08-24T09:43:32.366Z"
   },
   {
    "duration": 19,
    "start_time": "2021-08-24T09:43:32.977Z"
   },
   {
    "duration": 8,
    "start_time": "2021-08-24T09:43:32.998Z"
   },
   {
    "duration": 9,
    "start_time": "2021-08-24T09:43:33.008Z"
   },
   {
    "duration": 280,
    "start_time": "2021-08-24T09:43:33.018Z"
   },
   {
    "duration": 725,
    "start_time": "2021-08-24T09:43:33.300Z"
   },
   {
    "duration": 16,
    "start_time": "2021-08-24T09:43:34.026Z"
   },
   {
    "duration": 8,
    "start_time": "2021-08-24T09:43:34.044Z"
   },
   {
    "duration": 21,
    "start_time": "2021-08-24T09:43:34.054Z"
   },
   {
    "duration": 18,
    "start_time": "2021-08-24T09:43:34.076Z"
   },
   {
    "duration": 333,
    "start_time": "2021-08-24T09:43:34.096Z"
   },
   {
    "duration": 223,
    "start_time": "2021-08-24T09:43:34.431Z"
   },
   {
    "duration": 442,
    "start_time": "2021-08-24T09:43:34.656Z"
   },
   {
    "duration": 3,
    "start_time": "2021-08-24T09:43:35.100Z"
   },
   {
    "duration": 520,
    "start_time": "2021-08-24T09:43:35.105Z"
   },
   {
    "duration": 610,
    "start_time": "2021-08-24T11:13:32.476Z"
   },
   {
    "duration": 532,
    "start_time": "2021-08-24T11:13:33.862Z"
   },
   {
    "duration": 229,
    "start_time": "2021-08-24T11:13:34.396Z"
   },
   {
    "duration": 174,
    "start_time": "2021-08-24T11:13:34.627Z"
   },
   {
    "duration": 14,
    "start_time": "2021-08-24T11:13:34.803Z"
   },
   {
    "duration": 9,
    "start_time": "2021-08-24T11:13:34.821Z"
   },
   {
    "duration": 47,
    "start_time": "2021-08-24T11:13:35.110Z"
   },
   {
    "duration": 14,
    "start_time": "2021-08-24T11:13:35.277Z"
   },
   {
    "duration": 13,
    "start_time": "2021-08-24T11:13:35.573Z"
   },
   {
    "duration": 4,
    "start_time": "2021-08-24T11:13:35.723Z"
   },
   {
    "duration": 8,
    "start_time": "2021-08-24T11:13:35.879Z"
   },
   {
    "duration": 39,
    "start_time": "2021-08-24T11:13:36.349Z"
   },
   {
    "duration": 7,
    "start_time": "2021-08-24T11:13:36.498Z"
   },
   {
    "duration": 5,
    "start_time": "2021-08-24T11:13:36.984Z"
   },
   {
    "duration": 7,
    "start_time": "2021-08-24T11:13:37.151Z"
   },
   {
    "duration": 3,
    "start_time": "2021-08-24T11:13:41.819Z"
   },
   {
    "duration": 227,
    "start_time": "2021-08-24T11:13:41.981Z"
   },
   {
    "duration": 288,
    "start_time": "2021-08-24T11:13:42.209Z"
   },
   {
    "duration": 6,
    "start_time": "2021-08-24T11:13:42.499Z"
   },
   {
    "duration": 66,
    "start_time": "2021-08-24T11:13:42.898Z"
   },
   {
    "duration": 252,
    "start_time": "2021-08-24T11:13:44.743Z"
   },
   {
    "duration": 203,
    "start_time": "2021-08-24T11:13:45.065Z"
   },
   {
    "duration": 197,
    "start_time": "2021-08-24T11:13:45.406Z"
   },
   {
    "duration": 26,
    "start_time": "2021-08-24T11:20:35.915Z"
   },
   {
    "duration": 51,
    "start_time": "2021-08-24T11:30:15.425Z"
   },
   {
    "duration": 13,
    "start_time": "2021-08-24T11:30:16.653Z"
   },
   {
    "duration": 239,
    "start_time": "2021-08-24T11:30:17.291Z"
   },
   {
    "duration": 463,
    "start_time": "2021-08-24T11:30:20.756Z"
   },
   {
    "duration": 1171,
    "start_time": "2021-08-24T11:30:21.222Z"
   },
   {
    "duration": 7,
    "start_time": "2021-08-24T11:31:07.438Z"
   },
   {
    "duration": 183,
    "start_time": "2021-08-24T11:31:09.009Z"
   },
   {
    "duration": 5,
    "start_time": "2021-08-24T11:31:09.195Z"
   },
   {
    "duration": 247,
    "start_time": "2021-08-24T11:31:09.517Z"
   },
   {
    "duration": 438,
    "start_time": "2021-08-24T11:53:57.167Z"
   },
   {
    "duration": 248,
    "start_time": "2021-08-24T11:54:28.499Z"
   },
   {
    "duration": 943,
    "start_time": "2021-08-24T11:54:30.560Z"
   },
   {
    "duration": 4,
    "start_time": "2021-08-24T11:54:32.065Z"
   },
   {
    "duration": 66,
    "start_time": "2021-08-24T11:54:36.342Z"
   },
   {
    "duration": 9,
    "start_time": "2021-08-24T11:54:36.522Z"
   },
   {
    "duration": 7,
    "start_time": "2021-08-24T11:54:37.228Z"
   },
   {
    "duration": 312,
    "start_time": "2021-08-24T11:54:37.806Z"
   },
   {
    "duration": 43,
    "start_time": "2021-08-24T11:54:39.387Z"
   },
   {
    "duration": 7,
    "start_time": "2021-08-24T11:54:39.716Z"
   },
   {
    "duration": 8,
    "start_time": "2021-08-24T11:54:39.879Z"
   },
   {
    "duration": 18,
    "start_time": "2021-08-24T11:54:40.094Z"
   },
   {
    "duration": 668,
    "start_time": "2021-08-24T11:54:40.309Z"
   },
   {
    "duration": 25,
    "start_time": "2021-08-24T11:54:40.979Z"
   },
   {
    "duration": 9,
    "start_time": "2021-08-24T11:54:45.352Z"
   },
   {
    "duration": 5,
    "start_time": "2021-08-24T11:54:47.032Z"
   },
   {
    "duration": 282,
    "start_time": "2021-08-24T11:54:47.527Z"
   },
   {
    "duration": 539,
    "start_time": "2021-08-24T11:55:04.035Z"
   },
   {
    "duration": 9,
    "start_time": "2021-08-24T11:55:12.967Z"
   },
   {
    "duration": 5,
    "start_time": "2021-08-24T11:55:13.303Z"
   },
   {
    "duration": 14,
    "start_time": "2021-08-24T11:55:13.446Z"
   },
   {
    "duration": 7,
    "start_time": "2021-08-24T11:55:13.595Z"
   },
   {
    "duration": 330,
    "start_time": "2021-08-24T11:55:14.114Z"
   },
   {
    "duration": 219,
    "start_time": "2021-08-24T11:55:14.697Z"
   },
   {
    "duration": 495,
    "start_time": "2021-08-24T11:55:14.918Z"
   },
   {
    "duration": 4,
    "start_time": "2021-08-24T11:55:15.414Z"
   },
   {
    "duration": 673,
    "start_time": "2021-08-24T11:55:16.311Z"
   },
   {
    "duration": 8,
    "start_time": "2021-08-24T12:11:09.538Z"
   },
   {
    "duration": 9,
    "start_time": "2021-08-24T12:11:44.806Z"
   },
   {
    "duration": 587,
    "start_time": "2021-08-24T12:13:26.219Z"
   },
   {
    "duration": 435,
    "start_time": "2021-08-24T12:13:33.802Z"
   },
   {
    "duration": 9,
    "start_time": "2021-08-24T12:13:38.202Z"
   },
   {
    "duration": 589,
    "start_time": "2021-08-24T12:15:29.321Z"
   },
   {
    "duration": 5,
    "start_time": "2021-08-24T12:28:35.815Z"
   },
   {
    "duration": 121,
    "start_time": "2021-08-24T12:28:55.641Z"
   },
   {
    "duration": 4,
    "start_time": "2021-08-24T12:29:01.267Z"
   },
   {
    "duration": 44,
    "start_time": "2021-08-24T12:46:17.530Z"
   },
   {
    "duration": 113,
    "start_time": "2021-08-24T12:46:18.542Z"
   },
   {
    "duration": 138,
    "start_time": "2021-08-24T12:46:18.893Z"
   },
   {
    "duration": 402,
    "start_time": "2021-08-24T12:46:19.261Z"
   },
   {
    "duration": 9745,
    "start_time": "2021-08-24T12:52:21.724Z"
   },
   {
    "duration": 358,
    "start_time": "2021-08-24T12:52:41.128Z"
   },
   {
    "duration": 4,
    "start_time": "2021-08-24T12:53:36.675Z"
   },
   {
    "duration": 10,
    "start_time": "2021-08-24T12:54:22.020Z"
   },
   {
    "duration": 119,
    "start_time": "2021-08-24T12:56:28.141Z"
   },
   {
    "duration": 3,
    "start_time": "2021-08-24T12:56:44.663Z"
   },
   {
    "duration": 3,
    "start_time": "2021-08-24T12:57:02.325Z"
   },
   {
    "duration": 401,
    "start_time": "2021-08-24T12:59:41.058Z"
   },
   {
    "duration": 14,
    "start_time": "2021-08-24T13:03:42.051Z"
   },
   {
    "duration": 14,
    "start_time": "2021-08-24T13:05:27.509Z"
   },
   {
    "duration": 4,
    "start_time": "2021-08-24T13:05:28.903Z"
   },
   {
    "duration": 8,
    "start_time": "2021-08-24T13:05:42.042Z"
   },
   {
    "duration": 5,
    "start_time": "2021-08-24T13:07:38.267Z"
   },
   {
    "duration": 291,
    "start_time": "2021-08-24T13:08:25.482Z"
   },
   {
    "duration": 285,
    "start_time": "2021-08-24T13:08:38.449Z"
   },
   {
    "duration": 300,
    "start_time": "2021-08-24T13:10:06.961Z"
   },
   {
    "duration": 169,
    "start_time": "2021-08-24T13:14:04.607Z"
   },
   {
    "duration": 280,
    "start_time": "2021-08-24T13:14:30.282Z"
   },
   {
    "duration": 267,
    "start_time": "2021-08-24T13:14:47.080Z"
   },
   {
    "duration": 365,
    "start_time": "2021-08-24T13:15:55.817Z"
   },
   {
    "duration": 267,
    "start_time": "2021-08-24T13:16:02.096Z"
   },
   {
    "duration": 482,
    "start_time": "2021-08-24T13:20:07.729Z"
   },
   {
    "duration": 284,
    "start_time": "2021-08-24T13:21:02.725Z"
   },
   {
    "duration": 702,
    "start_time": "2021-08-25T13:07:31.300Z"
   },
   {
    "duration": 882,
    "start_time": "2021-08-25T13:07:32.005Z"
   },
   {
    "duration": 457,
    "start_time": "2021-08-25T13:07:32.891Z"
   },
   {
    "duration": 303,
    "start_time": "2021-08-25T13:07:33.351Z"
   },
   {
    "duration": 6,
    "start_time": "2021-08-25T13:07:33.660Z"
   },
   {
    "duration": 20,
    "start_time": "2021-08-25T13:07:33.670Z"
   },
   {
    "duration": 114,
    "start_time": "2021-08-25T13:07:33.694Z"
   },
   {
    "duration": 46,
    "start_time": "2021-08-25T13:07:33.814Z"
   },
   {
    "duration": 35,
    "start_time": "2021-08-25T13:07:33.865Z"
   },
   {
    "duration": 17,
    "start_time": "2021-08-25T13:07:33.903Z"
   },
   {
    "duration": 30,
    "start_time": "2021-08-25T13:07:33.923Z"
   },
   {
    "duration": 55,
    "start_time": "2021-08-25T13:07:33.961Z"
   },
   {
    "duration": 6,
    "start_time": "2021-08-25T13:07:34.019Z"
   },
   {
    "duration": 19,
    "start_time": "2021-08-25T13:07:34.028Z"
   },
   {
    "duration": 27,
    "start_time": "2021-08-25T13:07:34.050Z"
   },
   {
    "duration": 21,
    "start_time": "2021-08-25T13:07:34.080Z"
   },
   {
    "duration": 741,
    "start_time": "2021-08-25T13:07:34.104Z"
   },
   {
    "duration": 459,
    "start_time": "2021-08-25T13:07:34.848Z"
   },
   {
    "duration": 13,
    "start_time": "2021-08-25T13:07:35.309Z"
   },
   {
    "duration": 438,
    "start_time": "2021-08-25T13:07:35.324Z"
   },
   {
    "duration": 1536,
    "start_time": "2021-08-25T13:07:35.765Z"
   },
   {
    "duration": 426,
    "start_time": "2021-08-25T13:07:37.304Z"
   },
   {
    "duration": 428,
    "start_time": "2021-08-25T13:07:37.739Z"
   },
   {
    "duration": 59,
    "start_time": "2021-08-25T13:07:38.172Z"
   },
   {
    "duration": 206,
    "start_time": "2021-08-25T13:07:38.234Z"
   },
   {
    "duration": 280,
    "start_time": "2021-08-25T13:07:38.444Z"
   },
   {
    "duration": 6,
    "start_time": "2021-08-25T13:07:38.726Z"
   },
   {
    "duration": 501,
    "start_time": "2021-08-25T13:07:38.735Z"
   },
   {
    "duration": 73,
    "start_time": "2021-08-25T13:07:39.238Z"
   },
   {
    "duration": 14,
    "start_time": "2021-08-25T13:07:39.313Z"
   },
   {
    "duration": 424,
    "start_time": "2021-08-25T13:07:39.330Z"
   },
   {
    "duration": 813,
    "start_time": "2021-08-25T13:07:39.762Z"
   },
   {
    "duration": 1740,
    "start_time": "2021-08-25T13:07:40.578Z"
   },
   {
    "duration": 11,
    "start_time": "2021-08-25T13:07:42.321Z"
   },
   {
    "duration": 245,
    "start_time": "2021-08-25T13:07:42.353Z"
   },
   {
    "duration": 7,
    "start_time": "2021-08-25T13:07:42.600Z"
   },
   {
    "duration": 479,
    "start_time": "2021-08-25T13:07:42.611Z"
   },
   {
    "duration": 1592,
    "start_time": "2021-08-25T13:07:43.094Z"
   },
   {
    "duration": 7,
    "start_time": "2021-08-25T13:07:44.689Z"
   },
   {
    "duration": 225,
    "start_time": "2021-08-25T13:07:44.699Z"
   },
   {
    "duration": 16,
    "start_time": "2021-08-25T13:07:44.927Z"
   },
   {
    "duration": 12,
    "start_time": "2021-08-25T13:07:44.954Z"
   },
   {
    "duration": 511,
    "start_time": "2021-08-25T13:07:44.969Z"
   },
   {
    "duration": 77,
    "start_time": "2021-08-25T13:07:45.484Z"
   },
   {
    "duration": 12,
    "start_time": "2021-08-25T13:07:45.564Z"
   },
   {
    "duration": 13,
    "start_time": "2021-08-25T13:07:45.578Z"
   },
   {
    "duration": 39,
    "start_time": "2021-08-25T13:07:45.594Z"
   },
   {
    "duration": 1307,
    "start_time": "2021-08-25T13:07:45.636Z"
   },
   {
    "duration": 37,
    "start_time": "2021-08-25T13:07:46.946Z"
   },
   {
    "duration": 14,
    "start_time": "2021-08-25T13:07:46.986Z"
   },
   {
    "duration": 15,
    "start_time": "2021-08-25T13:07:47.002Z"
   },
   {
    "duration": 39,
    "start_time": "2021-08-25T13:07:47.019Z"
   },
   {
    "duration": 4,
    "start_time": "2021-08-25T13:07:47.065Z"
   },
   {
    "duration": 128,
    "start_time": "2021-08-25T13:07:47.073Z"
   },
   {
    "duration": 481,
    "start_time": "2021-08-25T13:07:47.203Z"
   },
   {
    "duration": 716,
    "start_time": "2021-08-25T13:07:47.687Z"
   },
   {
    "duration": 8,
    "start_time": "2021-08-25T13:07:48.406Z"
   },
   {
    "duration": 45,
    "start_time": "2021-08-25T13:07:48.416Z"
   },
   {
    "duration": 17,
    "start_time": "2021-08-25T13:07:48.464Z"
   },
   {
    "duration": 618,
    "start_time": "2021-08-25T13:07:48.483Z"
   },
   {
    "duration": 362,
    "start_time": "2021-08-25T13:07:49.104Z"
   },
   {
    "duration": 784,
    "start_time": "2021-08-25T13:07:49.469Z"
   },
   {
    "duration": 11,
    "start_time": "2021-08-25T13:07:50.256Z"
   },
   {
    "duration": 921,
    "start_time": "2021-08-25T13:07:50.270Z"
   },
   {
    "duration": 14,
    "start_time": "2021-08-25T13:07:51.194Z"
   }
  ],
  "kernelspec": {
   "display_name": "Python 3",
   "language": "python",
   "name": "python3"
  },
  "language_info": {
   "codemirror_mode": {
    "name": "ipython",
    "version": 3
   },
   "file_extension": ".py",
   "mimetype": "text/x-python",
   "name": "python",
   "nbconvert_exporter": "python",
   "pygments_lexer": "ipython3",
   "version": "3.7.12"
  },
  "toc": {
   "base_numbering": 1,
   "nav_menu": {},
   "number_sections": true,
   "sideBar": true,
   "skip_h1_title": true,
   "title_cell": "Table of Contents",
   "title_sidebar": "Contents",
   "toc_cell": false,
   "toc_position": {},
   "toc_section_display": true,
   "toc_window_display": false
  }
 },
 "nbformat": 4,
 "nbformat_minor": 2
}
