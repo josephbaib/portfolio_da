{
 "cells": [
  {
   "cell_type": "markdown",
   "metadata": {},
   "source": [
    "# Исследование рынка общественного питания в Москве"
   ]
  },
  {
   "cell_type": "markdown",
   "metadata": {},
   "source": [
    "**Цель исследования**\n",
    "* На основе открытых данных проанализировать рынок общественного питания в Москве и определить наиболее выгодный для открытия формат"
   ]
  },
  {
   "cell_type": "markdown",
   "metadata": {},
   "source": [
    "## 1. Подготовка данных"
   ]
  },
  {
   "cell_type": "markdown",
   "metadata": {},
   "source": [
    "**Импорт библиотек**"
   ]
  },
  {
   "cell_type": "code",
   "execution_count": 51,
   "metadata": {},
   "outputs": [],
   "source": [
    "import pandas as pd\n",
    "import matplotlib.pyplot as plt\n",
    "import seaborn as sns\n",
    "import requests\n",
    "import scipy.stats as stats\n",
    "from scipy import stats as st\n",
    "import numpy as np\n",
    "from io import BytesIO\n",
    "import sys\n",
    "import warnings\n",
    "if not sys.warnoptions:\n",
    "       warnings.simplefilter(\"ignore\")"
   ]
  },
  {
   "cell_type": "code",
   "execution_count": 52,
   "metadata": {},
   "outputs": [],
   "source": [
    "pd.set_option('max_colwidth', 400)\n",
    "sns.set(rc={'figure.figsize':(16, 7)})"
   ]
  },
  {
   "cell_type": "markdown",
   "metadata": {},
   "source": [
    "**Работа с данными**"
   ]
  },
  {
   "cell_type": "code",
   "execution_count": 53,
   "metadata": {},
   "outputs": [],
   "source": [
    "data = pd.read_csv('/Users/yusuf/Desktop/Programming/Projects/Data/rest_data.csv')"
   ]
  },
  {
   "cell_type": "code",
   "execution_count": 54,
   "metadata": {},
   "outputs": [
    {
     "name": "stdout",
     "output_type": "stream",
     "text": [
      "<class 'pandas.core.frame.DataFrame'>\n",
      "RangeIndex: 15366 entries, 0 to 15365\n",
      "Data columns (total 6 columns):\n",
      " #   Column       Non-Null Count  Dtype \n",
      "---  ------       --------------  ----- \n",
      " 0   id           15366 non-null  int64 \n",
      " 1   object_name  15366 non-null  object\n",
      " 2   chain        15366 non-null  object\n",
      " 3   object_type  15366 non-null  object\n",
      " 4   address      15366 non-null  object\n",
      " 5   number       15366 non-null  int64 \n",
      "dtypes: int64(2), object(4)\n",
      "memory usage: 720.4+ KB\n"
     ]
    }
   ],
   "source": [
    "data.info()"
   ]
  },
  {
   "cell_type": "code",
   "execution_count": 55,
   "metadata": {},
   "outputs": [
    {
     "name": "stdout",
     "output_type": "stream",
     "text": [
      "Количество дубликатов в данных: 0\n"
     ]
    }
   ],
   "source": [
    "print('Количество дубликатов в данных:', data.duplicated().sum())"
   ]
  },
  {
   "cell_type": "markdown",
   "metadata": {},
   "source": [
    "- Данные верного типа, дубликаты отсутствуют"
   ]
  },
  {
   "cell_type": "code",
   "execution_count": 56,
   "metadata": {},
   "outputs": [
    {
     "data": {
      "text/plain": [
       "array(['кафе', 'столовая', 'закусочная',\n",
       "       'предприятие быстрого обслуживания', 'ресторан', 'кафетерий',\n",
       "       'буфет', 'бар', 'магазин (отдел кулинарии)'], dtype=object)"
      ]
     },
     "execution_count": 56,
     "metadata": {},
     "output_type": "execute_result"
    }
   ],
   "source": [
    "data['object_type'].unique()"
   ]
  },
  {
   "cell_type": "code",
   "execution_count": 57,
   "metadata": {},
   "outputs": [
    {
     "data": {
      "text/html": [
       "<div>\n",
       "<style scoped>\n",
       "    .dataframe tbody tr th:only-of-type {\n",
       "        vertical-align: middle;\n",
       "    }\n",
       "\n",
       "    .dataframe tbody tr th {\n",
       "        vertical-align: top;\n",
       "    }\n",
       "\n",
       "    .dataframe thead th {\n",
       "        text-align: right;\n",
       "    }\n",
       "</style>\n",
       "<table border=\"1\" class=\"dataframe\">\n",
       "  <thead>\n",
       "    <tr style=\"text-align: right;\">\n",
       "      <th></th>\n",
       "      <th>id</th>\n",
       "      <th>object_name</th>\n",
       "      <th>chain</th>\n",
       "      <th>object_type</th>\n",
       "      <th>address</th>\n",
       "      <th>number</th>\n",
       "    </tr>\n",
       "  </thead>\n",
       "  <tbody>\n",
       "    <tr>\n",
       "      <th>0</th>\n",
       "      <td>151635</td>\n",
       "      <td>СМЕТАНА</td>\n",
       "      <td>нет</td>\n",
       "      <td>кафе</td>\n",
       "      <td>город Москва, улица Егора Абакумова, дом 9</td>\n",
       "      <td>48</td>\n",
       "    </tr>\n",
       "    <tr>\n",
       "      <th>1</th>\n",
       "      <td>77874</td>\n",
       "      <td>Родник</td>\n",
       "      <td>нет</td>\n",
       "      <td>кафе</td>\n",
       "      <td>город Москва, улица Талалихина, дом 2/1, корпус 1</td>\n",
       "      <td>35</td>\n",
       "    </tr>\n",
       "    <tr>\n",
       "      <th>2</th>\n",
       "      <td>24309</td>\n",
       "      <td>Кафе «Академия»</td>\n",
       "      <td>нет</td>\n",
       "      <td>кафе</td>\n",
       "      <td>город Москва, Абельмановская улица, дом 6</td>\n",
       "      <td>95</td>\n",
       "    </tr>\n",
       "    <tr>\n",
       "      <th>3</th>\n",
       "      <td>21894</td>\n",
       "      <td>ПИЦЦЕТОРИЯ</td>\n",
       "      <td>да</td>\n",
       "      <td>кафе</td>\n",
       "      <td>город Москва, Абрамцевская улица, дом 1</td>\n",
       "      <td>40</td>\n",
       "    </tr>\n",
       "    <tr>\n",
       "      <th>4</th>\n",
       "      <td>119365</td>\n",
       "      <td>Кафе «Вишневая метель»</td>\n",
       "      <td>нет</td>\n",
       "      <td>кафе</td>\n",
       "      <td>город Москва, Абрамцевская улица, дом 9, корпус 1</td>\n",
       "      <td>50</td>\n",
       "    </tr>\n",
       "  </tbody>\n",
       "</table>\n",
       "</div>"
      ],
      "text/plain": [
       "       id             object_name chain object_type  \\\n",
       "0  151635                 СМЕТАНА   нет        кафе   \n",
       "1   77874                  Родник   нет        кафе   \n",
       "2   24309         Кафе «Академия»   нет        кафе   \n",
       "3   21894              ПИЦЦЕТОРИЯ    да        кафе   \n",
       "4  119365  Кафе «Вишневая метель»   нет        кафе   \n",
       "\n",
       "                                             address  number  \n",
       "0         город Москва, улица Егора Абакумова, дом 9      48  \n",
       "1  город Москва, улица Талалихина, дом 2/1, корпус 1      35  \n",
       "2          город Москва, Абельмановская улица, дом 6      95  \n",
       "3            город Москва, Абрамцевская улица, дом 1      40  \n",
       "4  город Москва, Абрамцевская улица, дом 9, корпус 1      50  "
      ]
     },
     "execution_count": 57,
     "metadata": {},
     "output_type": "execute_result"
    }
   ],
   "source": [
    "data.head()"
   ]
  },
  {
   "cell_type": "markdown",
   "metadata": {},
   "source": [
    "Приведу название, тип и адрес кафе к нижнему регистру. Поменяю названия пары видов на более понятные"
   ]
  },
  {
   "cell_type": "code",
   "execution_count": 58,
   "metadata": {},
   "outputs": [],
   "source": [
    "data['object_name'] = data['object_name'].str.lower()\n",
    "data['object_type'] = data['object_type'].str.lower()\n",
    "data['address'] = data['address'].str.lower()\n",
    "data = data.rename(columns={'number':'seats_number'})\n",
    "data['object_type'] = data['object_type'].str.replace('предприятие быстрого обслуживания', 'фаст-фуд')\n",
    "data['object_type'] = data['object_type'].str.replace('магазин \\(отдел кулинарии\\)', 'кулинария')"
   ]
  },
  {
   "cell_type": "code",
   "execution_count": 59,
   "metadata": {},
   "outputs": [
    {
     "name": "stdout",
     "output_type": "stream",
     "text": [
      "Количество дубликатов в названиях объектов недвижимости: 5442\n"
     ]
    }
   ],
   "source": [
    "print('Количество дубликатов в названиях объектов недвижимости:', data['object_name'].duplicated().sum())"
   ]
  },
  {
   "cell_type": "markdown",
   "metadata": {},
   "source": [
    "- Дубликаты в данном столбце говорят о повторяющихся сетевых заведениях "
   ]
  },
  {
   "cell_type": "code",
   "execution_count": 60,
   "metadata": {},
   "outputs": [
    {
     "name": "stdout",
     "output_type": "stream",
     "text": [
      "Количество дубликатов в адресах: 6258\n"
     ]
    }
   ],
   "source": [
    "print('Количество дубликатов в адресах:', data['address'].duplicated().sum())"
   ]
  },
  {
   "cell_type": "markdown",
   "metadata": {},
   "source": [
    "- Дубликаты в данных с адресами говорят о популярных адресах, по которым часто находятся несколько заведений."
   ]
  },
  {
   "cell_type": "code",
   "execution_count": 61,
   "metadata": {},
   "outputs": [
    {
     "name": "stdout",
     "output_type": "stream",
     "text": [
      "Количество дубликатов без учета id: 85\n"
     ]
    }
   ],
   "source": [
    "print('Количество дубликатов без учета id:', data[['object_name', 'chain', 'object_type', 'address', 'seats_number']].duplicated().sum())"
   ]
  },
  {
   "cell_type": "markdown",
   "metadata": {},
   "source": [
    "- Данные дубликаты можно объяснить полным доминированием некоторых сетей питания, несправляющихся с объемами предложения своего продукта, в следствии чего открывающих вторую точку по тому же адресу"
   ]
  },
  {
   "cell_type": "code",
   "execution_count": 62,
   "metadata": {},
   "outputs": [
    {
     "data": {
      "text/html": [
       "<div>\n",
       "<style scoped>\n",
       "    .dataframe tbody tr th:only-of-type {\n",
       "        vertical-align: middle;\n",
       "    }\n",
       "\n",
       "    .dataframe tbody tr th {\n",
       "        vertical-align: top;\n",
       "    }\n",
       "\n",
       "    .dataframe thead th {\n",
       "        text-align: right;\n",
       "    }\n",
       "</style>\n",
       "<table border=\"1\" class=\"dataframe\">\n",
       "  <thead>\n",
       "    <tr style=\"text-align: right;\">\n",
       "      <th></th>\n",
       "      <th>id</th>\n",
       "      <th>object_name</th>\n",
       "      <th>chain</th>\n",
       "      <th>object_type</th>\n",
       "      <th>address</th>\n",
       "      <th>seats_number</th>\n",
       "    </tr>\n",
       "  </thead>\n",
       "  <tbody>\n",
       "    <tr>\n",
       "      <th>0</th>\n",
       "      <td>151635</td>\n",
       "      <td>сметана</td>\n",
       "      <td>нет</td>\n",
       "      <td>кафе</td>\n",
       "      <td>город москва, улица егора абакумова, дом 9</td>\n",
       "      <td>48</td>\n",
       "    </tr>\n",
       "    <tr>\n",
       "      <th>1</th>\n",
       "      <td>77874</td>\n",
       "      <td>родник</td>\n",
       "      <td>нет</td>\n",
       "      <td>кафе</td>\n",
       "      <td>город москва, улица талалихина, дом 2/1, корпус 1</td>\n",
       "      <td>35</td>\n",
       "    </tr>\n",
       "    <tr>\n",
       "      <th>2</th>\n",
       "      <td>24309</td>\n",
       "      <td>кафе «академия»</td>\n",
       "      <td>нет</td>\n",
       "      <td>кафе</td>\n",
       "      <td>город москва, абельмановская улица, дом 6</td>\n",
       "      <td>95</td>\n",
       "    </tr>\n",
       "    <tr>\n",
       "      <th>3</th>\n",
       "      <td>21894</td>\n",
       "      <td>пиццетория</td>\n",
       "      <td>да</td>\n",
       "      <td>кафе</td>\n",
       "      <td>город москва, абрамцевская улица, дом 1</td>\n",
       "      <td>40</td>\n",
       "    </tr>\n",
       "    <tr>\n",
       "      <th>4</th>\n",
       "      <td>119365</td>\n",
       "      <td>кафе «вишневая метель»</td>\n",
       "      <td>нет</td>\n",
       "      <td>кафе</td>\n",
       "      <td>город москва, абрамцевская улица, дом 9, корпус 1</td>\n",
       "      <td>50</td>\n",
       "    </tr>\n",
       "  </tbody>\n",
       "</table>\n",
       "</div>"
      ],
      "text/plain": [
       "       id             object_name chain object_type  \\\n",
       "0  151635                 сметана   нет        кафе   \n",
       "1   77874                  родник   нет        кафе   \n",
       "2   24309         кафе «академия»   нет        кафе   \n",
       "3   21894              пиццетория    да        кафе   \n",
       "4  119365  кафе «вишневая метель»   нет        кафе   \n",
       "\n",
       "                                             address  seats_number  \n",
       "0         город москва, улица егора абакумова, дом 9            48  \n",
       "1  город москва, улица талалихина, дом 2/1, корпус 1            35  \n",
       "2          город москва, абельмановская улица, дом 6            95  \n",
       "3            город москва, абрамцевская улица, дом 1            40  \n",
       "4  город москва, абрамцевская улица, дом 9, корпус 1            50  "
      ]
     },
     "execution_count": 62,
     "metadata": {},
     "output_type": "execute_result"
    }
   ],
   "source": [
    "data.head()"
   ]
  },
  {
   "cell_type": "markdown",
   "metadata": {},
   "source": [
    "## 2. Анализ данных"
   ]
  },
  {
   "cell_type": "markdown",
   "metadata": {},
   "source": [
    "### 2.1 Соотношение видов объектов общественного питания к количеству"
   ]
  },
  {
   "cell_type": "code",
   "execution_count": 63,
   "metadata": {},
   "outputs": [
    {
     "data": {
      "image/png": "[encoded data removed]",
      "text/plain": [
       "<Figure size 1152x504 with 1 Axes>"
      ]
     },
     "metadata": {},
     "output_type": "display_data"
    }
   ],
   "source": [
    "temp = data.groupby('object_type').count().reset_index()\n",
    "ax = temp[['object_type', 'seats_number']].set_index('object_type').sort_values('seats_number', ascending=True).plot(kind='bar')\n",
    "ax.set_xlabel('Количество объектов')\n",
    "ax.set_ylabel('Тип объекта')\n",
    "ax.set_title('Количество объектов по типу объекта общественного питания', fontsize=14)\n",
    "plt.xticks(rotation=45)\n",
    "plt.show()"
   ]
  },
  {
   "cell_type": "markdown",
   "metadata": {},
   "source": [
    "- По количеству объектов общественного питания лидирует \"кафе\", с отрывом более чем в 2 раза. Далее столовая, после ресторан и фаст-фуд. Остальные отстают еще в 2 раза"
   ]
  },
  {
   "cell_type": "markdown",
   "metadata": {},
   "source": [
    "### 2.2 Соотношение сетевых и несетевых заведений по количеству"
   ]
  },
  {
   "cell_type": "code",
   "execution_count": 64,
   "metadata": {},
   "outputs": [
    {
     "data": {
      "image/png": "[encoded data removed]",
      "text/plain": [
       "<Figure size 576x576 with 1 Axes>"
      ]
     },
     "metadata": {},
     "output_type": "display_data"
    }
   ],
   "source": [
    "ax = data.groupby('chain')['object_name'].count().sort_values().plot(kind='pie', labels=None, label='', autopct='%1.0f%%', legend=True, figsize=(8, 8), \n",
    "       title='Принадлежность к сетевым объектам общественного питания в Москве')\n",
    "plt.show()"
   ]
  },
  {
   "cell_type": "markdown",
   "metadata": {},
   "source": [
    "- Несетевых объектов питание в несколько раз больше сетевых"
   ]
  },
  {
   "cell_type": "markdown",
   "metadata": {},
   "source": [
    "### 2.3 Для какого вида объекта общественного питания характерно сетевое распространение?"
   ]
  },
  {
   "cell_type": "code",
   "execution_count": 65,
   "metadata": {},
   "outputs": [],
   "source": [
    "chain = data.query('chain == \"да\"')"
   ]
  },
  {
   "cell_type": "code",
   "execution_count": 66,
   "metadata": {},
   "outputs": [
    {
     "data": {
      "text/plain": [
       "object_type\n",
       "кафе          1396\n",
       "фаст-фуд       791\n",
       "ресторан       544\n",
       "кулинария       78\n",
       "закусочная      56\n",
       "кафетерий       52\n",
       "бар             37\n",
       "буфет           11\n",
       "столовая         3\n",
       "Name: object_name, dtype: int64"
      ]
     },
     "execution_count": 66,
     "metadata": {},
     "output_type": "execute_result"
    }
   ],
   "source": [
    "chain.groupby('object_type')['object_name'].count().sort_values(ascending=False)"
   ]
  },
  {
   "cell_type": "code",
   "execution_count": 67,
   "metadata": {},
   "outputs": [
    {
     "data": {
      "image/png": "[encoded data removed]",
      "text/plain": [
       "<Figure size 1152x504 with 1 Axes>"
      ]
     },
     "metadata": {},
     "output_type": "display_data"
    }
   ],
   "source": [
    "fig, ax = plt.subplots()\n",
    "object_type_x_chain = data.pivot_table(index='object_type', values='id', columns='chain', aggfunc='count')\n",
    "object_type_x_chain.plot(kind = 'bar', ax=ax)\n",
    "plt.title('Распределение сетевых заведений по типу объекта', fontsize=14)\n",
    "plt.xticks(fontsize=12, rotation=45)\n",
    "plt.yticks(fontsize=12)\n",
    "plt.xlabel(' ',fontsize=13)\n",
    "plt.legend(fontsize ='large');"
   ]
  },
  {
   "cell_type": "code",
   "execution_count": 68,
   "metadata": {},
   "outputs": [],
   "source": [
    "chains_to_total = (((object_type_x_chain['да'] / (object_type_x_chain['да'] + object_type_x_chain['нет'])) * 100)\n",
    "                   .reset_index())"
   ]
  },
  {
   "cell_type": "code",
   "execution_count": 69,
   "metadata": {},
   "outputs": [],
   "source": [
    "chains_to_total.columns=['object_type','ratio']\n",
    "chains_to_total.sort_values(by='ratio', inplace=True, ascending=False)"
   ]
  },
  {
   "cell_type": "code",
   "execution_count": 70,
   "metadata": {},
   "outputs": [
    {
     "data": {
      "text/html": [
       "<div>\n",
       "<style scoped>\n",
       "    .dataframe tbody tr th:only-of-type {\n",
       "        vertical-align: middle;\n",
       "    }\n",
       "\n",
       "    .dataframe tbody tr th {\n",
       "        vertical-align: top;\n",
       "    }\n",
       "\n",
       "    .dataframe thead th {\n",
       "        text-align: right;\n",
       "    }\n",
       "</style>\n",
       "<table border=\"1\" class=\"dataframe\">\n",
       "  <thead>\n",
       "    <tr style=\"text-align: right;\">\n",
       "      <th></th>\n",
       "      <th>object_type</th>\n",
       "      <th>ratio</th>\n",
       "    </tr>\n",
       "  </thead>\n",
       "  <tbody>\n",
       "    <tr>\n",
       "      <th>8</th>\n",
       "      <td>фаст-фуд</td>\n",
       "      <td>41.133645</td>\n",
       "    </tr>\n",
       "    <tr>\n",
       "      <th>5</th>\n",
       "      <td>кулинария</td>\n",
       "      <td>28.571429</td>\n",
       "    </tr>\n",
       "    <tr>\n",
       "      <th>6</th>\n",
       "      <td>ресторан</td>\n",
       "      <td>23.807440</td>\n",
       "    </tr>\n",
       "    <tr>\n",
       "      <th>3</th>\n",
       "      <td>кафе</td>\n",
       "      <td>22.888998</td>\n",
       "    </tr>\n",
       "    <tr>\n",
       "      <th>2</th>\n",
       "      <td>закусочная</td>\n",
       "      <td>15.555556</td>\n",
       "    </tr>\n",
       "    <tr>\n",
       "      <th>4</th>\n",
       "      <td>кафетерий</td>\n",
       "      <td>13.065327</td>\n",
       "    </tr>\n",
       "    <tr>\n",
       "      <th>0</th>\n",
       "      <td>бар</td>\n",
       "      <td>4.322430</td>\n",
       "    </tr>\n",
       "    <tr>\n",
       "      <th>1</th>\n",
       "      <td>буфет</td>\n",
       "      <td>1.880342</td>\n",
       "    </tr>\n",
       "    <tr>\n",
       "      <th>7</th>\n",
       "      <td>столовая</td>\n",
       "      <td>0.115964</td>\n",
       "    </tr>\n",
       "  </tbody>\n",
       "</table>\n",
       "</div>"
      ],
      "text/plain": [
       "  object_type      ratio\n",
       "8    фаст-фуд  41.133645\n",
       "5   кулинария  28.571429\n",
       "6    ресторан  23.807440\n",
       "3        кафе  22.888998\n",
       "2  закусочная  15.555556\n",
       "4   кафетерий  13.065327\n",
       "0         бар   4.322430\n",
       "1       буфет   1.880342\n",
       "7    столовая   0.115964"
      ]
     },
     "execution_count": 70,
     "metadata": {},
     "output_type": "execute_result"
    }
   ],
   "source": [
    "chains_to_total"
   ]
  },
  {
   "cell_type": "markdown",
   "metadata": {},
   "source": [
    "Сетевой тип характерен для:\n",
    "* 41% фаст-фуд ресторанов;\n",
    "* 29% кулинарий; \n",
    "* 24% ресторанов;\n",
    "* 23% кафе."
   ]
  },
  {
   "cell_type": "markdown",
   "metadata": {},
   "source": [
    "### 2.4 Что характерно для сетевых заведений: много заведений с небольшим числом посадочных мест в каждом или мало заведений с большим количеством посадочных мест?"
   ]
  },
  {
   "cell_type": "code",
   "execution_count": 71,
   "metadata": {},
   "outputs": [
    {
     "data": {
      "image/png": "[encoded data removed]",
      "text/plain": [
       "<Figure size 1152x504 with 1 Axes>"
      ]
     },
     "metadata": {},
     "output_type": "display_data"
    }
   ],
   "source": [
    "ax = chain['seats_number'].hist(bins=20)\n",
    "ax.set_xlabel('Количество мест')\n",
    "ax.set_ylabel('Частота')\n",
    "ax.set_title('Количество мест в сетевых объектах питания', fontsize=14)\n",
    "plt.show()"
   ]
  },
  {
   "cell_type": "code",
   "execution_count": 72,
   "metadata": {},
   "outputs": [
    {
     "data": {
      "image/png": "[encoded data removed]",
      "text/plain": [
       "<Figure size 360x360 with 1 Axes>"
      ]
     },
     "metadata": {},
     "output_type": "display_data"
    }
   ],
   "source": [
    "sns.catplot(data=chain, y='object_type', x='seats_number')\n",
    "plt.title('Разброс количества посадочных мест в сетевых заведениях',fontsize=14)\n",
    "plt.xlabel('Количество посадочных мест',fontsize=13)\n",
    "plt.ylabel('',fontsize=13);"
   ]
  },
  {
   "cell_type": "markdown",
   "metadata": {},
   "source": [
    "- Можно видеть, что сетевым кафе, фаст-фуду и ресторанам свойственно большое количество заведений и количеством до 150 посадочных мест"
   ]
  },
  {
   "cell_type": "code",
   "execution_count": 73,
   "metadata": {},
   "outputs": [
    {
     "data": {
      "text/plain": [
       "Text(0.5, 0, 'Количество мест')"
      ]
     },
     "execution_count": 73,
     "metadata": {},
     "output_type": "execute_result"
    },
    {
     "data": {
      "image/png": "[encoded data removed]",
      "text/plain": [
       "<Figure size 1152x504 with 1 Axes>"
      ]
     },
     "metadata": {},
     "output_type": "display_data"
    }
   ],
   "source": [
    "ax = sns.boxplot(x=chain['seats_number'])\n",
    "ax.set_xlabel('Количество мест')"
   ]
  },
  {
   "cell_type": "code",
   "execution_count": 74,
   "metadata": {},
   "outputs": [
    {
     "data": {
      "image/png": "[encoded data removed]",
      "text/plain": [
       "<Figure size 1152x504 with 1 Axes>"
      ]
     },
     "metadata": {},
     "output_type": "display_data"
    }
   ],
   "source": [
    "chain_objects = data.query('chain == \"да\"').groupby('object_name').agg({'object_name':'count', 'seats_number':'median'})\n",
    "chain_objects.columns = ['objects', 'median_number']\n",
    "plt.scatter(chain_objects['median_number'], chain_objects['objects'])\n",
    "plt.xlabel('Количествово посадочных мест (медиана)')\n",
    "plt.ylabel('Количествово объектов в сети')\n",
    "plt.title('Совместное распределение количества сетевых заведений и их медианного количества посадочных мест', fontsize=14)\n",
    "plt.show()"
   ]
  },
  {
   "cell_type": "markdown",
   "metadata": {},
   "source": [
    "- **Сетевым объектам питания своейственно большое количество заведений и небольшое количество мест**"
   ]
  },
  {
   "cell_type": "markdown",
   "metadata": {},
   "source": [
    "### 2.5 Среднее количество посадочных мест"
   ]
  },
  {
   "cell_type": "code",
   "execution_count": 75,
   "metadata": {},
   "outputs": [
    {
     "data": {
      "image/png": "[encoded data removed]",
      "text/plain": [
       "<Figure size 1152x504 with 1 Axes>"
      ]
     },
     "metadata": {},
     "output_type": "display_data"
    }
   ],
   "source": [
    "ax = sns.barplot(x='object_type', y='seats_number', data=data, palette=\"Set2\")\n",
    "ax.set_xlabel('Тип объекта')\n",
    "ax.set_ylabel('Количество мест')\n",
    "ax.set_title('Количество мест по объектам питания', fontsize=14)\n",
    "plt.show()"
   ]
  },
  {
   "cell_type": "markdown",
   "metadata": {},
   "source": [
    "Больше всего мест у столовой, что логично, так как такой формат обычно рассчитан на обеспечение питанием сотрудников предприятий, учебных заведений и крупных компаний. Далее идет ресторан, который по причине крупных вложений на этапе производства - дорогостоящий ремонт, соответствующий классу заведения, - вынужден ускорять возврат средств за счет большего пространства. После идут буфет, бар и кафе, со средним значением в 50 посадочных мест. В закусочных и кулинариях как правило номинальные посадочные места, большая часть потребителей прибретают на вынос"
   ]
  },
  {
   "cell_type": "markdown",
   "metadata": {},
   "source": [
    "### 2.6 Информация об улице "
   ]
  },
  {
   "cell_type": "code",
   "execution_count": 76,
   "metadata": {},
   "outputs": [],
   "source": [
    "def streets(row):\n",
    "    address = row['address']\n",
    "    strt = address.split(\",\")[1]\n",
    "    if strt[0]==' ':\n",
    "        strt = strt[1:]\n",
    "    return strt\n",
    "data['street'] = data.apply(streets, axis = 1)"
   ]
  },
  {
   "cell_type": "code",
   "execution_count": 77,
   "metadata": {},
   "outputs": [],
   "source": [
    "rest_data = data.query('street not in \"город зеленоград\"')"
   ]
  },
  {
   "cell_type": "code",
   "execution_count": 78,
   "metadata": {},
   "outputs": [
    {
     "data": {
      "text/html": [
       "<div>\n",
       "<style scoped>\n",
       "    .dataframe tbody tr th:only-of-type {\n",
       "        vertical-align: middle;\n",
       "    }\n",
       "\n",
       "    .dataframe tbody tr th {\n",
       "        vertical-align: top;\n",
       "    }\n",
       "\n",
       "    .dataframe thead th {\n",
       "        text-align: right;\n",
       "    }\n",
       "</style>\n",
       "<table border=\"1\" class=\"dataframe\">\n",
       "  <thead>\n",
       "    <tr style=\"text-align: right;\">\n",
       "      <th></th>\n",
       "      <th>id</th>\n",
       "      <th>object_name</th>\n",
       "      <th>chain</th>\n",
       "      <th>object_type</th>\n",
       "      <th>address</th>\n",
       "      <th>seats_number</th>\n",
       "      <th>street</th>\n",
       "    </tr>\n",
       "  </thead>\n",
       "  <tbody>\n",
       "    <tr>\n",
       "      <th>0</th>\n",
       "      <td>151635</td>\n",
       "      <td>сметана</td>\n",
       "      <td>нет</td>\n",
       "      <td>кафе</td>\n",
       "      <td>город москва, улица егора абакумова, дом 9</td>\n",
       "      <td>48</td>\n",
       "      <td>улица егора абакумова</td>\n",
       "    </tr>\n",
       "    <tr>\n",
       "      <th>1</th>\n",
       "      <td>77874</td>\n",
       "      <td>родник</td>\n",
       "      <td>нет</td>\n",
       "      <td>кафе</td>\n",
       "      <td>город москва, улица талалихина, дом 2/1, корпус 1</td>\n",
       "      <td>35</td>\n",
       "      <td>улица талалихина</td>\n",
       "    </tr>\n",
       "    <tr>\n",
       "      <th>2</th>\n",
       "      <td>24309</td>\n",
       "      <td>кафе «академия»</td>\n",
       "      <td>нет</td>\n",
       "      <td>кафе</td>\n",
       "      <td>город москва, абельмановская улица, дом 6</td>\n",
       "      <td>95</td>\n",
       "      <td>абельмановская улица</td>\n",
       "    </tr>\n",
       "    <tr>\n",
       "      <th>3</th>\n",
       "      <td>21894</td>\n",
       "      <td>пиццетория</td>\n",
       "      <td>да</td>\n",
       "      <td>кафе</td>\n",
       "      <td>город москва, абрамцевская улица, дом 1</td>\n",
       "      <td>40</td>\n",
       "      <td>абрамцевская улица</td>\n",
       "    </tr>\n",
       "    <tr>\n",
       "      <th>4</th>\n",
       "      <td>119365</td>\n",
       "      <td>кафе «вишневая метель»</td>\n",
       "      <td>нет</td>\n",
       "      <td>кафе</td>\n",
       "      <td>город москва, абрамцевская улица, дом 9, корпус 1</td>\n",
       "      <td>50</td>\n",
       "      <td>абрамцевская улица</td>\n",
       "    </tr>\n",
       "  </tbody>\n",
       "</table>\n",
       "</div>"
      ],
      "text/plain": [
       "       id             object_name chain object_type  \\\n",
       "0  151635                 сметана   нет        кафе   \n",
       "1   77874                  родник   нет        кафе   \n",
       "2   24309         кафе «академия»   нет        кафе   \n",
       "3   21894              пиццетория    да        кафе   \n",
       "4  119365  кафе «вишневая метель»   нет        кафе   \n",
       "\n",
       "                                             address  seats_number  \\\n",
       "0         город москва, улица егора абакумова, дом 9            48   \n",
       "1  город москва, улица талалихина, дом 2/1, корпус 1            35   \n",
       "2          город москва, абельмановская улица, дом 6            95   \n",
       "3            город москва, абрамцевская улица, дом 1            40   \n",
       "4  город москва, абрамцевская улица, дом 9, корпус 1            50   \n",
       "\n",
       "                  street  \n",
       "0  улица егора абакумова  \n",
       "1       улица талалихина  \n",
       "2   абельмановская улица  \n",
       "3     абрамцевская улица  \n",
       "4     абрамцевская улица  "
      ]
     },
     "metadata": {},
     "output_type": "display_data"
    }
   ],
   "source": [
    "display(rest_data.head())"
   ]
  },
  {
   "cell_type": "markdown",
   "metadata": {},
   "source": [
    "### 2.7 Топ-10 улиц по количеству объектов общественного питания"
   ]
  },
  {
   "cell_type": "code",
   "execution_count": 79,
   "metadata": {},
   "outputs": [
    {
     "data": {
      "text/html": [
       "<div>\n",
       "<style scoped>\n",
       "    .dataframe tbody tr th:only-of-type {\n",
       "        vertical-align: middle;\n",
       "    }\n",
       "\n",
       "    .dataframe tbody tr th {\n",
       "        vertical-align: top;\n",
       "    }\n",
       "\n",
       "    .dataframe thead th {\n",
       "        text-align: right;\n",
       "    }\n",
       "</style>\n",
       "<table border=\"1\" class=\"dataframe\">\n",
       "  <thead>\n",
       "    <tr style=\"text-align: right;\">\n",
       "      <th></th>\n",
       "      <th>street</th>\n",
       "      <th>id</th>\n",
       "    </tr>\n",
       "  </thead>\n",
       "  <tbody>\n",
       "    <tr>\n",
       "      <th>1120</th>\n",
       "      <td>проспект мира</td>\n",
       "      <td>204</td>\n",
       "    </tr>\n",
       "    <tr>\n",
       "      <th>1124</th>\n",
       "      <td>профсоюзная улица</td>\n",
       "      <td>182</td>\n",
       "    </tr>\n",
       "    <tr>\n",
       "      <th>746</th>\n",
       "      <td>ленинградский проспект</td>\n",
       "      <td>171</td>\n",
       "    </tr>\n",
       "    <tr>\n",
       "      <th>1081</th>\n",
       "      <td>пресненская набережная</td>\n",
       "      <td>167</td>\n",
       "    </tr>\n",
       "    <tr>\n",
       "      <th>417</th>\n",
       "      <td>варшавское шоссе</td>\n",
       "      <td>161</td>\n",
       "    </tr>\n",
       "    <tr>\n",
       "      <th>749</th>\n",
       "      <td>ленинский проспект</td>\n",
       "      <td>147</td>\n",
       "    </tr>\n",
       "    <tr>\n",
       "      <th>1070</th>\n",
       "      <td>поселение сосенское</td>\n",
       "      <td>138</td>\n",
       "    </tr>\n",
       "    <tr>\n",
       "      <th>1117</th>\n",
       "      <td>проспект вернадского</td>\n",
       "      <td>132</td>\n",
       "    </tr>\n",
       "    <tr>\n",
       "      <th>737</th>\n",
       "      <td>кутузовский проспект</td>\n",
       "      <td>114</td>\n",
       "    </tr>\n",
       "    <tr>\n",
       "      <th>662</th>\n",
       "      <td>каширское шоссе</td>\n",
       "      <td>112</td>\n",
       "    </tr>\n",
       "  </tbody>\n",
       "</table>\n",
       "</div>"
      ],
      "text/plain": [
       "                      street   id\n",
       "1120           проспект мира  204\n",
       "1124       профсоюзная улица  182\n",
       "746   ленинградский проспект  171\n",
       "1081  пресненская набережная  167\n",
       "417         варшавское шоссе  161\n",
       "749       ленинский проспект  147\n",
       "1070     поселение сосенское  138\n",
       "1117    проспект вернадского  132\n",
       "737     кутузовский проспект  114\n",
       "662          каширское шоссе  112"
      ]
     },
     "metadata": {},
     "output_type": "display_data"
    }
   ],
   "source": [
    "top10_str = rest_data.groupby('street').agg({'id':'count'}).reset_index()\n",
    "top10_street = top10_str.sort_values(by='id', ascending=False).head(10)\n",
    "display(top10_street)"
   ]
  },
  {
   "cell_type": "code",
   "execution_count": 80,
   "metadata": {},
   "outputs": [
    {
     "data": {
      "image/png": "[encoded data removed]",
      "text/plain": [
       "<Figure size 1152x504 with 1 Axes>"
      ]
     },
     "metadata": {},
     "output_type": "display_data"
    }
   ],
   "source": [
    "top10_street.plot(kind='barh', x='street')\n",
    "plt.title('Топ-10 улиц по количеству объектов общественного питания', fontsize=14)\n",
    "plt.xticks(rotation=45)\n",
    "plt.xticks(fontsize=12)\n",
    "plt.yticks(fontsize=12);"
   ]
  },
  {
   "cell_type": "markdown",
   "metadata": {},
   "source": [
    "**Районы Москвы**\n",
    "* Проспект Мира: Мещанский, Марьина Роща, Алексеевский, Останкинский, Свиблово, Ростокино\n",
    "* Профсоюзная улица: Академический, Коньково, Обручевский, Тёплый Стан, Черёмушки, Ясенево\n",
    "* Ленинградский проспект: Беговой, Аэропорт, Сокол, Хорошёвский\n",
    "* Пресненская набережная: Пресненский\n",
    "* Варшавское шоссе: Донской, Нагатино-Садовники, Нагорный\n",
    "* Ленинский проспект: Гагаринский и Донской\n",
    "* Проспект Вернадского: Проспект Вернадского\n",
    "* Кутузовский проспект: Дорогомилово, Фили-Давыдково\n",
    "* Каширское шоссе: Нагатино-Садовники и Нагорный\n",
    "* Ходынский бульвар: Хорошёвский"
   ]
  },
  {
   "cell_type": "code",
   "execution_count": 81,
   "metadata": {},
   "outputs": [],
   "source": [
    "spreadsheet_id = '1jM9iOFYub3OKLzsepGf9casocQqJKY3ZBK947y7YIXc'\n",
    "file_name = 'https://docs.google.com/spreadsheets/d/{}/export?format=csv'.format(spreadsheet_id)\n",
    "r = requests.get(file_name)\n",
    "street_data = pd.read_csv(BytesIO(r.content))"
   ]
  },
  {
   "cell_type": "code",
   "execution_count": 82,
   "metadata": {},
   "outputs": [],
   "source": [
    "street_data = street_data.drop('areaid', axis=1)\n",
    "street_data.columns = ['street', 'county', 'district']\n",
    "street_data['street'] = street_data['street'].str.lower()"
   ]
  },
  {
   "cell_type": "code",
   "execution_count": 83,
   "metadata": {},
   "outputs": [
    {
     "name": "stdout",
     "output_type": "stream",
     "text": [
      "<class 'pandas.core.frame.DataFrame'>\n",
      "RangeIndex: 4398 entries, 0 to 4397\n",
      "Data columns (total 3 columns):\n",
      " #   Column    Non-Null Count  Dtype \n",
      "---  ------    --------------  ----- \n",
      " 0   street    4398 non-null   object\n",
      " 1   county    4398 non-null   object\n",
      " 2   district  4398 non-null   object\n",
      "dtypes: object(3)\n",
      "memory usage: 103.2+ KB\n"
     ]
    }
   ],
   "source": [
    "street_data.info()"
   ]
  },
  {
   "cell_type": "code",
   "execution_count": 84,
   "metadata": {},
   "outputs": [],
   "source": [
    "top_10_street = top10_street.merge(street_data, on=('street'), how='left')"
   ]
  },
  {
   "cell_type": "code",
   "execution_count": 85,
   "metadata": {},
   "outputs": [
    {
     "data": {
      "text/html": [
       "<div>\n",
       "<style scoped>\n",
       "    .dataframe tbody tr th:only-of-type {\n",
       "        vertical-align: middle;\n",
       "    }\n",
       "\n",
       "    .dataframe tbody tr th {\n",
       "        vertical-align: top;\n",
       "    }\n",
       "\n",
       "    .dataframe thead th {\n",
       "        text-align: right;\n",
       "    }\n",
       "</style>\n",
       "<table border=\"1\" class=\"dataframe\">\n",
       "  <thead>\n",
       "    <tr style=\"text-align: right;\">\n",
       "      <th></th>\n",
       "      <th>street</th>\n",
       "      <th>id</th>\n",
       "      <th>county</th>\n",
       "      <th>district</th>\n",
       "    </tr>\n",
       "  </thead>\n",
       "  <tbody>\n",
       "    <tr>\n",
       "      <th>0</th>\n",
       "      <td>проспект мира</td>\n",
       "      <td>204</td>\n",
       "      <td>СВАО</td>\n",
       "      <td>Алексеевский район</td>\n",
       "    </tr>\n",
       "    <tr>\n",
       "      <th>1</th>\n",
       "      <td>проспект мира</td>\n",
       "      <td>204</td>\n",
       "      <td>СВАО</td>\n",
       "      <td>Ярославский Район</td>\n",
       "    </tr>\n",
       "    <tr>\n",
       "      <th>2</th>\n",
       "      <td>проспект мира</td>\n",
       "      <td>204</td>\n",
       "      <td>СВАО</td>\n",
       "      <td>Район Марьина роща</td>\n",
       "    </tr>\n",
       "    <tr>\n",
       "      <th>3</th>\n",
       "      <td>проспект мира</td>\n",
       "      <td>204</td>\n",
       "      <td>СВАО</td>\n",
       "      <td>Останкинский район</td>\n",
       "    </tr>\n",
       "    <tr>\n",
       "      <th>4</th>\n",
       "      <td>проспект мира</td>\n",
       "      <td>204</td>\n",
       "      <td>СВАО</td>\n",
       "      <td>Район Ростокино</td>\n",
       "    </tr>\n",
       "    <tr>\n",
       "      <th>5</th>\n",
       "      <td>проспект мира</td>\n",
       "      <td>204</td>\n",
       "      <td>СВАО</td>\n",
       "      <td>Район Свиблово</td>\n",
       "    </tr>\n",
       "    <tr>\n",
       "      <th>6</th>\n",
       "      <td>проспект мира</td>\n",
       "      <td>204</td>\n",
       "      <td>ЦАО</td>\n",
       "      <td>Мещанский район</td>\n",
       "    </tr>\n",
       "    <tr>\n",
       "      <th>7</th>\n",
       "      <td>профсоюзная улица</td>\n",
       "      <td>182</td>\n",
       "      <td>ЮЗАО</td>\n",
       "      <td>Академический район</td>\n",
       "    </tr>\n",
       "    <tr>\n",
       "      <th>8</th>\n",
       "      <td>профсоюзная улица</td>\n",
       "      <td>182</td>\n",
       "      <td>ЮЗАО</td>\n",
       "      <td>Район Черемушки</td>\n",
       "    </tr>\n",
       "    <tr>\n",
       "      <th>9</th>\n",
       "      <td>профсоюзная улица</td>\n",
       "      <td>182</td>\n",
       "      <td>ЮЗАО</td>\n",
       "      <td>Район Ясенево</td>\n",
       "    </tr>\n",
       "    <tr>\n",
       "      <th>10</th>\n",
       "      <td>профсоюзная улица</td>\n",
       "      <td>182</td>\n",
       "      <td>ЮЗАО</td>\n",
       "      <td>Район Коньково</td>\n",
       "    </tr>\n",
       "    <tr>\n",
       "      <th>11</th>\n",
       "      <td>профсоюзная улица</td>\n",
       "      <td>182</td>\n",
       "      <td>ЮЗАО</td>\n",
       "      <td>Обручевский район</td>\n",
       "    </tr>\n",
       "    <tr>\n",
       "      <th>12</th>\n",
       "      <td>профсоюзная улица</td>\n",
       "      <td>182</td>\n",
       "      <td>ЮЗАО</td>\n",
       "      <td>Район Теплый Стан</td>\n",
       "    </tr>\n",
       "    <tr>\n",
       "      <th>13</th>\n",
       "      <td>ленинградский проспект</td>\n",
       "      <td>171</td>\n",
       "      <td>САО</td>\n",
       "      <td>Район Аэропорт</td>\n",
       "    </tr>\n",
       "    <tr>\n",
       "      <th>14</th>\n",
       "      <td>ленинградский проспект</td>\n",
       "      <td>171</td>\n",
       "      <td>САО</td>\n",
       "      <td>Район Беговой</td>\n",
       "    </tr>\n",
       "    <tr>\n",
       "      <th>15</th>\n",
       "      <td>ленинградский проспект</td>\n",
       "      <td>171</td>\n",
       "      <td>САО</td>\n",
       "      <td>Хорошевский район</td>\n",
       "    </tr>\n",
       "    <tr>\n",
       "      <th>16</th>\n",
       "      <td>ленинградский проспект</td>\n",
       "      <td>171</td>\n",
       "      <td>САО</td>\n",
       "      <td>Район Сокол</td>\n",
       "    </tr>\n",
       "    <tr>\n",
       "      <th>17</th>\n",
       "      <td>пресненская набережная</td>\n",
       "      <td>167</td>\n",
       "      <td>ЦАО</td>\n",
       "      <td>Пресненский район</td>\n",
       "    </tr>\n",
       "    <tr>\n",
       "      <th>18</th>\n",
       "      <td>варшавское шоссе</td>\n",
       "      <td>161</td>\n",
       "      <td>ЮАО</td>\n",
       "      <td>Район Чертаново Центральное</td>\n",
       "    </tr>\n",
       "    <tr>\n",
       "      <th>19</th>\n",
       "      <td>варшавское шоссе</td>\n",
       "      <td>161</td>\n",
       "      <td>ЮАО</td>\n",
       "      <td>Район Чертаново Северное</td>\n",
       "    </tr>\n",
       "    <tr>\n",
       "      <th>20</th>\n",
       "      <td>варшавское шоссе</td>\n",
       "      <td>161</td>\n",
       "      <td>ЮАО</td>\n",
       "      <td>Район Чертаново Южное</td>\n",
       "    </tr>\n",
       "    <tr>\n",
       "      <th>21</th>\n",
       "      <td>варшавское шоссе</td>\n",
       "      <td>161</td>\n",
       "      <td>ЮАО</td>\n",
       "      <td>Донской район</td>\n",
       "    </tr>\n",
       "    <tr>\n",
       "      <th>22</th>\n",
       "      <td>варшавское шоссе</td>\n",
       "      <td>161</td>\n",
       "      <td>ЮАО</td>\n",
       "      <td>Район Нагатино-Садовники</td>\n",
       "    </tr>\n",
       "    <tr>\n",
       "      <th>23</th>\n",
       "      <td>варшавское шоссе</td>\n",
       "      <td>161</td>\n",
       "      <td>ЮАО</td>\n",
       "      <td>Нагорный район</td>\n",
       "    </tr>\n",
       "    <tr>\n",
       "      <th>24</th>\n",
       "      <td>варшавское шоссе</td>\n",
       "      <td>161</td>\n",
       "      <td>ЮЗАО</td>\n",
       "      <td>Район Северное Бутово</td>\n",
       "    </tr>\n",
       "    <tr>\n",
       "      <th>25</th>\n",
       "      <td>варшавское шоссе</td>\n",
       "      <td>161</td>\n",
       "      <td>ЮЗАО</td>\n",
       "      <td>Район Южное Бутово</td>\n",
       "    </tr>\n",
       "    <tr>\n",
       "      <th>26</th>\n",
       "      <td>ленинский проспект</td>\n",
       "      <td>147</td>\n",
       "      <td>ЗАО</td>\n",
       "      <td>Район Проспект Вернадского</td>\n",
       "    </tr>\n",
       "    <tr>\n",
       "      <th>27</th>\n",
       "      <td>ленинский проспект</td>\n",
       "      <td>147</td>\n",
       "      <td>ЗАО</td>\n",
       "      <td>Район Тропарево-Никулино</td>\n",
       "    </tr>\n",
       "    <tr>\n",
       "      <th>28</th>\n",
       "      <td>ленинский проспект</td>\n",
       "      <td>147</td>\n",
       "      <td>ЮАО</td>\n",
       "      <td>Донской район</td>\n",
       "    </tr>\n",
       "    <tr>\n",
       "      <th>29</th>\n",
       "      <td>ленинский проспект</td>\n",
       "      <td>147</td>\n",
       "      <td>ЮЗАО</td>\n",
       "      <td>Район Гагаринский</td>\n",
       "    </tr>\n",
       "    <tr>\n",
       "      <th>30</th>\n",
       "      <td>ленинский проспект</td>\n",
       "      <td>147</td>\n",
       "      <td>ЮЗАО</td>\n",
       "      <td>Ломоносовский район</td>\n",
       "    </tr>\n",
       "    <tr>\n",
       "      <th>31</th>\n",
       "      <td>ленинский проспект</td>\n",
       "      <td>147</td>\n",
       "      <td>ЮЗАО</td>\n",
       "      <td>Обручевский район</td>\n",
       "    </tr>\n",
       "    <tr>\n",
       "      <th>32</th>\n",
       "      <td>ленинский проспект</td>\n",
       "      <td>147</td>\n",
       "      <td>ЮЗАО</td>\n",
       "      <td>Район Теплый Стан</td>\n",
       "    </tr>\n",
       "    <tr>\n",
       "      <th>33</th>\n",
       "      <td>ленинский проспект</td>\n",
       "      <td>147</td>\n",
       "      <td>ЦАО</td>\n",
       "      <td>Район Якиманка</td>\n",
       "    </tr>\n",
       "    <tr>\n",
       "      <th>34</th>\n",
       "      <td>поселение сосенское</td>\n",
       "      <td>138</td>\n",
       "      <td>NaN</td>\n",
       "      <td>NaN</td>\n",
       "    </tr>\n",
       "    <tr>\n",
       "      <th>35</th>\n",
       "      <td>проспект вернадского</td>\n",
       "      <td>132</td>\n",
       "      <td>ЗАО</td>\n",
       "      <td>Район Проспект Вернадского</td>\n",
       "    </tr>\n",
       "    <tr>\n",
       "      <th>36</th>\n",
       "      <td>проспект вернадского</td>\n",
       "      <td>132</td>\n",
       "      <td>ЗАО</td>\n",
       "      <td>Район Раменки</td>\n",
       "    </tr>\n",
       "    <tr>\n",
       "      <th>37</th>\n",
       "      <td>проспект вернадского</td>\n",
       "      <td>132</td>\n",
       "      <td>ЗАО</td>\n",
       "      <td>Район Тропарево-Никулино</td>\n",
       "    </tr>\n",
       "    <tr>\n",
       "      <th>38</th>\n",
       "      <td>проспект вернадского</td>\n",
       "      <td>132</td>\n",
       "      <td>ЮЗАО</td>\n",
       "      <td>Район Гагаринский</td>\n",
       "    </tr>\n",
       "    <tr>\n",
       "      <th>39</th>\n",
       "      <td>проспект вернадского</td>\n",
       "      <td>132</td>\n",
       "      <td>ЮЗАО</td>\n",
       "      <td>Ломоносовский район</td>\n",
       "    </tr>\n",
       "    <tr>\n",
       "      <th>40</th>\n",
       "      <td>кутузовский проспект</td>\n",
       "      <td>114</td>\n",
       "      <td>ЗАО</td>\n",
       "      <td>Район Дорогомилово</td>\n",
       "    </tr>\n",
       "    <tr>\n",
       "      <th>41</th>\n",
       "      <td>кутузовский проспект</td>\n",
       "      <td>114</td>\n",
       "      <td>ЗАО</td>\n",
       "      <td>Район Фили-Давыдково</td>\n",
       "    </tr>\n",
       "    <tr>\n",
       "      <th>42</th>\n",
       "      <td>каширское шоссе</td>\n",
       "      <td>112</td>\n",
       "      <td>ЮАО</td>\n",
       "      <td>Район Москворечье-Сабурово</td>\n",
       "    </tr>\n",
       "    <tr>\n",
       "      <th>43</th>\n",
       "      <td>каширское шоссе</td>\n",
       "      <td>112</td>\n",
       "      <td>ЮАО</td>\n",
       "      <td>Район Нагатино-Садовники</td>\n",
       "    </tr>\n",
       "    <tr>\n",
       "      <th>44</th>\n",
       "      <td>каширское шоссе</td>\n",
       "      <td>112</td>\n",
       "      <td>ЮАО</td>\n",
       "      <td>Район Орехово-Борисово Южное</td>\n",
       "    </tr>\n",
       "    <tr>\n",
       "      <th>45</th>\n",
       "      <td>каширское шоссе</td>\n",
       "      <td>112</td>\n",
       "      <td>ЮАО</td>\n",
       "      <td>Район Орехово-Борисово Северное</td>\n",
       "    </tr>\n",
       "  </tbody>\n",
       "</table>\n",
       "</div>"
      ],
      "text/plain": [
       "                    street   id county                         district\n",
       "0            проспект мира  204   СВАО               Алексеевский район\n",
       "1            проспект мира  204   СВАО                Ярославский Район\n",
       "2            проспект мира  204   СВАО               Район Марьина роща\n",
       "3            проспект мира  204   СВАО               Останкинский район\n",
       "4            проспект мира  204   СВАО                  Район Ростокино\n",
       "5            проспект мира  204   СВАО                   Район Свиблово\n",
       "6            проспект мира  204    ЦАО                  Мещанский район\n",
       "7        профсоюзная улица  182   ЮЗАО              Академический район\n",
       "8        профсоюзная улица  182   ЮЗАО                  Район Черемушки\n",
       "9        профсоюзная улица  182   ЮЗАО                    Район Ясенево\n",
       "10       профсоюзная улица  182   ЮЗАО                   Район Коньково\n",
       "11       профсоюзная улица  182   ЮЗАО                Обручевский район\n",
       "12       профсоюзная улица  182   ЮЗАО                Район Теплый Стан\n",
       "13  ленинградский проспект  171    САО                   Район Аэропорт\n",
       "14  ленинградский проспект  171    САО                    Район Беговой\n",
       "15  ленинградский проспект  171    САО                Хорошевский район\n",
       "16  ленинградский проспект  171    САО                      Район Сокол\n",
       "17  пресненская набережная  167    ЦАО                Пресненский район\n",
       "18        варшавское шоссе  161    ЮАО      Район Чертаново Центральное\n",
       "19        варшавское шоссе  161    ЮАО         Район Чертаново Северное\n",
       "20        варшавское шоссе  161    ЮАО            Район Чертаново Южное\n",
       "21        варшавское шоссе  161    ЮАО                    Донской район\n",
       "22        варшавское шоссе  161    ЮАО         Район Нагатино-Садовники\n",
       "23        варшавское шоссе  161    ЮАО                   Нагорный район\n",
       "24        варшавское шоссе  161   ЮЗАО            Район Северное Бутово\n",
       "25        варшавское шоссе  161   ЮЗАО               Район Южное Бутово\n",
       "26      ленинский проспект  147    ЗАО       Район Проспект Вернадского\n",
       "27      ленинский проспект  147    ЗАО         Район Тропарево-Никулино\n",
       "28      ленинский проспект  147    ЮАО                    Донской район\n",
       "29      ленинский проспект  147   ЮЗАО                Район Гагаринский\n",
       "30      ленинский проспект  147   ЮЗАО              Ломоносовский район\n",
       "31      ленинский проспект  147   ЮЗАО                Обручевский район\n",
       "32      ленинский проспект  147   ЮЗАО                Район Теплый Стан\n",
       "33      ленинский проспект  147    ЦАО                   Район Якиманка\n",
       "34     поселение сосенское  138    NaN                              NaN\n",
       "35    проспект вернадского  132    ЗАО       Район Проспект Вернадского\n",
       "36    проспект вернадского  132    ЗАО                    Район Раменки\n",
       "37    проспект вернадского  132    ЗАО         Район Тропарево-Никулино\n",
       "38    проспект вернадского  132   ЮЗАО                Район Гагаринский\n",
       "39    проспект вернадского  132   ЮЗАО              Ломоносовский район\n",
       "40    кутузовский проспект  114    ЗАО               Район Дорогомилово\n",
       "41    кутузовский проспект  114    ЗАО             Район Фили-Давыдково\n",
       "42         каширское шоссе  112    ЮАО       Район Москворечье-Сабурово\n",
       "43         каширское шоссе  112    ЮАО         Район Нагатино-Садовники\n",
       "44         каширское шоссе  112    ЮАО     Район Орехово-Борисово Южное\n",
       "45         каширское шоссе  112    ЮАО  Район Орехово-Борисово Северное"
      ]
     },
     "execution_count": 85,
     "metadata": {},
     "output_type": "execute_result"
    }
   ],
   "source": [
    "top_10_street"
   ]
  },
  {
   "cell_type": "markdown",
   "metadata": {},
   "source": [
    "- Популярность этих улиц связана с тем, что они длинные, и, соответственно, довольно большое число заведений на них находятся вследствие значительного размера самих улиц.  "
   ]
  },
  {
   "cell_type": "markdown",
   "metadata": {},
   "source": [
    "### 2.8 Улицы с одним объектом общественного питания"
   ]
  },
  {
   "cell_type": "code",
   "execution_count": 86,
   "metadata": {},
   "outputs": [],
   "source": [
    "streets_count = data.groupby(['street'])['object_name'].count().reset_index()\n",
    "streets_one_object = streets_count[streets_count['object_name'] == 1]"
   ]
  },
  {
   "cell_type": "code",
   "execution_count": 87,
   "metadata": {},
   "outputs": [
    {
     "name": "stdout",
     "output_type": "stream",
     "text": [
      "Количество улиц с одним объектом общественного питания: 579\n"
     ]
    }
   ],
   "source": [
    "print(\"Количество улиц с одним объектом общественного питания:\", streets_one_object['street'].count())"
   ]
  },
  {
   "cell_type": "code",
   "execution_count": 88,
   "metadata": {},
   "outputs": [
    {
     "data": {
      "text/html": [
       "<div>\n",
       "<style scoped>\n",
       "    .dataframe tbody tr th:only-of-type {\n",
       "        vertical-align: middle;\n",
       "    }\n",
       "\n",
       "    .dataframe tbody tr th {\n",
       "        vertical-align: top;\n",
       "    }\n",
       "\n",
       "    .dataframe thead th {\n",
       "        text-align: right;\n",
       "    }\n",
       "</style>\n",
       "<table border=\"1\" class=\"dataframe\">\n",
       "  <thead>\n",
       "    <tr style=\"text-align: right;\">\n",
       "      <th></th>\n",
       "      <th>street</th>\n",
       "      <th>object_name</th>\n",
       "    </tr>\n",
       "  </thead>\n",
       "  <tbody>\n",
       "    <tr>\n",
       "      <th>2</th>\n",
       "      <td>1-й балтийский переулок</td>\n",
       "      <td>1</td>\n",
       "    </tr>\n",
       "    <tr>\n",
       "      <th>3</th>\n",
       "      <td>1-й басманный переулок</td>\n",
       "      <td>1</td>\n",
       "    </tr>\n",
       "    <tr>\n",
       "      <th>4</th>\n",
       "      <td>1-й ботанический проезд</td>\n",
       "      <td>1</td>\n",
       "    </tr>\n",
       "    <tr>\n",
       "      <th>7</th>\n",
       "      <td>1-й вешняковский проезд</td>\n",
       "      <td>1</td>\n",
       "    </tr>\n",
       "    <tr>\n",
       "      <th>9</th>\n",
       "      <td>1-й голутвинский переулок</td>\n",
       "      <td>1</td>\n",
       "    </tr>\n",
       "    <tr>\n",
       "      <th>...</th>\n",
       "      <td>...</td>\n",
       "      <td>...</td>\n",
       "    </tr>\n",
       "    <tr>\n",
       "      <th>1889</th>\n",
       "      <td>ялтинская улица</td>\n",
       "      <td>1</td>\n",
       "    </tr>\n",
       "    <tr>\n",
       "      <th>1890</th>\n",
       "      <td>янтарный проезд</td>\n",
       "      <td>1</td>\n",
       "    </tr>\n",
       "    <tr>\n",
       "      <th>1895</th>\n",
       "      <td>ясногорская улица</td>\n",
       "      <td>1</td>\n",
       "    </tr>\n",
       "    <tr>\n",
       "      <th>1898</th>\n",
       "      <td>яузский бульвар</td>\n",
       "      <td>1</td>\n",
       "    </tr>\n",
       "    <tr>\n",
       "      <th>1899</th>\n",
       "      <td>яхромская улица</td>\n",
       "      <td>1</td>\n",
       "    </tr>\n",
       "  </tbody>\n",
       "</table>\n",
       "<p>579 rows × 2 columns</p>\n",
       "</div>"
      ],
      "text/plain": [
       "                         street  object_name\n",
       "2       1-й балтийский переулок            1\n",
       "3        1-й басманный переулок            1\n",
       "4       1-й ботанический проезд            1\n",
       "7       1-й вешняковский проезд            1\n",
       "9     1-й голутвинский переулок            1\n",
       "...                         ...          ...\n",
       "1889            ялтинская улица            1\n",
       "1890            янтарный проезд            1\n",
       "1895          ясногорская улица            1\n",
       "1898            яузский бульвар            1\n",
       "1899            яхромская улица            1\n",
       "\n",
       "[579 rows x 2 columns]"
      ]
     },
     "execution_count": 88,
     "metadata": {},
     "output_type": "execute_result"
    }
   ],
   "source": [
    "streets_one_object"
   ]
  },
  {
   "cell_type": "code",
   "execution_count": 89,
   "metadata": {},
   "outputs": [],
   "source": [
    "street_one_object = streets_one_object.merge(street_data, on=('street'), how='left')"
   ]
  },
  {
   "cell_type": "code",
   "execution_count": 90,
   "metadata": {},
   "outputs": [
    {
     "name": "stdout",
     "output_type": "stream",
     "text": [
      "Количество районов в которых находятся улицы с одним объектом общественного питания: 560\n"
     ]
    }
   ],
   "source": [
    "print(\"Количество районов в которых находятся улицы с одним объектом общественного питания:\", street_one_object.groupby(['district'])['object_name'].count().sum())"
   ]
  },
  {
   "cell_type": "code",
   "execution_count": 91,
   "metadata": {},
   "outputs": [
    {
     "data": {
      "text/html": [
       "<div>\n",
       "<style scoped>\n",
       "    .dataframe tbody tr th:only-of-type {\n",
       "        vertical-align: middle;\n",
       "    }\n",
       "\n",
       "    .dataframe tbody tr th {\n",
       "        vertical-align: top;\n",
       "    }\n",
       "\n",
       "    .dataframe thead th {\n",
       "        text-align: right;\n",
       "    }\n",
       "</style>\n",
       "<table border=\"1\" class=\"dataframe\">\n",
       "  <thead>\n",
       "    <tr style=\"text-align: right;\">\n",
       "      <th></th>\n",
       "      <th>street</th>\n",
       "      <th>object_name</th>\n",
       "      <th>county</th>\n",
       "    </tr>\n",
       "    <tr>\n",
       "      <th>district</th>\n",
       "      <th></th>\n",
       "      <th></th>\n",
       "      <th></th>\n",
       "    </tr>\n",
       "  </thead>\n",
       "  <tbody>\n",
       "    <tr>\n",
       "      <th>Район Замоскворечье</th>\n",
       "      <td>14</td>\n",
       "      <td>14</td>\n",
       "      <td>14</td>\n",
       "    </tr>\n",
       "    <tr>\n",
       "      <th>Район Сокольники</th>\n",
       "      <td>15</td>\n",
       "      <td>15</td>\n",
       "      <td>15</td>\n",
       "    </tr>\n",
       "    <tr>\n",
       "      <th>Мещанский район</th>\n",
       "      <td>16</td>\n",
       "      <td>16</td>\n",
       "      <td>16</td>\n",
       "    </tr>\n",
       "    <tr>\n",
       "      <th>Район Арбат</th>\n",
       "      <td>17</td>\n",
       "      <td>17</td>\n",
       "      <td>17</td>\n",
       "    </tr>\n",
       "    <tr>\n",
       "      <th>Район Марьина роща</th>\n",
       "      <td>18</td>\n",
       "      <td>18</td>\n",
       "      <td>18</td>\n",
       "    </tr>\n",
       "    <tr>\n",
       "      <th>Пресненский район</th>\n",
       "      <td>19</td>\n",
       "      <td>19</td>\n",
       "      <td>19</td>\n",
       "    </tr>\n",
       "    <tr>\n",
       "      <th>Тверской район</th>\n",
       "      <td>20</td>\n",
       "      <td>20</td>\n",
       "      <td>20</td>\n",
       "    </tr>\n",
       "    <tr>\n",
       "      <th>Басманный район</th>\n",
       "      <td>25</td>\n",
       "      <td>25</td>\n",
       "      <td>25</td>\n",
       "    </tr>\n",
       "    <tr>\n",
       "      <th>Район Хамовники</th>\n",
       "      <td>26</td>\n",
       "      <td>26</td>\n",
       "      <td>26</td>\n",
       "    </tr>\n",
       "    <tr>\n",
       "      <th>Таганский район</th>\n",
       "      <td>27</td>\n",
       "      <td>27</td>\n",
       "      <td>27</td>\n",
       "    </tr>\n",
       "  </tbody>\n",
       "</table>\n",
       "</div>"
      ],
      "text/plain": [
       "                     street  object_name  county\n",
       "district                                        \n",
       "Район Замоскворечье      14           14      14\n",
       "Район Сокольники         15           15      15\n",
       "Мещанский район          16           16      16\n",
       "Район Арбат              17           17      17\n",
       "Район Марьина роща       18           18      18\n",
       "Пресненский район        19           19      19\n",
       "Тверской район           20           20      20\n",
       "Басманный район          25           25      25\n",
       "Район Хамовники          26           26      26\n",
       "Таганский район          27           27      27"
      ]
     },
     "execution_count": 91,
     "metadata": {},
     "output_type": "execute_result"
    }
   ],
   "source": [
    "street_one_object.groupby('district').count().sort_values('object_name').tail(10)"
   ]
  },
  {
   "cell_type": "markdown",
   "metadata": {},
   "source": [
    "- Больше всего улиц с одним заведением в центре - множество переулков у которых тем неменее есть проходимый трафик"
   ]
  },
  {
   "cell_type": "markdown",
   "metadata": {},
   "source": [
    "### 2.9 Распределение количества посадочных мест для улиц с большим количеством объектов общественного питания"
   ]
  },
  {
   "cell_type": "code",
   "execution_count": 92,
   "metadata": {},
   "outputs": [
    {
     "data": {
      "image/png": "[encoded data removed]",
      "text/plain": [
       "<Figure size 1152x504 with 1 Axes>"
      ]
     },
     "metadata": {},
     "output_type": "display_data"
    }
   ],
   "source": [
    "ax = sns.boxplot(x=data['seats_number'])\n",
    "ax.set_xlim(-10,200)\n",
    "ax.set_xlabel('Количество мест')\n",
    "ax.set_title('Количество мест в топ-10 общественного питания', fontsize=14)\n",
    "plt.show()"
   ]
  },
  {
   "cell_type": "code",
   "execution_count": 93,
   "metadata": {},
   "outputs": [
    {
     "data": {
      "image/png": "[encoded data removed]",
      "text/plain": [
       "<Figure size 1152x504 with 1 Axes>"
      ]
     },
     "metadata": {},
     "output_type": "display_data"
    }
   ],
   "source": [
    "ax = data['seats_number'].hist(bins=50, range=(-10, 500))\n",
    "ax.set_xlabel('Количество мест')\n",
    "ax.set_ylabel('Частота')\n",
    "ax.set_title('Количество мест в топ-10 общественного питания', fontsize=14)\n",
    "plt.show()"
   ]
  },
  {
   "cell_type": "markdown",
   "metadata": {},
   "source": [
    "Количество мест в данной категории меньше. На всех улицах топ-10 мы видим заведения, в основном, до 100 посадочных мест. Большие заведения уже являются исключением."
   ]
  },
  {
   "cell_type": "markdown",
   "metadata": {},
   "source": [
    "## 3. Общий вывод:"
   ]
  },
  {
   "cell_type": "markdown",
   "metadata": {},
   "source": [
    "* в Москве доминирует формат кафе с общим количеством более 6000, при этом сетевых чуть больше 1000;\n",
    "* сетевой формат свойственен впервую очередь фаст-фуду (43%), уже потом ресторанам, кафе и кулинариям (20-30%);\n",
    "* сетевому формату свойственно небольшое количество посадочных мест (до 100), в кафе в среднем 40;\n",
    "* несетевой формат кафе является высоко-конкурентным срезом рынка, при этом концепция высокотехнологичного обслуживания выгодно выделяет проект на фоне конкурентов;\n",
    "* высокая концентрация также говорит о прибыльности сектора;\n",
    "* доминирование заведений с небольшим количеством посадочных мест соответствует выбранному формату. Данный показатель отображает оптимально сформировавшийся размер кафе;\n",
    "* **в качестве рекомендации для расположения кафе следует рассматривать одну из 10 наиболее посещаемых улиц, ориентируясь на арендные затраты и подготовку помещения. Формат должен быть сетевым кафе с небольшим количеством посадочных мест - такая концепция будет также менее затратной при масштабировании**"
   ]
  },
  {
   "cell_type": "markdown",
   "metadata": {},
   "source": [
    "## Презентация"
   ]
  },
  {
   "cell_type": "markdown",
   "metadata": {},
   "source": [
    "https://docs.google.com/presentation/d/1H1lftSnUrItAjTkhx9NODdp4_6D1LSo-/edit?usp=sharing&ouid=115943875866324512944&rtpof=true&sd=true"
   ]
  }
 ],
 "metadata": {
  "ExecuteTimeLog": [
   {
    "duration": 635,
    "start_time": "2021-09-13T13:34:08.232Z"
   },
   {
    "duration": 53,
    "start_time": "2021-09-13T13:34:54.353Z"
   },
   {
    "duration": 3,
    "start_time": "2021-09-13T13:34:57.758Z"
   },
   {
    "duration": 51,
    "start_time": "2021-09-13T13:34:58.008Z"
   },
   {
    "duration": 20,
    "start_time": "2021-09-13T13:35:12.939Z"
   },
   {
    "duration": 9,
    "start_time": "2021-09-13T13:35:31.604Z"
   },
   {
    "duration": 19,
    "start_time": "2021-09-13T13:35:50.242Z"
   },
   {
    "duration": 126,
    "start_time": "2021-09-13T13:37:13.150Z"
   },
   {
    "duration": 4,
    "start_time": "2021-09-13T13:48:42.672Z"
   },
   {
    "duration": 3,
    "start_time": "2021-09-13T13:48:44.087Z"
   },
   {
    "duration": 52,
    "start_time": "2021-09-13T13:48:46.088Z"
   },
   {
    "duration": 14,
    "start_time": "2021-09-13T13:49:08.273Z"
   },
   {
    "duration": 34,
    "start_time": "2021-09-13T13:51:17.822Z"
   },
   {
    "duration": 11,
    "start_time": "2021-09-13T13:51:18.665Z"
   },
   {
    "duration": 25,
    "start_time": "2021-09-13T13:51:23.193Z"
   },
   {
    "duration": 254,
    "start_time": "2021-09-13T13:58:09.977Z"
   },
   {
    "duration": 4,
    "start_time": "2021-09-13T13:58:50.176Z"
   },
   {
    "duration": 378,
    "start_time": "2021-09-13T13:58:52.546Z"
   },
   {
    "duration": 564,
    "start_time": "2021-09-13T14:00:05.214Z"
   },
   {
    "duration": 52,
    "start_time": "2021-09-13T14:00:09.196Z"
   },
   {
    "duration": 10,
    "start_time": "2021-09-13T14:00:10.265Z"
   },
   {
    "duration": 23,
    "start_time": "2021-09-13T14:00:13.556Z"
   },
   {
    "duration": 343,
    "start_time": "2021-09-13T14:00:15.123Z"
   },
   {
    "duration": 432,
    "start_time": "2021-09-13T14:02:03.547Z"
   },
   {
    "duration": 412,
    "start_time": "2021-09-13T14:05:46.244Z"
   },
   {
    "duration": 268,
    "start_time": "2021-09-13T14:05:55.017Z"
   },
   {
    "duration": 267,
    "start_time": "2021-09-13T14:06:10.634Z"
   },
   {
    "duration": 269,
    "start_time": "2021-09-13T14:06:18.300Z"
   },
   {
    "duration": 267,
    "start_time": "2021-09-13T14:06:24.476Z"
   },
   {
    "duration": 371,
    "start_time": "2021-09-13T14:06:32.074Z"
   },
   {
    "duration": 394,
    "start_time": "2021-09-13T14:08:58.876Z"
   },
   {
    "duration": 13,
    "start_time": "2021-09-13T14:09:20.165Z"
   },
   {
    "duration": 15,
    "start_time": "2021-09-13T14:09:36.386Z"
   },
   {
    "duration": 19,
    "start_time": "2021-09-13T14:09:42.222Z"
   },
   {
    "duration": 12,
    "start_time": "2021-09-13T14:10:20.636Z"
   },
   {
    "duration": -59,
    "start_time": "2021-09-13T14:13:15.944Z"
   },
   {
    "duration": 337,
    "start_time": "2021-09-13T14:13:34.477Z"
   },
   {
    "duration": 384,
    "start_time": "2021-09-13T14:13:36.506Z"
   },
   {
    "duration": 408,
    "start_time": "2021-09-13T14:14:51.436Z"
   },
   {
    "duration": 355,
    "start_time": "2021-09-13T14:15:18.157Z"
   },
   {
    "duration": 416,
    "start_time": "2021-09-13T14:16:13.437Z"
   },
   {
    "duration": 356,
    "start_time": "2021-09-13T14:18:22.666Z"
   },
   {
    "duration": 452,
    "start_time": "2021-09-13T14:19:50.802Z"
   },
   {
    "duration": 976,
    "start_time": "2021-09-13T14:20:10.176Z"
   },
   {
    "duration": 714,
    "start_time": "2021-09-13T14:20:23.277Z"
   },
   {
    "duration": 594,
    "start_time": "2021-09-13T14:20:32.942Z"
   },
   {
    "duration": 621,
    "start_time": "2021-09-13T14:20:37.076Z"
   },
   {
    "duration": 507,
    "start_time": "2021-09-13T14:20:41.348Z"
   },
   {
    "duration": 499,
    "start_time": "2021-09-13T14:20:58.861Z"
   },
   {
    "duration": 787,
    "start_time": "2021-09-13T14:22:43.156Z"
   },
   {
    "duration": 808,
    "start_time": "2021-09-13T14:22:54.568Z"
   },
   {
    "duration": 360,
    "start_time": "2021-09-13T14:25:31.033Z"
   },
   {
    "duration": 373,
    "start_time": "2021-09-13T14:25:52.647Z"
   },
   {
    "duration": 4,
    "start_time": "2021-09-13T14:26:18.708Z"
   },
   {
    "duration": 15,
    "start_time": "2021-09-13T14:26:23.105Z"
   },
   {
    "duration": 5,
    "start_time": "2021-09-13T14:26:47.037Z"
   },
   {
    "duration": 11,
    "start_time": "2021-09-13T14:26:57.957Z"
   },
   {
    "duration": 126,
    "start_time": "2021-09-13T14:28:24.792Z"
   },
   {
    "duration": 421,
    "start_time": "2021-09-13T14:28:29.233Z"
   },
   {
    "duration": 3,
    "start_time": "2021-09-13T14:28:30.668Z"
   },
   {
    "duration": 59,
    "start_time": "2021-09-13T14:28:31.428Z"
   },
   {
    "duration": 12,
    "start_time": "2021-09-13T14:28:32.232Z"
   },
   {
    "duration": 27,
    "start_time": "2021-09-13T14:29:52.518Z"
   },
   {
    "duration": 389,
    "start_time": "2021-09-13T14:30:07.627Z"
   },
   {
    "duration": 30,
    "start_time": "2021-09-13T14:30:12.276Z"
   },
   {
    "duration": 23,
    "start_time": "2021-09-13T14:30:21.047Z"
   },
   {
    "duration": 443,
    "start_time": "2021-09-13T14:30:55.044Z"
   },
   {
    "duration": 435,
    "start_time": "2021-09-13T14:31:04.309Z"
   },
   {
    "duration": 11,
    "start_time": "2021-09-13T14:37:50.717Z"
   },
   {
    "duration": -79,
    "start_time": "2021-09-13T14:38:02.271Z"
   },
   {
    "duration": 5,
    "start_time": "2021-09-13T14:38:24.535Z"
   },
   {
    "duration": 5,
    "start_time": "2021-09-13T14:38:40.650Z"
   },
   {
    "duration": 9751,
    "start_time": "2021-09-13T14:40:43.417Z"
   },
   {
    "duration": 326,
    "start_time": "2021-09-13T14:40:55.985Z"
   },
   {
    "duration": 436,
    "start_time": "2021-09-13T14:42:01.668Z"
   },
   {
    "duration": 470,
    "start_time": "2021-09-13T14:43:01.464Z"
   },
   {
    "duration": 479,
    "start_time": "2021-09-13T14:43:32.655Z"
   },
   {
    "duration": 499,
    "start_time": "2021-09-13T14:46:02.765Z"
   },
   {
    "duration": 4,
    "start_time": "2021-09-14T12:27:50.749Z"
   },
   {
    "duration": 2246,
    "start_time": "2021-09-14T12:27:57.118Z"
   },
   {
    "duration": 4,
    "start_time": "2021-09-14T12:28:46.591Z"
   },
   {
    "duration": 52,
    "start_time": "2021-09-14T12:28:47.562Z"
   },
   {
    "duration": 13,
    "start_time": "2021-09-14T12:28:48.311Z"
   },
   {
    "duration": 59,
    "start_time": "2021-09-14T12:28:48.994Z"
   },
   {
    "duration": 10,
    "start_time": "2021-09-14T12:28:49.352Z"
   },
   {
    "duration": 23,
    "start_time": "2021-09-14T12:28:49.764Z"
   },
   {
    "duration": 360,
    "start_time": "2021-09-14T12:28:51.077Z"
   },
   {
    "duration": 271,
    "start_time": "2021-09-14T12:28:53.631Z"
   },
   {
    "duration": 17,
    "start_time": "2021-09-14T12:28:55.293Z"
   },
   {
    "duration": 415,
    "start_time": "2021-09-14T12:28:57.301Z"
   },
   {
    "duration": 364,
    "start_time": "2021-09-14T12:28:57.718Z"
   },
   {
    "duration": 909,
    "start_time": "2021-09-14T12:28:58.085Z"
   },
   {
    "duration": 4,
    "start_time": "2021-09-14T12:28:58.996Z"
   },
   {
    "duration": 21,
    "start_time": "2021-09-14T12:28:59.001Z"
   },
   {
    "duration": 14,
    "start_time": "2021-09-14T12:28:59.041Z"
   },
   {
    "duration": 48,
    "start_time": "2021-09-14T12:28:59.057Z"
   },
   {
    "duration": 59,
    "start_time": "2021-09-14T12:28:59.888Z"
   },
   {
    "duration": 10,
    "start_time": "2021-09-14T12:29:00.191Z"
   },
   {
    "duration": 26,
    "start_time": "2021-09-14T12:29:05.168Z"
   },
   {
    "duration": 424,
    "start_time": "2021-09-14T12:29:06.012Z"
   },
   {
    "duration": 11,
    "start_time": "2021-09-14T12:29:07.914Z"
   },
   {
    "duration": 4,
    "start_time": "2021-09-14T12:29:08.391Z"
   },
   {
    "duration": 348,
    "start_time": "2021-09-14T12:29:09.327Z"
   },
   {
    "duration": 688,
    "start_time": "2021-09-14T12:29:10.121Z"
   },
   {
    "duration": 2,
    "start_time": "2021-09-14T12:29:12.671Z"
   },
   {
    "duration": 4,
    "start_time": "2021-09-14T12:31:52.386Z"
   },
   {
    "duration": 2559,
    "start_time": "2021-09-14T12:32:28.918Z"
   },
   {
    "duration": 4,
    "start_time": "2021-09-14T12:38:09.758Z"
   },
   {
    "duration": 5,
    "start_time": "2021-09-14T12:38:10.656Z"
   },
   {
    "duration": 54,
    "start_time": "2021-09-14T12:38:11.270Z"
   },
   {
    "duration": 10,
    "start_time": "2021-09-14T12:38:11.437Z"
   },
   {
    "duration": 51,
    "start_time": "2021-09-14T12:38:11.899Z"
   },
   {
    "duration": 10,
    "start_time": "2021-09-14T12:38:12.067Z"
   },
   {
    "duration": 23,
    "start_time": "2021-09-14T12:38:12.218Z"
   },
   {
    "duration": 367,
    "start_time": "2021-09-14T12:38:12.848Z"
   },
   {
    "duration": 270,
    "start_time": "2021-09-14T12:38:13.297Z"
   },
   {
    "duration": 12,
    "start_time": "2021-09-14T12:38:13.808Z"
   },
   {
    "duration": 404,
    "start_time": "2021-09-14T12:38:14.328Z"
   },
   {
    "duration": 342,
    "start_time": "2021-09-14T12:38:14.734Z"
   },
   {
    "duration": 866,
    "start_time": "2021-09-14T12:38:15.077Z"
   },
   {
    "duration": 3,
    "start_time": "2021-09-14T12:38:15.945Z"
   },
   {
    "duration": 19,
    "start_time": "2021-09-14T12:38:15.950Z"
   },
   {
    "duration": 12,
    "start_time": "2021-09-14T12:38:15.971Z"
   },
   {
    "duration": 10,
    "start_time": "2021-09-14T12:38:15.985Z"
   },
   {
    "duration": 57,
    "start_time": "2021-09-14T12:38:16.184Z"
   },
   {
    "duration": 12,
    "start_time": "2021-09-14T12:38:17.114Z"
   },
   {
    "duration": 29,
    "start_time": "2021-09-14T12:38:17.798Z"
   },
   {
    "duration": 434,
    "start_time": "2021-09-14T12:38:17.969Z"
   },
   {
    "duration": 13,
    "start_time": "2021-09-14T12:38:21.088Z"
   },
   {
    "duration": 5,
    "start_time": "2021-09-14T12:38:21.568Z"
   },
   {
    "duration": 469,
    "start_time": "2021-09-14T12:38:23.546Z"
   },
   {
    "duration": 472,
    "start_time": "2021-09-14T12:38:24.339Z"
   },
   {
    "duration": 3,
    "start_time": "2021-09-14T12:38:28.658Z"
   },
   {
    "duration": 4,
    "start_time": "2021-09-14T12:38:29.049Z"
   },
   {
    "duration": 1727,
    "start_time": "2021-09-14T12:38:29.599Z"
   },
   {
    "duration": 295,
    "start_time": "2021-09-14T12:38:32.158Z"
   },
   {
    "duration": 617,
    "start_time": "2021-09-14T12:38:45.318Z"
   },
   {
    "duration": 95,
    "start_time": "2021-09-14T12:40:16.380Z"
   },
   {
    "duration": 101,
    "start_time": "2021-09-14T12:40:28.109Z"
   },
   {
    "duration": 351,
    "start_time": "2021-09-14T12:40:36.930Z"
   },
   {
    "duration": 356,
    "start_time": "2021-09-14T12:40:48.669Z"
   },
   {
    "duration": 28,
    "start_time": "2021-09-14T12:40:57.658Z"
   },
   {
    "duration": 7458,
    "start_time": "2021-09-14T12:41:27.999Z"
   },
   {
    "duration": 11,
    "start_time": "2021-09-14T12:42:05.370Z"
   },
   {
    "duration": 11,
    "start_time": "2021-09-14T12:42:19.476Z"
   },
   {
    "duration": 7961,
    "start_time": "2021-09-14T12:42:24.897Z"
   },
   {
    "duration": 8,
    "start_time": "2021-09-14T12:42:48.010Z"
   },
   {
    "duration": 2,
    "start_time": "2021-09-14T13:52:49.056Z"
   },
   {
    "duration": -49,
    "start_time": "2021-09-14T13:52:49.107Z"
   },
   {
    "duration": -51,
    "start_time": "2021-09-14T13:52:49.110Z"
   },
   {
    "duration": -55,
    "start_time": "2021-09-14T13:52:49.115Z"
   },
   {
    "duration": -65,
    "start_time": "2021-09-14T13:52:49.126Z"
   },
   {
    "duration": -66,
    "start_time": "2021-09-14T13:52:49.128Z"
   },
   {
    "duration": -68,
    "start_time": "2021-09-14T13:52:49.131Z"
   },
   {
    "duration": -78,
    "start_time": "2021-09-14T13:52:49.141Z"
   },
   {
    "duration": -79,
    "start_time": "2021-09-14T13:52:49.143Z"
   },
   {
    "duration": -81,
    "start_time": "2021-09-14T13:52:49.146Z"
   },
   {
    "duration": -93,
    "start_time": "2021-09-14T13:52:49.159Z"
   },
   {
    "duration": -94,
    "start_time": "2021-09-14T13:52:49.161Z"
   },
   {
    "duration": -106,
    "start_time": "2021-09-14T13:52:49.174Z"
   },
   {
    "duration": -107,
    "start_time": "2021-09-14T13:52:49.176Z"
   },
   {
    "duration": -110,
    "start_time": "2021-09-14T13:52:49.179Z"
   },
   {
    "duration": -111,
    "start_time": "2021-09-14T13:52:49.181Z"
   },
   {
    "duration": -122,
    "start_time": "2021-09-14T13:52:49.193Z"
   },
   {
    "duration": -123,
    "start_time": "2021-09-14T13:52:49.195Z"
   },
   {
    "duration": -124,
    "start_time": "2021-09-14T13:52:49.197Z"
   },
   {
    "duration": -126,
    "start_time": "2021-09-14T13:52:49.199Z"
   },
   {
    "duration": -136,
    "start_time": "2021-09-14T13:52:49.210Z"
   },
   {
    "duration": -137,
    "start_time": "2021-09-14T13:52:49.212Z"
   },
   {
    "duration": -139,
    "start_time": "2021-09-14T13:52:49.215Z"
   },
   {
    "duration": -148,
    "start_time": "2021-09-14T13:52:49.225Z"
   },
   {
    "duration": -149,
    "start_time": "2021-09-14T13:52:49.227Z"
   },
   {
    "duration": -151,
    "start_time": "2021-09-14T13:52:49.229Z"
   },
   {
    "duration": -152,
    "start_time": "2021-09-14T13:52:49.231Z"
   },
   {
    "duration": -161,
    "start_time": "2021-09-14T13:52:49.241Z"
   },
   {
    "duration": -163,
    "start_time": "2021-09-14T13:52:49.244Z"
   },
   {
    "duration": -164,
    "start_time": "2021-09-14T13:52:49.246Z"
   },
   {
    "duration": -166,
    "start_time": "2021-09-14T13:52:49.248Z"
   },
   {
    "duration": 1211,
    "start_time": "2021-09-14T13:53:33.811Z"
   },
   {
    "duration": 4,
    "start_time": "2021-09-14T13:53:35.023Z"
   },
   {
    "duration": 78,
    "start_time": "2021-09-14T13:53:35.029Z"
   },
   {
    "duration": 13,
    "start_time": "2021-09-14T13:53:35.109Z"
   },
   {
    "duration": 55,
    "start_time": "2021-09-14T13:53:35.124Z"
   },
   {
    "duration": 11,
    "start_time": "2021-09-14T13:53:35.191Z"
   },
   {
    "duration": 23,
    "start_time": "2021-09-14T13:53:35.204Z"
   },
   {
    "duration": 341,
    "start_time": "2021-09-14T13:53:35.228Z"
   },
   {
    "duration": 240,
    "start_time": "2021-09-14T13:53:35.572Z"
   },
   {
    "duration": 17,
    "start_time": "2021-09-14T13:53:35.814Z"
   },
   {
    "duration": 346,
    "start_time": "2021-09-14T13:53:35.833Z"
   },
   {
    "duration": 295,
    "start_time": "2021-09-14T13:53:36.181Z"
   },
   {
    "duration": 755,
    "start_time": "2021-09-14T13:53:36.478Z"
   },
   {
    "duration": 3,
    "start_time": "2021-09-14T13:53:37.234Z"
   },
   {
    "duration": 16,
    "start_time": "2021-09-14T13:53:37.238Z"
   },
   {
    "duration": 14,
    "start_time": "2021-09-14T13:53:37.255Z"
   },
   {
    "duration": 7,
    "start_time": "2021-09-14T13:53:37.271Z"
   },
   {
    "duration": 57,
    "start_time": "2021-09-14T13:53:37.280Z"
   },
   {
    "duration": 8,
    "start_time": "2021-09-14T13:53:37.339Z"
   },
   {
    "duration": 38,
    "start_time": "2021-09-14T13:53:37.349Z"
   },
   {
    "duration": 369,
    "start_time": "2021-09-14T13:53:37.388Z"
   },
   {
    "duration": 10,
    "start_time": "2021-09-14T13:53:37.759Z"
   },
   {
    "duration": 4,
    "start_time": "2021-09-14T13:53:37.770Z"
   },
   {
    "duration": 297,
    "start_time": "2021-09-14T13:53:37.791Z"
   },
   {
    "duration": 402,
    "start_time": "2021-09-14T13:53:38.091Z"
   },
   {
    "duration": 2,
    "start_time": "2021-09-14T13:53:38.495Z"
   },
   {
    "duration": 5,
    "start_time": "2021-09-14T13:53:38.500Z"
   },
   {
    "duration": 2230,
    "start_time": "2021-09-14T13:53:38.507Z"
   },
   {
    "duration": 10,
    "start_time": "2021-09-14T13:53:40.739Z"
   },
   {
    "duration": 9,
    "start_time": "2021-09-14T13:53:40.750Z"
   },
   {
    "duration": 6483,
    "start_time": "2021-09-14T13:53:40.760Z"
   },
   {
    "duration": 1614,
    "start_time": "2021-09-18T16:47:13.572Z"
   },
   {
    "duration": 6,
    "start_time": "2021-09-18T16:47:15.940Z"
   },
   {
    "duration": 57,
    "start_time": "2021-09-18T16:47:16.297Z"
   },
   {
    "duration": 18,
    "start_time": "2021-09-18T16:47:16.477Z"
   },
   {
    "duration": 107,
    "start_time": "2021-09-18T16:47:16.637Z"
   },
   {
    "duration": 17,
    "start_time": "2021-09-18T16:47:16.794Z"
   },
   {
    "duration": 28,
    "start_time": "2021-09-18T16:47:16.968Z"
   },
   {
    "duration": 551,
    "start_time": "2021-09-18T16:47:17.652Z"
   },
   {
    "duration": 426,
    "start_time": "2021-09-18T16:47:18.206Z"
   },
   {
    "duration": 33,
    "start_time": "2021-09-18T16:47:18.635Z"
   },
   {
    "duration": 628,
    "start_time": "2021-09-18T16:47:19.085Z"
   },
   {
    "duration": 533,
    "start_time": "2021-09-18T16:47:19.715Z"
   },
   {
    "duration": 1369,
    "start_time": "2021-09-18T16:47:20.251Z"
   },
   {
    "duration": 4,
    "start_time": "2021-09-18T16:47:21.623Z"
   },
   {
    "duration": 39,
    "start_time": "2021-09-18T16:47:21.630Z"
   },
   {
    "duration": 18,
    "start_time": "2021-09-18T16:47:21.672Z"
   },
   {
    "duration": 8,
    "start_time": "2021-09-18T16:47:21.693Z"
   },
   {
    "duration": 101,
    "start_time": "2021-09-18T16:47:21.704Z"
   },
   {
    "duration": 14,
    "start_time": "2021-09-18T16:47:21.807Z"
   },
   {
    "duration": 41,
    "start_time": "2021-09-18T16:54:20.890Z"
   },
   {
    "duration": 684,
    "start_time": "2021-09-18T16:54:23.352Z"
   },
   {
    "duration": 886,
    "start_time": "2021-09-18T16:54:26.681Z"
   },
   {
    "duration": 122,
    "start_time": "2021-09-18T16:54:27.448Z"
   },
   {
    "duration": 2038,
    "start_time": "2021-09-18T16:58:18.537Z"
   },
   {
    "duration": 633,
    "start_time": "2021-09-18T17:06:21.880Z"
   },
   {
    "duration": 678,
    "start_time": "2021-09-18T17:06:38.175Z"
   },
   {
    "duration": 11,
    "start_time": "2021-09-18T17:06:39.504Z"
   },
   {
    "duration": 228,
    "start_time": "2021-09-18T17:06:41.112Z"
   },
   {
    "duration": 244,
    "start_time": "2021-09-18T17:07:31.233Z"
   },
   {
    "duration": 13,
    "start_time": "2021-09-18T17:07:36.343Z"
   },
   {
    "duration": 8,
    "start_time": "2021-09-18T17:07:55.847Z"
   },
   {
    "duration": 7301,
    "start_time": "2021-09-18T17:18:10.483Z"
   },
   {
    "duration": 556,
    "start_time": "2021-09-18T17:18:34.863Z"
   },
   {
    "duration": 727,
    "start_time": "2021-09-18T17:18:38.152Z"
   },
   {
    "duration": 6435,
    "start_time": "2021-09-18T17:18:42.297Z"
   },
   {
    "duration": 15,
    "start_time": "2021-09-18T17:19:09.173Z"
   },
   {
    "duration": 9,
    "start_time": "2021-09-18T17:19:11.224Z"
   },
   {
    "duration": 386,
    "start_time": "2021-09-18T17:19:28.374Z"
   },
   {
    "duration": 286,
    "start_time": "2021-09-18T17:19:42.914Z"
   },
   {
    "duration": 982,
    "start_time": "2021-09-18T17:19:54.555Z"
   },
   {
    "duration": 9,
    "start_time": "2021-09-18T17:19:56.424Z"
   },
   {
    "duration": 268,
    "start_time": "2021-09-18T17:20:03.800Z"
   },
   {
    "duration": 7228,
    "start_time": "2021-09-18T17:21:42.719Z"
   },
   {
    "duration": 13,
    "start_time": "2021-09-18T17:22:06.549Z"
   },
   {
    "duration": 6610,
    "start_time": "2021-09-18T17:23:31.373Z"
   },
   {
    "duration": 9,
    "start_time": "2021-09-18T17:23:54.648Z"
   },
   {
    "duration": 714,
    "start_time": "2021-09-18T17:24:06.050Z"
   },
   {
    "duration": 11,
    "start_time": "2021-09-18T17:24:07.270Z"
   },
   {
    "duration": 11,
    "start_time": "2021-09-18T17:24:12.034Z"
   },
   {
    "duration": 7484,
    "start_time": "2021-09-18T17:24:14.558Z"
   },
   {
    "duration": 8,
    "start_time": "2021-09-18T17:24:29.102Z"
   },
   {
    "duration": 622,
    "start_time": "2021-09-18T17:24:42.998Z"
   },
   {
    "duration": 11,
    "start_time": "2021-09-18T17:24:44.075Z"
   },
   {
    "duration": 254,
    "start_time": "2021-09-18T17:24:44.774Z"
   },
   {
    "duration": 10,
    "start_time": "2021-09-18T17:24:46.727Z"
   },
   {
    "duration": 9,
    "start_time": "2021-09-18T17:24:47.524Z"
   },
   {
    "duration": 396,
    "start_time": "2021-09-18T17:24:49.074Z"
   },
   {
    "duration": 341,
    "start_time": "2021-09-18T17:25:37.234Z"
   },
   {
    "duration": 9,
    "start_time": "2021-09-18T17:25:48.308Z"
   },
   {
    "duration": 14,
    "start_time": "2021-09-18T17:26:01.312Z"
   },
   {
    "duration": 9,
    "start_time": "2021-09-18T17:26:09.949Z"
   },
   {
    "duration": 286,
    "start_time": "2021-09-18T17:28:12.659Z"
   },
   {
    "duration": 308,
    "start_time": "2021-09-18T17:28:18.120Z"
   },
   {
    "duration": 593,
    "start_time": "2021-09-18T17:28:26.357Z"
   },
   {
    "duration": 20,
    "start_time": "2021-09-18T17:29:05.737Z"
   },
   {
    "duration": 30,
    "start_time": "2021-09-18T17:29:15.118Z"
   },
   {
    "duration": 285,
    "start_time": "2021-09-18T17:30:23.996Z"
   },
   {
    "duration": 6,
    "start_time": "2021-09-18T17:31:02.009Z"
   },
   {
    "duration": 702,
    "start_time": "2021-09-18T17:31:24.356Z"
   },
   {
    "duration": 608,
    "start_time": "2021-09-18T17:31:27.863Z"
   },
   {
    "duration": 30,
    "start_time": "2021-09-18T17:31:31.837Z"
   },
   {
    "duration": 557,
    "start_time": "2021-09-18T17:31:33.559Z"
   },
   {
    "duration": 600,
    "start_time": "2021-09-18T17:31:46.695Z"
   },
   {
    "duration": 30,
    "start_time": "2021-09-18T17:32:06.333Z"
   },
   {
    "duration": 662,
    "start_time": "2021-09-18T17:32:10.634Z"
   },
   {
    "duration": 655,
    "start_time": "2021-09-18T17:32:24.315Z"
   },
   {
    "duration": 35,
    "start_time": "2021-09-18T17:32:43.507Z"
   },
   {
    "duration": 6809,
    "start_time": "2021-09-18T17:32:46.010Z"
   },
   {
    "duration": 564,
    "start_time": "2021-09-18T17:32:55.388Z"
   },
   {
    "duration": 35,
    "start_time": "2021-09-18T17:33:36.112Z"
   },
   {
    "duration": 29,
    "start_time": "2021-09-18T17:33:47.155Z"
   },
   {
    "duration": 593,
    "start_time": "2021-09-18T17:34:16.549Z"
   },
   {
    "duration": 7,
    "start_time": "2021-09-18T17:34:38.148Z"
   },
   {
    "duration": 28,
    "start_time": "2021-09-18T17:35:00.472Z"
   },
   {
    "duration": 584,
    "start_time": "2021-09-18T17:35:05.471Z"
   },
   {
    "duration": 8,
    "start_time": "2021-09-18T17:35:09.648Z"
   },
   {
    "duration": 577,
    "start_time": "2021-09-18T17:35:24.650Z"
   },
   {
    "duration": 6,
    "start_time": "2021-09-18T17:35:27.761Z"
   },
   {
    "duration": 583,
    "start_time": "2021-09-18T17:35:46.338Z"
   },
   {
    "duration": 6,
    "start_time": "2021-09-18T17:35:50.673Z"
   },
   {
    "duration": 600,
    "start_time": "2021-09-18T17:36:29.101Z"
   },
   {
    "duration": 603,
    "start_time": "2021-09-18T17:37:10.367Z"
   },
   {
    "duration": 571,
    "start_time": "2021-09-18T17:38:05.415Z"
   },
   {
    "duration": 572,
    "start_time": "2021-09-18T17:38:34.664Z"
   },
   {
    "duration": 35,
    "start_time": "2021-09-18T17:38:54.874Z"
   },
   {
    "duration": 649,
    "start_time": "2021-09-18T17:39:43.043Z"
   },
   {
    "duration": 271,
    "start_time": "2021-09-18T17:39:48.617Z"
   },
   {
    "duration": 35,
    "start_time": "2021-09-18T17:39:57.100Z"
   },
   {
    "duration": 8,
    "start_time": "2021-09-18T17:40:03.594Z"
   },
   {
    "duration": 37,
    "start_time": "2021-09-18T17:41:02.325Z"
   },
   {
    "duration": 7,
    "start_time": "2021-09-18T17:41:04.170Z"
   },
   {
    "duration": 282,
    "start_time": "2021-09-18T17:41:06.017Z"
   },
   {
    "duration": 589,
    "start_time": "2021-09-18T17:41:13.118Z"
   },
   {
    "duration": 712,
    "start_time": "2021-09-18T17:41:19.630Z"
   },
   {
    "duration": 34,
    "start_time": "2021-09-18T17:41:28.476Z"
   },
   {
    "duration": 602,
    "start_time": "2021-09-18T17:42:05.352Z"
   },
   {
    "duration": 870,
    "start_time": "2021-09-18T17:42:28.323Z"
   },
   {
    "duration": 9,
    "start_time": "2021-09-18T17:42:32.673Z"
   },
   {
    "duration": 274,
    "start_time": "2021-09-18T17:42:34.686Z"
   },
   {
    "duration": 8,
    "start_time": "2021-09-18T17:42:38.284Z"
   },
   {
    "duration": 8,
    "start_time": "2021-09-18T17:42:41.122Z"
   },
   {
    "duration": 252,
    "start_time": "2021-09-18T17:43:23.317Z"
   },
   {
    "duration": 15,
    "start_time": "2021-09-18T17:44:04.408Z"
   },
   {
    "duration": 8,
    "start_time": "2021-09-18T17:44:09.485Z"
   },
   {
    "duration": 7,
    "start_time": "2021-09-18T17:44:36.439Z"
   },
   {
    "duration": 609,
    "start_time": "2021-09-18T17:44:42.885Z"
   },
   {
    "duration": 11,
    "start_time": "2021-09-18T17:44:44.046Z"
   },
   {
    "duration": 15,
    "start_time": "2021-09-18T17:44:47.519Z"
   },
   {
    "duration": 8,
    "start_time": "2021-09-18T17:45:22.610Z"
   },
   {
    "duration": 8,
    "start_time": "2021-09-18T17:45:23.867Z"
   },
   {
    "duration": 30,
    "start_time": "2021-09-18T17:47:51.140Z"
   },
   {
    "duration": 680,
    "start_time": "2021-09-18T17:48:17.266Z"
   },
   {
    "duration": 699,
    "start_time": "2021-09-18T17:48:23.780Z"
   },
   {
    "duration": 713,
    "start_time": "2021-09-18T17:48:38.674Z"
   },
   {
    "duration": 10,
    "start_time": "2021-09-18T17:48:56.879Z"
   },
   {
    "duration": 286,
    "start_time": "2021-09-18T17:48:57.621Z"
   },
   {
    "duration": 14,
    "start_time": "2021-09-18T17:49:45.982Z"
   },
   {
    "duration": 292,
    "start_time": "2021-09-18T17:49:53.862Z"
   },
   {
    "duration": 10,
    "start_time": "2021-09-18T17:50:01.015Z"
   },
   {
    "duration": 15,
    "start_time": "2021-09-18T17:50:08.755Z"
   },
   {
    "duration": 297,
    "start_time": "2021-09-18T17:58:20.463Z"
   },
   {
    "duration": 258,
    "start_time": "2021-09-18T17:58:58.905Z"
   },
   {
    "duration": 266,
    "start_time": "2021-09-18T17:59:05.627Z"
   },
   {
    "duration": 77,
    "start_time": "2021-09-18T17:59:05.819Z"
   },
   {
    "duration": 963,
    "start_time": "2021-09-18T17:59:11.425Z"
   },
   {
    "duration": 11,
    "start_time": "2021-09-18T17:59:12.715Z"
   },
   {
    "duration": 495,
    "start_time": "2021-09-18T17:59:13.838Z"
   },
   {
    "duration": 12,
    "start_time": "2021-09-18T17:59:25.805Z"
   },
   {
    "duration": 9,
    "start_time": "2021-09-18T17:59:29.594Z"
   },
   {
    "duration": 11,
    "start_time": "2021-09-18T17:59:35.750Z"
   },
   {
    "duration": 16,
    "start_time": "2021-09-18T17:59:36.734Z"
   },
   {
    "duration": 425,
    "start_time": "2021-09-19T10:16:53.254Z"
   },
   {
    "duration": 1557,
    "start_time": "2021-09-19T10:16:57.874Z"
   },
   {
    "duration": 5,
    "start_time": "2021-09-19T10:17:00.091Z"
   },
   {
    "duration": 59,
    "start_time": "2021-09-19T10:17:00.456Z"
   },
   {
    "duration": 17,
    "start_time": "2021-09-19T10:17:00.629Z"
   },
   {
    "duration": 69,
    "start_time": "2021-09-19T10:17:00.788Z"
   },
   {
    "duration": 14,
    "start_time": "2021-09-19T10:17:00.952Z"
   },
   {
    "duration": 30,
    "start_time": "2021-09-19T10:17:01.116Z"
   },
   {
    "duration": 528,
    "start_time": "2021-09-19T10:17:01.773Z"
   },
   {
    "duration": 413,
    "start_time": "2021-09-19T10:17:02.304Z"
   },
   {
    "duration": 19,
    "start_time": "2021-09-19T10:17:02.730Z"
   },
   {
    "duration": 600,
    "start_time": "2021-09-19T10:17:03.210Z"
   },
   {
    "duration": 503,
    "start_time": "2021-09-19T10:17:03.812Z"
   },
   {
    "duration": 1255,
    "start_time": "2021-09-19T10:17:04.318Z"
   },
   {
    "duration": 4,
    "start_time": "2021-09-19T10:17:05.575Z"
   },
   {
    "duration": 22,
    "start_time": "2021-09-19T10:17:05.582Z"
   },
   {
    "duration": 9,
    "start_time": "2021-09-19T10:17:05.607Z"
   },
   {
    "duration": 9,
    "start_time": "2021-09-19T10:17:05.619Z"
   },
   {
    "duration": 96,
    "start_time": "2021-09-19T10:17:05.631Z"
   },
   {
    "duration": 14,
    "start_time": "2021-09-19T10:17:08.511Z"
   },
   {
    "duration": 24,
    "start_time": "2021-09-19T10:17:10.599Z"
   },
   {
    "duration": 29,
    "start_time": "2021-09-19T10:17:20.847Z"
   },
   {
    "duration": 25,
    "start_time": "2021-09-19T10:27:27.801Z"
   },
   {
    "duration": 639,
    "start_time": "2021-09-19T10:27:28.817Z"
   },
   {
    "duration": 1071,
    "start_time": "2021-09-19T10:27:32.366Z"
   },
   {
    "duration": 11,
    "start_time": "2021-09-19T10:27:43.125Z"
   },
   {
    "duration": 12,
    "start_time": "2021-09-19T10:28:13.823Z"
   },
   {
    "duration": 12,
    "start_time": "2021-09-19T10:28:15.056Z"
   },
   {
    "duration": 11,
    "start_time": "2021-09-19T10:29:46.233Z"
   },
   {
    "duration": 15,
    "start_time": "2021-09-19T10:30:10.197Z"
   },
   {
    "duration": 9,
    "start_time": "2021-09-19T10:30:28.768Z"
   },
   {
    "duration": 4,
    "start_time": "2021-09-19T10:40:07.191Z"
   },
   {
    "duration": 20,
    "start_time": "2021-09-19T10:40:08.041Z"
   },
   {
    "duration": 6,
    "start_time": "2021-09-19T10:40:08.660Z"
   },
   {
    "duration": 4,
    "start_time": "2021-09-19T10:40:09.344Z"
   },
   {
    "duration": 76,
    "start_time": "2021-09-19T10:40:09.827Z"
   },
   {
    "duration": 14,
    "start_time": "2021-09-19T10:40:10.472Z"
   },
   {
    "duration": 23,
    "start_time": "2021-09-19T10:40:17.712Z"
   },
   {
    "duration": 1091,
    "start_time": "2021-09-19T10:40:24.030Z"
   },
   {
    "duration": 9,
    "start_time": "2021-09-19T10:40:25.123Z"
   },
   {
    "duration": 10,
    "start_time": "2021-09-19T10:40:28.061Z"
   },
   {
    "duration": 13,
    "start_time": "2021-09-19T10:40:29.100Z"
   },
   {
    "duration": 283,
    "start_time": "2021-09-19T10:53:18.233Z"
   },
   {
    "duration": 382,
    "start_time": "2021-09-19T10:53:19.448Z"
   },
   {
    "duration": 25,
    "start_time": "2021-09-19T10:53:26.291Z"
   },
   {
    "duration": 4,
    "start_time": "2021-09-19T10:54:57.667Z"
   },
   {
    "duration": 5,
    "start_time": "2021-09-19T10:54:58.064Z"
   },
   {
    "duration": 58,
    "start_time": "2021-09-19T10:54:58.635Z"
   },
   {
    "duration": 13,
    "start_time": "2021-09-19T10:54:58.815Z"
   },
   {
    "duration": 66,
    "start_time": "2021-09-19T10:54:58.972Z"
   },
   {
    "duration": 14,
    "start_time": "2021-09-19T10:54:59.130Z"
   },
   {
    "duration": 28,
    "start_time": "2021-09-19T10:54:59.287Z"
   },
   {
    "duration": 513,
    "start_time": "2021-09-19T10:54:59.916Z"
   },
   {
    "duration": 395,
    "start_time": "2021-09-19T10:55:01.657Z"
   },
   {
    "duration": 13,
    "start_time": "2021-09-19T10:55:04.022Z"
   },
   {
    "duration": 619,
    "start_time": "2021-09-19T10:55:05.828Z"
   },
   {
    "duration": 495,
    "start_time": "2021-09-19T10:55:06.450Z"
   },
   {
    "duration": 1154,
    "start_time": "2021-09-19T10:55:07.835Z"
   },
   {
    "duration": 285,
    "start_time": "2021-09-19T10:55:16.407Z"
   },
   {
    "duration": 276,
    "start_time": "2021-09-19T10:55:17.727Z"
   },
   {
    "duration": 24,
    "start_time": "2021-09-19T10:55:19.627Z"
   },
   {
    "duration": 518,
    "start_time": "2021-09-19T10:57:55.346Z"
   },
   {
    "duration": 24,
    "start_time": "2021-09-19T10:58:01.152Z"
   },
   {
    "duration": 15,
    "start_time": "2021-09-19T10:58:20.195Z"
   },
   {
    "duration": 29,
    "start_time": "2021-09-19T11:00:27.449Z"
   },
   {
    "duration": 541,
    "start_time": "2021-09-19T11:01:36.568Z"
   },
   {
    "duration": 276,
    "start_time": "2021-09-19T11:01:42.768Z"
   },
   {
    "duration": 267,
    "start_time": "2021-09-19T11:01:43.820Z"
   },
   {
    "duration": 474,
    "start_time": "2021-09-19T11:01:44.274Z"
   },
   {
    "duration": 391,
    "start_time": "2021-09-19T11:01:45.309Z"
   },
   {
    "duration": 10,
    "start_time": "2021-09-19T11:02:51.993Z"
   },
   {
    "duration": 14,
    "start_time": "2021-09-19T11:03:03.116Z"
   },
   {
    "duration": 27,
    "start_time": "2021-09-19T11:03:12.544Z"
   },
   {
    "duration": 515,
    "start_time": "2021-09-19T11:05:37.663Z"
   },
   {
    "duration": 525,
    "start_time": "2021-09-19T11:06:13.018Z"
   },
   {
    "duration": 530,
    "start_time": "2021-09-19T11:06:45.797Z"
   },
   {
    "duration": 552,
    "start_time": "2021-09-19T11:07:34.125Z"
   },
   {
    "duration": 1077,
    "start_time": "2021-09-19T11:08:58.954Z"
   },
   {
    "duration": 774,
    "start_time": "2021-09-19T11:09:37.252Z"
   },
   {
    "duration": 548,
    "start_time": "2021-09-19T11:09:43.967Z"
   },
   {
    "duration": 552,
    "start_time": "2021-09-19T11:10:30.965Z"
   },
   {
    "duration": 1056,
    "start_time": "2021-09-19T11:10:45.675Z"
   },
   {
    "duration": 10,
    "start_time": "2021-09-19T11:10:49.287Z"
   },
   {
    "duration": 9,
    "start_time": "2021-09-19T11:10:50.952Z"
   },
   {
    "duration": 11690,
    "start_time": "2021-09-19T11:12:53.003Z"
   },
   {
    "duration": 882,
    "start_time": "2021-09-19T11:13:31.837Z"
   },
   {
    "duration": 10,
    "start_time": "2021-09-19T11:13:33.429Z"
   },
   {
    "duration": 8,
    "start_time": "2021-09-19T11:13:34.252Z"
   },
   {
    "duration": 11323,
    "start_time": "2021-09-19T11:13:36.613Z"
   },
   {
    "duration": 775,
    "start_time": "2021-09-19T11:14:31.379Z"
   },
   {
    "duration": 10,
    "start_time": "2021-09-19T11:14:32.730Z"
   },
   {
    "duration": 9,
    "start_time": "2021-09-19T11:14:33.920Z"
   },
   {
    "duration": 84,
    "start_time": "2021-09-19T11:14:41.411Z"
   },
   {
    "duration": 171,
    "start_time": "2021-09-19T11:15:33.700Z"
   },
   {
    "duration": 18,
    "start_time": "2021-09-19T11:15:40.132Z"
   },
   {
    "duration": 11,
    "start_time": "2021-09-19T11:16:18.466Z"
   },
   {
    "duration": 20,
    "start_time": "2021-09-19T11:16:20.286Z"
   },
   {
    "duration": 4,
    "start_time": "2021-09-19T11:18:04.373Z"
   },
   {
    "duration": 5,
    "start_time": "2021-09-19T11:18:04.928Z"
   },
   {
    "duration": 59,
    "start_time": "2021-09-19T11:18:05.515Z"
   },
   {
    "duration": 14,
    "start_time": "2021-09-19T11:18:05.722Z"
   },
   {
    "duration": 67,
    "start_time": "2021-09-19T11:18:06.020Z"
   },
   {
    "duration": 12,
    "start_time": "2021-09-19T11:18:06.627Z"
   },
   {
    "duration": 27,
    "start_time": "2021-09-19T11:18:06.993Z"
   },
   {
    "duration": 528,
    "start_time": "2021-09-19T11:18:08.905Z"
   },
   {
    "duration": 402,
    "start_time": "2021-09-19T11:18:09.435Z"
   },
   {
    "duration": 26,
    "start_time": "2021-09-19T11:18:09.840Z"
   },
   {
    "duration": 660,
    "start_time": "2021-09-19T11:18:10.221Z"
   },
   {
    "duration": 511,
    "start_time": "2021-09-19T11:18:10.884Z"
   },
   {
    "duration": 1266,
    "start_time": "2021-09-19T11:18:11.923Z"
   },
   {
    "duration": 387,
    "start_time": "2021-09-19T11:18:17.140Z"
   },
   {
    "duration": 15,
    "start_time": "2021-09-19T11:19:03.527Z"
   },
   {
    "duration": 18,
    "start_time": "2021-09-19T11:19:23.780Z"
   },
   {
    "duration": 20,
    "start_time": "2021-09-19T11:19:40.229Z"
   },
   {
    "duration": 541,
    "start_time": "2021-09-19T11:19:42.018Z"
   },
   {
    "duration": 25,
    "start_time": "2021-09-19T11:19:53.361Z"
   },
   {
    "duration": 565,
    "start_time": "2021-09-19T11:19:55.266Z"
   },
   {
    "duration": 12,
    "start_time": "2021-09-19T11:20:12.238Z"
   },
   {
    "duration": 15,
    "start_time": "2021-09-19T11:20:16.624Z"
   },
   {
    "duration": 19,
    "start_time": "2021-09-19T11:20:25.820Z"
   },
   {
    "duration": 1034,
    "start_time": "2021-09-19T11:21:05.284Z"
   },
   {
    "duration": 10,
    "start_time": "2021-09-19T11:21:06.352Z"
   },
   {
    "duration": 8,
    "start_time": "2021-09-19T11:21:07.043Z"
   },
   {
    "duration": 10,
    "start_time": "2021-09-19T11:21:29.900Z"
   },
   {
    "duration": 18,
    "start_time": "2021-09-19T11:21:31.334Z"
   },
   {
    "duration": 10,
    "start_time": "2021-09-19T11:22:44.499Z"
   },
   {
    "duration": 14,
    "start_time": "2021-09-19T11:22:45.088Z"
   },
   {
    "duration": 19,
    "start_time": "2021-09-19T11:22:49.321Z"
   },
   {
    "duration": 413,
    "start_time": "2021-09-19T11:23:12.322Z"
   },
   {
    "duration": 10,
    "start_time": "2021-09-19T11:23:45.161Z"
   },
   {
    "duration": 15,
    "start_time": "2021-09-19T11:23:46.934Z"
   },
   {
    "duration": 21,
    "start_time": "2021-09-19T11:23:48.088Z"
   },
   {
    "duration": 11,
    "start_time": "2021-09-19T11:24:02.620Z"
   },
   {
    "duration": 14,
    "start_time": "2021-09-19T11:24:12.386Z"
   },
   {
    "duration": 10,
    "start_time": "2021-09-19T11:24:23.294Z"
   },
   {
    "duration": 14,
    "start_time": "2021-09-19T11:24:24.328Z"
   },
   {
    "duration": 20,
    "start_time": "2021-09-19T11:24:32.208Z"
   },
   {
    "duration": 595,
    "start_time": "2021-09-19T11:24:34.355Z"
   },
   {
    "duration": 672,
    "start_time": "2021-09-19T11:24:55.872Z"
   },
   {
    "duration": 819,
    "start_time": "2021-09-19T11:25:03.919Z"
   },
   {
    "duration": 14,
    "start_time": "2021-09-19T11:25:04.740Z"
   },
   {
    "duration": 9,
    "start_time": "2021-09-19T11:25:05.959Z"
   },
   {
    "duration": 81,
    "start_time": "2021-09-19T11:25:06.579Z"
   },
   {
    "duration": 839,
    "start_time": "2021-09-19T11:25:12.620Z"
   },
   {
    "duration": 9,
    "start_time": "2021-09-19T11:25:13.461Z"
   },
   {
    "duration": 10,
    "start_time": "2021-09-19T11:25:16.247Z"
   },
   {
    "duration": 17,
    "start_time": "2021-09-19T11:25:17.333Z"
   },
   {
    "duration": 12,
    "start_time": "2021-09-19T11:27:41.208Z"
   },
   {
    "duration": 1034,
    "start_time": "2021-09-19T11:28:01.845Z"
   },
   {
    "duration": 546,
    "start_time": "2021-09-19T11:28:20.149Z"
   },
   {
    "duration": 1485,
    "start_time": "2021-09-19T11:29:40.450Z"
   },
   {
    "duration": 3864,
    "start_time": "2021-09-19T11:30:17.134Z"
   },
   {
    "duration": 409,
    "start_time": "2021-09-19T11:30:46.152Z"
   },
   {
    "duration": 14,
    "start_time": "2021-09-19T11:30:52.683Z"
   },
   {
    "duration": 5,
    "start_time": "2021-09-19T11:30:58.136Z"
   },
   {
    "duration": 2132,
    "start_time": "2021-09-19T11:31:04.961Z"
   },
   {
    "duration": 600,
    "start_time": "2021-09-19T11:31:22.523Z"
   },
   {
    "duration": 421,
    "start_time": "2021-09-19T11:33:37.061Z"
   },
   {
    "duration": 401,
    "start_time": "2021-09-19T11:33:55.609Z"
   },
   {
    "duration": 566,
    "start_time": "2021-09-19T11:35:14.868Z"
   },
   {
    "duration": 15,
    "start_time": "2021-09-19T11:36:39.550Z"
   },
   {
    "duration": 5,
    "start_time": "2021-09-19T11:36:42.340Z"
   },
   {
    "duration": 669,
    "start_time": "2021-09-19T11:37:09.447Z"
   },
   {
    "duration": 751,
    "start_time": "2021-09-19T11:37:32.923Z"
   },
   {
    "duration": 515,
    "start_time": "2021-09-19T11:37:48.113Z"
   },
   {
    "duration": 545,
    "start_time": "2021-09-19T11:42:00.964Z"
   },
   {
    "duration": 14,
    "start_time": "2021-09-19T11:42:21.879Z"
   },
   {
    "duration": 5,
    "start_time": "2021-09-19T11:42:23.391Z"
   },
   {
    "duration": 22,
    "start_time": "2021-09-19T11:59:38.643Z"
   },
   {
    "duration": 13,
    "start_time": "2021-09-19T12:02:58.706Z"
   },
   {
    "duration": 10,
    "start_time": "2021-09-19T12:03:44.754Z"
   },
   {
    "duration": 18,
    "start_time": "2021-09-19T12:03:51.987Z"
   },
   {
    "duration": 20,
    "start_time": "2021-09-19T12:05:00.693Z"
   },
   {
    "duration": 5,
    "start_time": "2021-09-19T12:05:07.102Z"
   },
   {
    "duration": 6,
    "start_time": "2021-09-19T12:05:07.834Z"
   },
   {
    "duration": 55,
    "start_time": "2021-09-19T12:05:08.190Z"
   },
   {
    "duration": 14,
    "start_time": "2021-09-19T12:05:08.342Z"
   },
   {
    "duration": 67,
    "start_time": "2021-09-19T12:05:08.490Z"
   },
   {
    "duration": 12,
    "start_time": "2021-09-19T12:05:08.650Z"
   },
   {
    "duration": 27,
    "start_time": "2021-09-19T12:05:08.806Z"
   },
   {
    "duration": 529,
    "start_time": "2021-09-19T12:05:09.427Z"
   },
   {
    "duration": 397,
    "start_time": "2021-09-19T12:05:09.959Z"
   },
   {
    "duration": 14,
    "start_time": "2021-09-19T12:05:10.370Z"
   },
   {
    "duration": 602,
    "start_time": "2021-09-19T12:05:10.836Z"
   },
   {
    "duration": 510,
    "start_time": "2021-09-19T12:05:11.440Z"
   },
   {
    "duration": 1167,
    "start_time": "2021-09-19T12:05:11.957Z"
   },
   {
    "duration": 305,
    "start_time": "2021-09-19T12:05:13.126Z"
   },
   {
    "duration": 22,
    "start_time": "2021-09-19T12:05:13.433Z"
   },
   {
    "duration": 14,
    "start_time": "2021-09-19T12:05:13.458Z"
   },
   {
    "duration": 21,
    "start_time": "2021-09-19T12:05:13.475Z"
   },
   {
    "duration": 598,
    "start_time": "2021-09-19T12:05:13.499Z"
   },
   {
    "duration": 4,
    "start_time": "2021-09-19T12:05:14.099Z"
   },
   {
    "duration": 17,
    "start_time": "2021-09-19T12:05:14.105Z"
   },
   {
    "duration": 1188,
    "start_time": "2021-09-19T12:05:14.124Z"
   },
   {
    "duration": 10,
    "start_time": "2021-09-19T12:05:15.314Z"
   },
   {
    "duration": 15,
    "start_time": "2021-09-19T12:05:15.330Z"
   },
   {
    "duration": 14,
    "start_time": "2021-09-19T12:05:15.349Z"
   },
   {
    "duration": 20,
    "start_time": "2021-09-19T12:05:15.366Z"
   },
   {
    "duration": 17,
    "start_time": "2021-09-19T12:05:15.389Z"
   },
   {
    "duration": 4,
    "start_time": "2021-09-19T12:05:15.409Z"
   },
   {
    "duration": 47,
    "start_time": "2021-09-19T12:05:15.415Z"
   },
   {
    "duration": 18,
    "start_time": "2021-09-19T12:05:15.464Z"
   },
   {
    "duration": 527,
    "start_time": "2021-09-19T12:05:15.484Z"
   },
   {
    "duration": 707,
    "start_time": "2021-09-19T12:05:16.014Z"
   },
   {
    "duration": 2878,
    "start_time": "2021-09-20T05:29:12.744Z"
   },
   {
    "duration": 3,
    "start_time": "2021-09-20T05:29:15.624Z"
   },
   {
    "duration": 54,
    "start_time": "2021-09-20T05:29:15.629Z"
   },
   {
    "duration": 12,
    "start_time": "2021-09-20T05:29:15.685Z"
   },
   {
    "duration": 85,
    "start_time": "2021-09-20T05:29:15.699Z"
   },
   {
    "duration": 13,
    "start_time": "2021-09-20T05:29:15.786Z"
   },
   {
    "duration": 30,
    "start_time": "2021-09-20T05:29:15.801Z"
   },
   {
    "duration": 475,
    "start_time": "2021-09-20T05:29:15.835Z"
   },
   {
    "duration": 331,
    "start_time": "2021-09-20T05:29:16.312Z"
   },
   {
    "duration": 15,
    "start_time": "2021-09-20T05:29:16.646Z"
   },
   {
    "duration": 374,
    "start_time": "2021-09-20T05:29:16.663Z"
   },
   {
    "duration": 332,
    "start_time": "2021-09-20T05:29:17.038Z"
   },
   {
    "duration": 675,
    "start_time": "2021-09-20T05:29:17.377Z"
   },
   {
    "duration": 179,
    "start_time": "2021-09-20T05:29:18.054Z"
   },
   {
    "duration": 230,
    "start_time": "2021-09-20T05:29:18.235Z"
   },
   {
    "duration": 10,
    "start_time": "2021-09-20T05:29:18.467Z"
   },
   {
    "duration": 17,
    "start_time": "2021-09-20T05:29:18.478Z"
   },
   {
    "duration": 414,
    "start_time": "2021-09-20T05:29:18.496Z"
   },
   {
    "duration": 2,
    "start_time": "2021-09-20T05:29:18.912Z"
   },
   {
    "duration": 5,
    "start_time": "2021-09-20T05:29:18.916Z"
   },
   {
    "duration": 1012,
    "start_time": "2021-09-20T05:29:18.923Z"
   },
   {
    "duration": 7,
    "start_time": "2021-09-20T05:29:19.937Z"
   },
   {
    "duration": 14,
    "start_time": "2021-09-20T05:29:19.948Z"
   },
   {
    "duration": 22,
    "start_time": "2021-09-20T05:29:19.963Z"
   },
   {
    "duration": 31,
    "start_time": "2021-09-20T05:29:19.987Z"
   },
   {
    "duration": 16,
    "start_time": "2021-09-20T05:29:20.020Z"
   },
   {
    "duration": 27,
    "start_time": "2021-09-20T05:29:20.038Z"
   },
   {
    "duration": 20,
    "start_time": "2021-09-20T05:29:20.067Z"
   },
   {
    "duration": 21,
    "start_time": "2021-09-20T05:29:20.089Z"
   },
   {
    "duration": 298,
    "start_time": "2021-09-20T05:29:20.112Z"
   },
   {
    "duration": 433,
    "start_time": "2021-09-20T05:29:20.412Z"
   },
   {
    "duration": 1081,
    "start_time": "2021-09-20T06:53:31.734Z"
   },
   {
    "duration": 4,
    "start_time": "2021-09-20T06:53:34.042Z"
   },
   {
    "duration": 46,
    "start_time": "2021-09-20T06:53:34.498Z"
   },
   {
    "duration": 13,
    "start_time": "2021-09-20T06:53:34.669Z"
   },
   {
    "duration": 48,
    "start_time": "2021-09-20T06:53:34.839Z"
   },
   {
    "duration": 11,
    "start_time": "2021-09-20T06:53:35.157Z"
   },
   {
    "duration": 20,
    "start_time": "2021-09-20T06:53:36.716Z"
   },
   {
    "duration": 317,
    "start_time": "2021-09-20T06:53:40.531Z"
   },
   {
    "duration": 149,
    "start_time": "2021-09-20T06:53:41.780Z"
   },
   {
    "duration": 15,
    "start_time": "2021-09-20T11:50:53.514Z"
   },
   {
    "duration": 7,
    "start_time": "2021-09-20T11:51:10.780Z"
   },
   {
    "duration": 6,
    "start_time": "2021-09-20T11:51:42.962Z"
   },
   {
    "duration": 8,
    "start_time": "2021-09-20T11:53:00.048Z"
   },
   {
    "duration": 15,
    "start_time": "2021-09-20T11:56:46.674Z"
   },
   {
    "duration": 6,
    "start_time": "2021-09-20T11:57:15.945Z"
   },
   {
    "duration": 5,
    "start_time": "2021-09-20T11:57:20.300Z"
   },
   {
    "duration": 5,
    "start_time": "2021-09-20T11:57:37.307Z"
   },
   {
    "duration": 3,
    "start_time": "2021-09-20T11:58:27.592Z"
   },
   {
    "duration": 3,
    "start_time": "2021-09-20T11:58:28.980Z"
   },
   {
    "duration": 47,
    "start_time": "2021-09-20T11:58:32.606Z"
   },
   {
    "duration": 8,
    "start_time": "2021-09-20T11:58:33.035Z"
   },
   {
    "duration": 52,
    "start_time": "2021-09-20T11:58:33.260Z"
   },
   {
    "duration": 9,
    "start_time": "2021-09-20T11:58:33.597Z"
   },
   {
    "duration": 20,
    "start_time": "2021-09-20T11:58:33.742Z"
   },
   {
    "duration": 6,
    "start_time": "2021-09-20T11:58:34.354Z"
   },
   {
    "duration": 6,
    "start_time": "2021-09-20T11:58:34.690Z"
   },
   {
    "duration": 326,
    "start_time": "2021-09-20T11:58:36.675Z"
   },
   {
    "duration": 145,
    "start_time": "2021-09-20T11:58:39.809Z"
   },
   {
    "duration": 202,
    "start_time": "2021-09-20T11:59:44.260Z"
   },
   {
    "duration": 161,
    "start_time": "2021-09-20T12:03:04.673Z"
   },
   {
    "duration": 161,
    "start_time": "2021-09-20T12:04:05.909Z"
   },
   {
    "duration": 414,
    "start_time": "2021-09-20T12:04:12.864Z"
   },
   {
    "duration": 156,
    "start_time": "2021-09-20T12:04:18.011Z"
   },
   {
    "duration": 161,
    "start_time": "2021-09-20T12:04:24.258Z"
   },
   {
    "duration": 322,
    "start_time": "2021-09-20T12:04:46.537Z"
   },
   {
    "duration": 341,
    "start_time": "2021-09-20T12:05:30.692Z"
   },
   {
    "duration": 9,
    "start_time": "2021-09-20T12:06:30.576Z"
   },
   {
    "duration": 5,
    "start_time": "2021-09-20T12:06:31.206Z"
   },
   {
    "duration": 8,
    "start_time": "2021-09-20T12:06:31.895Z"
   },
   {
    "duration": 376,
    "start_time": "2021-09-20T12:19:13.111Z"
   },
   {
    "duration": 380,
    "start_time": "2021-09-20T12:19:21.734Z"
   },
   {
    "duration": 366,
    "start_time": "2021-09-20T12:20:32.211Z"
   },
   {
    "duration": 8,
    "start_time": "2021-09-20T12:20:43.507Z"
   },
   {
    "duration": 6,
    "start_time": "2021-09-20T12:21:39.918Z"
   },
   {
    "duration": 8,
    "start_time": "2021-09-20T12:21:41.645Z"
   },
   {
    "duration": 347,
    "start_time": "2021-09-20T12:21:44.508Z"
   },
   {
    "duration": 5,
    "start_time": "2021-09-20T12:21:47.593Z"
   },
   {
    "duration": 4,
    "start_time": "2021-09-20T12:21:47.977Z"
   },
   {
    "duration": 8,
    "start_time": "2021-09-20T12:21:48.437Z"
   },
   {
    "duration": 469,
    "start_time": "2021-09-20T12:21:52.686Z"
   },
   {
    "duration": 13,
    "start_time": "2021-09-20T12:23:01.691Z"
   },
   {
    "duration": 6,
    "start_time": "2021-09-20T12:23:25.191Z"
   },
   {
    "duration": 9,
    "start_time": "2021-09-20T12:23:25.722Z"
   },
   {
    "duration": 346,
    "start_time": "2021-09-20T12:23:30.615Z"
   },
   {
    "duration": 6,
    "start_time": "2021-09-20T12:23:33.349Z"
   },
   {
    "duration": 4,
    "start_time": "2021-09-20T12:23:34.542Z"
   },
   {
    "duration": 7,
    "start_time": "2021-09-20T12:23:35.350Z"
   },
   {
    "duration": 364,
    "start_time": "2021-09-20T12:23:43.038Z"
   },
   {
    "duration": 294,
    "start_time": "2021-09-20T12:23:53.260Z"
   },
   {
    "duration": 186,
    "start_time": "2021-09-20T12:24:48.406Z"
   },
   {
    "duration": 59,
    "start_time": "2021-09-20T12:26:23.907Z"
   },
   {
    "duration": 123,
    "start_time": "2021-09-20T12:26:30.857Z"
   },
   {
    "duration": 126,
    "start_time": "2021-09-20T12:26:45.220Z"
   },
   {
    "duration": 131,
    "start_time": "2021-09-20T12:27:32.817Z"
   },
   {
    "duration": 131,
    "start_time": "2021-09-20T12:28:06.690Z"
   },
   {
    "duration": 131,
    "start_time": "2021-09-20T12:28:27.924Z"
   },
   {
    "duration": 199,
    "start_time": "2021-09-20T12:39:29.520Z"
   },
   {
    "duration": 222,
    "start_time": "2021-09-20T12:40:04.911Z"
   },
   {
    "duration": 194,
    "start_time": "2021-09-20T12:40:09.018Z"
   },
   {
    "duration": 667,
    "start_time": "2021-09-20T12:40:17.244Z"
   },
   {
    "duration": 607,
    "start_time": "2021-09-20T12:40:30.303Z"
   },
   {
    "duration": 611,
    "start_time": "2021-09-20T12:41:10.929Z"
   },
   {
    "duration": 668,
    "start_time": "2021-09-20T12:41:26.828Z"
   },
   {
    "duration": 581,
    "start_time": "2021-09-20T12:41:41.226Z"
   },
   {
    "duration": 64,
    "start_time": "2021-09-20T12:46:16.699Z"
   },
   {
    "duration": 163,
    "start_time": "2021-09-20T12:51:20.195Z"
   },
   {
    "duration": 11,
    "start_time": "2021-09-20T12:51:21.525Z"
   },
   {
    "duration": 9,
    "start_time": "2021-09-20T12:51:22.259Z"
   },
   {
    "duration": 218,
    "start_time": "2021-09-20T12:53:11.332Z"
   },
   {
    "duration": 17,
    "start_time": "2021-09-20T12:53:17.741Z"
   },
   {
    "duration": 253,
    "start_time": "2021-09-20T12:53:21.541Z"
   },
   {
    "duration": 1575,
    "start_time": "2021-09-20T12:53:41.433Z"
   },
   {
    "duration": 196,
    "start_time": "2021-09-20T12:54:10.989Z"
   },
   {
    "duration": 369,
    "start_time": "2021-09-20T12:54:18.879Z"
   },
   {
    "duration": 3,
    "start_time": "2021-09-20T12:55:14.045Z"
   },
   {
    "duration": 1019,
    "start_time": "2021-09-20T12:55:14.376Z"
   },
   {
    "duration": 7,
    "start_time": "2021-09-20T12:55:15.397Z"
   },
   {
    "duration": 15,
    "start_time": "2021-09-20T12:55:15.406Z"
   },
   {
    "duration": 12,
    "start_time": "2021-09-20T12:55:15.422Z"
   },
   {
    "duration": 12,
    "start_time": "2021-09-20T12:55:16.368Z"
   },
   {
    "duration": 725,
    "start_time": "2021-09-20T12:56:57.202Z"
   },
   {
    "duration": 357,
    "start_time": "2021-09-20T12:57:04.251Z"
   },
   {
    "duration": 326,
    "start_time": "2021-09-20T12:57:11.494Z"
   },
   {
    "duration": 425,
    "start_time": "2021-09-20T12:57:14.589Z"
   },
   {
    "duration": 414,
    "start_time": "2021-09-20T12:57:50.377Z"
   },
   {
    "duration": 183,
    "start_time": "2021-09-20T13:00:33.035Z"
   },
   {
    "duration": 12,
    "start_time": "2021-09-20T13:00:34.995Z"
   },
   {
    "duration": 5,
    "start_time": "2021-09-20T13:00:35.827Z"
   },
   {
    "duration": 5224,
    "start_time": "2021-09-20T13:00:36.848Z"
   },
   {
    "duration": 9,
    "start_time": "2021-09-20T13:00:55.277Z"
   },
   {
    "duration": 186,
    "start_time": "2021-09-20T13:01:25.201Z"
   },
   {
    "duration": 9,
    "start_time": "2021-09-20T13:01:56.424Z"
   },
   {
    "duration": 4,
    "start_time": "2021-09-20T13:02:02.168Z"
   },
   {
    "duration": 9,
    "start_time": "2021-09-20T13:49:10.197Z"
   },
   {
    "duration": 5,
    "start_time": "2021-09-20T13:49:13.185Z"
   },
   {
    "duration": 100,
    "start_time": "2021-09-20T13:49:22.900Z"
   },
   {
    "duration": 7507,
    "start_time": "2021-09-20T13:49:53.780Z"
   },
   {
    "duration": 176,
    "start_time": "2021-09-20T13:50:12.565Z"
   },
   {
    "duration": 214,
    "start_time": "2021-09-20T13:50:28.782Z"
   },
   {
    "duration": 11,
    "start_time": "2021-09-20T13:50:34.383Z"
   },
   {
    "duration": 8,
    "start_time": "2021-09-20T13:50:59.073Z"
   },
   {
    "duration": 6,
    "start_time": "2021-09-20T13:51:47.632Z"
   },
   {
    "duration": 5,
    "start_time": "2021-09-20T13:52:33.479Z"
   },
   {
    "duration": 5,
    "start_time": "2021-09-20T13:53:01.631Z"
   },
   {
    "duration": 5,
    "start_time": "2021-09-20T13:53:50.970Z"
   },
   {
    "duration": 10,
    "start_time": "2021-09-20T13:55:19.971Z"
   },
   {
    "duration": 195,
    "start_time": "2021-09-20T13:55:22.356Z"
   },
   {
    "duration": 176,
    "start_time": "2021-09-20T13:55:40.411Z"
   },
   {
    "duration": 12,
    "start_time": "2021-09-20T13:55:48.700Z"
   },
   {
    "duration": 10,
    "start_time": "2021-09-20T13:56:04.342Z"
   },
   {
    "duration": 190,
    "start_time": "2021-09-20T13:56:32.685Z"
   },
   {
    "duration": 11,
    "start_time": "2021-09-20T13:56:55.584Z"
   },
   {
    "duration": 10,
    "start_time": "2021-09-20T13:57:08.247Z"
   },
   {
    "duration": 61,
    "start_time": "2021-09-20T13:58:06.189Z"
   },
   {
    "duration": 16,
    "start_time": "2021-09-20T14:02:27.586Z"
   },
   {
    "duration": 1147,
    "start_time": "2021-09-21T05:27:43.977Z"
   },
   {
    "duration": 4,
    "start_time": "2021-09-21T05:27:45.126Z"
   },
   {
    "duration": 48,
    "start_time": "2021-09-21T05:27:45.132Z"
   },
   {
    "duration": 11,
    "start_time": "2021-09-21T05:27:45.182Z"
   },
   {
    "duration": 48,
    "start_time": "2021-09-21T05:27:45.199Z"
   },
   {
    "duration": 10,
    "start_time": "2021-09-21T05:27:45.248Z"
   },
   {
    "duration": 40,
    "start_time": "2021-09-21T05:27:45.259Z"
   },
   {
    "duration": 6,
    "start_time": "2021-09-21T05:27:45.302Z"
   },
   {
    "duration": 8,
    "start_time": "2021-09-21T05:27:45.311Z"
   },
   {
    "duration": 17,
    "start_time": "2021-09-21T05:27:45.321Z"
   },
   {
    "duration": 396,
    "start_time": "2021-09-21T05:27:45.340Z"
   },
   {
    "duration": 139,
    "start_time": "2021-09-21T05:27:45.738Z"
   },
   {
    "duration": 7,
    "start_time": "2021-09-21T05:27:45.878Z"
   },
   {
    "duration": 10,
    "start_time": "2021-09-21T05:27:45.899Z"
   },
   {
    "duration": 382,
    "start_time": "2021-09-21T05:27:45.911Z"
   },
   {
    "duration": 8,
    "start_time": "2021-09-21T05:27:46.295Z"
   },
   {
    "duration": 5,
    "start_time": "2021-09-21T05:27:46.305Z"
   },
   {
    "duration": 11,
    "start_time": "2021-09-21T05:27:46.312Z"
   },
   {
    "duration": 418,
    "start_time": "2021-09-21T05:27:46.325Z"
   },
   {
    "duration": 780,
    "start_time": "2021-09-21T05:27:46.744Z"
   },
   {
    "duration": 329,
    "start_time": "2021-09-21T05:27:47.526Z"
   },
   {
    "duration": 787,
    "start_time": "2021-09-21T05:27:47.857Z"
   },
   {
    "duration": 185,
    "start_time": "2021-09-21T05:27:48.647Z"
   },
   {
    "duration": 9,
    "start_time": "2021-09-21T05:27:48.834Z"
   },
   {
    "duration": 10,
    "start_time": "2021-09-21T05:27:48.845Z"
   },
   {
    "duration": 15,
    "start_time": "2021-09-21T05:27:48.857Z"
   },
   {
    "duration": 394,
    "start_time": "2021-09-21T05:27:48.874Z"
   },
   {
    "duration": 3,
    "start_time": "2021-09-21T05:27:49.269Z"
   },
   {
    "duration": 5,
    "start_time": "2021-09-21T05:27:49.273Z"
   },
   {
    "duration": 985,
    "start_time": "2021-09-21T05:27:49.280Z"
   },
   {
    "duration": 6,
    "start_time": "2021-09-21T05:27:50.267Z"
   },
   {
    "duration": 10,
    "start_time": "2021-09-21T05:27:50.275Z"
   },
   {
    "duration": 10,
    "start_time": "2021-09-21T05:27:50.286Z"
   },
   {
    "duration": 26,
    "start_time": "2021-09-21T05:27:50.297Z"
   },
   {
    "duration": 11,
    "start_time": "2021-09-21T05:27:50.325Z"
   },
   {
    "duration": 3,
    "start_time": "2021-09-21T05:27:50.337Z"
   },
   {
    "duration": 297,
    "start_time": "2021-09-21T05:27:50.342Z"
   },
   {
    "duration": 45,
    "start_time": "2021-09-21T05:27:50.596Z"
   },
   {
    "duration": 42,
    "start_time": "2021-09-21T05:27:50.600Z"
   },
   {
    "duration": 40,
    "start_time": "2021-09-21T05:27:50.603Z"
   },
   {
    "duration": 38,
    "start_time": "2021-09-21T05:27:50.606Z"
   },
   {
    "duration": 35,
    "start_time": "2021-09-21T05:27:50.610Z"
   },
   {
    "duration": 10,
    "start_time": "2021-09-21T05:28:16.671Z"
   },
   {
    "duration": 7,
    "start_time": "2021-09-21T05:28:17.631Z"
   },
   {
    "duration": 7,
    "start_time": "2021-09-21T05:28:19.096Z"
   },
   {
    "duration": 9,
    "start_time": "2021-09-21T05:28:19.328Z"
   },
   {
    "duration": 365,
    "start_time": "2021-09-21T05:28:22.451Z"
   },
   {
    "duration": 475,
    "start_time": "2021-09-21T05:28:23.488Z"
   },
   {
    "duration": 388,
    "start_time": "2021-09-21T05:38:04.279Z"
   },
   {
    "duration": 1686,
    "start_time": "2021-09-21T07:01:57.296Z"
   },
   {
    "duration": 5,
    "start_time": "2021-09-21T07:01:58.985Z"
   },
   {
    "duration": 79,
    "start_time": "2021-09-21T07:01:58.993Z"
   },
   {
    "duration": 18,
    "start_time": "2021-09-21T07:01:59.075Z"
   },
   {
    "duration": 101,
    "start_time": "2021-09-21T07:01:59.096Z"
   },
   {
    "duration": 14,
    "start_time": "2021-09-21T07:01:59.200Z"
   },
   {
    "duration": 50,
    "start_time": "2021-09-21T07:01:59.216Z"
   },
   {
    "duration": 8,
    "start_time": "2021-09-21T07:01:59.269Z"
   },
   {
    "duration": 12,
    "start_time": "2021-09-21T07:01:59.287Z"
   },
   {
    "duration": 64,
    "start_time": "2021-09-21T07:01:59.302Z"
   },
   {
    "duration": 599,
    "start_time": "2021-09-21T07:01:59.369Z"
   },
   {
    "duration": 246,
    "start_time": "2021-09-21T07:01:59.971Z"
   },
   {
    "duration": 15,
    "start_time": "2021-09-21T07:02:00.220Z"
   },
   {
    "duration": 35,
    "start_time": "2021-09-21T07:02:00.238Z"
   },
   {
    "duration": 620,
    "start_time": "2021-09-21T07:02:00.276Z"
   },
   {
    "duration": 9,
    "start_time": "2021-09-21T07:02:00.899Z"
   },
   {
    "duration": 43,
    "start_time": "2021-09-21T07:02:00.911Z"
   },
   {
    "duration": 49,
    "start_time": "2021-09-21T07:02:00.957Z"
   },
   {
    "duration": 710,
    "start_time": "2021-09-21T07:02:01.008Z"
   },
   {
    "duration": 1114,
    "start_time": "2021-09-21T07:02:01.721Z"
   },
   {
    "duration": 556,
    "start_time": "2021-09-21T07:02:02.837Z"
   },
   {
    "duration": 1351,
    "start_time": "2021-09-21T07:02:03.395Z"
   },
   {
    "duration": 315,
    "start_time": "2021-09-21T07:02:04.751Z"
   },
   {
    "duration": 13,
    "start_time": "2021-09-21T07:02:05.069Z"
   },
   {
    "duration": 23,
    "start_time": "2021-09-21T07:02:05.084Z"
   },
   {
    "duration": 41,
    "start_time": "2021-09-21T07:02:05.110Z"
   },
   {
    "duration": 703,
    "start_time": "2021-09-21T07:02:05.153Z"
   },
   {
    "duration": 3,
    "start_time": "2021-09-21T07:02:05.861Z"
   },
   {
    "duration": 20,
    "start_time": "2021-09-21T07:02:05.867Z"
   },
   {
    "duration": 1039,
    "start_time": "2021-09-21T07:02:05.890Z"
   },
   {
    "duration": 11,
    "start_time": "2021-09-21T07:02:06.931Z"
   },
   {
    "duration": 17,
    "start_time": "2021-09-21T07:02:06.945Z"
   },
   {
    "duration": 29,
    "start_time": "2021-09-21T07:02:06.966Z"
   },
   {
    "duration": 51,
    "start_time": "2021-09-21T07:02:06.998Z"
   },
   {
    "duration": 25,
    "start_time": "2021-09-21T07:02:07.052Z"
   },
   {
    "duration": 6,
    "start_time": "2021-09-21T07:02:07.080Z"
   },
   {
    "duration": 22,
    "start_time": "2021-09-21T07:02:07.089Z"
   },
   {
    "duration": 19,
    "start_time": "2021-09-21T07:02:07.113Z"
   },
   {
    "duration": 29,
    "start_time": "2021-09-21T07:02:07.135Z"
   },
   {
    "duration": 15,
    "start_time": "2021-09-21T07:02:07.166Z"
   },
   {
    "duration": 629,
    "start_time": "2021-09-21T07:02:07.183Z"
   },
   {
    "duration": 781,
    "start_time": "2021-09-21T07:02:07.815Z"
   },
   {
    "duration": 7597,
    "start_time": "2021-09-21T09:35:55.642Z"
   },
   {
    "duration": 1255,
    "start_time": "2021-09-21T09:36:25.045Z"
   },
   {
    "duration": 592,
    "start_time": "2021-09-21T09:37:21.244Z"
   },
   {
    "duration": 620,
    "start_time": "2021-09-21T09:37:44.510Z"
   },
   {
    "duration": 772,
    "start_time": "2021-09-21T09:38:37.481Z"
   },
   {
    "duration": 924,
    "start_time": "2021-09-21T09:39:42.002Z"
   },
   {
    "duration": 841,
    "start_time": "2021-09-21T09:40:04.055Z"
   },
   {
    "duration": 865,
    "start_time": "2021-09-21T09:40:26.939Z"
   },
   {
    "duration": 919,
    "start_time": "2021-09-21T09:40:39.943Z"
   },
   {
    "duration": 872,
    "start_time": "2021-09-21T09:40:45.819Z"
   },
   {
    "duration": 1100,
    "start_time": "2021-09-21T09:40:49.817Z"
   },
   {
    "duration": 880,
    "start_time": "2021-09-21T09:40:56.536Z"
   },
   {
    "duration": 814,
    "start_time": "2021-09-21T09:41:05.809Z"
   },
   {
    "duration": 850,
    "start_time": "2021-09-21T09:41:54.844Z"
   },
   {
    "duration": 710,
    "start_time": "2021-09-21T09:42:59.003Z"
   }
  ],
  "kernelspec": {
   "display_name": "Python 3",
   "language": "python",
   "name": "python3"
  },
  "language_info": {
   "codemirror_mode": {
    "name": "ipython",
    "version": 3
   },
   "file_extension": ".py",
   "mimetype": "text/x-python",
   "name": "python",
   "nbconvert_exporter": "python",
   "pygments_lexer": "ipython3",
   "version": "3.7.12"
  },
  "toc": {
   "base_numbering": 1,
   "nav_menu": {},
   "number_sections": true,
   "sideBar": true,
   "skip_h1_title": true,
   "title_cell": "Table of Contents",
   "title_sidebar": "Contents",
   "toc_cell": false,
   "toc_position": {},
   "toc_section_display": true,
   "toc_window_display": false
  }
 },
 "nbformat": 4,
 "nbformat_minor": 2
}
