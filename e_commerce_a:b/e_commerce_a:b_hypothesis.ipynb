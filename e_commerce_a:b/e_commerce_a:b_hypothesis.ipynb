{
 "cells": [
  {
   "cell_type": "markdown",
   "metadata": {},
   "source": [
    "# Проверка гипотез с целью роста выручки интернет-магазина"
   ]
  },
  {
   "cell_type": "markdown",
   "metadata": {},
   "source": [
    "**Цель исследования**\n",
    "- Определить группу с наибольшей выручкой на основе A/B тестов\n",
    "\n",
    "**Данные**\n",
    "- hypothesis - описание гипотезы\n",
    "- reach - охват пользователей по 10-балльной шкале\n",
    "- impact - влияние на пользователей по 10-балльной шкале\n",
    "- confidence - уверенность в гипотезе по 10-балльной шкале\n",
    "- effort - затраты на проверку гипотезы по 10-балльной шкале\n",
    "- transactionId - идентификатора заказа\n",
    "- visitorId - идентификатор пользователя, совершившего заказ\n",
    "- date - дата заказа\n",
    "- revenue - выручка заказа\n",
    "- group - группа A/B-теста, в котороую попал заказ"
   ]
  },
  {
   "cell_type": "markdown",
   "metadata": {},
   "source": [
    "## 1. Обзор данных"
   ]
  },
  {
   "cell_type": "code",
   "execution_count": 3,
   "metadata": {},
   "outputs": [],
   "source": [
    "import pandas as pd\n",
    "import matplotlib.pyplot as plt\n",
    "import math\n",
    "import seaborn as sns\n",
    "from scipy import stats as st\n",
    "import numpy as np \n",
    "import datetime as dt\n",
    "from pandas.plotting import register_matplotlib_converters\n",
    "register_matplotlib_converters()\n",
    "import sys\n",
    "import warnings\n",
    "if not sys.warnoptions:\n",
    "       warnings.simplefilter(\"ignore\")"
   ]
  },
  {
   "cell_type": "code",
   "execution_count": 4,
   "metadata": {},
   "outputs": [],
   "source": [
    "pd.set_option('max_colwidth', 400)\n",
    "sns.set(rc={'figure.figsize':(16, 7)})"
   ]
  },
  {
   "cell_type": "code",
   "execution_count": 5,
   "metadata": {},
   "outputs": [],
   "source": [
    "hypothesis = pd.read_csv('/Users/yusuf/Desktop/Programming/Projects/Data/hypothesis.csv')\n",
    "orders = pd.read_csv('/Users/yusuf/Desktop/Programming/Projects/Data/orders.csv')\n",
    "visitors = pd.read_csv('/Users/yusuf/Desktop/Programming/Projects/Data/visitors.csv')"
   ]
  },
  {
   "cell_type": "code",
   "execution_count": 6,
   "metadata": {},
   "outputs": [
    {
     "name": "stdout",
     "output_type": "stream",
     "text": [
      "<class 'pandas.core.frame.DataFrame'>\n",
      "RangeIndex: 9 entries, 0 to 8\n",
      "Data columns (total 5 columns):\n",
      " #   Column      Non-Null Count  Dtype \n",
      "---  ------      --------------  ----- \n",
      " 0   Hypothesis  9 non-null      object\n",
      " 1   Reach       9 non-null      int64 \n",
      " 2   Impact      9 non-null      int64 \n",
      " 3   Confidence  9 non-null      int64 \n",
      " 4   Efforts     9 non-null      int64 \n",
      "dtypes: int64(4), object(1)\n",
      "memory usage: 488.0+ bytes\n"
     ]
    }
   ],
   "source": [
    "hypothesis.info()"
   ]
  },
  {
   "cell_type": "code",
   "execution_count": 7,
   "metadata": {},
   "outputs": [
    {
     "data": {
      "text/plain": [
       "0"
      ]
     },
     "execution_count": 7,
     "metadata": {},
     "output_type": "execute_result"
    }
   ],
   "source": [
    "hypothesis.duplicated().sum()"
   ]
  },
  {
   "cell_type": "markdown",
   "metadata": {},
   "source": [
    "Данные правильного типа, дубликаты отсутствуют."
   ]
  },
  {
   "cell_type": "code",
   "execution_count": 8,
   "metadata": {},
   "outputs": [
    {
     "data": {
      "text/html": [
       "<div>\n",
       "<style scoped>\n",
       "    .dataframe tbody tr th:only-of-type {\n",
       "        vertical-align: middle;\n",
       "    }\n",
       "\n",
       "    .dataframe tbody tr th {\n",
       "        vertical-align: top;\n",
       "    }\n",
       "\n",
       "    .dataframe thead th {\n",
       "        text-align: right;\n",
       "    }\n",
       "</style>\n",
       "<table border=\"1\" class=\"dataframe\">\n",
       "  <thead>\n",
       "    <tr style=\"text-align: right;\">\n",
       "      <th></th>\n",
       "      <th>hypothesis</th>\n",
       "      <th>reach</th>\n",
       "      <th>impact</th>\n",
       "      <th>confidence</th>\n",
       "      <th>efforts</th>\n",
       "    </tr>\n",
       "  </thead>\n",
       "  <tbody>\n",
       "    <tr>\n",
       "      <th>0</th>\n",
       "      <td>Добавить два новых канала привлечения трафика, что позволит привлекать на 30% больше пользователей</td>\n",
       "      <td>3</td>\n",
       "      <td>10</td>\n",
       "      <td>8</td>\n",
       "      <td>6</td>\n",
       "    </tr>\n",
       "    <tr>\n",
       "      <th>1</th>\n",
       "      <td>Запустить собственную службу доставки, что сократит срок доставки заказов</td>\n",
       "      <td>2</td>\n",
       "      <td>5</td>\n",
       "      <td>4</td>\n",
       "      <td>10</td>\n",
       "    </tr>\n",
       "    <tr>\n",
       "      <th>2</th>\n",
       "      <td>Добавить блоки рекомендаций товаров на сайт интернет магазина, чтобы повысить конверсию и средний чек заказа</td>\n",
       "      <td>8</td>\n",
       "      <td>3</td>\n",
       "      <td>7</td>\n",
       "      <td>3</td>\n",
       "    </tr>\n",
       "    <tr>\n",
       "      <th>3</th>\n",
       "      <td>Изменить структура категорий, что увеличит конверсию, т.к. пользователи быстрее найдут нужный товар</td>\n",
       "      <td>8</td>\n",
       "      <td>3</td>\n",
       "      <td>3</td>\n",
       "      <td>8</td>\n",
       "    </tr>\n",
       "    <tr>\n",
       "      <th>4</th>\n",
       "      <td>Изменить цвет фона главной страницы, чтобы увеличить вовлеченность пользователей</td>\n",
       "      <td>3</td>\n",
       "      <td>1</td>\n",
       "      <td>1</td>\n",
       "      <td>1</td>\n",
       "    </tr>\n",
       "    <tr>\n",
       "      <th>5</th>\n",
       "      <td>Добавить страницу отзывов клиентов о магазине, что позволит увеличить количество заказов</td>\n",
       "      <td>3</td>\n",
       "      <td>2</td>\n",
       "      <td>2</td>\n",
       "      <td>3</td>\n",
       "    </tr>\n",
       "    <tr>\n",
       "      <th>6</th>\n",
       "      <td>Показать на главной странице баннеры с актуальными акциями и распродажами, чтобы увеличить конверсию</td>\n",
       "      <td>5</td>\n",
       "      <td>3</td>\n",
       "      <td>8</td>\n",
       "      <td>3</td>\n",
       "    </tr>\n",
       "    <tr>\n",
       "      <th>7</th>\n",
       "      <td>Добавить форму подписки на все основные страницы, чтобы собрать базу клиентов для email-рассылок</td>\n",
       "      <td>10</td>\n",
       "      <td>7</td>\n",
       "      <td>8</td>\n",
       "      <td>5</td>\n",
       "    </tr>\n",
       "    <tr>\n",
       "      <th>8</th>\n",
       "      <td>Запустить акцию, дающую скидку на товар в день рождения</td>\n",
       "      <td>1</td>\n",
       "      <td>9</td>\n",
       "      <td>9</td>\n",
       "      <td>5</td>\n",
       "    </tr>\n",
       "  </tbody>\n",
       "</table>\n",
       "</div>"
      ],
      "text/plain": [
       "                                                                                                     hypothesis  \\\n",
       "0            Добавить два новых канала привлечения трафика, что позволит привлекать на 30% больше пользователей   \n",
       "1                                     Запустить собственную службу доставки, что сократит срок доставки заказов   \n",
       "2  Добавить блоки рекомендаций товаров на сайт интернет магазина, чтобы повысить конверсию и средний чек заказа   \n",
       "3           Изменить структура категорий, что увеличит конверсию, т.к. пользователи быстрее найдут нужный товар   \n",
       "4                              Изменить цвет фона главной страницы, чтобы увеличить вовлеченность пользователей   \n",
       "5                      Добавить страницу отзывов клиентов о магазине, что позволит увеличить количество заказов   \n",
       "6          Показать на главной странице баннеры с актуальными акциями и распродажами, чтобы увеличить конверсию   \n",
       "7              Добавить форму подписки на все основные страницы, чтобы собрать базу клиентов для email-рассылок   \n",
       "8                                                       Запустить акцию, дающую скидку на товар в день рождения   \n",
       "\n",
       "   reach  impact  confidence  efforts  \n",
       "0      3      10           8        6  \n",
       "1      2       5           4       10  \n",
       "2      8       3           7        3  \n",
       "3      8       3           3        8  \n",
       "4      3       1           1        1  \n",
       "5      3       2           2        3  \n",
       "6      5       3           8        3  \n",
       "7     10       7           8        5  \n",
       "8      1       9           9        5  "
      ]
     },
     "metadata": {},
     "output_type": "display_data"
    }
   ],
   "source": [
    "hypothesis.columns = map(str.lower, hypothesis.columns)\n",
    "display(hypothesis)"
   ]
  },
  {
   "cell_type": "code",
   "execution_count": 9,
   "metadata": {},
   "outputs": [
    {
     "name": "stdout",
     "output_type": "stream",
     "text": [
      "<class 'pandas.core.frame.DataFrame'>\n",
      "RangeIndex: 1197 entries, 0 to 1196\n",
      "Data columns (total 5 columns):\n",
      " #   Column         Non-Null Count  Dtype \n",
      "---  ------         --------------  ----- \n",
      " 0   transactionId  1197 non-null   int64 \n",
      " 1   visitorId      1197 non-null   int64 \n",
      " 2   date           1197 non-null   object\n",
      " 3   revenue        1197 non-null   int64 \n",
      " 4   group          1197 non-null   object\n",
      "dtypes: int64(3), object(2)\n",
      "memory usage: 46.9+ KB\n"
     ]
    }
   ],
   "source": [
    "orders.info()"
   ]
  },
  {
   "cell_type": "markdown",
   "metadata": {},
   "source": [
    "Приведу к нужному типу дату"
   ]
  },
  {
   "cell_type": "code",
   "execution_count": 10,
   "metadata": {},
   "outputs": [],
   "source": [
    "orders['date'] = pd.to_datetime(orders['date'], format='%Y-%m-%d')"
   ]
  },
  {
   "cell_type": "code",
   "execution_count": 11,
   "metadata": {},
   "outputs": [
    {
     "data": {
      "text/plain": [
       "0"
      ]
     },
     "execution_count": 11,
     "metadata": {},
     "output_type": "execute_result"
    }
   ],
   "source": [
    "orders.duplicated().sum()"
   ]
  },
  {
   "cell_type": "code",
   "execution_count": 12,
   "metadata": {},
   "outputs": [
    {
     "name": "stdout",
     "output_type": "stream",
     "text": [
      "<class 'pandas.core.frame.DataFrame'>\n",
      "RangeIndex: 62 entries, 0 to 61\n",
      "Data columns (total 3 columns):\n",
      " #   Column    Non-Null Count  Dtype \n",
      "---  ------    --------------  ----- \n",
      " 0   date      62 non-null     object\n",
      " 1   group     62 non-null     object\n",
      " 2   visitors  62 non-null     int64 \n",
      "dtypes: int64(1), object(2)\n",
      "memory usage: 1.6+ KB\n"
     ]
    }
   ],
   "source": [
    "visitors.info()"
   ]
  },
  {
   "cell_type": "markdown",
   "metadata": {},
   "source": [
    "То же самое - меняю формат даты на корректный"
   ]
  },
  {
   "cell_type": "code",
   "execution_count": 13,
   "metadata": {},
   "outputs": [],
   "source": [
    "visitors['date'] = pd.to_datetime(visitors['date'], format='%Y-%m-%d')"
   ]
  },
  {
   "cell_type": "code",
   "execution_count": 14,
   "metadata": {},
   "outputs": [
    {
     "data": {
      "text/plain": [
       "0"
      ]
     },
     "execution_count": 14,
     "metadata": {},
     "output_type": "execute_result"
    }
   ],
   "source": [
    "visitors.duplicated().sum()"
   ]
  },
  {
   "cell_type": "markdown",
   "metadata": {},
   "source": [
    "## 2. Проверка на \"перетекаемость\" пользователей между группами"
   ]
  },
  {
   "cell_type": "markdown",
   "metadata": {},
   "source": [
    "На примере заказов посмотрим, не учитывались ли покупки пользователей одной группы в покупках другой"
   ]
  },
  {
   "cell_type": "code",
   "execution_count": 15,
   "metadata": {},
   "outputs": [
    {
     "name": "stdout",
     "output_type": "stream",
     "text": [
      "Количество заказов в группе А - 557\n",
      "Количество заказов в группе B - 640\n"
     ]
    }
   ],
   "source": [
    "print ('Количество заказов в группе А -', orders.query('group == \"A\"').shape[0])\n",
    "print ('Количество заказов в группе B -',orders.query('group == \"B\"').shape[0])"
   ]
  },
  {
   "cell_type": "code",
   "execution_count": 16,
   "metadata": {},
   "outputs": [],
   "source": [
    "visitorsA = orders[orders['group']=='A']['visitorId']\n",
    "visitorsB = orders[orders['group']=='B']['visitorId']"
   ]
  },
  {
   "cell_type": "code",
   "execution_count": 17,
   "metadata": {},
   "outputs": [],
   "source": [
    "visitors_AB = orders.loc[orders['visitorId'].isin(visitorsA)& orders['visitorId'].isin(visitorsB),'visitorId'].unique()"
   ]
  },
  {
   "cell_type": "code",
   "execution_count": 18,
   "metadata": {},
   "outputs": [],
   "source": [
    "orders = orders.loc[~orders['visitorId'].isin(visitors_AB)]"
   ]
  },
  {
   "cell_type": "code",
   "execution_count": 19,
   "metadata": {},
   "outputs": [
    {
     "name": "stdout",
     "output_type": "stream",
     "text": [
      "Количество заказов в группе А - 468\n",
      "Количество заказов в группе B - 548\n"
     ]
    }
   ],
   "source": [
    "print ('Количество заказов в группе А -', orders.query('group == \"A\"').shape[0])\n",
    "print ('Количество заказов в группе B -',orders.query('group == \"B\"').shape[0])"
   ]
  },
  {
   "cell_type": "markdown",
   "metadata": {},
   "source": [
    "Поставив границы уникальности покупателей по группам можно увидеть, что снизился как разрыв между количествами заказов, так и общее количество заказов"
   ]
  },
  {
   "cell_type": "markdown",
   "metadata": {},
   "source": [
    "### 2.1 Применение фреймворка ICE"
   ]
  },
  {
   "cell_type": "code",
   "execution_count": 20,
   "metadata": {},
   "outputs": [],
   "source": [
    "hypothesis['ice'] = (hypothesis['impact'] * hypothesis['confidence']) / hypothesis['efforts']"
   ]
  },
  {
   "cell_type": "code",
   "execution_count": 21,
   "metadata": {},
   "outputs": [
    {
     "data": {
      "text/html": [
       "<div>\n",
       "<style scoped>\n",
       "    .dataframe tbody tr th:only-of-type {\n",
       "        vertical-align: middle;\n",
       "    }\n",
       "\n",
       "    .dataframe tbody tr th {\n",
       "        vertical-align: top;\n",
       "    }\n",
       "\n",
       "    .dataframe thead th {\n",
       "        text-align: right;\n",
       "    }\n",
       "</style>\n",
       "<table border=\"1\" class=\"dataframe\">\n",
       "  <thead>\n",
       "    <tr style=\"text-align: right;\">\n",
       "      <th></th>\n",
       "      <th>hypothesis</th>\n",
       "      <th>ice</th>\n",
       "    </tr>\n",
       "  </thead>\n",
       "  <tbody>\n",
       "    <tr>\n",
       "      <th>8</th>\n",
       "      <td>Запустить акцию, дающую скидку на товар в день рождения</td>\n",
       "      <td>16.200000</td>\n",
       "    </tr>\n",
       "    <tr>\n",
       "      <th>0</th>\n",
       "      <td>Добавить два новых канала привлечения трафика, что позволит привлекать на 30% больше пользователей</td>\n",
       "      <td>13.333333</td>\n",
       "    </tr>\n",
       "    <tr>\n",
       "      <th>7</th>\n",
       "      <td>Добавить форму подписки на все основные страницы, чтобы собрать базу клиентов для email-рассылок</td>\n",
       "      <td>11.200000</td>\n",
       "    </tr>\n",
       "    <tr>\n",
       "      <th>6</th>\n",
       "      <td>Показать на главной странице баннеры с актуальными акциями и распродажами, чтобы увеличить конверсию</td>\n",
       "      <td>8.000000</td>\n",
       "    </tr>\n",
       "    <tr>\n",
       "      <th>2</th>\n",
       "      <td>Добавить блоки рекомендаций товаров на сайт интернет магазина, чтобы повысить конверсию и средний чек заказа</td>\n",
       "      <td>7.000000</td>\n",
       "    </tr>\n",
       "    <tr>\n",
       "      <th>1</th>\n",
       "      <td>Запустить собственную службу доставки, что сократит срок доставки заказов</td>\n",
       "      <td>2.000000</td>\n",
       "    </tr>\n",
       "    <tr>\n",
       "      <th>5</th>\n",
       "      <td>Добавить страницу отзывов клиентов о магазине, что позволит увеличить количество заказов</td>\n",
       "      <td>1.333333</td>\n",
       "    </tr>\n",
       "    <tr>\n",
       "      <th>3</th>\n",
       "      <td>Изменить структура категорий, что увеличит конверсию, т.к. пользователи быстрее найдут нужный товар</td>\n",
       "      <td>1.125000</td>\n",
       "    </tr>\n",
       "    <tr>\n",
       "      <th>4</th>\n",
       "      <td>Изменить цвет фона главной страницы, чтобы увеличить вовлеченность пользователей</td>\n",
       "      <td>1.000000</td>\n",
       "    </tr>\n",
       "  </tbody>\n",
       "</table>\n",
       "</div>"
      ],
      "text/plain": [
       "                                                                                                     hypothesis  \\\n",
       "8                                                       Запустить акцию, дающую скидку на товар в день рождения   \n",
       "0            Добавить два новых канала привлечения трафика, что позволит привлекать на 30% больше пользователей   \n",
       "7              Добавить форму подписки на все основные страницы, чтобы собрать базу клиентов для email-рассылок   \n",
       "6          Показать на главной странице баннеры с актуальными акциями и распродажами, чтобы увеличить конверсию   \n",
       "2  Добавить блоки рекомендаций товаров на сайт интернет магазина, чтобы повысить конверсию и средний чек заказа   \n",
       "1                                     Запустить собственную службу доставки, что сократит срок доставки заказов   \n",
       "5                      Добавить страницу отзывов клиентов о магазине, что позволит увеличить количество заказов   \n",
       "3           Изменить структура категорий, что увеличит конверсию, т.к. пользователи быстрее найдут нужный товар   \n",
       "4                              Изменить цвет фона главной страницы, чтобы увеличить вовлеченность пользователей   \n",
       "\n",
       "         ice  \n",
       "8  16.200000  \n",
       "0  13.333333  \n",
       "7  11.200000  \n",
       "6   8.000000  \n",
       "2   7.000000  \n",
       "1   2.000000  \n",
       "5   1.333333  \n",
       "3   1.125000  \n",
       "4   1.000000  "
      ]
     },
     "metadata": {},
     "output_type": "display_data"
    }
   ],
   "source": [
    "display(hypothesis[['hypothesis', 'ice']].sort_values(by='ice', ascending=False))"
   ]
  },
  {
   "cell_type": "markdown",
   "metadata": {},
   "source": [
    "Наиболее приоритетными гипотезами являются 8, 0 и 7"
   ]
  },
  {
   "cell_type": "markdown",
   "metadata": {},
   "source": [
    "### 2.2 Применение фреймворка RICE"
   ]
  },
  {
   "cell_type": "code",
   "execution_count": 22,
   "metadata": {},
   "outputs": [],
   "source": [
    "hypothesis['rice'] = (hypothesis['reach'] * hypothesis['impact'] * hypothesis['confidence']) / hypothesis['efforts']"
   ]
  },
  {
   "cell_type": "code",
   "execution_count": 23,
   "metadata": {},
   "outputs": [
    {
     "data": {
      "text/html": [
       "<div>\n",
       "<style scoped>\n",
       "    .dataframe tbody tr th:only-of-type {\n",
       "        vertical-align: middle;\n",
       "    }\n",
       "\n",
       "    .dataframe tbody tr th {\n",
       "        vertical-align: top;\n",
       "    }\n",
       "\n",
       "    .dataframe thead th {\n",
       "        text-align: right;\n",
       "    }\n",
       "</style>\n",
       "<table border=\"1\" class=\"dataframe\">\n",
       "  <thead>\n",
       "    <tr style=\"text-align: right;\">\n",
       "      <th></th>\n",
       "      <th>hypothesis</th>\n",
       "      <th>rice</th>\n",
       "    </tr>\n",
       "  </thead>\n",
       "  <tbody>\n",
       "    <tr>\n",
       "      <th>7</th>\n",
       "      <td>Добавить форму подписки на все основные страницы, чтобы собрать базу клиентов для email-рассылок</td>\n",
       "      <td>112.0</td>\n",
       "    </tr>\n",
       "    <tr>\n",
       "      <th>2</th>\n",
       "      <td>Добавить блоки рекомендаций товаров на сайт интернет магазина, чтобы повысить конверсию и средний чек заказа</td>\n",
       "      <td>56.0</td>\n",
       "    </tr>\n",
       "    <tr>\n",
       "      <th>0</th>\n",
       "      <td>Добавить два новых канала привлечения трафика, что позволит привлекать на 30% больше пользователей</td>\n",
       "      <td>40.0</td>\n",
       "    </tr>\n",
       "    <tr>\n",
       "      <th>6</th>\n",
       "      <td>Показать на главной странице баннеры с актуальными акциями и распродажами, чтобы увеличить конверсию</td>\n",
       "      <td>40.0</td>\n",
       "    </tr>\n",
       "    <tr>\n",
       "      <th>8</th>\n",
       "      <td>Запустить акцию, дающую скидку на товар в день рождения</td>\n",
       "      <td>16.2</td>\n",
       "    </tr>\n",
       "    <tr>\n",
       "      <th>3</th>\n",
       "      <td>Изменить структура категорий, что увеличит конверсию, т.к. пользователи быстрее найдут нужный товар</td>\n",
       "      <td>9.0</td>\n",
       "    </tr>\n",
       "    <tr>\n",
       "      <th>1</th>\n",
       "      <td>Запустить собственную службу доставки, что сократит срок доставки заказов</td>\n",
       "      <td>4.0</td>\n",
       "    </tr>\n",
       "    <tr>\n",
       "      <th>5</th>\n",
       "      <td>Добавить страницу отзывов клиентов о магазине, что позволит увеличить количество заказов</td>\n",
       "      <td>4.0</td>\n",
       "    </tr>\n",
       "    <tr>\n",
       "      <th>4</th>\n",
       "      <td>Изменить цвет фона главной страницы, чтобы увеличить вовлеченность пользователей</td>\n",
       "      <td>3.0</td>\n",
       "    </tr>\n",
       "  </tbody>\n",
       "</table>\n",
       "</div>"
      ],
      "text/plain": [
       "                                                                                                     hypothesis  \\\n",
       "7              Добавить форму подписки на все основные страницы, чтобы собрать базу клиентов для email-рассылок   \n",
       "2  Добавить блоки рекомендаций товаров на сайт интернет магазина, чтобы повысить конверсию и средний чек заказа   \n",
       "0            Добавить два новых канала привлечения трафика, что позволит привлекать на 30% больше пользователей   \n",
       "6          Показать на главной странице баннеры с актуальными акциями и распродажами, чтобы увеличить конверсию   \n",
       "8                                                       Запустить акцию, дающую скидку на товар в день рождения   \n",
       "3           Изменить структура категорий, что увеличит конверсию, т.к. пользователи быстрее найдут нужный товар   \n",
       "1                                     Запустить собственную службу доставки, что сократит срок доставки заказов   \n",
       "5                      Добавить страницу отзывов клиентов о магазине, что позволит увеличить количество заказов   \n",
       "4                              Изменить цвет фона главной страницы, чтобы увеличить вовлеченность пользователей   \n",
       "\n",
       "    rice  \n",
       "7  112.0  \n",
       "2   56.0  \n",
       "0   40.0  \n",
       "6   40.0  \n",
       "8   16.2  \n",
       "3    9.0  \n",
       "1    4.0  \n",
       "5    4.0  \n",
       "4    3.0  "
      ]
     },
     "metadata": {},
     "output_type": "display_data"
    }
   ],
   "source": [
    "display(hypothesis[['hypothesis', 'rice']].sort_values(by='rice', ascending=False))"
   ]
  },
  {
   "cell_type": "markdown",
   "metadata": {},
   "source": [
    "Наиболее приоритетными гипотезами являются 7, 2, 0 и 6"
   ]
  },
  {
   "cell_type": "code",
   "execution_count": 24,
   "metadata": {},
   "outputs": [
    {
     "data": {
      "image/png": "[encoded data removed]",
      "text/plain": [
       "<Figure size 1152x504 with 1 Axes>"
      ]
     },
     "metadata": {},
     "output_type": "display_data"
    }
   ],
   "source": [
    "y = hypothesis['rice']\n",
    "z = hypothesis['ice']\n",
    "n = hypothesis.index\n",
    "\n",
    "fig, ax = plt.subplots(figsize=(16, 7))\n",
    "ax.scatter(z, y)\n",
    "\n",
    "for i, txt in enumerate(n):\n",
    "     ax.annotate(txt, (z[i], y[i]))\n",
    "\n",
    "plt.title('ICE/RICE гипотезы')\n",
    "plt.xlabel('ICE')\n",
    "plt.ylabel('RICE')\n",
    "plt.show()"
   ]
  },
  {
   "cell_type": "markdown",
   "metadata": {},
   "source": [
    "**Промежуточный вывод**\n",
    "+ После применения RICE, гипотеза №7 выбилась в лидеры, так как она имеет наибольшее значение Reach. По той же причине гипотеза №2 на второй позиции.\n",
    "+ Гипотеза №8 вылетела, так как её показатель Reach равен единице.\n",
    "+ В списке лидеров появилась гипотеза №6. Несмотря на то, что у неё низкий показатель влияния, она имеет средний показатель охвата, низкую стоимость и высокую уверенность."
   ]
  },
  {
   "cell_type": "markdown",
   "metadata": {},
   "source": [
    "## 3. Анализ A/B-теста"
   ]
  },
  {
   "cell_type": "markdown",
   "metadata": {},
   "source": [
    "### 3.1 Построение графика кумулятивной выручки"
   ]
  },
  {
   "cell_type": "code",
   "execution_count": 25,
   "metadata": {},
   "outputs": [],
   "source": [
    "dates_groups = orders[['date','group']].drop_duplicates()"
   ]
  },
  {
   "cell_type": "code",
   "execution_count": 26,
   "metadata": {},
   "outputs": [],
   "source": [
    "orders_aggregated = dates_groups.apply(\n",
    "    lambda x: orders[\n",
    "        np.logical_and(orders[\"date\"] <= x[\"date\"], orders[\"group\"] == x[\"group\"])\n",
    "    ].agg(\n",
    "        {\"date\": \"max\", \"group\": \"max\", \"revenue\": \"sum\", \"transactionId\": \"nunique\"}\n",
    "    ),\n",
    "    axis=1,\n",
    ").sort_values(by=[\"date\", \"group\"])"
   ]
  },
  {
   "cell_type": "code",
   "execution_count": 27,
   "metadata": {},
   "outputs": [],
   "source": [
    "orders_aggregated.rename(columns={'transactionId':'orders'}, inplace=True)"
   ]
  },
  {
   "cell_type": "code",
   "execution_count": 28,
   "metadata": {},
   "outputs": [],
   "source": [
    "visitors_aggregated = dates_groups.apply(\n",
    "    lambda x: visitors[\n",
    "        np.logical_and(visitors[\"date\"] <= x[\"date\"], visitors[\"group\"] == x[\"group\"])\n",
    "    ].agg({\"date\": \"max\", \"group\": \"max\", \"visitors\": \"sum\"}),\n",
    "    axis=1,\n",
    ").sort_values(by=[\"date\", \"group\"])"
   ]
  },
  {
   "cell_type": "code",
   "execution_count": 29,
   "metadata": {},
   "outputs": [],
   "source": [
    "cumulative_data = orders_aggregated.merge(visitors_aggregated, on=['date','group'])"
   ]
  },
  {
   "cell_type": "code",
   "execution_count": 30,
   "metadata": {},
   "outputs": [
    {
     "data": {
      "image/png": "[encoded data removed]",
      "text/plain": [
       "<Figure size 1152x504 with 1 Axes>"
      ]
     },
     "metadata": {},
     "output_type": "display_data"
    }
   ],
   "source": [
    "cumulative_a = cumulative_data.loc[cumulative_data['group'] == 'A',['date','revenue','orders','visitors']]\n",
    "cumulative_b = cumulative_data.loc[cumulative_data['group'] == 'B',['date','revenue','orders','visitors']]\n",
    "\n",
    "plt.figure()\n",
    "plt.plot(cumulative_a['date'], cumulative_a['revenue'], label='A')\n",
    "plt.plot(cumulative_b['date'], cumulative_b['revenue'], label='B')\n",
    "plt.xticks(rotation=45)\n",
    "plt.xlabel('Дата')\n",
    "plt.ylabel('Выручка, руб.')\n",
    "plt.title('Кумулятивная выручка по группам')\n",
    "plt.legend();"
   ]
  },
  {
   "cell_type": "markdown",
   "metadata": {},
   "source": [
    "Рост выручки в группе А происходит равномерно, в то время как у группы B происходит скачок выручки 17 августа"
   ]
  },
  {
   "cell_type": "markdown",
   "metadata": {},
   "source": [
    "### 3.2 Построение графика кумулятивного среднего чека"
   ]
  },
  {
   "cell_type": "code",
   "execution_count": 31,
   "metadata": {},
   "outputs": [
    {
     "data": {
      "image/png": "[encoded data removed]",
      "text/plain": [
       "<Figure size 1152x504 with 1 Axes>"
      ]
     },
     "metadata": {},
     "output_type": "display_data"
    }
   ],
   "source": [
    "plt.figure()\n",
    "plt.plot(cumulative_a['date'], cumulative_a['revenue'] / cumulative_a['orders'], label='A')\n",
    "plt.plot(cumulative_b['date'], cumulative_b['revenue'] / cumulative_b['orders'], label='B')\n",
    "plt.xticks(rotation=45)\n",
    "plt.xlabel('Дата')\n",
    "plt.ylabel('Средний чек, руб.')\n",
    "plt.title('Кумулятивный средний чек по группам')\n",
    "plt.legend();"
   ]
  },
  {
   "cell_type": "markdown",
   "metadata": {},
   "source": [
    "Средний чек группы А растет до 13 августа, после чего становится ровным. У группы B заметен тот же самый скачок"
   ]
  },
  {
   "cell_type": "markdown",
   "metadata": {},
   "source": [
    "### 3.3 Построение графика относительного изменения кумулятивного среднего чека группы B к группе A"
   ]
  },
  {
   "cell_type": "code",
   "execution_count": 32,
   "metadata": {},
   "outputs": [],
   "source": [
    "merged_cumulative = cumulative_a.merge(cumulative_b, on=['date'],suffixes=('_a', '_b'))"
   ]
  },
  {
   "cell_type": "code",
   "execution_count": 33,
   "metadata": {},
   "outputs": [
    {
     "data": {
      "image/png": "[encoded data removed]",
      "text/plain": [
       "<Figure size 1152x504 with 1 Axes>"
      ]
     },
     "metadata": {},
     "output_type": "display_data"
    }
   ],
   "source": [
    "plt.figure()\n",
    "plt.plot(\n",
    "    merged_cumulative['date'],\n",
    "    (merged_cumulative['revenue_b'] / merged_cumulative['orders_b']) / (merged_cumulative['revenue_a'] / merged_cumulative['orders_a']) -1\n",
    ")\n",
    "plt.xticks(rotation=45)\n",
    "plt.title('Относительное изменение кумулятивного среднего чека')\n",
    "plt.xlabel('Дата')\n",
    "plt.ylabel('Изменение')\n",
    "plt.axhline(y=0, color='black', linestyle='-.');"
   ]
  },
  {
   "cell_type": "markdown",
   "metadata": {},
   "source": [
    "Рост чека в первую неделю августа стал сюрпизом, в отличие от рывка 17 августа"
   ]
  },
  {
   "cell_type": "markdown",
   "metadata": {},
   "source": [
    "### 3.3 Построение графика кумулятивной конверсии по группам"
   ]
  },
  {
   "cell_type": "code",
   "execution_count": 34,
   "metadata": {},
   "outputs": [
    {
     "data": {
      "image/png": "[encoded data removed]",
      "text/plain": [
       "<Figure size 1152x504 with 1 Axes>"
      ]
     },
     "metadata": {},
     "output_type": "display_data"
    }
   ],
   "source": [
    "plt.figure()\n",
    "plt.plot(cumulative_a['date'], cumulative_a['orders'] / cumulative_a['visitors'], label='A')\n",
    "plt.plot(cumulative_b['date'], cumulative_b['orders'] / cumulative_b['visitors'], label='B')\n",
    "plt.xticks(rotation=45)\n",
    "plt.title('Кумулятивная конверсия по группам')\n",
    "plt.xlabel('Дата')\n",
    "plt.ylabel('Конверсия')\n",
    "plt.axis(xmin=cumulative_a['date'].min(), xmax=cumulative_a['date'].max(), ymin=.020, ymax=0.04)\n",
    "plt.legend();"
   ]
  },
  {
   "cell_type": "markdown",
   "metadata": {},
   "source": [
    "Группа B лидирует практически с первых дней"
   ]
  },
  {
   "cell_type": "markdown",
   "metadata": {},
   "source": [
    "### 3.4 Построение графика относительного изменения кумулятивной конверсии группы B к группе A"
   ]
  },
  {
   "cell_type": "code",
   "execution_count": 35,
   "metadata": {},
   "outputs": [
    {
     "data": {
      "image/png": "[encoded data removed]",
      "text/plain": [
       "<Figure size 1152x504 with 1 Axes>"
      ]
     },
     "metadata": {},
     "output_type": "display_data"
    }
   ],
   "source": [
    "plt.figure()\n",
    "plt.plot(\n",
    "    merged_cumulative['date'],\n",
    "    (merged_cumulative['orders_b'] / merged_cumulative['visitors_b']) / (merged_cumulative['orders_a'] / merged_cumulative['visitors_a']) -1\n",
    ")\n",
    "plt.xticks(rotation=45)\n",
    "plt.title('Относительное изменение кумулятивной конверсии групп')\n",
    "plt.xlabel('Дата')\n",
    "plt.ylabel('Изменение конверсии')\n",
    "plt.axis(xmin=merged_cumulative['date'].min(), xmax=merged_cumulative['date'].max(), ymin=-0.30, ymax=0.3)\n",
    "plt.axhline(y=0, color='black', linestyle='-.')\n",
    "plt.axhline(y=0.15, color='black', linestyle='--');"
   ]
  },
  {
   "cell_type": "markdown",
   "metadata": {},
   "source": [
    "Группа B стабильно прибыльнее"
   ]
  },
  {
   "cell_type": "markdown",
   "metadata": {},
   "source": [
    "### 3.5 Построение точечного графика количества заказов по пользователям"
   ]
  },
  {
   "cell_type": "code",
   "execution_count": 36,
   "metadata": {},
   "outputs": [
    {
     "data": {
      "image/png": "[encoded data removed]",
      "text/plain": [
       "<Figure size 1152x504 with 1 Axes>"
      ]
     },
     "metadata": {},
     "output_type": "display_data"
    }
   ],
   "source": [
    "x_values = pd.Series(range(0,orders['revenue'].count())) \n",
    "\n",
    "plt.figure()\n",
    "sns.scatterplot(x=x_values, y=\"revenue\", hue=\"group\",\n",
    "                     data=orders)\n",
    "plt.xlabel('Количество')\n",
    "plt.ylabel('Выручка')\n",
    "plt.grid()\n",
    "plt.title('Количество заказов');"
   ]
  },
  {
   "cell_type": "markdown",
   "metadata": {},
   "source": [
    "- Один крупный заказ группы B"
   ]
  },
  {
   "cell_type": "code",
   "execution_count": 37,
   "metadata": {},
   "outputs": [
    {
     "data": {
      "image/png": "[encoded data removed]",
      "text/plain": [
       "<Figure size 1152x504 with 1 Axes>"
      ]
     },
     "metadata": {},
     "output_type": "display_data"
    }
   ],
   "source": [
    "orders_clean = orders.query('revenue<200000')\n",
    "x_values = pd.Series(range(0,orders_clean['revenue'].count())) \n",
    "plt.figure()\n",
    "sns.scatterplot(x=x_values, y=\"revenue\", hue=\"group\",\n",
    "                     data=orders_clean)\n",
    "plt.grid()\n",
    "plt.xlabel('Количество')\n",
    "plt.ylabel('Выручка')\n",
    "plt.title('Количество заказов');"
   ]
  },
  {
   "cell_type": "markdown",
   "metadata": {},
   "source": [
    "### 3.6 Расчет 95-го и 99-го перцентилей количества заказов на пользователя."
   ]
  },
  {
   "cell_type": "code",
   "execution_count": 38,
   "metadata": {},
   "outputs": [
    {
     "name": "stdout",
     "output_type": "stream",
     "text": [
      "[26785. 53904.]\n"
     ]
    }
   ],
   "source": [
    "print(np.percentile(orders['revenue'], [95, 99]))"
   ]
  },
  {
   "cell_type": "markdown",
   "metadata": {},
   "source": [
    "Можно попробовать избавиться от выбросов, убрав всё, что выше 99-го процентиля"
   ]
  },
  {
   "cell_type": "code",
   "execution_count": 39,
   "metadata": {},
   "outputs": [],
   "source": [
    "per_99 = np.percentile(orders['revenue'], [99])[0]\n",
    "orders_clean = orders.query('revenue<= @per_99')"
   ]
  },
  {
   "cell_type": "markdown",
   "metadata": {},
   "source": [
    "### 3.7 Построение точечного графика стоимости заказов."
   ]
  },
  {
   "cell_type": "code",
   "execution_count": 40,
   "metadata": {},
   "outputs": [],
   "source": [
    "orders_by_users = (\n",
    "    orders.groupby(\"visitorId\")[\"revenue\"]\n",
    "    .count()\n",
    "    .reset_index()\n",
    "    .rename(columns={\"revenue\": \"orders\"})\n",
    ")"
   ]
  },
  {
   "cell_type": "code",
   "execution_count": 41,
   "metadata": {},
   "outputs": [
    {
     "data": {
      "image/png": "[encoded data removed]",
      "text/plain": [
       "<Figure size 1152x504 with 1 Axes>"
      ]
     },
     "metadata": {},
     "output_type": "display_data"
    }
   ],
   "source": [
    "x_values = pd.Series(range(0,orders_by_users['orders'].count())) \n",
    "plt.figure()\n",
    "plt.scatter(data=orders_by_users, x=x_values, y='orders') \n",
    "plt.grid()\n",
    "plt.title('Количество заказов на пользователя')\n",
    "plt.xlabel('Количество')\n",
    "plt.ylabel('Заказы одним пользователем')\n",
    "plt.yticks([0,1,2,3,4]);"
   ]
  },
  {
   "cell_type": "markdown",
   "metadata": {},
   "source": [
    "Пожалуй уберем все, что больше 3 заказов"
   ]
  },
  {
   "cell_type": "markdown",
   "metadata": {},
   "source": [
    "### 3.8 Расчет 95-го и 99-го перцентилей стоимости заказов"
   ]
  },
  {
   "cell_type": "code",
   "execution_count": 42,
   "metadata": {},
   "outputs": [
    {
     "name": "stdout",
     "output_type": "stream",
     "text": [
      "[1. 2.]\n"
     ]
    }
   ],
   "source": [
    "print(np.percentile(orders_by_users['orders'], [95, 99]))"
   ]
  },
  {
   "cell_type": "markdown",
   "metadata": {},
   "source": [
    "Пожалуй уберем все, что больше 3 заказов"
   ]
  },
  {
   "cell_type": "code",
   "execution_count": 43,
   "metadata": {},
   "outputs": [],
   "source": [
    "per_99 = np.percentile(orders_by_users['orders'], [99])[0]\n",
    "orders_by_users_clean = orders_by_users.query('orders<= @per_99')"
   ]
  },
  {
   "cell_type": "code",
   "execution_count": 44,
   "metadata": {},
   "outputs": [],
   "source": [
    "orders_clean = orders_clean.loc[orders_clean['visitorId'].isin(orders_by_users_clean['visitorId'])]"
   ]
  },
  {
   "cell_type": "markdown",
   "metadata": {},
   "source": [
    "**Вывод**\n",
    "+ Данные прошли первичную фильтрацию, была решена проблема перетекания пользователей по группам.\n",
    "+ Группа В кажется более предпочтительной по своей выручке, даже после очистки аномального выброса с крупным чеком."
   ]
  },
  {
   "cell_type": "markdown",
   "metadata": {},
   "source": [
    "## 4. Проверка гипотез"
   ]
  },
  {
   "cell_type": "markdown",
   "metadata": {},
   "source": [
    "### 4. 1 Расчет статистической значимости различий в конверсии между группами по «сырым» данным"
   ]
  },
  {
   "cell_type": "markdown",
   "metadata": {},
   "source": [
    "**Гипотезы (уровень значимости 5%)**\n",
    "+ Н0: Конверсия группы А имеет статистически незначимые различия с конверсией группы B\n",
    "+ Н1: Конверсия группы А не имеет статистически незначимых различий с конверсией группы B"
   ]
  },
  {
   "cell_type": "code",
   "execution_count": 45,
   "metadata": {},
   "outputs": [],
   "source": [
    "orders_by_usersA = orders[orders['group']=='A'].groupby('visitorId')['transactionId'].nunique().reset_index()\n",
    "orders_by_usersA.columns=['visitorsId','orders']\n",
    "\n",
    "orders_by_usersB = orders[orders['group']=='B'].groupby('visitorId')['transactionId'].nunique().reset_index()\n",
    "orders_by_usersB.columns=['visitorsId','orders']"
   ]
  },
  {
   "cell_type": "code",
   "execution_count": 46,
   "metadata": {},
   "outputs": [],
   "source": [
    "freeloadersA = pd.Series(0, index=np.arange(visitors[visitors['group']=='A']['visitors'].sum() - len(orders_by_usersA['orders'])), name='orders')\n",
    "freeloadersB = pd.Series(0, index=np.arange(visitors[visitors['group']=='B']['visitors'].sum() - len(orders_by_usersB['orders'])), name='orders')"
   ]
  },
  {
   "cell_type": "code",
   "execution_count": 47,
   "metadata": {},
   "outputs": [],
   "source": [
    "sampleA = pd.concat([orders_by_usersA['orders'], freeloadersA])\n",
    "sampleB = pd.concat([orders_by_usersB['orders'], freeloadersB])"
   ]
  },
  {
   "cell_type": "code",
   "execution_count": 48,
   "metadata": {},
   "outputs": [
    {
     "name": "stdout",
     "output_type": "stream",
     "text": [
      "p_value: 0.01102\n",
      "Средняя конверсия группы А: 2.5%\n",
      "Средняя конверсия группы B: 2.9%\n"
     ]
    }
   ],
   "source": [
    "print('p_value: {:.5f}'.format(st.mannwhitneyu(sampleA, sampleB, alternative='two-sided')[1]))\n",
    "print('Средняя конверсия группы А: {:.1%}'.format(sampleA.mean()))\n",
    "print('Средняя конверсия группы B: {:.1%}'.format(sampleB.mean()))"
   ]
  },
  {
   "cell_type": "markdown",
   "metadata": {},
   "source": [
    "Нулевая гипотеза о равенстве средних конверсий отвергается на 5% уровне."
   ]
  },
  {
   "cell_type": "markdown",
   "metadata": {},
   "source": [
    "### 4.2 Расчет статистической значимости различий в среднем чеке заказа между группами по «сырым» данным"
   ]
  },
  {
   "cell_type": "markdown",
   "metadata": {},
   "source": [
    "**Гипотезы (уровень значимости 5%)**\n",
    "+ Н0: Средний чек группы А имеет статистически незначимые различия со средним чеком группы B\n",
    "+ Н1: Средний чек группы А не имеет статистически незначимых различий со средним чеком группы B"
   ]
  },
  {
   "cell_type": "code",
   "execution_count": 49,
   "metadata": {},
   "outputs": [
    {
     "name": "stdout",
     "output_type": "stream",
     "text": [
      "p_value: 0.82949\n",
      "Средний чек группы А: 7189.44\n",
      "Средний чек группы B: 9249.95\n"
     ]
    }
   ],
   "source": [
    "print(\n",
    "    \"p_value: {:.5f}\".format(\n",
    "        st.mannwhitneyu(\n",
    "            orders[orders[\"group\"] == \"A\"][\"revenue\"],\n",
    "            orders[orders[\"group\"] == \"B\"][\"revenue\"],\n",
    "            alternative=\"two-sided\",\n",
    "        )[1]\n",
    "    )\n",
    ")\n",
    "\n",
    "print('Средний чек группы А: {:.2f}'.format(orders[orders['group']=='A']['revenue'].mean()))\n",
    "print('Средний чек группы B: {:.2f}'.format(orders[orders['group']=='B']['revenue'].mean()))"
   ]
  },
  {
   "cell_type": "markdown",
   "metadata": {},
   "source": [
    "Нулевая гипотеза о равенстве средних чеков не отвергается на 5% уровне."
   ]
  },
  {
   "cell_type": "markdown",
   "metadata": {},
   "source": [
    "### 4.3 Расчет статистической значимости различий в конверсии между группами по «очищенным» данным"
   ]
  },
  {
   "cell_type": "markdown",
   "metadata": {},
   "source": [
    "**Гипотезы (уровень значимости 5%)**\n",
    "+ Н0: Конверсия группы А имеет статистически незначимые различия с конверсией группы B\n",
    "+ Н1: Конверсия группы А не имеет статистически незначимых различий с конверсией группы B"
   ]
  },
  {
   "cell_type": "code",
   "execution_count": 51,
   "metadata": {},
   "outputs": [],
   "source": [
    "orders_by_usersA = orders_clean[orders_clean['group']=='A'].groupby('visitorId')['transactionId'].nunique().reset_index()\n",
    "orders_by_usersA.columns=['visitorsId','orders']\n",
    "\n",
    "orders_by_usersB = orders_clean[orders_clean['group']=='B'].groupby('visitorId')['transactionId'].nunique().reset_index()\n",
    "orders_by_usersB.columns=['visitorsId','orders']"
   ]
  },
  {
   "cell_type": "code",
   "execution_count": 52,
   "metadata": {},
   "outputs": [],
   "source": [
    "freeloadersA = pd.Series(0, index=np.arange(visitors[visitors['group']=='A']['visitors'].sum() - len(orders_by_usersA['orders'])), name='orders')\n",
    "freeloadersB = pd.Series(0, index=np.arange(visitors[visitors['group']=='B']['visitors'].sum() - len(orders_by_usersB['orders'])), name='orders')"
   ]
  },
  {
   "cell_type": "code",
   "execution_count": 53,
   "metadata": {},
   "outputs": [],
   "source": [
    "sampleA = pd.concat([orders_by_usersA['orders'], freeloadersA])\n",
    "sampleB = pd.concat([orders_by_usersB['orders'], freeloadersB])"
   ]
  },
  {
   "cell_type": "code",
   "execution_count": 54,
   "metadata": {},
   "outputs": [
    {
     "name": "stdout",
     "output_type": "stream",
     "text": [
      "p_value: 0.00695\n",
      "Средняя конверсия (очищенная) группы А: 2.4%\n",
      "Средняя конверсия (очищенная) группы B: 2.8%\n"
     ]
    }
   ],
   "source": [
    "print('p_value: {:.5f}'.format(st.mannwhitneyu(sampleA, sampleB, alternative='two-sided')[1]))\n",
    "print('Средняя конверсия (очищенная) группы А: {:.1%}'.format(sampleA.mean()))\n",
    "print('Средняя конверсия (очищенная) группы B: {:.1%}'.format(sampleB.mean()))"
   ]
  },
  {
   "cell_type": "markdown",
   "metadata": {},
   "source": [
    "Нулевая гипотеза о равенстве вновь отвергается"
   ]
  },
  {
   "cell_type": "markdown",
   "metadata": {},
   "source": [
    "### 4.4 Расчет статистической значимости различий в среднем чеке заказа между группами по «очищенным» данным"
   ]
  },
  {
   "cell_type": "markdown",
   "metadata": {},
   "source": [
    "**Гипотезы (уровень значимости 5%)**\n",
    "+ Н0: Средний чек группы А имеет статистически незначимые различия со средним чеком группы B\n",
    "+ Н1: Средний чек группы А не имеет статистически незначимых различий со средним чеком группы B"
   ]
  },
  {
   "cell_type": "code",
   "execution_count": 55,
   "metadata": {},
   "outputs": [
    {
     "name": "stdout",
     "output_type": "stream",
     "text": [
      "p_value: 0.78770\n",
      "Средний чек (очищенный) группы А: 6487.02\n",
      "Средний чек (очищенный) группы B: 6277.27\n"
     ]
    }
   ],
   "source": [
    "print(\n",
    "    \"p_value: {:.5f}\".format(\n",
    "        st.mannwhitneyu(\n",
    "            orders_clean[orders_clean[\"group\"] == \"A\"][\"revenue\"],\n",
    "            orders_clean[orders_clean[\"group\"] == \"B\"][\"revenue\"],\n",
    "            alternative=\"two-sided\",\n",
    "        )[1]\n",
    "    )\n",
    ")\n",
    "\n",
    "print('Средний чек (очищенный) группы А: {:.2f}'.format(orders_clean[orders_clean['group']=='A']['revenue'].mean()))\n",
    "print('Средний чек (очищенный) группы B: {:.2f}'.format(orders_clean[orders_clean['group']=='B']['revenue'].mean()))"
   ]
  },
  {
   "cell_type": "markdown",
   "metadata": {},
   "source": [
    "Нулевая гипотеза о равнестве средних чеков вновь не отвергается. По очищенным данным лучше видно почему - средний чек очень близок между группами"
   ]
  },
  {
   "cell_type": "markdown",
   "metadata": {},
   "source": [
    "## 5. Общий вывод"
   ]
  },
  {
   "cell_type": "markdown",
   "metadata": {},
   "source": [
    "- **Краткий обзор проведенной работы:** В рамках работы группы были проверены на отсутствие перетекаемости между ними, были выделены ключевые гипотезы по фреймфоркам ICE/RICE. В рамках A/B теста были построены графики кумулятивной выручки, среднего чека и конверсии. Были проверены гипотезы о статистической значимости различий между группами.\n",
    "- **Главные выводы:** Далее проводить тест необходимость отсутствует, несмотря на очистку данных группа B показала более позитивные результаты - выручка в данной группе выше, несмотря на близкий средний чек. В результате анализа с очисткой данных была выявлена статистическая значимость средней конверсии между группами, с вероятностью ошибки 5%. При этом средний чек по группам оказался равен, с вероятностью ошибки 5%. Применение фреймворков показало, что в первую очередь компании необходимо добавить форму подписки на все основные страницы, чтобы собрать базу клиентов для email-рассылок и добавить блоки рекомендаций товаров на сайт интернет магазина, чтобы повысить конверсию и средний чек заказа"
   ]
  }
 ],
 "metadata": {
  "ExecuteTimeLog": [
   {
    "duration": 610,
    "start_time": "2021-08-27T07:39:22.269Z"
   },
   {
    "duration": 18,
    "start_time": "2021-08-27T07:40:31.729Z"
   },
   {
    "duration": 6,
    "start_time": "2021-08-27T07:40:44.921Z"
   },
   {
    "duration": 287,
    "start_time": "2021-08-27T07:43:39.624Z"
   },
   {
    "duration": 19,
    "start_time": "2021-08-27T07:43:41.723Z"
   },
   {
    "duration": 236,
    "start_time": "2021-08-27T07:43:46.849Z"
   },
   {
    "duration": 10,
    "start_time": "2021-08-27T07:43:55.000Z"
   },
   {
    "duration": 11,
    "start_time": "2021-08-27T07:44:10.615Z"
   },
   {
    "duration": 472,
    "start_time": "2021-08-30T09:05:22.768Z"
   },
   {
    "duration": 809,
    "start_time": "2021-08-30T09:05:27.158Z"
   },
   {
    "duration": 69,
    "start_time": "2021-08-30T09:05:28.748Z"
   },
   {
    "duration": 17,
    "start_time": "2021-08-30T09:05:29.226Z"
   },
   {
    "duration": 19,
    "start_time": "2021-08-30T09:05:29.659Z"
   },
   {
    "duration": 486,
    "start_time": "2021-08-30T09:05:30.109Z"
   },
   {
    "duration": 5,
    "start_time": "2021-08-30T09:05:36.228Z"
   },
   {
    "duration": 363,
    "start_time": "2021-08-30T09:06:55.529Z"
   },
   {
    "duration": 379,
    "start_time": "2021-08-30T09:07:07.789Z"
   },
   {
    "duration": 395,
    "start_time": "2021-08-30T09:07:16.999Z"
   },
   {
    "duration": 386,
    "start_time": "2021-08-30T09:07:34.818Z"
   },
   {
    "duration": 384,
    "start_time": "2021-08-30T09:07:55.999Z"
   },
   {
    "duration": 397,
    "start_time": "2021-08-30T09:08:17.418Z"
   },
   {
    "duration": 14,
    "start_time": "2021-08-30T09:09:53.458Z"
   },
   {
    "duration": 387,
    "start_time": "2021-08-30T09:10:32.261Z"
   },
   {
    "duration": 4,
    "start_time": "2021-08-30T09:12:43.149Z"
   },
   {
    "duration": 27,
    "start_time": "2021-08-30T09:12:43.709Z"
   },
   {
    "duration": 10,
    "start_time": "2021-08-30T09:12:44.225Z"
   },
   {
    "duration": 16,
    "start_time": "2021-08-30T09:12:44.979Z"
   },
   {
    "duration": 7,
    "start_time": "2021-08-30T09:12:45.730Z"
   },
   {
    "duration": 366,
    "start_time": "2021-08-30T09:12:46.019Z"
   },
   {
    "duration": 6,
    "start_time": "2021-08-30T09:16:23.338Z"
   },
   {
    "duration": 373,
    "start_time": "2021-08-30T09:16:39.487Z"
   },
   {
    "duration": 354,
    "start_time": "2021-08-30T09:16:52.277Z"
   },
   {
    "duration": 394,
    "start_time": "2021-08-30T09:17:00.949Z"
   },
   {
    "duration": 15,
    "start_time": "2021-08-30T09:21:22.058Z"
   },
   {
    "duration": 13,
    "start_time": "2021-08-30T09:21:28.928Z"
   },
   {
    "duration": 1469,
    "start_time": "2021-09-02T10:36:34.803Z"
   },
   {
    "duration": 26,
    "start_time": "2021-09-02T10:36:37.333Z"
   },
   {
    "duration": 11,
    "start_time": "2021-09-02T10:36:38.192Z"
   },
   {
    "duration": 1433,
    "start_time": "2021-09-02T10:36:40.202Z"
   },
   {
    "duration": 12,
    "start_time": "2021-09-02T10:36:48.697Z"
   },
   {
    "duration": 10,
    "start_time": "2021-09-02T10:36:52.804Z"
   },
   {
    "duration": 9,
    "start_time": "2021-09-02T10:36:53.862Z"
   },
   {
    "duration": 56,
    "start_time": "2021-09-02T10:37:29.885Z"
   },
   {
    "duration": 54,
    "start_time": "2021-09-02T10:37:29.888Z"
   },
   {
    "duration": 5,
    "start_time": "2021-09-02T10:37:33.319Z"
   },
   {
    "duration": 10,
    "start_time": "2021-09-02T10:37:34.362Z"
   },
   {
    "duration": 892,
    "start_time": "2021-09-02T10:49:09.671Z"
   },
   {
    "duration": 3,
    "start_time": "2021-09-02T10:53:10.890Z"
   },
   {
    "duration": 73,
    "start_time": "2021-09-02T10:53:16.678Z"
   },
   {
    "duration": 7,
    "start_time": "2021-09-02T10:53:20.803Z"
   },
   {
    "duration": 6,
    "start_time": "2021-09-02T10:53:22.504Z"
   },
   {
    "duration": 4173,
    "start_time": "2021-09-02T10:53:33.231Z"
   },
   {
    "duration": 8,
    "start_time": "2021-09-02T10:53:37.820Z"
   },
   {
    "duration": 7,
    "start_time": "2021-09-02T10:53:53.968Z"
   },
   {
    "duration": 6,
    "start_time": "2021-09-02T10:54:15.437Z"
   },
   {
    "duration": 5,
    "start_time": "2021-09-02T10:54:50.610Z"
   },
   {
    "duration": 8,
    "start_time": "2021-09-02T10:54:53.974Z"
   },
   {
    "duration": 6,
    "start_time": "2021-09-02T10:55:34.208Z"
   },
   {
    "duration": 5,
    "start_time": "2021-09-02T10:55:59.035Z"
   },
   {
    "duration": 8,
    "start_time": "2021-09-02T10:56:06.229Z"
   },
   {
    "duration": 925,
    "start_time": "2021-09-02T10:56:21.315Z"
   },
   {
    "duration": 5,
    "start_time": "2021-09-02T10:56:34.313Z"
   },
   {
    "duration": 5,
    "start_time": "2021-09-02T10:57:36.721Z"
   },
   {
    "duration": 10,
    "start_time": "2021-09-02T10:57:37.243Z"
   },
   {
    "duration": 5,
    "start_time": "2021-09-02T10:57:38.451Z"
   },
   {
    "duration": 11,
    "start_time": "2021-09-02T10:57:38.611Z"
   },
   {
    "duration": 7,
    "start_time": "2021-09-02T10:57:40.233Z"
   },
   {
    "duration": 2968,
    "start_time": "2021-09-02T10:57:42.382Z"
   },
   {
    "duration": 646,
    "start_time": "2021-09-02T10:58:42.233Z"
   },
   {
    "duration": 207,
    "start_time": "2021-09-02T10:58:49.546Z"
   },
   {
    "duration": 4,
    "start_time": "2021-09-02T10:58:51.001Z"
   },
   {
    "duration": 175,
    "start_time": "2021-09-02T10:58:51.961Z"
   },
   {
    "duration": 7,
    "start_time": "2021-09-02T10:58:53.133Z"
   },
   {
    "duration": 3,
    "start_time": "2021-09-02T10:58:53.756Z"
   },
   {
    "duration": 286,
    "start_time": "2021-09-02T10:58:54.336Z"
   },
   {
    "duration": 311,
    "start_time": "2021-09-02T11:00:37.705Z"
   },
   {
    "duration": 303,
    "start_time": "2021-09-02T11:02:25.560Z"
   },
   {
    "duration": 1188,
    "start_time": "2021-09-02T11:04:40.854Z"
   },
   {
    "duration": 8,
    "start_time": "2021-09-02T11:04:43.167Z"
   },
   {
    "duration": 452,
    "start_time": "2021-09-02T11:04:43.738Z"
   },
   {
    "duration": 475,
    "start_time": "2021-09-02T11:05:12.318Z"
   },
   {
    "duration": 508,
    "start_time": "2021-09-02T11:05:25.182Z"
   },
   {
    "duration": 340,
    "start_time": "2021-09-02T11:05:31.627Z"
   },
   {
    "duration": 366,
    "start_time": "2021-09-02T11:05:42.594Z"
   },
   {
    "duration": 352,
    "start_time": "2021-09-02T11:08:00.885Z"
   },
   {
    "duration": 417,
    "start_time": "2021-09-02T11:10:18.422Z"
   },
   {
    "duration": 548,
    "start_time": "2021-09-02T11:15:00.484Z"
   },
   {
    "duration": 485,
    "start_time": "2021-09-02T11:16:20.451Z"
   },
   {
    "duration": 550,
    "start_time": "2021-09-02T11:16:27.551Z"
   },
   {
    "duration": 570,
    "start_time": "2021-09-02T11:16:33.831Z"
   },
   {
    "duration": 5,
    "start_time": "2021-09-02T11:16:37.871Z"
   },
   {
    "duration": 7,
    "start_time": "2021-09-02T11:18:01.390Z"
   },
   {
    "duration": 10,
    "start_time": "2021-09-02T11:18:16.681Z"
   },
   {
    "duration": 312,
    "start_time": "2021-09-02T11:18:40.454Z"
   },
   {
    "duration": 385,
    "start_time": "2021-09-02T11:19:03.252Z"
   },
   {
    "duration": 5,
    "start_time": "2021-09-02T11:19:18.083Z"
   },
   {
    "duration": 9,
    "start_time": "2021-09-02T11:20:54.078Z"
   },
   {
    "duration": 6,
    "start_time": "2021-09-02T11:20:58.051Z"
   },
   {
    "duration": 5,
    "start_time": "2021-09-02T11:21:05.743Z"
   },
   {
    "duration": 5,
    "start_time": "2021-09-02T11:21:50.167Z"
   },
   {
    "duration": 9,
    "start_time": "2021-09-02T11:21:51.454Z"
   },
   {
    "duration": 6,
    "start_time": "2021-09-02T11:21:51.792Z"
   },
   {
    "duration": 12,
    "start_time": "2021-09-02T11:23:20.123Z"
   },
   {
    "duration": 7,
    "start_time": "2021-09-02T11:23:20.798Z"
   },
   {
    "duration": 4,
    "start_time": "2021-09-02T11:23:21.236Z"
   },
   {
    "duration": 8,
    "start_time": "2021-09-02T11:23:23.160Z"
   },
   {
    "duration": 117,
    "start_time": "2021-09-02T11:24:41.179Z"
   },
   {
    "duration": 11,
    "start_time": "2021-09-02T11:26:15.745Z"
   },
   {
    "duration": 8,
    "start_time": "2021-09-02T11:26:16.265Z"
   },
   {
    "duration": 5,
    "start_time": "2021-09-02T11:26:16.698Z"
   },
   {
    "duration": 10,
    "start_time": "2021-09-02T11:26:17.742Z"
   },
   {
    "duration": 955,
    "start_time": "2021-09-02T11:26:48.364Z"
   },
   {
    "duration": 14,
    "start_time": "2021-09-02T11:27:02.656Z"
   },
   {
    "duration": 101166,
    "start_time": "2021-09-02T14:19:30.652Z"
   },
   {
    "duration": 63,
    "start_time": "2021-09-02T14:21:11.820Z"
   },
   {
    "duration": 22,
    "start_time": "2021-09-02T14:21:11.888Z"
   },
   {
    "duration": 16,
    "start_time": "2021-09-02T14:21:11.914Z"
   },
   {
    "duration": 20,
    "start_time": "2021-09-02T14:21:11.934Z"
   },
   {
    "duration": 27,
    "start_time": "2021-09-02T14:21:11.956Z"
   },
   {
    "duration": 7,
    "start_time": "2021-09-02T14:21:11.986Z"
   },
   {
    "duration": 11,
    "start_time": "2021-09-02T14:21:11.996Z"
   },
   {
    "duration": 12,
    "start_time": "2021-09-02T14:21:12.011Z"
   },
   {
    "duration": 9,
    "start_time": "2021-09-02T14:21:12.026Z"
   },
   {
    "duration": 9,
    "start_time": "2021-09-02T14:21:12.037Z"
   },
   {
    "duration": 8,
    "start_time": "2021-09-02T14:21:12.049Z"
   },
   {
    "duration": 21,
    "start_time": "2021-09-02T14:21:12.060Z"
   },
   {
    "duration": 8,
    "start_time": "2021-09-02T14:21:12.084Z"
   },
   {
    "duration": 19,
    "start_time": "2021-09-02T14:21:12.095Z"
   },
   {
    "duration": 12,
    "start_time": "2021-09-02T14:21:12.117Z"
   },
   {
    "duration": 215,
    "start_time": "2021-09-02T14:21:12.131Z"
   },
   {
    "duration": 5,
    "start_time": "2021-09-02T14:21:12.349Z"
   },
   {
    "duration": 225,
    "start_time": "2021-09-02T14:21:12.357Z"
   },
   {
    "duration": 10,
    "start_time": "2021-09-02T14:21:12.585Z"
   },
   {
    "duration": 762,
    "start_time": "2021-09-02T14:21:12.597Z"
   },
   {
    "duration": 809,
    "start_time": "2021-09-02T14:21:13.362Z"
   },
   {
    "duration": 15,
    "start_time": "2021-09-02T14:21:14.175Z"
   },
   {
    "duration": 909,
    "start_time": "2021-09-02T14:21:14.193Z"
   },
   {
    "duration": 507,
    "start_time": "2021-09-02T14:21:15.105Z"
   },
   {
    "duration": 667,
    "start_time": "2021-09-02T14:21:15.615Z"
   },
   {
    "duration": 689,
    "start_time": "2021-09-02T14:21:16.288Z"
   },
   {
    "duration": 677,
    "start_time": "2021-09-02T14:21:16.984Z"
   },
   {
    "duration": 18,
    "start_time": "2021-09-02T14:21:17.664Z"
   },
   {
    "duration": 7,
    "start_time": "2021-09-02T14:21:17.685Z"
   },
   {
    "duration": 14,
    "start_time": "2021-09-02T14:21:17.695Z"
   },
   {
    "duration": 501,
    "start_time": "2021-09-02T14:21:17.712Z"
   },
   {
    "duration": 6,
    "start_time": "2021-09-02T14:21:18.215Z"
   },
   {
    "duration": 11,
    "start_time": "2021-09-02T14:21:18.224Z"
   },
   {
    "duration": 7,
    "start_time": "2021-09-02T14:21:18.238Z"
   },
   {
    "duration": 42,
    "start_time": "2021-09-02T14:21:18.247Z"
   },
   {
    "duration": 8,
    "start_time": "2021-09-02T14:21:18.292Z"
   },
   {
    "duration": 7,
    "start_time": "2021-09-02T14:21:18.302Z"
   },
   {
    "duration": 11,
    "start_time": "2021-09-02T14:21:18.311Z"
   },
   {
    "duration": 59,
    "start_time": "2021-09-02T14:21:18.326Z"
   },
   {
    "duration": 19,
    "start_time": "2021-09-02T14:21:18.388Z"
   },
   {
    "duration": 12,
    "start_time": "2021-09-02T14:21:18.410Z"
   },
   {
    "duration": 7,
    "start_time": "2021-09-02T14:21:18.426Z"
   },
   {
    "duration": 50,
    "start_time": "2021-09-02T14:21:18.436Z"
   },
   {
    "duration": 16,
    "start_time": "2021-09-02T14:21:18.489Z"
   },
   {
    "duration": 1180,
    "start_time": "2021-09-03T06:51:23.715Z"
   },
   {
    "duration": 67,
    "start_time": "2021-09-03T06:51:26.156Z"
   },
   {
    "duration": 7,
    "start_time": "2021-09-03T06:51:26.634Z"
   },
   {
    "duration": 7,
    "start_time": "2021-09-03T06:51:28.064Z"
   },
   {
    "duration": 9,
    "start_time": "2021-09-03T06:51:29.007Z"
   },
   {
    "duration": 7,
    "start_time": "2021-09-03T06:51:35.155Z"
   },
   {
    "duration": 6,
    "start_time": "2021-09-03T06:51:35.765Z"
   },
   {
    "duration": 6,
    "start_time": "2021-09-03T06:51:36.022Z"
   },
   {
    "duration": 6,
    "start_time": "2021-09-03T06:51:36.314Z"
   },
   {
    "duration": 4,
    "start_time": "2021-09-03T06:51:37.604Z"
   },
   {
    "duration": 5,
    "start_time": "2021-09-03T06:51:37.785Z"
   },
   {
    "duration": 13,
    "start_time": "2021-09-03T06:56:29.579Z"
   },
   {
    "duration": 6,
    "start_time": "2021-09-03T06:56:37.595Z"
   },
   {
    "duration": 5,
    "start_time": "2021-09-03T06:56:39.156Z"
   },
   {
    "duration": 5,
    "start_time": "2021-09-03T06:56:39.960Z"
   },
   {
    "duration": 8,
    "start_time": "2021-09-03T06:56:41.520Z"
   },
   {
    "duration": 5,
    "start_time": "2021-09-03T06:59:56.154Z"
   },
   {
    "duration": 10,
    "start_time": "2021-09-03T06:59:56.664Z"
   },
   {
    "duration": 4,
    "start_time": "2021-09-03T06:59:59.585Z"
   },
   {
    "duration": 8,
    "start_time": "2021-09-03T06:59:59.902Z"
   },
   {
    "duration": 539,
    "start_time": "2021-09-03T07:03:08.959Z"
   },
   {
    "duration": 6,
    "start_time": "2021-09-03T07:08:10.690Z"
   },
   {
    "duration": 157,
    "start_time": "2021-09-03T07:08:15.077Z"
   },
   {
    "duration": 160,
    "start_time": "2021-09-03T07:09:54.151Z"
   },
   {
    "duration": 3,
    "start_time": "2021-09-03T07:10:24.224Z"
   },
   {
    "duration": 147,
    "start_time": "2021-09-03T07:10:43.194Z"
   },
   {
    "duration": 7,
    "start_time": "2021-09-03T07:10:45.134Z"
   },
   {
    "duration": 278,
    "start_time": "2021-09-03T07:13:39.700Z"
   },
   {
    "duration": 275,
    "start_time": "2021-09-03T07:14:03.590Z"
   },
   {
    "duration": 265,
    "start_time": "2021-09-03T07:14:12.550Z"
   },
   {
    "duration": 276,
    "start_time": "2021-09-03T07:14:23.660Z"
   },
   {
    "duration": 280,
    "start_time": "2021-09-03T07:14:31.543Z"
   },
   {
    "duration": 6,
    "start_time": "2021-09-03T07:14:35.542Z"
   },
   {
    "duration": 480,
    "start_time": "2021-09-03T07:14:52.030Z"
   },
   {
    "duration": 268,
    "start_time": "2021-09-03T07:15:19.810Z"
   },
   {
    "duration": 402,
    "start_time": "2021-09-03T07:15:38.020Z"
   },
   {
    "duration": 463,
    "start_time": "2021-09-03T07:16:15.400Z"
   },
   {
    "duration": 494,
    "start_time": "2021-09-03T07:17:13.460Z"
   },
   {
    "duration": 4,
    "start_time": "2021-09-03T07:18:23.597Z"
   },
   {
    "duration": 7,
    "start_time": "2021-09-03T07:18:25.790Z"
   },
   {
    "duration": 8,
    "start_time": "2021-09-03T07:18:54.131Z"
   },
   {
    "duration": 385,
    "start_time": "2021-09-03T07:19:46.800Z"
   },
   {
    "duration": 415,
    "start_time": "2021-09-03T07:20:08.919Z"
   },
   {
    "duration": 412,
    "start_time": "2021-09-03T07:20:27.542Z"
   },
   {
    "duration": 4,
    "start_time": "2021-09-03T07:20:34.941Z"
   },
   {
    "duration": 7,
    "start_time": "2021-09-03T07:20:36.360Z"
   },
   {
    "duration": 5,
    "start_time": "2021-09-03T07:20:39.920Z"
   },
   {
    "duration": 11,
    "start_time": "2021-09-03T07:26:31.299Z"
   },
   {
    "duration": 11,
    "start_time": "2021-09-03T07:26:31.699Z"
   },
   {
    "duration": 5,
    "start_time": "2021-09-03T07:26:31.969Z"
   },
   {
    "duration": 9,
    "start_time": "2021-09-03T07:26:39.471Z"
   },
   {
    "duration": 15,
    "start_time": "2021-09-03T07:29:27.207Z"
   },
   {
    "duration": 9,
    "start_time": "2021-09-03T07:29:27.559Z"
   },
   {
    "duration": 5,
    "start_time": "2021-09-03T07:29:27.816Z"
   },
   {
    "duration": 9,
    "start_time": "2021-09-03T07:29:28.259Z"
   },
   {
    "duration": 12,
    "start_time": "2021-09-03T07:29:47.940Z"
   },
   {
    "duration": 4,
    "start_time": "2021-09-03T11:46:06.251Z"
   },
   {
    "duration": 214,
    "start_time": "2021-09-03T11:58:53.613Z"
   },
   {
    "duration": 1046,
    "start_time": "2021-09-03T11:59:01.760Z"
   },
   {
    "duration": 88,
    "start_time": "2021-09-03T11:59:02.808Z"
   },
   {
    "duration": 7,
    "start_time": "2021-09-03T11:59:02.898Z"
   },
   {
    "duration": 19,
    "start_time": "2021-09-03T11:59:02.906Z"
   },
   {
    "duration": 13,
    "start_time": "2021-09-03T11:59:02.927Z"
   },
   {
    "duration": 9,
    "start_time": "2021-09-03T11:59:02.941Z"
   },
   {
    "duration": 13,
    "start_time": "2021-09-03T11:59:02.951Z"
   },
   {
    "duration": 9,
    "start_time": "2021-09-03T11:59:02.967Z"
   },
   {
    "duration": 12,
    "start_time": "2021-09-03T11:59:02.978Z"
   },
   {
    "duration": 14,
    "start_time": "2021-09-03T11:59:02.992Z"
   },
   {
    "duration": 15,
    "start_time": "2021-09-03T11:59:03.008Z"
   },
   {
    "duration": 10,
    "start_time": "2021-09-03T11:59:03.025Z"
   },
   {
    "duration": 12,
    "start_time": "2021-09-03T11:59:03.037Z"
   },
   {
    "duration": 10,
    "start_time": "2021-09-03T11:59:03.051Z"
   },
   {
    "duration": 19,
    "start_time": "2021-09-03T11:59:03.062Z"
   },
   {
    "duration": 14,
    "start_time": "2021-09-03T11:59:03.083Z"
   },
   {
    "duration": 4,
    "start_time": "2021-09-03T11:59:03.099Z"
   },
   {
    "duration": 14,
    "start_time": "2021-09-03T11:59:03.104Z"
   },
   {
    "duration": 5,
    "start_time": "2021-09-03T11:59:03.120Z"
   },
   {
    "duration": 18,
    "start_time": "2021-09-03T11:59:03.126Z"
   },
   {
    "duration": 5,
    "start_time": "2021-09-03T11:59:03.145Z"
   },
   {
    "duration": 319,
    "start_time": "2021-09-03T11:59:03.151Z"
   },
   {
    "duration": 250,
    "start_time": "2021-09-03T11:59:28.693Z"
   },
   {
    "duration": 330,
    "start_time": "2021-09-03T11:59:34.665Z"
   },
   {
    "duration": 315,
    "start_time": "2021-09-03T11:59:46.619Z"
   },
   {
    "duration": 331,
    "start_time": "2021-09-03T11:59:50.125Z"
   },
   {
    "duration": 343,
    "start_time": "2021-09-03T11:59:53.095Z"
   },
   {
    "duration": 351,
    "start_time": "2021-09-03T11:59:57.878Z"
   },
   {
    "duration": 351,
    "start_time": "2021-09-03T12:01:02.294Z"
   },
   {
    "duration": 385,
    "start_time": "2021-09-03T12:01:16.673Z"
   },
   {
    "duration": 316,
    "start_time": "2021-09-03T12:01:24.841Z"
   },
   {
    "duration": 311,
    "start_time": "2021-09-03T12:01:32.541Z"
   },
   {
    "duration": 352,
    "start_time": "2021-09-03T12:51:46.666Z"
   },
   {
    "duration": 1856,
    "start_time": "2021-09-03T12:51:53.064Z"
   },
   {
    "duration": 78,
    "start_time": "2021-09-03T12:51:55.614Z"
   },
   {
    "duration": 12,
    "start_time": "2021-09-03T12:51:55.825Z"
   },
   {
    "duration": 14,
    "start_time": "2021-09-03T12:51:56.101Z"
   },
   {
    "duration": 19,
    "start_time": "2021-09-03T12:51:56.537Z"
   },
   {
    "duration": 12,
    "start_time": "2021-09-03T12:51:56.933Z"
   },
   {
    "duration": 10,
    "start_time": "2021-09-03T12:51:57.225Z"
   },
   {
    "duration": 10,
    "start_time": "2021-09-03T12:51:57.327Z"
   },
   {
    "duration": 9,
    "start_time": "2021-09-03T12:51:57.539Z"
   },
   {
    "duration": 8,
    "start_time": "2021-09-03T12:51:57.664Z"
   },
   {
    "duration": 8,
    "start_time": "2021-09-03T12:51:57.981Z"
   },
   {
    "duration": 17,
    "start_time": "2021-09-03T12:51:58.419Z"
   },
   {
    "duration": 8,
    "start_time": "2021-09-03T12:51:58.652Z"
   },
   {
    "duration": 7,
    "start_time": "2021-09-03T12:51:58.901Z"
   },
   {
    "duration": 6,
    "start_time": "2021-09-03T12:51:59.012Z"
   },
   {
    "duration": 11,
    "start_time": "2021-09-03T12:51:59.182Z"
   },
   {
    "duration": 6,
    "start_time": "2021-09-03T12:52:00.018Z"
   },
   {
    "duration": 13,
    "start_time": "2021-09-03T12:52:00.265Z"
   },
   {
    "duration": 7,
    "start_time": "2021-09-03T12:52:01.176Z"
   },
   {
    "duration": 16,
    "start_time": "2021-09-03T12:52:01.446Z"
   },
   {
    "duration": 556,
    "start_time": "2021-09-03T12:52:01.974Z"
   },
   {
    "duration": 8,
    "start_time": "2021-09-03T12:52:24.546Z"
   },
   {
    "duration": 305,
    "start_time": "2021-09-03T12:52:24.558Z"
   },
   {
    "duration": 5,
    "start_time": "2021-09-03T12:52:26.854Z"
   },
   {
    "duration": 263,
    "start_time": "2021-09-03T12:52:27.029Z"
   },
   {
    "duration": 9,
    "start_time": "2021-09-03T12:52:27.294Z"
   },
   {
    "duration": 495,
    "start_time": "2021-09-03T12:52:27.581Z"
   },
   {
    "duration": 491,
    "start_time": "2021-09-03T12:52:33.488Z"
   },
   {
    "duration": 9,
    "start_time": "2021-09-03T12:52:33.981Z"
   },
   {
    "duration": 638,
    "start_time": "2021-09-03T12:52:34.165Z"
   },
   {
    "duration": 497,
    "start_time": "2021-09-03T12:52:34.812Z"
   },
   {
    "duration": 651,
    "start_time": "2021-09-03T12:52:36.706Z"
   },
   {
    "duration": 655,
    "start_time": "2021-09-03T12:52:40.747Z"
   },
   {
    "duration": 989,
    "start_time": "2021-09-03T12:52:42.707Z"
   },
   {
    "duration": 6,
    "start_time": "2021-09-03T12:53:08.532Z"
   },
   {
    "duration": 7,
    "start_time": "2021-09-03T12:53:10.662Z"
   },
   {
    "duration": 9,
    "start_time": "2021-09-03T12:53:12.624Z"
   },
   {
    "duration": 505,
    "start_time": "2021-09-03T12:53:14.152Z"
   },
   {
    "duration": 6,
    "start_time": "2021-09-03T12:53:17.222Z"
   },
   {
    "duration": 8,
    "start_time": "2021-09-03T12:53:17.902Z"
   },
   {
    "duration": 6,
    "start_time": "2021-09-03T12:53:18.309Z"
   },
   {
    "duration": 15,
    "start_time": "2021-09-03T12:53:33.162Z"
   },
   {
    "duration": 9,
    "start_time": "2021-09-03T12:53:33.886Z"
   },
   {
    "duration": 5,
    "start_time": "2021-09-03T12:53:34.112Z"
   },
   {
    "duration": 13,
    "start_time": "2021-09-03T12:53:34.490Z"
   },
   {
    "duration": 14,
    "start_time": "2021-09-03T13:14:55.135Z"
   },
   {
    "duration": 10,
    "start_time": "2021-09-03T13:14:55.882Z"
   },
   {
    "duration": 6,
    "start_time": "2021-09-03T13:14:57.101Z"
   },
   {
    "duration": 11,
    "start_time": "2021-09-03T13:15:05.309Z"
   },
   {
    "duration": 20,
    "start_time": "2021-09-03T13:15:08.249Z"
   },
   {
    "duration": 13,
    "start_time": "2021-09-03T13:15:34.572Z"
   },
   {
    "duration": 11,
    "start_time": "2021-09-03T13:15:42.463Z"
   },
   {
    "duration": 13,
    "start_time": "2021-09-03T13:15:52.752Z"
   },
   {
    "duration": 17,
    "start_time": "2021-09-03T13:16:05.936Z"
   },
   {
    "duration": 14,
    "start_time": "2021-09-03T13:21:20.416Z"
   },
   {
    "duration": 10,
    "start_time": "2021-09-03T13:21:21.082Z"
   },
   {
    "duration": 6,
    "start_time": "2021-09-03T13:21:21.581Z"
   },
   {
    "duration": 9,
    "start_time": "2021-09-03T13:21:25.795Z"
   },
   {
    "duration": 14,
    "start_time": "2021-09-03T13:21:35.834Z"
   },
   {
    "duration": 14,
    "start_time": "2021-09-03T13:27:34.809Z"
   },
   {
    "duration": 15,
    "start_time": "2021-09-03T13:28:02.337Z"
   }
  ],
  "kernelspec": {
   "display_name": "Python 3",
   "language": "python",
   "name": "python3"
  },
  "language_info": {
   "codemirror_mode": {
    "name": "ipython",
    "version": 3
   },
   "file_extension": ".py",
   "mimetype": "text/x-python",
   "name": "python",
   "nbconvert_exporter": "python",
   "pygments_lexer": "ipython3",
   "version": "3.7.12"
  },
  "toc": {
   "base_numbering": 1,
   "nav_menu": {},
   "number_sections": true,
   "sideBar": true,
   "skip_h1_title": true,
   "title_cell": "Table of Contents",
   "title_sidebar": "Contents",
   "toc_cell": false,
   "toc_position": {},
   "toc_section_display": true,
   "toc_window_display": false
  }
 },
 "nbformat": 4,
 "nbformat_minor": 2
}
